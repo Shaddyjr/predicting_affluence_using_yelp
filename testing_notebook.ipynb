{
 "cells": [
  {
   "cell_type": "code",
   "execution_count": 41,
   "metadata": {},
   "outputs": [],
   "source": [
    "import time\n",
    "import pandas as pd\n",
    "import numpy as np\n",
    "from columnExpander import DictColumnExpander, ListColumnExpander\n",
    "from ast import literal_eval"
   ]
  },
  {
   "cell_type": "code",
   "execution_count": 143,
   "metadata": {},
   "outputs": [],
   "source": [
    "data_file_path = \"./data/total_nyc_restaurants.csv\"\n",
    "nyc_df = pd.read_csv(data_file_path, index_col = 0)"
   ]
  },
  {
   "cell_type": "code",
   "execution_count": 144,
   "metadata": {},
   "outputs": [
    {
     "data": {
      "text/plain": [
       "(4285, 16)"
      ]
     },
     "execution_count": 144,
     "metadata": {},
     "output_type": "execute_result"
    }
   ],
   "source": [
    "nyc_df.shape"
   ]
  },
  {
   "cell_type": "code",
   "execution_count": 86,
   "metadata": {},
   "outputs": [],
   "source": [
    "def convert_cat_series_to_list(string):\n",
    "    return [dic[\"alias\"] for dic in literal_eval(string)]"
   ]
  },
  {
   "cell_type": "code",
   "execution_count": 88,
   "metadata": {},
   "outputs": [],
   "source": [
    "# nyc_df[\"categories\"] = nyc_df[\"categories\"].map(convert_cat_series_to_list)\n",
    "# all_cats = set().update(*[i for i in nyc_df[\"categories\"]])\n",
    "\n",
    "# for cat in all_cats:\n",
    "    "
   ]
  },
  {
   "cell_type": "code",
   "execution_count": 90,
   "metadata": {},
   "outputs": [],
   "source": [
    "# Grabbing subset to experiment with\n",
    "df = nyc_df[:120]"
   ]
  },
  {
   "cell_type": "markdown",
   "metadata": {},
   "source": [
    "## Requesting data"
   ]
  },
  {
   "cell_type": "code",
   "execution_count": 114,
   "metadata": {},
   "outputs": [],
   "source": [
    "import requests\n",
    "import time"
   ]
  },
  {
   "cell_type": "code",
   "execution_count": 217,
   "metadata": {},
   "outputs": [
    {
     "name": "stdout",
     "output_type": "stream",
     "text": [
      "Iteration #1\n",
      "Iteration #2\n",
      "Iteration #3\n",
      "Iteration #4\n",
      "Iteration #5\n",
      "Iteration #6\n",
      "Iteration #7\n",
      "Iteration #8\n",
      "Iteration #9\n",
      "Iteration #10\n",
      "Iteration #11\n",
      "Iteration #12\n",
      "Iteration #13\n",
      "Iteration #14\n",
      "Iteration #15\n",
      "Iteration #16\n",
      "No more businesses\n",
      "751\n"
     ]
    }
   ],
   "source": [
    "URL = 'https://api.yelp.com/v3/businesses/search'\n",
    "API_KEY = '3TjUrfMsEdbVfUKeiU31J7vFJyZp20FKhSg_OJni2TOL_Lo8A9-Z0WG_T3_jFeGzh3-WBtszKN1AAFPuYLh-7mJ7sxP2YdMalw_D5y4ExcXL3c0xUST3Sp-OIGMvXXYx'\n",
    "\n",
    "params = {\n",
    "    'location': '129 Elmwood Ave, Brooklyn, NY 11230',\n",
    "    'limit': 50,\n",
    "    'offset': 0,\n",
    "    'sort_by': 'rating'\n",
    "}\n",
    "\n",
    "headers = {'Authorization': 'bearer %s' % API_KEY}\n",
    "\n",
    "businesses = []\n",
    "iters = 20\n",
    "for i in range(iters):\n",
    "    resp = requests.get(url=URL, params = params, headers = headers)\n",
    "    if resp.status_code != 200:\n",
    "        print(f\"Stopped early: status code = {resp.status_code}\")\n",
    "        break\n",
    "    biz = resp.json()[\"businesses\"]\n",
    "    if len(biz) == 0:\n",
    "        print(\"No more businesses\")\n",
    "        break\n",
    "    businesses.extend(biz)\n",
    "    params[\"offset\"] += len(biz)\n",
    "    if i < iters - 1:\n",
    "        time.sleep(1)\n",
    "    print(\"Iteration #{}\".format(i+1))\n",
    "print(len(businesses))\n",
    "    "
   ]
  },
  {
   "cell_type": "code",
   "execution_count": 218,
   "metadata": {},
   "outputs": [
    {
     "data": {
      "text/plain": [
       "(14173, 16)"
      ]
     },
     "execution_count": 218,
     "metadata": {},
     "output_type": "execute_result"
    }
   ],
   "source": [
    "biz_df = pd.DataFrame(businesses)\n",
    "merged = merged.append(biz_df)\n",
    "merged.shape"
   ]
  },
  {
   "cell_type": "code",
   "execution_count": 219,
   "metadata": {},
   "outputs": [
    {
     "data": {
      "text/plain": [
       "(11225, 16)"
      ]
     },
     "execution_count": 219,
     "metadata": {},
     "output_type": "execute_result"
    }
   ],
   "source": [
    "dropped = merged.astype(str).drop_duplicates(\"id\")\n",
    "dropped.shape"
   ]
  },
  {
   "cell_type": "code",
   "execution_count": 220,
   "metadata": {},
   "outputs": [],
   "source": [
    "dropped.to_csv(\"merged_12.csv\")"
   ]
  }
 ],
 "metadata": {
  "kernelspec": {
   "display_name": "Python 3",
   "language": "python",
   "name": "python3"
  },
  "language_info": {
   "codemirror_mode": {
    "name": "ipython",
    "version": 3
   },
   "file_extension": ".py",
   "mimetype": "text/x-python",
   "name": "python",
   "nbconvert_exporter": "python",
   "pygments_lexer": "ipython3",
   "version": "3.7.3"
  }
 },
 "nbformat": 4,
 "nbformat_minor": 2
}
