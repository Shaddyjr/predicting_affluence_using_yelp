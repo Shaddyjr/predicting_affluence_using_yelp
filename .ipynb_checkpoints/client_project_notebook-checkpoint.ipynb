{
 "cells": [
  {
   "cell_type": "markdown",
   "metadata": {},
   "source": [
    "# Predicting Areas of Affluence using Yelp Pricing Data\n",
    "\n",
    "#### Authors: \n",
    "- Eddie Yip [LinkedIn](https://www.linkedin.com/in/eddie-yip-2a37324b/) | [Medium](https://medium.com/@eddie.yip2)\n",
    "- Hadi Morrow [LinkedIn](https://www.linkedin.com/in/hadi-morrow-4b94164b/) | [GitHub](https://github.com/HadiMorrow) | [Medium](https://medium.com/@hadi.a.morrow)\n",
    "- Mahdi Shadkam-Farrokhi: [GitHub](https://github.com/Shaddyjr) | [Medium](https://medium.com/@mahdis.pw) | [http://mahdis.pw](http://mahdis.pw)"
   ]
  },
  {
   "cell_type": "markdown",
   "metadata": {},
   "source": [
    "## Problem Statement [Hadi]\n",
    "\n",
    "While affluence should never be a factor when choosing to provide disaster aid or not, we must consider the following:\n",
    "\n",
    "- On the assumption that affluence plays a role, one might relate affluency to preparedness. Those who can afford to will always look out for their families at any cost. Those who can not might not be able to prepare as well due to the fact that it is not an option. \n",
    "\n",
    "- On the assumption that affluence is not part of a majority class, if we should be miopic with our search efforts we might want to consider saving the masses, those living in tight coridors and those with little to no income. If effect those most suseptible to losing their lives in a major disaster. \n",
    "\n",
    "- Using tax data we aim to show that using YELP data dollar signs is enough to predict where we might want to quickly and accuratly align our efforts. \n",
    "\n",
    "New Light Technologies as our audience, we hope to show that while using expensive and hard to handle data such as tax data can be more precise, a quick and dirty aproach could be to simply sord though the dollar signs data on yelp. \n",
    "\n",
    "---\n",
    "[Hadi] - Excellent write up! Here are some of my observations - feel free to include or not, totally up to you.\n",
    "1. It would be nice for the reader if we define 'affluence' here at the start. What do we consider \"affluent\" in our data (I think we mentioned 15% of the area code?)?\n",
    "2. As a reader, it would be VERY compelling to have an actual case where a natural disaster occured and the affluent areas weren't affected. If possible, research 1 or 2 cases when affluent areas were better prepared for natural disasters - this will help prove our predictive model has a real use case.\n",
    "3. Tying into the use case, it might be helpful to mention a realistic disaster scenario when only having Yelp! price data would be useful. Like, there's an emergency and there's little time to pull granular information about the area, but knowing the yelp reviews for an area, allows first-responders to know which areas their efforts will have the most impact"
   ]
  },
  {
   "cell_type": "markdown",
   "metadata": {},
   "source": [
    "## Executive Summary [Mahdi]\n",
    "\n",
    "- Difficulty gathering data\n",
    "- Prompt confusing regarding \"affluence\"\n",
    "- Other projects used outside data as metric\n",
    "- We pulled from API and didn't use old data, which was challenging"
   ]
  },
  {
   "cell_type": "markdown",
   "metadata": {},
   "source": [
    "## Table of Contents\n",
    "- [Gathering Data](#Gathering-Data)\n",
    "- [Loading Data](#Loading-Data)\n",
    "- [Preliminary Exploratory Data Analysis](#Preliminary-Exploratory-Data-Analysis)\n",
    "- [Cleaning the Data](#Cleaning-the-Data)\n",
    "- [Feature Engineering](#Feature-Engineering)\n",
    "- [Exploratory Data Analysis](#Exploratory-Data-Analysis)\n",
    "- [Model Preparation](#Model-Preparation)\n",
    "- [Model Selection](#Model-Selection)\n",
    "- [Model Evaluation](#Model-Evaluation)\n",
    "- [Conclusions and Recommendations](#Conclusions-and-Recommendations)\n",
    "- [Source Documentation](#Source-Documentation)"
   ]
  },
  {
   "cell_type": "markdown",
   "metadata": {},
   "source": [
    "## Gathering Data\n",
    "We got Yelp data using the API - link \n",
    " \n",
    "We got IRS data using - source [Eddie]"
   ]
  },
  {
   "cell_type": "markdown",
   "metadata": {},
   "source": [
    "## Loading Data\n",
    "- [All]"
   ]
  },
  {
   "cell_type": "code",
   "execution_count": 137,
   "metadata": {},
   "outputs": [],
   "source": [
    "import time\n",
    "import pandas as pd\n",
    "import matplotlib.pyplot as plt\n",
    "import seaborn as sns\n",
    "import numpy as np\n",
    "import columnExpander\n",
    "from ast import literal_eval\n",
    "from sklearn.cluster import KMeans\n",
    "from sklearn.metrics import silhouette_score\n",
    "from sklearn.preprocessing import StandardScaler\n",
    "\n",
    "import warnings\n",
    "warnings.filterwarnings(\"ignore\")"
   ]
  },
  {
   "cell_type": "code",
   "execution_count": 138,
   "metadata": {},
   "outputs": [],
   "source": [
    "data_file_path = \"./data/total_merged.csv\"\n",
    "df_yelp = pd.read_csv(data_file_path, index_col = 0)\n",
    "df_yelp.reset_index(drop=True, inplace = True) # same indeces were merged using multiple API calls"
   ]
  },
  {
   "cell_type": "code",
   "execution_count": 139,
   "metadata": {},
   "outputs": [
    {
     "data": {
      "text/plain": [
       "(11225, 16)"
      ]
     },
     "execution_count": 139,
     "metadata": {},
     "output_type": "execute_result"
    }
   ],
   "source": [
    "df_yelp.shape"
   ]
  },
  {
   "cell_type": "markdown",
   "metadata": {},
   "source": [
    "## Preliminary Exploratory Data Analysis\n",
    "- [All]"
   ]
  },
  {
   "cell_type": "code",
   "execution_count": 140,
   "metadata": {},
   "outputs": [
    {
     "data": {
      "text/html": [
       "<div>\n",
       "<style scoped>\n",
       "    .dataframe tbody tr th:only-of-type {\n",
       "        vertical-align: middle;\n",
       "    }\n",
       "\n",
       "    .dataframe tbody tr th {\n",
       "        vertical-align: top;\n",
       "    }\n",
       "\n",
       "    .dataframe thead th {\n",
       "        text-align: right;\n",
       "    }\n",
       "</style>\n",
       "<table border=\"1\" class=\"dataframe\">\n",
       "  <thead>\n",
       "    <tr style=\"text-align: right;\">\n",
       "      <th></th>\n",
       "      <th>alias</th>\n",
       "      <th>categories</th>\n",
       "      <th>coordinates</th>\n",
       "      <th>display_phone</th>\n",
       "      <th>distance</th>\n",
       "      <th>id</th>\n",
       "      <th>image_url</th>\n",
       "      <th>is_closed</th>\n",
       "      <th>location</th>\n",
       "      <th>name</th>\n",
       "      <th>phone</th>\n",
       "      <th>price</th>\n",
       "      <th>rating</th>\n",
       "      <th>review_count</th>\n",
       "      <th>transactions</th>\n",
       "      <th>url</th>\n",
       "    </tr>\n",
       "  </thead>\n",
       "  <tbody>\n",
       "    <tr>\n",
       "      <th>0</th>\n",
       "      <td>mos-original-brooklyn</td>\n",
       "      <td>[{'alias': 'ramen', 'title': 'Ramen'}, {'alias...</td>\n",
       "      <td>{'latitude': 40.66127, 'longitude': -73.95342}</td>\n",
       "      <td>(718) 513-0698</td>\n",
       "      <td>1542.617156</td>\n",
       "      <td>YwpP-mgXV5N35xhLibLw5g</td>\n",
       "      <td>https://s3-media2.fl.yelpcdn.com/bphoto/-L9roT...</td>\n",
       "      <td>False</td>\n",
       "      <td>{'address1': '453 Rogers Ave', 'address2': Non...</td>\n",
       "      <td>Mo's Original</td>\n",
       "      <td>1.718513e+10</td>\n",
       "      <td>NaN</td>\n",
       "      <td>4.5</td>\n",
       "      <td>32</td>\n",
       "      <td>[]</td>\n",
       "      <td>https://www.yelp.com/biz/mos-original-brooklyn...</td>\n",
       "    </tr>\n",
       "    <tr>\n",
       "      <th>1</th>\n",
       "      <td>peaches-hothouse-brooklyn</td>\n",
       "      <td>[{'alias': 'southern', 'title': 'Southern'}, {...</td>\n",
       "      <td>{'latitude': 40.6833699737169, 'longitude': -7...</td>\n",
       "      <td>(718) 483-9111</td>\n",
       "      <td>3471.525420</td>\n",
       "      <td>GA5msU6NO9rQRctPfDJCBg</td>\n",
       "      <td>https://s3-media1.fl.yelpcdn.com/bphoto/KEAXgZ...</td>\n",
       "      <td>False</td>\n",
       "      <td>{'address1': '415 Tompkins Ave', 'address2': '...</td>\n",
       "      <td>Peaches HotHouse</td>\n",
       "      <td>1.718484e+10</td>\n",
       "      <td>$$</td>\n",
       "      <td>4.0</td>\n",
       "      <td>1082</td>\n",
       "      <td>['pickup', 'delivery']</td>\n",
       "      <td>https://www.yelp.com/biz/peaches-hothouse-broo...</td>\n",
       "    </tr>\n",
       "    <tr>\n",
       "      <th>2</th>\n",
       "      <td>claw-daddys-brooklyn</td>\n",
       "      <td>[{'alias': 'cajun', 'title': 'Cajun/Creole'}, ...</td>\n",
       "      <td>{'latitude': 40.68561, 'longitude': -73.98035}</td>\n",
       "      <td>(347) 318-8893</td>\n",
       "      <td>5062.337404</td>\n",
       "      <td>1x2hn3e9sCCZca1cnRTpEg</td>\n",
       "      <td>https://s3-media3.fl.yelpcdn.com/bphoto/ABHo2x...</td>\n",
       "      <td>False</td>\n",
       "      <td>{'address1': '31 3rd Ave', 'address2': '', 'ad...</td>\n",
       "      <td>Claw Daddy's</td>\n",
       "      <td>1.347319e+10</td>\n",
       "      <td>$$</td>\n",
       "      <td>4.0</td>\n",
       "      <td>282</td>\n",
       "      <td>['restaurant_reservation']</td>\n",
       "      <td>https://www.yelp.com/biz/claw-daddys-brooklyn?...</td>\n",
       "    </tr>\n",
       "    <tr>\n",
       "      <th>3</th>\n",
       "      <td>barons-brooklyn</td>\n",
       "      <td>[{'alias': 'newamerican', 'title': 'American (...</td>\n",
       "      <td>{'latitude': 40.6908116, 'longitude': -73.953915}</td>\n",
       "      <td>(718) 230-7100</td>\n",
       "      <td>4451.492133</td>\n",
       "      <td>GxMhN2PEttvw7CRGIzB6Gg</td>\n",
       "      <td>https://s3-media3.fl.yelpcdn.com/bphoto/VmnsId...</td>\n",
       "      <td>False</td>\n",
       "      <td>{'address1': '564 Dekalb Ave', 'address2': '',...</td>\n",
       "      <td>Baron's</td>\n",
       "      <td>1.718231e+10</td>\n",
       "      <td>$$</td>\n",
       "      <td>4.5</td>\n",
       "      <td>258</td>\n",
       "      <td>['pickup', 'restaurant_reservation']</td>\n",
       "      <td>https://www.yelp.com/biz/barons-brooklyn?adjus...</td>\n",
       "    </tr>\n",
       "    <tr>\n",
       "      <th>4</th>\n",
       "      <td>lowerline-brooklyn-2</td>\n",
       "      <td>[{'alias': 'cajun', 'title': 'Cajun/Creole'}, ...</td>\n",
       "      <td>{'latitude': 40.67421, 'longitude': -73.96324}</td>\n",
       "      <td>(347) 533-7110</td>\n",
       "      <td>3158.955607</td>\n",
       "      <td>swKXaURwqdSrSTcpHsxdbA</td>\n",
       "      <td>https://s3-media4.fl.yelpcdn.com/bphoto/oJbAhL...</td>\n",
       "      <td>False</td>\n",
       "      <td>{'address1': '794 Washington Ave', 'address2':...</td>\n",
       "      <td>Lowerline</td>\n",
       "      <td>1.347534e+10</td>\n",
       "      <td>$$</td>\n",
       "      <td>4.5</td>\n",
       "      <td>118</td>\n",
       "      <td>[]</td>\n",
       "      <td>https://www.yelp.com/biz/lowerline-brooklyn-2?...</td>\n",
       "    </tr>\n",
       "  </tbody>\n",
       "</table>\n",
       "</div>"
      ],
      "text/plain": [
       "                       alias  \\\n",
       "0      mos-original-brooklyn   \n",
       "1  peaches-hothouse-brooklyn   \n",
       "2       claw-daddys-brooklyn   \n",
       "3            barons-brooklyn   \n",
       "4       lowerline-brooklyn-2   \n",
       "\n",
       "                                          categories  \\\n",
       "0  [{'alias': 'ramen', 'title': 'Ramen'}, {'alias...   \n",
       "1  [{'alias': 'southern', 'title': 'Southern'}, {...   \n",
       "2  [{'alias': 'cajun', 'title': 'Cajun/Creole'}, ...   \n",
       "3  [{'alias': 'newamerican', 'title': 'American (...   \n",
       "4  [{'alias': 'cajun', 'title': 'Cajun/Creole'}, ...   \n",
       "\n",
       "                                         coordinates   display_phone  \\\n",
       "0     {'latitude': 40.66127, 'longitude': -73.95342}  (718) 513-0698   \n",
       "1  {'latitude': 40.6833699737169, 'longitude': -7...  (718) 483-9111   \n",
       "2     {'latitude': 40.68561, 'longitude': -73.98035}  (347) 318-8893   \n",
       "3  {'latitude': 40.6908116, 'longitude': -73.953915}  (718) 230-7100   \n",
       "4     {'latitude': 40.67421, 'longitude': -73.96324}  (347) 533-7110   \n",
       "\n",
       "      distance                      id  \\\n",
       "0  1542.617156  YwpP-mgXV5N35xhLibLw5g   \n",
       "1  3471.525420  GA5msU6NO9rQRctPfDJCBg   \n",
       "2  5062.337404  1x2hn3e9sCCZca1cnRTpEg   \n",
       "3  4451.492133  GxMhN2PEttvw7CRGIzB6Gg   \n",
       "4  3158.955607  swKXaURwqdSrSTcpHsxdbA   \n",
       "\n",
       "                                           image_url  is_closed  \\\n",
       "0  https://s3-media2.fl.yelpcdn.com/bphoto/-L9roT...      False   \n",
       "1  https://s3-media1.fl.yelpcdn.com/bphoto/KEAXgZ...      False   \n",
       "2  https://s3-media3.fl.yelpcdn.com/bphoto/ABHo2x...      False   \n",
       "3  https://s3-media3.fl.yelpcdn.com/bphoto/VmnsId...      False   \n",
       "4  https://s3-media4.fl.yelpcdn.com/bphoto/oJbAhL...      False   \n",
       "\n",
       "                                            location              name  \\\n",
       "0  {'address1': '453 Rogers Ave', 'address2': Non...     Mo's Original   \n",
       "1  {'address1': '415 Tompkins Ave', 'address2': '...  Peaches HotHouse   \n",
       "2  {'address1': '31 3rd Ave', 'address2': '', 'ad...      Claw Daddy's   \n",
       "3  {'address1': '564 Dekalb Ave', 'address2': '',...           Baron's   \n",
       "4  {'address1': '794 Washington Ave', 'address2':...         Lowerline   \n",
       "\n",
       "          phone price  rating  review_count  \\\n",
       "0  1.718513e+10   NaN     4.5            32   \n",
       "1  1.718484e+10    $$     4.0          1082   \n",
       "2  1.347319e+10    $$     4.0           282   \n",
       "3  1.718231e+10    $$     4.5           258   \n",
       "4  1.347534e+10    $$     4.5           118   \n",
       "\n",
       "                           transactions  \\\n",
       "0                                    []   \n",
       "1                ['pickup', 'delivery']   \n",
       "2            ['restaurant_reservation']   \n",
       "3  ['pickup', 'restaurant_reservation']   \n",
       "4                                    []   \n",
       "\n",
       "                                                 url  \n",
       "0  https://www.yelp.com/biz/mos-original-brooklyn...  \n",
       "1  https://www.yelp.com/biz/peaches-hothouse-broo...  \n",
       "2  https://www.yelp.com/biz/claw-daddys-brooklyn?...  \n",
       "3  https://www.yelp.com/biz/barons-brooklyn?adjus...  \n",
       "4  https://www.yelp.com/biz/lowerline-brooklyn-2?...  "
      ]
     },
     "execution_count": 140,
     "metadata": {},
     "output_type": "execute_result"
    }
   ],
   "source": [
    "df_yelp.head()"
   ]
  },
  {
   "cell_type": "code",
   "execution_count": 141,
   "metadata": {},
   "outputs": [
    {
     "data": {
      "text/plain": [
       "display_phone     697\n",
       "image_url         417\n",
       "phone             697\n",
       "price            2013\n",
       "dtype: int64"
      ]
     },
     "execution_count": 141,
     "metadata": {},
     "output_type": "execute_result"
    }
   ],
   "source": [
    "sum_null = df_yelp.isnull().sum()\n",
    "sum_null[sum_null > 0]"
   ]
  },
  {
   "cell_type": "markdown",
   "metadata": {},
   "source": [
    "We have many missing values in the data, however many of the columns are not meaningful for our problem and these columns can be safely dropped.\n",
    "\n",
    "Also, `categories`, `location`, and `transactions` are compressed data columns and will need to be unpacked."
   ]
  },
  {
   "cell_type": "markdown",
   "metadata": {},
   "source": [
    "## Cleaning the Data\n",
    "- [Mahdi] one person for consistency"
   ]
  },
  {
   "cell_type": "markdown",
   "metadata": {},
   "source": [
    "### Yelp Price"
   ]
  },
  {
   "cell_type": "code",
   "execution_count": 142,
   "metadata": {},
   "outputs": [
    {
     "data": {
      "text/plain": [
       "2013"
      ]
     },
     "execution_count": 142,
     "metadata": {},
     "output_type": "execute_result"
    }
   ],
   "source": [
    "df_yelp[\"price\"].isnull().sum()"
   ]
  },
  {
   "cell_type": "markdown",
   "metadata": {},
   "source": [
    "We decided to drop null prices from analysis as this is the key indicator we're looking to predict with."
   ]
  },
  {
   "cell_type": "code",
   "execution_count": 143,
   "metadata": {},
   "outputs": [],
   "source": [
    "df_yelp.dropna(subset=[\"price\"], inplace = True)"
   ]
  },
  {
   "cell_type": "code",
   "execution_count": 144,
   "metadata": {},
   "outputs": [
    {
     "data": {
      "text/plain": [
       "(9212, 16)"
      ]
     },
     "execution_count": 144,
     "metadata": {},
     "output_type": "execute_result"
    }
   ],
   "source": [
    "df_yelp.shape"
   ]
  },
  {
   "cell_type": "markdown",
   "metadata": {},
   "source": [
    "### Converting Yelp Price to ordinal values"
   ]
  },
  {
   "cell_type": "code",
   "execution_count": 145,
   "metadata": {},
   "outputs": [],
   "source": [
    "df_yelp['price'] = df_yelp['price'].map({'$': 1, '$$': 2, '$$$': 3, '$$$$':4})"
   ]
  },
  {
   "cell_type": "code",
   "execution_count": 146,
   "metadata": {},
   "outputs": [
    {
     "data": {
      "text/plain": [
       "2    5117\n",
       "1    3361\n",
       "3     601\n",
       "4     133\n",
       "Name: price, dtype: int64"
      ]
     },
     "execution_count": 146,
     "metadata": {},
     "output_type": "execute_result"
    }
   ],
   "source": [
    "df_yelp['price'].value_counts()"
   ]
  },
  {
   "cell_type": "markdown",
   "metadata": {},
   "source": [
    "### Dropping unneccessary columns"
   ]
  },
  {
   "cell_type": "code",
   "execution_count": 147,
   "metadata": {
    "scrolled": true
   },
   "outputs": [],
   "source": [
    "keepers = ['categories','id', 'location', 'price', 'rating', 'review_count', 'transactions', 'coordinates']\n",
    "df_yelp = df_yelp[keepers]"
   ]
  },
  {
   "cell_type": "markdown",
   "metadata": {},
   "source": [
    "### Parsing location data"
   ]
  },
  {
   "cell_type": "code",
   "execution_count": 148,
   "metadata": {},
   "outputs": [],
   "source": [
    "def get_keys_from_sting_dict(string, keys):\n",
    "    if len(string) == 0:\n",
    "        return None\n",
    "    dic = literal_eval(string)\n",
    "    out = {}\n",
    "    for key in keys:\n",
    "        out[key] = dic.get(key)\n",
    "    return out"
   ]
  },
  {
   "cell_type": "code",
   "execution_count": 149,
   "metadata": {},
   "outputs": [],
   "source": [
    "location = \"location\"\n",
    "keys = [\"zip_code\", \"city\", 'state']\n",
    "zips_and_cities = df_yelp[location].map(lambda string: get_keys_from_sting_dict(string, keys))\n",
    "\n",
    "for key in keys:\n",
    "    df_yelp[key] = [pair[key] for pair in zips_and_cities]\n",
    "    \n",
    "df_yelp.drop(columns=[location], inplace = True)"
   ]
  },
  {
   "cell_type": "markdown",
   "metadata": {},
   "source": [
    "### Filtering for NYC-only"
   ]
  },
  {
   "cell_type": "markdown",
   "metadata": {},
   "source": [
    "#### Removed non-NY state"
   ]
  },
  {
   "cell_type": "code",
   "execution_count": 150,
   "metadata": {},
   "outputs": [],
   "source": [
    "df_yelp = df_yelp[df_yelp['state'] == \"NY\"]"
   ]
  },
  {
   "cell_type": "markdown",
   "metadata": {},
   "source": [
    "#### Imputing missing zip codes"
   ]
  },
  {
   "cell_type": "code",
   "execution_count": 151,
   "metadata": {},
   "outputs": [
    {
     "data": {
      "text/html": [
       "<div>\n",
       "<style scoped>\n",
       "    .dataframe tbody tr th:only-of-type {\n",
       "        vertical-align: middle;\n",
       "    }\n",
       "\n",
       "    .dataframe tbody tr th {\n",
       "        vertical-align: top;\n",
       "    }\n",
       "\n",
       "    .dataframe thead th {\n",
       "        text-align: right;\n",
       "    }\n",
       "</style>\n",
       "<table border=\"1\" class=\"dataframe\">\n",
       "  <thead>\n",
       "    <tr style=\"text-align: right;\">\n",
       "      <th></th>\n",
       "      <th>categories</th>\n",
       "      <th>id</th>\n",
       "      <th>price</th>\n",
       "      <th>rating</th>\n",
       "      <th>review_count</th>\n",
       "      <th>transactions</th>\n",
       "      <th>coordinates</th>\n",
       "      <th>zip_code</th>\n",
       "      <th>city</th>\n",
       "      <th>state</th>\n",
       "    </tr>\n",
       "  </thead>\n",
       "  <tbody>\n",
       "    <tr>\n",
       "      <th>6940</th>\n",
       "      <td>[{'alias': 'cupcakes', 'title': 'Cupcakes'}, {...</td>\n",
       "      <td>ECY0sIYxPJio81dteqiMhg</td>\n",
       "      <td>2</td>\n",
       "      <td>4.5</td>\n",
       "      <td>16</td>\n",
       "      <td>[]</td>\n",
       "      <td>{'latitude': 40.71455, 'longitude': -74.00714}</td>\n",
       "      <td></td>\n",
       "      <td>New York</td>\n",
       "      <td>NY</td>\n",
       "    </tr>\n",
       "    <tr>\n",
       "      <th>8092</th>\n",
       "      <td>[{'alias': 'bakeries', 'title': 'Bakeries'}]</td>\n",
       "      <td>6u5cnsN35mJz24HMQ9pfFw</td>\n",
       "      <td>2</td>\n",
       "      <td>2.0</td>\n",
       "      <td>15</td>\n",
       "      <td>[]</td>\n",
       "      <td>{'latitude': 40.605271, 'longitude': -74.149243}</td>\n",
       "      <td></td>\n",
       "      <td>Staten Island</td>\n",
       "      <td>NY</td>\n",
       "    </tr>\n",
       "    <tr>\n",
       "      <th>10283</th>\n",
       "      <td>[{'alias': 'foodstands', 'title': 'Food Stands'}]</td>\n",
       "      <td>BilbRcNQXKmcBFvLm4gxAQ</td>\n",
       "      <td>2</td>\n",
       "      <td>5.0</td>\n",
       "      <td>3</td>\n",
       "      <td>[]</td>\n",
       "      <td>{'latitude': 40.7488639529741, 'longitude': -7...</td>\n",
       "      <td></td>\n",
       "      <td>Queens</td>\n",
       "      <td>NY</td>\n",
       "    </tr>\n",
       "    <tr>\n",
       "      <th>10401</th>\n",
       "      <td>[{'alias': 'farmersmarket', 'title': 'Farmers ...</td>\n",
       "      <td>jZzbV6SRt9FXdCoziNv5xw</td>\n",
       "      <td>2</td>\n",
       "      <td>4.0</td>\n",
       "      <td>4</td>\n",
       "      <td>[]</td>\n",
       "      <td>{'latitude': 40.7454635299775, 'longitude': -7...</td>\n",
       "      <td></td>\n",
       "      <td>Queens</td>\n",
       "      <td>NY</td>\n",
       "    </tr>\n",
       "  </tbody>\n",
       "</table>\n",
       "</div>"
      ],
      "text/plain": [
       "                                              categories  \\\n",
       "6940   [{'alias': 'cupcakes', 'title': 'Cupcakes'}, {...   \n",
       "8092        [{'alias': 'bakeries', 'title': 'Bakeries'}]   \n",
       "10283  [{'alias': 'foodstands', 'title': 'Food Stands'}]   \n",
       "10401  [{'alias': 'farmersmarket', 'title': 'Farmers ...   \n",
       "\n",
       "                           id  price  rating  review_count transactions  \\\n",
       "6940   ECY0sIYxPJio81dteqiMhg      2     4.5            16           []   \n",
       "8092   6u5cnsN35mJz24HMQ9pfFw      2     2.0            15           []   \n",
       "10283  BilbRcNQXKmcBFvLm4gxAQ      2     5.0             3           []   \n",
       "10401  jZzbV6SRt9FXdCoziNv5xw      2     4.0             4           []   \n",
       "\n",
       "                                             coordinates zip_code  \\\n",
       "6940      {'latitude': 40.71455, 'longitude': -74.00714}            \n",
       "8092    {'latitude': 40.605271, 'longitude': -74.149243}            \n",
       "10283  {'latitude': 40.7488639529741, 'longitude': -7...            \n",
       "10401  {'latitude': 40.7454635299775, 'longitude': -7...            \n",
       "\n",
       "                city state  \n",
       "6940        New York    NY  \n",
       "8092   Staten Island    NY  \n",
       "10283         Queens    NY  \n",
       "10401         Queens    NY  "
      ]
     },
     "execution_count": 151,
     "metadata": {},
     "output_type": "execute_result"
    }
   ],
   "source": [
    "df_yelp[df_yelp['zip_code'] == \"\"]"
   ]
  },
  {
   "cell_type": "markdown",
   "metadata": {},
   "source": [
    "Locations were found using Google Maps and zip codes imputed manually"
   ]
  },
  {
   "cell_type": "code",
   "execution_count": 152,
   "metadata": {},
   "outputs": [],
   "source": [
    "df_yelp.loc[df_yelp[\"id\"] == \"ECY0sIYxPJio81dteqiMhg\",\"zip_code\"] = \"10007\"\n",
    "df_yelp.loc[df_yelp[\"id\"] == \"6u5cnsN35mJz24HMQ9pfFw\",\"zip_code\"] = \"10314\"\n",
    "df_yelp.loc[df_yelp[\"id\"] == \"BilbRcNQXKmcBFvLm4gxAQ\",\"zip_code\"] = \"11372\"\n",
    "df_yelp.loc[df_yelp[\"id\"] == \"jZzbV6SRt9FXdCoziNv5xw\",\"zip_code\"] = \"11373\""
   ]
  },
  {
   "cell_type": "markdown",
   "metadata": {},
   "source": [
    "### Remove by NYC zip\n",
    "We used the range of zip codes designated for NYC - [source](https://www.nycbynatives.com/nyc_info/new_york_city_zip_codes.php)"
   ]
  },
  {
   "cell_type": "code",
   "execution_count": 153,
   "metadata": {},
   "outputs": [],
   "source": [
    "min_zip = 10001\n",
    "max_zip = 11697\n",
    "\n",
    "df_yelp['zip_code'] = df_yelp['zip_code'].astype(int)"
   ]
  },
  {
   "cell_type": "code",
   "execution_count": 154,
   "metadata": {},
   "outputs": [],
   "source": [
    "df_yelp = df_yelp[(df_yelp['zip_code'] >= min_zip) & (df_yelp['zip_code'] <= max_zip)]"
   ]
  },
  {
   "cell_type": "markdown",
   "metadata": {},
   "source": [
    "### Parsing Coordinates"
   ]
  },
  {
   "cell_type": "code",
   "execution_count": 155,
   "metadata": {},
   "outputs": [],
   "source": [
    "coordinates = \"coordinates\"\n",
    "coord_keys = [\"latitude\", \"longitude\"]\n",
    "lat_and_long = df_yelp[coordinates].map(lambda string: get_keys_from_sting_dict(string, coord_keys))\n",
    "\n",
    "for key in coord_keys:\n",
    "    df_yelp[key] = [pair[key] for pair in lat_and_long]\n",
    "\n",
    "df_yelp.drop(columns=[coordinates], inplace = True)"
   ]
  },
  {
   "cell_type": "code",
   "execution_count": 156,
   "metadata": {},
   "outputs": [
    {
     "data": {
      "text/html": [
       "<div>\n",
       "<style scoped>\n",
       "    .dataframe tbody tr th:only-of-type {\n",
       "        vertical-align: middle;\n",
       "    }\n",
       "\n",
       "    .dataframe tbody tr th {\n",
       "        vertical-align: top;\n",
       "    }\n",
       "\n",
       "    .dataframe thead th {\n",
       "        text-align: right;\n",
       "    }\n",
       "</style>\n",
       "<table border=\"1\" class=\"dataframe\">\n",
       "  <thead>\n",
       "    <tr style=\"text-align: right;\">\n",
       "      <th></th>\n",
       "      <th>latitude</th>\n",
       "      <th>longitude</th>\n",
       "    </tr>\n",
       "  </thead>\n",
       "  <tbody>\n",
       "    <tr>\n",
       "      <th>count</th>\n",
       "      <td>8985.000000</td>\n",
       "      <td>8985.000000</td>\n",
       "    </tr>\n",
       "    <tr>\n",
       "      <th>mean</th>\n",
       "      <td>40.730034</td>\n",
       "      <td>-73.913326</td>\n",
       "    </tr>\n",
       "    <tr>\n",
       "      <th>std</th>\n",
       "      <td>0.076368</td>\n",
       "      <td>2.207460</td>\n",
       "    </tr>\n",
       "    <tr>\n",
       "      <th>min</th>\n",
       "      <td>40.508927</td>\n",
       "      <td>-74.251140</td>\n",
       "    </tr>\n",
       "    <tr>\n",
       "      <th>25%</th>\n",
       "      <td>40.683368</td>\n",
       "      <td>-73.988678</td>\n",
       "    </tr>\n",
       "    <tr>\n",
       "      <th>50%</th>\n",
       "      <td>40.740450</td>\n",
       "      <td>-73.960316</td>\n",
       "    </tr>\n",
       "    <tr>\n",
       "      <th>75%</th>\n",
       "      <td>40.765829</td>\n",
       "      <td>-73.890592</td>\n",
       "    </tr>\n",
       "    <tr>\n",
       "      <th>max</th>\n",
       "      <td>41.004690</td>\n",
       "      <td>74.000792</td>\n",
       "    </tr>\n",
       "  </tbody>\n",
       "</table>\n",
       "</div>"
      ],
      "text/plain": [
       "          latitude    longitude\n",
       "count  8985.000000  8985.000000\n",
       "mean     40.730034   -73.913326\n",
       "std       0.076368     2.207460\n",
       "min      40.508927   -74.251140\n",
       "25%      40.683368   -73.988678\n",
       "50%      40.740450   -73.960316\n",
       "75%      40.765829   -73.890592\n",
       "max      41.004690    74.000792"
      ]
     },
     "execution_count": 156,
     "metadata": {},
     "output_type": "execute_result"
    }
   ],
   "source": [
    "df_yelp[coord_keys].describe()"
   ]
  },
  {
   "cell_type": "markdown",
   "metadata": {},
   "source": [
    "Looking at the latitude and longitude, we see some points that do not appear to be in the New York City area, around 40.7 and -73.9, respectively."
   ]
  },
  {
   "cell_type": "code",
   "execution_count": 157,
   "metadata": {},
   "outputs": [
    {
     "data": {
      "text/html": [
       "<div>\n",
       "<style scoped>\n",
       "    .dataframe tbody tr th:only-of-type {\n",
       "        vertical-align: middle;\n",
       "    }\n",
       "\n",
       "    .dataframe tbody tr th {\n",
       "        vertical-align: top;\n",
       "    }\n",
       "\n",
       "    .dataframe thead th {\n",
       "        text-align: right;\n",
       "    }\n",
       "</style>\n",
       "<table border=\"1\" class=\"dataframe\">\n",
       "  <thead>\n",
       "    <tr style=\"text-align: right;\">\n",
       "      <th></th>\n",
       "      <th>categories</th>\n",
       "      <th>id</th>\n",
       "      <th>price</th>\n",
       "      <th>rating</th>\n",
       "      <th>review_count</th>\n",
       "      <th>transactions</th>\n",
       "      <th>zip_code</th>\n",
       "      <th>city</th>\n",
       "      <th>state</th>\n",
       "      <th>latitude</th>\n",
       "      <th>longitude</th>\n",
       "    </tr>\n",
       "  </thead>\n",
       "  <tbody>\n",
       "    <tr>\n",
       "      <th>3224</th>\n",
       "      <td>[{'alias': 'tradamerican', 'title': 'American ...</td>\n",
       "      <td>_pe4POL8iJPohFqPvWehIg</td>\n",
       "      <td>2</td>\n",
       "      <td>4.0</td>\n",
       "      <td>857</td>\n",
       "      <td>[]</td>\n",
       "      <td>10583</td>\n",
       "      <td>Scarsdale</td>\n",
       "      <td>NY</td>\n",
       "      <td>41.00469</td>\n",
       "      <td>-73.81312</td>\n",
       "    </tr>\n",
       "  </tbody>\n",
       "</table>\n",
       "</div>"
      ],
      "text/plain": [
       "                                             categories  \\\n",
       "3224  [{'alias': 'tradamerican', 'title': 'American ...   \n",
       "\n",
       "                          id  price  rating  review_count transactions  \\\n",
       "3224  _pe4POL8iJPohFqPvWehIg      2     4.0           857           []   \n",
       "\n",
       "      zip_code       city state  latitude  longitude  \n",
       "3224     10583  Scarsdale    NY  41.00469  -73.81312  "
      ]
     },
     "execution_count": 157,
     "metadata": {},
     "output_type": "execute_result"
    }
   ],
   "source": [
    "df_yelp[(df_yelp[\"latitude\"] > 41) | (df_yelp[\"latitude\"] < 40)]"
   ]
  },
  {
   "cell_type": "markdown",
   "metadata": {},
   "source": [
    "This data point is from Scarsdale NY, which is not within the city limits. This data point will be dropped."
   ]
  },
  {
   "cell_type": "code",
   "execution_count": 158,
   "metadata": {},
   "outputs": [],
   "source": [
    "df_yelp = df_yelp[(df_yelp[\"latitude\"] <= 41) & (df_yelp[\"latitude\"] >= 40)]"
   ]
  },
  {
   "cell_type": "code",
   "execution_count": 159,
   "metadata": {},
   "outputs": [
    {
     "data": {
      "text/html": [
       "<div>\n",
       "<style scoped>\n",
       "    .dataframe tbody tr th:only-of-type {\n",
       "        vertical-align: middle;\n",
       "    }\n",
       "\n",
       "    .dataframe tbody tr th {\n",
       "        vertical-align: top;\n",
       "    }\n",
       "\n",
       "    .dataframe thead th {\n",
       "        text-align: right;\n",
       "    }\n",
       "</style>\n",
       "<table border=\"1\" class=\"dataframe\">\n",
       "  <thead>\n",
       "    <tr style=\"text-align: right;\">\n",
       "      <th></th>\n",
       "      <th>categories</th>\n",
       "      <th>id</th>\n",
       "      <th>price</th>\n",
       "      <th>rating</th>\n",
       "      <th>review_count</th>\n",
       "      <th>transactions</th>\n",
       "      <th>zip_code</th>\n",
       "      <th>city</th>\n",
       "      <th>state</th>\n",
       "      <th>latitude</th>\n",
       "      <th>longitude</th>\n",
       "    </tr>\n",
       "  </thead>\n",
       "  <tbody>\n",
       "    <tr>\n",
       "      <th>3306</th>\n",
       "      <td>[{'alias': 'pizza', 'title': 'Pizza'}]</td>\n",
       "      <td>S2mqyVGw817y9GTHxYRPjw</td>\n",
       "      <td>1</td>\n",
       "      <td>4.0</td>\n",
       "      <td>58</td>\n",
       "      <td>[]</td>\n",
       "      <td>10472</td>\n",
       "      <td>Bronx</td>\n",
       "      <td>NY</td>\n",
       "      <td>40.830034</td>\n",
       "      <td>73.850772</td>\n",
       "    </tr>\n",
       "    <tr>\n",
       "      <th>8560</th>\n",
       "      <td>[{'alias': 'icecream', 'title': 'Ice Cream &amp; F...</td>\n",
       "      <td>dF02U8Yhxnm66Np4Adgovg</td>\n",
       "      <td>2</td>\n",
       "      <td>4.0</td>\n",
       "      <td>290</td>\n",
       "      <td>[]</td>\n",
       "      <td>10012</td>\n",
       "      <td>New York</td>\n",
       "      <td>NY</td>\n",
       "      <td>40.723884</td>\n",
       "      <td>74.000792</td>\n",
       "    </tr>\n",
       "  </tbody>\n",
       "</table>\n",
       "</div>"
      ],
      "text/plain": [
       "                                             categories  \\\n",
       "3306             [{'alias': 'pizza', 'title': 'Pizza'}]   \n",
       "8560  [{'alias': 'icecream', 'title': 'Ice Cream & F...   \n",
       "\n",
       "                          id  price  rating  review_count transactions  \\\n",
       "3306  S2mqyVGw817y9GTHxYRPjw      1     4.0            58           []   \n",
       "8560  dF02U8Yhxnm66Np4Adgovg      2     4.0           290           []   \n",
       "\n",
       "      zip_code      city state   latitude  longitude  \n",
       "3306     10472     Bronx    NY  40.830034  73.850772  \n",
       "8560     10012  New York    NY  40.723884  74.000792  "
      ]
     },
     "execution_count": 159,
     "metadata": {},
     "output_type": "execute_result"
    }
   ],
   "source": [
    "df_yelp[(df_yelp[\"longitude\"] > -72) | (df_yelp[\"longitude\"] < -75)]"
   ]
  },
  {
   "cell_type": "markdown",
   "metadata": {},
   "source": [
    "After looking up these businesses, it is clear they were given a positive longitude when they are actually supposed to be negative."
   ]
  },
  {
   "cell_type": "code",
   "execution_count": 160,
   "metadata": {},
   "outputs": [],
   "source": [
    "df_yelp.loc[(df_yelp[\"longitude\"] > -72) | (df_yelp[\"longitude\"] < -75),\"longitude\"] = np.negative(df_yelp[(df_yelp[\"longitude\"] > -72) | (df_yelp[\"longitude\"] < -75)][\"longitude\"])"
   ]
  },
  {
   "cell_type": "markdown",
   "metadata": {},
   "source": [
    "### Parsing categories"
   ]
  },
  {
   "cell_type": "code",
   "execution_count": 161,
   "metadata": {},
   "outputs": [],
   "source": [
    "def convert_string_dict_to_string(string, key):\n",
    "    return \",\".join([dic[key] for dic in literal_eval(string)])\n",
    "\n",
    "df_yelp[\"categories\"] = df_yelp[\"categories\"].map(lambda s: convert_string_dict_to_string(s,\"alias\"))"
   ]
  },
  {
   "cell_type": "markdown",
   "metadata": {},
   "source": [
    "### Parsing transactions"
   ]
  },
  {
   "cell_type": "code",
   "execution_count": 162,
   "metadata": {},
   "outputs": [],
   "source": [
    "def convert_string_list_to_string(string):\n",
    "    return \",\".join(literal_eval(string))\n",
    "\n",
    "df_yelp[\"transactions\"] = df_yelp[\"transactions\"].map(convert_string_list_to_string)"
   ]
  },
  {
   "cell_type": "code",
   "execution_count": 163,
   "metadata": {},
   "outputs": [
    {
     "data": {
      "text/plain": [
       "(8984, 11)"
      ]
     },
     "execution_count": 163,
     "metadata": {},
     "output_type": "execute_result"
    }
   ],
   "source": [
    "df_yelp.shape"
   ]
  },
  {
   "cell_type": "code",
   "execution_count": 164,
   "metadata": {},
   "outputs": [
    {
     "data": {
      "text/plain": [
       "0"
      ]
     },
     "execution_count": 164,
     "metadata": {},
     "output_type": "execute_result"
    }
   ],
   "source": [
    "df_yelp.isnull().sum().sum()"
   ]
  },
  {
   "cell_type": "markdown",
   "metadata": {},
   "source": [
    "There are no null values - this is a complete dataset"
   ]
  },
  {
   "cell_type": "markdown",
   "metadata": {},
   "source": [
    "### Cleaning IRS Dataset [Hadi]\n",
    "These data were collected directly from the IRS website ([source](https://www.irs.gov/statistics/soi-tax-stats-individual-income-tax-statistics-2016-zip-code-data-soi))"
   ]
  },
  {
   "cell_type": "code",
   "execution_count": 165,
   "metadata": {},
   "outputs": [],
   "source": [
    "df_irs = pd.read_csv('./data/irs.csv')"
   ]
  },
  {
   "cell_type": "code",
   "execution_count": 166,
   "metadata": {},
   "outputs": [
    {
     "data": {
      "text/html": [
       "<div>\n",
       "<style scoped>\n",
       "    .dataframe tbody tr th:only-of-type {\n",
       "        vertical-align: middle;\n",
       "    }\n",
       "\n",
       "    .dataframe tbody tr th {\n",
       "        vertical-align: top;\n",
       "    }\n",
       "\n",
       "    .dataframe thead th {\n",
       "        text-align: right;\n",
       "    }\n",
       "</style>\n",
       "<table border=\"1\" class=\"dataframe\">\n",
       "  <thead>\n",
       "    <tr style=\"text-align: right;\">\n",
       "      <th></th>\n",
       "      <th>ZIP\n",
       "code [1]</th>\n",
       "      <th>Size of adjusted gross income</th>\n",
       "      <th>Number of returns</th>\n",
       "      <th>Number of single returns</th>\n",
       "      <th>Number of joint returns</th>\n",
       "      <th>Number of head of household returns</th>\n",
       "      <th>Number with paid preparer's signature</th>\n",
       "      <th>Number of exemptions</th>\n",
       "      <th>Number of dependents</th>\n",
       "    </tr>\n",
       "  </thead>\n",
       "  <tbody>\n",
       "    <tr>\n",
       "      <th>10</th>\n",
       "      <td>10001</td>\n",
       "      <td>$25,000 under $50,000</td>\n",
       "      <td>2500</td>\n",
       "      <td>1850</td>\n",
       "      <td>240</td>\n",
       "      <td>340</td>\n",
       "      <td>1360</td>\n",
       "      <td>3390</td>\n",
       "      <td>690</td>\n",
       "    </tr>\n",
       "    <tr>\n",
       "      <th>11</th>\n",
       "      <td>10001</td>\n",
       "      <td>$50,000 under $75,000</td>\n",
       "      <td>1950</td>\n",
       "      <td>1540</td>\n",
       "      <td>190</td>\n",
       "      <td>160</td>\n",
       "      <td>1110</td>\n",
       "      <td>2440</td>\n",
       "      <td>310</td>\n",
       "    </tr>\n",
       "    <tr>\n",
       "      <th>12</th>\n",
       "      <td>10001</td>\n",
       "      <td>$75,000 under $100,000</td>\n",
       "      <td>1410</td>\n",
       "      <td>1120</td>\n",
       "      <td>170</td>\n",
       "      <td>80</td>\n",
       "      <td>820</td>\n",
       "      <td>1760</td>\n",
       "      <td>190</td>\n",
       "    </tr>\n",
       "    <tr>\n",
       "      <th>13</th>\n",
       "      <td>10001</td>\n",
       "      <td>$100,000 under $200,000</td>\n",
       "      <td>2580</td>\n",
       "      <td>1850</td>\n",
       "      <td>560</td>\n",
       "      <td>90</td>\n",
       "      <td>1540</td>\n",
       "      <td>3580</td>\n",
       "      <td>440</td>\n",
       "    </tr>\n",
       "    <tr>\n",
       "      <th>14</th>\n",
       "      <td>10001</td>\n",
       "      <td>$200,000 or more</td>\n",
       "      <td>2340</td>\n",
       "      <td>1200</td>\n",
       "      <td>1030</td>\n",
       "      <td>50</td>\n",
       "      <td>1760</td>\n",
       "      <td>4150</td>\n",
       "      <td>790</td>\n",
       "    </tr>\n",
       "    <tr>\n",
       "      <th>15</th>\n",
       "      <td>NaN</td>\n",
       "      <td>NaN</td>\n",
       "      <td>NaN</td>\n",
       "      <td>NaN</td>\n",
       "      <td>NaN</td>\n",
       "      <td>NaN</td>\n",
       "      <td>NaN</td>\n",
       "      <td>NaN</td>\n",
       "      <td>NaN</td>\n",
       "    </tr>\n",
       "    <tr>\n",
       "      <th>16</th>\n",
       "      <td>10002</td>\n",
       "      <td>NaN</td>\n",
       "      <td>42,180</td>\n",
       "      <td>25,270</td>\n",
       "      <td>10,500</td>\n",
       "      <td>5,630</td>\n",
       "      <td>28,170</td>\n",
       "      <td>68,970</td>\n",
       "      <td>17,490</td>\n",
       "    </tr>\n",
       "    <tr>\n",
       "      <th>17</th>\n",
       "      <td>10002</td>\n",
       "      <td>$1 under $25,000</td>\n",
       "      <td>21180</td>\n",
       "      <td>12550</td>\n",
       "      <td>5360</td>\n",
       "      <td>2950</td>\n",
       "      <td>15360</td>\n",
       "      <td>33920</td>\n",
       "      <td>8490</td>\n",
       "    </tr>\n",
       "    <tr>\n",
       "      <th>18</th>\n",
       "      <td>10002</td>\n",
       "      <td>$25,000 under $50,000</td>\n",
       "      <td>8210</td>\n",
       "      <td>4660</td>\n",
       "      <td>1900</td>\n",
       "      <td>1480</td>\n",
       "      <td>5150</td>\n",
       "      <td>14540</td>\n",
       "      <td>4480</td>\n",
       "    </tr>\n",
       "    <tr>\n",
       "      <th>19</th>\n",
       "      <td>10002</td>\n",
       "      <td>$50,000 under $75,000</td>\n",
       "      <td>4810</td>\n",
       "      <td>3300</td>\n",
       "      <td>730</td>\n",
       "      <td>670</td>\n",
       "      <td>2780</td>\n",
       "      <td>7120</td>\n",
       "      <td>1590</td>\n",
       "    </tr>\n",
       "  </tbody>\n",
       "</table>\n",
       "</div>"
      ],
      "text/plain": [
       "   ZIP\\ncode [1] Size of adjusted gross income Number of returns  \\\n",
       "10         10001         $25,000 under $50,000              2500   \n",
       "11         10001         $50,000 under $75,000              1950   \n",
       "12         10001        $75,000 under $100,000              1410   \n",
       "13         10001       $100,000 under $200,000              2580   \n",
       "14         10001              $200,000 or more              2340   \n",
       "15           NaN                           NaN               NaN   \n",
       "16         10002                           NaN            42,180   \n",
       "17         10002              $1 under $25,000             21180   \n",
       "18         10002         $25,000 under $50,000              8210   \n",
       "19         10002         $50,000 under $75,000              4810   \n",
       "\n",
       "   Number of single returns Number of joint returns  \\\n",
       "10                     1850                     240   \n",
       "11                     1540                     190   \n",
       "12                     1120                     170   \n",
       "13                     1850                     560   \n",
       "14                     1200                    1030   \n",
       "15                      NaN                     NaN   \n",
       "16                   25,270                  10,500   \n",
       "17                    12550                    5360   \n",
       "18                     4660                    1900   \n",
       "19                     3300                     730   \n",
       "\n",
       "   Number of head of household returns Number with paid preparer's signature  \\\n",
       "10                                 340                                  1360   \n",
       "11                                 160                                  1110   \n",
       "12                                  80                                   820   \n",
       "13                                  90                                  1540   \n",
       "14                                  50                                  1760   \n",
       "15                                 NaN                                   NaN   \n",
       "16                               5,630                                28,170   \n",
       "17                                2950                                 15360   \n",
       "18                                1480                                  5150   \n",
       "19                                 670                                  2780   \n",
       "\n",
       "   Number of exemptions Number of dependents  \n",
       "10                 3390                  690  \n",
       "11                 2440                  310  \n",
       "12                 1760                  190  \n",
       "13                 3580                  440  \n",
       "14                 4150                  790  \n",
       "15                  NaN                  NaN  \n",
       "16               68,970               17,490  \n",
       "17                33920                 8490  \n",
       "18                14540                 4480  \n",
       "19                 7120                 1590  "
      ]
     },
     "execution_count": 166,
     "metadata": {},
     "output_type": "execute_result"
    }
   ],
   "source": [
    "df_irs[10:20]"
   ]
  },
  {
   "cell_type": "code",
   "execution_count": 167,
   "metadata": {},
   "outputs": [],
   "source": [
    "yelp_zips = list(set(df_yelp['zip_code']))"
   ]
  },
  {
   "cell_type": "code",
   "execution_count": 168,
   "metadata": {},
   "outputs": [],
   "source": [
    "def clean_str_num(str_num):\n",
    "    '''Returns integer of input string with commas removed'''\n",
    "    return int(str_num.replace(',',''))"
   ]
  },
  {
   "cell_type": "code",
   "execution_count": 169,
   "metadata": {},
   "outputs": [],
   "source": [
    "affluency_rates = []\n",
    "found_zips = []\n",
    "missing_zips = []\n",
    "returns_col_name = 'Number of returns'\n",
    "\n",
    "for zip_code in yelp_zips:\n",
    "    try:\n",
    "        sub_df               = df_irs[df_irs.iloc[:,0] == str(zip_code)]\n",
    "        \n",
    "        affluent_irs_returns = clean_str_num(sub_df[returns_col_name].iloc[-1])\n",
    "        total_irs_returns    = clean_str_num(sub_df[returns_col_name].iloc[0])\n",
    "        affluent_rate        = affluent_irs_returns / total_irs_returns\n",
    "        \n",
    "        affluency_rates.append(affluent_rate)\n",
    "        found_zips.append(zip_code)\n",
    "    except Exception as e:\n",
    "        missing_zips.append(zip_code)\n",
    "        pass"
   ]
  },
  {
   "cell_type": "code",
   "execution_count": 170,
   "metadata": {},
   "outputs": [
    {
     "data": {
      "text/plain": [
       "26"
      ]
     },
     "execution_count": 170,
     "metadata": {},
     "output_type": "execute_result"
    }
   ],
   "source": [
    "len(missing_zips)"
   ]
  },
  {
   "cell_type": "markdown",
   "metadata": {},
   "source": [
    "There are 26 zip codes in the yelp data that were not found in the IRS dataset.  \n",
    "These associated datapoint will be dropped, as they have not target value."
   ]
  },
  {
   "cell_type": "code",
   "execution_count": 171,
   "metadata": {},
   "outputs": [
    {
     "data": {
      "text/html": [
       "<div>\n",
       "<style scoped>\n",
       "    .dataframe tbody tr th:only-of-type {\n",
       "        vertical-align: middle;\n",
       "    }\n",
       "\n",
       "    .dataframe tbody tr th {\n",
       "        vertical-align: top;\n",
       "    }\n",
       "\n",
       "    .dataframe thead th {\n",
       "        text-align: right;\n",
       "    }\n",
       "</style>\n",
       "<table border=\"1\" class=\"dataframe\">\n",
       "  <thead>\n",
       "    <tr style=\"text-align: right;\">\n",
       "      <th></th>\n",
       "      <th>zip_code</th>\n",
       "      <th>affluency_rate</th>\n",
       "    </tr>\n",
       "  </thead>\n",
       "  <tbody>\n",
       "    <tr>\n",
       "      <th>0</th>\n",
       "      <td>10801</td>\n",
       "      <td>0.052004</td>\n",
       "    </tr>\n",
       "    <tr>\n",
       "      <th>1</th>\n",
       "      <td>10803</td>\n",
       "      <td>0.300000</td>\n",
       "    </tr>\n",
       "    <tr>\n",
       "      <th>2</th>\n",
       "      <td>10301</td>\n",
       "      <td>0.047013</td>\n",
       "    </tr>\n",
       "    <tr>\n",
       "      <th>3</th>\n",
       "      <td>10302</td>\n",
       "      <td>0.018564</td>\n",
       "    </tr>\n",
       "    <tr>\n",
       "      <th>4</th>\n",
       "      <td>10303</td>\n",
       "      <td>0.007395</td>\n",
       "    </tr>\n",
       "  </tbody>\n",
       "</table>\n",
       "</div>"
      ],
      "text/plain": [
       "   zip_code  affluency_rate\n",
       "0     10801        0.052004\n",
       "1     10803        0.300000\n",
       "2     10301        0.047013\n",
       "3     10302        0.018564\n",
       "4     10303        0.007395"
      ]
     },
     "execution_count": 171,
     "metadata": {},
     "output_type": "execute_result"
    }
   ],
   "source": [
    "affluency_df = pd.DataFrame(data = {\"zip_code\": found_zips, \"affluency_rate\":affluency_rates})\n",
    "affluency_df.head()"
   ]
  },
  {
   "cell_type": "markdown",
   "metadata": {},
   "source": [
    "### Merging Yelp and IRS dataset\n",
    "Merging the yelp dataset with the IRS dataset will drop those observations with missing zip codes."
   ]
  },
  {
   "cell_type": "code",
   "execution_count": 172,
   "metadata": {},
   "outputs": [],
   "source": [
    "df = pd.merge(df_yelp, affluency_df, on = \"zip_code\")"
   ]
  },
  {
   "cell_type": "code",
   "execution_count": 173,
   "metadata": {},
   "outputs": [
    {
     "data": {
      "text/plain": [
       "(8869, 12)"
      ]
     },
     "execution_count": 173,
     "metadata": {},
     "output_type": "execute_result"
    }
   ],
   "source": [
    "df.shape"
   ]
  },
  {
   "cell_type": "markdown",
   "metadata": {},
   "source": [
    "### Changing Data Type"
   ]
  },
  {
   "cell_type": "code",
   "execution_count": 174,
   "metadata": {},
   "outputs": [
    {
     "data": {
      "text/plain": [
       "categories         object\n",
       "id                 object\n",
       "price               int64\n",
       "rating            float64\n",
       "review_count        int64\n",
       "transactions       object\n",
       "zip_code            int32\n",
       "city               object\n",
       "state              object\n",
       "latitude          float64\n",
       "longitude         float64\n",
       "affluency_rate    float64\n",
       "dtype: object"
      ]
     },
     "execution_count": 174,
     "metadata": {},
     "output_type": "execute_result"
    }
   ],
   "source": [
    "df.dtypes"
   ]
  },
  {
   "cell_type": "code",
   "execution_count": 175,
   "metadata": {},
   "outputs": [],
   "source": [
    "convert_to_int = [\"review_count\",\"rating\"]\n",
    "df[convert_to_int] = df[convert_to_int].astype(int)"
   ]
  },
  {
   "cell_type": "code",
   "execution_count": 176,
   "metadata": {},
   "outputs": [
    {
     "data": {
      "text/html": [
       "<div>\n",
       "<style scoped>\n",
       "    .dataframe tbody tr th:only-of-type {\n",
       "        vertical-align: middle;\n",
       "    }\n",
       "\n",
       "    .dataframe tbody tr th {\n",
       "        vertical-align: top;\n",
       "    }\n",
       "\n",
       "    .dataframe thead th {\n",
       "        text-align: right;\n",
       "    }\n",
       "</style>\n",
       "<table border=\"1\" class=\"dataframe\">\n",
       "  <thead>\n",
       "    <tr style=\"text-align: right;\">\n",
       "      <th></th>\n",
       "      <th>categories</th>\n",
       "      <th>id</th>\n",
       "      <th>price</th>\n",
       "      <th>rating</th>\n",
       "      <th>review_count</th>\n",
       "      <th>transactions</th>\n",
       "      <th>zip_code</th>\n",
       "      <th>city</th>\n",
       "      <th>state</th>\n",
       "      <th>latitude</th>\n",
       "      <th>longitude</th>\n",
       "      <th>affluency_rate</th>\n",
       "    </tr>\n",
       "  </thead>\n",
       "  <tbody>\n",
       "    <tr>\n",
       "      <th>0</th>\n",
       "      <td>southern,tradamerican,bars</td>\n",
       "      <td>GA5msU6NO9rQRctPfDJCBg</td>\n",
       "      <td>2</td>\n",
       "      <td>4</td>\n",
       "      <td>1082</td>\n",
       "      <td>pickup,delivery</td>\n",
       "      <td>11216</td>\n",
       "      <td>Brooklyn</td>\n",
       "      <td>NY</td>\n",
       "      <td>40.683370</td>\n",
       "      <td>-73.94378</td>\n",
       "      <td>0.022398</td>\n",
       "    </tr>\n",
       "    <tr>\n",
       "      <th>1</th>\n",
       "      <td>gastropubs,tradamerican</td>\n",
       "      <td>KkAtVVjnMfb1vGlcpzmhgw</td>\n",
       "      <td>2</td>\n",
       "      <td>4</td>\n",
       "      <td>303</td>\n",
       "      <td>pickup,delivery</td>\n",
       "      <td>11216</td>\n",
       "      <td>Brooklyn</td>\n",
       "      <td>NY</td>\n",
       "      <td>40.677866</td>\n",
       "      <td>-73.95000</td>\n",
       "      <td>0.022398</td>\n",
       "    </tr>\n",
       "  </tbody>\n",
       "</table>\n",
       "</div>"
      ],
      "text/plain": [
       "                   categories                      id  price  rating  \\\n",
       "0  southern,tradamerican,bars  GA5msU6NO9rQRctPfDJCBg      2       4   \n",
       "1     gastropubs,tradamerican  KkAtVVjnMfb1vGlcpzmhgw      2       4   \n",
       "\n",
       "   review_count     transactions  zip_code      city state   latitude  \\\n",
       "0          1082  pickup,delivery     11216  Brooklyn    NY  40.683370   \n",
       "1           303  pickup,delivery     11216  Brooklyn    NY  40.677866   \n",
       "\n",
       "   longitude  affluency_rate  \n",
       "0  -73.94378        0.022398  \n",
       "1  -73.95000        0.022398  "
      ]
     },
     "execution_count": 176,
     "metadata": {},
     "output_type": "execute_result"
    }
   ],
   "source": [
    "df.head(2)"
   ]
  },
  {
   "cell_type": "code",
   "execution_count": 177,
   "metadata": {},
   "outputs": [
    {
     "data": {
      "text/plain": [
       "(8869, 12)"
      ]
     },
     "execution_count": 177,
     "metadata": {},
     "output_type": "execute_result"
    }
   ],
   "source": [
    "df.shape"
   ]
  },
  {
   "cell_type": "markdown",
   "metadata": {},
   "source": [
    "We are left with 8869 complete data points"
   ]
  },
  {
   "cell_type": "markdown",
   "metadata": {},
   "source": [
    "## Feature Engineering\n",
    "- [All]"
   ]
  },
  {
   "cell_type": "markdown",
   "metadata": {},
   "source": [
    "### Creating Dummy Variables"
   ]
  },
  {
   "cell_type": "code",
   "execution_count": 178,
   "metadata": {},
   "outputs": [
    {
     "data": {
      "text/plain": [
       "<columnExpander.ListColumnExpander at 0x1e848016860>"
      ]
     },
     "execution_count": 178,
     "metadata": {},
     "output_type": "execute_result"
    }
   ],
   "source": [
    "expansion_columns = [\"categories\",\"transactions\"]\n",
    "lce = columnExpander.ListColumnExpander(expansion_columns)\n",
    "lce.fit(df)"
   ]
  },
  {
   "cell_type": "code",
   "execution_count": 179,
   "metadata": {},
   "outputs": [],
   "source": [
    "dummy_df = pd.DataFrame(lce.transform(df).toarray(), columns=lce.get_feature_names())"
   ]
  },
  {
   "cell_type": "code",
   "execution_count": 180,
   "metadata": {},
   "outputs": [
    {
     "data": {
      "text/html": [
       "<div>\n",
       "<style scoped>\n",
       "    .dataframe tbody tr th:only-of-type {\n",
       "        vertical-align: middle;\n",
       "    }\n",
       "\n",
       "    .dataframe tbody tr th {\n",
       "        vertical-align: top;\n",
       "    }\n",
       "\n",
       "    .dataframe thead th {\n",
       "        text-align: right;\n",
       "    }\n",
       "</style>\n",
       "<table border=\"1\" class=\"dataframe\">\n",
       "  <thead>\n",
       "    <tr style=\"text-align: right;\">\n",
       "      <th></th>\n",
       "      <th>id</th>\n",
       "      <th>price</th>\n",
       "      <th>rating</th>\n",
       "      <th>review_count</th>\n",
       "      <th>zip_code</th>\n",
       "      <th>city</th>\n",
       "      <th>state</th>\n",
       "      <th>latitude</th>\n",
       "      <th>longitude</th>\n",
       "      <th>affluency_rate</th>\n",
       "      <th>...</th>\n",
       "      <th>categories_newmexican</th>\n",
       "      <th>categories_himalayan</th>\n",
       "      <th>categories_cambodian</th>\n",
       "      <th>categories_austrian</th>\n",
       "      <th>categories_pianobars</th>\n",
       "      <th>categories_shanghainese</th>\n",
       "      <th>transactions_</th>\n",
       "      <th>transactions_pickup</th>\n",
       "      <th>transactions_delivery</th>\n",
       "      <th>transactions_restaurant_reservation</th>\n",
       "    </tr>\n",
       "  </thead>\n",
       "  <tbody>\n",
       "    <tr>\n",
       "      <th>0</th>\n",
       "      <td>GA5msU6NO9rQRctPfDJCBg</td>\n",
       "      <td>2</td>\n",
       "      <td>4</td>\n",
       "      <td>1082</td>\n",
       "      <td>11216</td>\n",
       "      <td>Brooklyn</td>\n",
       "      <td>NY</td>\n",
       "      <td>40.683370</td>\n",
       "      <td>-73.94378</td>\n",
       "      <td>0.022398</td>\n",
       "      <td>...</td>\n",
       "      <td>0.0</td>\n",
       "      <td>0.0</td>\n",
       "      <td>0.0</td>\n",
       "      <td>0.0</td>\n",
       "      <td>0.0</td>\n",
       "      <td>0.0</td>\n",
       "      <td>1.0</td>\n",
       "      <td>1.0</td>\n",
       "      <td>1.0</td>\n",
       "      <td>0.0</td>\n",
       "    </tr>\n",
       "    <tr>\n",
       "      <th>1</th>\n",
       "      <td>KkAtVVjnMfb1vGlcpzmhgw</td>\n",
       "      <td>2</td>\n",
       "      <td>4</td>\n",
       "      <td>303</td>\n",
       "      <td>11216</td>\n",
       "      <td>Brooklyn</td>\n",
       "      <td>NY</td>\n",
       "      <td>40.677866</td>\n",
       "      <td>-73.95000</td>\n",
       "      <td>0.022398</td>\n",
       "      <td>...</td>\n",
       "      <td>0.0</td>\n",
       "      <td>0.0</td>\n",
       "      <td>0.0</td>\n",
       "      <td>0.0</td>\n",
       "      <td>0.0</td>\n",
       "      <td>0.0</td>\n",
       "      <td>1.0</td>\n",
       "      <td>1.0</td>\n",
       "      <td>1.0</td>\n",
       "      <td>0.0</td>\n",
       "    </tr>\n",
       "  </tbody>\n",
       "</table>\n",
       "<p>2 rows × 290 columns</p>\n",
       "</div>"
      ],
      "text/plain": [
       "                       id  price  rating  review_count  zip_code      city  \\\n",
       "0  GA5msU6NO9rQRctPfDJCBg      2       4          1082     11216  Brooklyn   \n",
       "1  KkAtVVjnMfb1vGlcpzmhgw      2       4           303     11216  Brooklyn   \n",
       "\n",
       "  state   latitude  longitude  affluency_rate  ...  categories_newmexican  \\\n",
       "0    NY  40.683370  -73.94378        0.022398  ...                    0.0   \n",
       "1    NY  40.677866  -73.95000        0.022398  ...                    0.0   \n",
       "\n",
       "   categories_himalayan  categories_cambodian  categories_austrian  \\\n",
       "0                   0.0                   0.0                  0.0   \n",
       "1                   0.0                   0.0                  0.0   \n",
       "\n",
       "   categories_pianobars  categories_shanghainese  transactions_  \\\n",
       "0                   0.0                      0.0            1.0   \n",
       "1                   0.0                      0.0            1.0   \n",
       "\n",
       "   transactions_pickup  transactions_delivery  \\\n",
       "0                  1.0                    1.0   \n",
       "1                  1.0                    1.0   \n",
       "\n",
       "   transactions_restaurant_reservation  \n",
       "0                                  0.0  \n",
       "1                                  0.0  \n",
       "\n",
       "[2 rows x 290 columns]"
      ]
     },
     "execution_count": 180,
     "metadata": {},
     "output_type": "execute_result"
    }
   ],
   "source": [
    "complete_df = pd.concat([df.drop(columns = expansion_columns), dummy_df], axis=1)\n",
    "complete_df.head(2)"
   ]
  },
  {
   "cell_type": "markdown",
   "metadata": {},
   "source": [
    "### Setting Affluency Threshold\n",
    "Affluency = when a zip code has 15% of its population file and IRS return of $$200k or more"
   ]
  },
  {
   "cell_type": "code",
   "execution_count": 181,
   "metadata": {},
   "outputs": [],
   "source": [
    "affluency_thresh = .15"
   ]
  },
  {
   "cell_type": "code",
   "execution_count": 182,
   "metadata": {},
   "outputs": [
    {
     "data": {
      "text/plain": [
       "0    0.717105\n",
       "1    0.282895\n",
       "Name: is_affluent, dtype: float64"
      ]
     },
     "execution_count": 182,
     "metadata": {},
     "output_type": "execute_result"
    }
   ],
   "source": [
    "complete_df[\"is_affluent\"] = (complete_df[\"affluency_rate\"] >= affluency_thresh).astype(int)\n",
    "complete_df[\"is_affluent\"].value_counts(normalize = True)"
   ]
  },
  {
   "cell_type": "markdown",
   "metadata": {},
   "source": [
    "About 28% of all reported IRS returns in New York City count as being affluent, according to our definition.\n",
    "\n",
    "This leads our data to be somewhat unbalanced, which we need to keep in mind when evaluating our models."
   ]
  },
  {
   "cell_type": "markdown",
   "metadata": {},
   "source": [
    "### Combining Lat/Long via clustering\n",
    "- [Hadi] did you want to do this?"
   ]
  },
  {
   "cell_type": "code",
   "execution_count": null,
   "metadata": {},
   "outputs": [],
   "source": []
  },
  {
   "cell_type": "markdown",
   "metadata": {},
   "source": [
    "## Exploratory Data Analysis\n",
    "- [Mahdi] and [Hadi] killer graphs and visuals"
   ]
  },
  {
   "cell_type": "markdown",
   "metadata": {},
   "source": [
    "### Yelp Price\n",
    "We're supposed to find a correlation between Yelp price and affluency"
   ]
  },
  {
   "cell_type": "code",
   "execution_count": 187,
   "metadata": {},
   "outputs": [
    {
     "data": {
      "image/png": "[encoded data removed]",
      "text/plain": [
       "<Figure size 1152x648 with 1 Axes>"
      ]
     },
     "metadata": {
      "needs_background": "light"
     },
     "output_type": "display_data"
    }
   ],
   "source": [
    "complete_df.boxplot(\"affluency_rate\", by =\"price\", figsize = (16,9), grid=False)\n",
    "\n",
    "plt.title('Affluency Rate', fontsize = 24);"
   ]
  },
  {
   "cell_type": "markdown",
   "metadata": {},
   "source": [
    "## Affluency by lat/long coordinates"
   ]
  },
  {
   "cell_type": "code",
   "execution_count": 191,
   "metadata": {},
   "outputs": [
    {
     "data": {
      "image/png": "[encoded data removed]",
      "text/plain": [
       "<Figure size 1080x1080 with 2 Axes>"
      ]
     },
     "metadata": {
      "needs_background": "light"
     },
     "output_type": "display_data"
    }
   ],
   "source": [
    "complete_df.plot(kind=\"scatter\", y=\"latitude\", x=\"longitude\", c=\"price\",\n",
    "         cmap=\"inferno\", figsize=(15, 15), s=1)\n",
    "\n",
    "\n",
    "plt.title('Lat-Long Map with $-Sign Scaling', fontsize = 24)\n",
    "\n",
    "\n",
    "plt.ylabel('latitude')\n",
    "plt.xlabel('Longitutde');"
   ]
  },
  {
   "cell_type": "markdown",
   "metadata": {},
   "source": [
    "# =============================\n",
    "# \"work in progress\"  after this line"
   ]
  },
  {
   "cell_type": "code",
   "execution_count": null,
   "metadata": {},
   "outputs": [],
   "source": [
    "# What do these clusters look like visually?\n",
    "plt.figure(figsize=(10, 10))\n",
    "location_data = complete_df[['longitude', 'latitude']]"
   ]
  },
  {
   "cell_type": "code",
   "execution_count": 222,
   "metadata": {},
   "outputs": [
    {
     "data": {
      "text/plain": [
       "array([8, 8, 8, ..., 0, 0, 0])"
      ]
     },
     "execution_count": 222,
     "metadata": {},
     "output_type": "execute_result"
    }
   ],
   "source": [
    "km.labels_"
   ]
  },
  {
   "cell_type": "code",
   "execution_count": 200,
   "metadata": {},
   "outputs": [
    {
     "data": {
      "image/png": "[encoded data removed]",
      "text/plain": [
       "<Figure size 432x288 with 1 Axes>"
      ]
     },
     "metadata": {
      "needs_background": "light"
     },
     "output_type": "display_data"
    }
   ],
   "source": [
    "km = KMeans(n_clusters=10)\n",
    "km.fit(location_data)\n",
    "\n",
    "silhouette_score(location_data, km.labels_)\n",
    "\n",
    "plt.scatter(complete_df.longitude, complete_df.latitude, c=km.labels_, s=complete_df['rating']/4, cmap=\"tab20\");"
   ]
  },
  {
   "cell_type": "code",
   "execution_count": 133,
   "metadata": {},
   "outputs": [],
   "source": [
    "def kscore(data, clusters):\n",
    "    km = KMeans(n_clusters=clusters, random_state = 42, n_jobs=4)\n",
    "    km.fit(data)\n",
    "    return silhouette_score(data, km.labels_)"
   ]
  },
  {
   "cell_type": "code",
   "execution_count": 134,
   "metadata": {},
   "outputs": [],
   "source": [
    "kscore_list = []\n",
    "\n",
    "for i in range(30):\n",
    "    kscore_list.append(kscore(location_data, i+2))"
   ]
  },
  {
   "cell_type": "code",
   "execution_count": 135,
   "metadata": {
    "collapsed": true
   },
   "outputs": [
    {
     "data": {
      "text/plain": [
       "[0.44240113768519956,\n",
       " 0.46061813986399675,\n",
       " 0.44163994495369696,\n",
       " 0.4777121614561612,\n",
       " 0.4848394681479744,\n",
       " 0.5108063831559393,\n",
       " 0.5241318061159189,\n",
       " 0.517047057895022,\n",
       " 0.5262445154638148,\n",
       " 0.5156582913075968,\n",
       " 0.4946202662625379,\n",
       " 0.4965228473665534,\n",
       " 0.48752508514191356,\n",
       " 0.48163096703811276,\n",
       " 0.48137303330732467,\n",
       " 0.48796072396754686,\n",
       " 0.46686302532290247,\n",
       " 0.46439888727190526,\n",
       " 0.46612543597494427,\n",
       " 0.46675137235472947,\n",
       " 0.4584960868667416,\n",
       " 0.4584791369180741,\n",
       " 0.4542574946395792,\n",
       " 0.46089688460287825,\n",
       " 0.4576780906853004,\n",
       " 0.46435165280162805,\n",
       " 0.46744960500688293,\n",
       " 0.46109025579554563,\n",
       " 0.4610572770410519,\n",
       " 0.4406403592129947]"
      ]
     },
     "execution_count": 135,
     "metadata": {},
     "output_type": "execute_result"
    }
   ],
   "source": [
    "kscore_list"
   ]
  },
  {
   "cell_type": "code",
   "execution_count": 324,
   "metadata": {},
   "outputs": [
    {
     "data": {
      "text/html": [
       "<div>\n",
       "<style scoped>\n",
       "    .dataframe tbody tr th:only-of-type {\n",
       "        vertical-align: middle;\n",
       "    }\n",
       "\n",
       "    .dataframe tbody tr th {\n",
       "        vertical-align: top;\n",
       "    }\n",
       "\n",
       "    .dataframe thead th {\n",
       "        text-align: right;\n",
       "    }\n",
       "</style>\n",
       "<table border=\"1\" class=\"dataframe\">\n",
       "  <thead>\n",
       "    <tr style=\"text-align: right;\">\n",
       "      <th></th>\n",
       "      <th>latitude</th>\n",
       "      <th>longitude</th>\n",
       "    </tr>\n",
       "  </thead>\n",
       "  <tbody>\n",
       "    <tr>\n",
       "      <th>1</th>\n",
       "      <td>40.683370</td>\n",
       "      <td>-73.943780</td>\n",
       "    </tr>\n",
       "    <tr>\n",
       "      <th>2</th>\n",
       "      <td>40.685610</td>\n",
       "      <td>-73.980350</td>\n",
       "    </tr>\n",
       "    <tr>\n",
       "      <th>3</th>\n",
       "      <td>40.690812</td>\n",
       "      <td>-73.953915</td>\n",
       "    </tr>\n",
       "    <tr>\n",
       "      <th>4</th>\n",
       "      <td>40.674210</td>\n",
       "      <td>-73.963240</td>\n",
       "    </tr>\n",
       "    <tr>\n",
       "      <th>5</th>\n",
       "      <td>40.686023</td>\n",
       "      <td>-73.991302</td>\n",
       "    </tr>\n",
       "  </tbody>\n",
       "</table>\n",
       "</div>"
      ],
      "text/plain": [
       "    latitude  longitude\n",
       "1  40.683370 -73.943780\n",
       "2  40.685610 -73.980350\n",
       "3  40.690812 -73.953915\n",
       "4  40.674210 -73.963240\n",
       "5  40.686023 -73.991302"
      ]
     },
     "execution_count": 324,
     "metadata": {},
     "output_type": "execute_result"
    }
   ],
   "source": [
    "# Let's scoop lat/long up in a matrix so we can use them easily\n",
    "location_data = df_yelp[[\"latitude\", \"longitude\"]]\n",
    "location_data.head()"
   ]
  },
  {
   "cell_type": "code",
   "execution_count": 328,
   "metadata": {
    "scrolled": true
   },
   "outputs": [
    {
     "data": {
      "text/plain": [
       "KMeans(algorithm='auto', copy_x=True, init='k-means++', max_iter=300,\n",
       "    n_clusters=20, n_init=10, n_jobs=None, precompute_distances='auto',\n",
       "    random_state=None, tol=0.0001, verbose=0)"
      ]
     },
     "execution_count": 328,
     "metadata": {},
     "output_type": "execute_result"
    }
   ],
   "source": [
    "# Let's cluster our observations by lat/long\n",
    "km = KMeans(n_clusters=20)\n",
    "km.fit(location_data)"
   ]
  },
  {
   "cell_type": "markdown",
   "metadata": {},
   "source": [
    "#### Top 5 Highest Affluent Area Within NYC\n",
    " - Lower Manhattan\n",
    " - Westchester County\n",
    " - Gramercy Park / Murray Hill\t\n",
    " - Pelham\n",
    " - Upper East Side\n",
    "\n",
    "#### Top 5 Lowest Affluent Area Within NYC\n",
    " - Highbridge\n",
    " - Morris Heights\n",
    " - Brownsville\n",
    " - Belmont\n",
    " - Mott Haven"
   ]
  },
  {
   "cell_type": "code",
   "execution_count": 221,
   "metadata": {},
   "outputs": [
    {
     "data": {
      "text/plain": [
       "zip_code\n",
       "10452    0.000552\n",
       "10453    0.000798\n",
       "11212    0.001042\n",
       "10458    0.001166\n",
       "10460    0.001194\n",
       "Name: affluency_rate, dtype: float64"
      ]
     },
     "execution_count": 221,
     "metadata": {},
     "output_type": "execute_result"
    }
   ],
   "source": [
    "complete_df.groupby('zip_code')['affluency_rate'].mean().sort_values().head()"
   ]
  },
  {
   "cell_type": "code",
   "execution_count": 211,
   "metadata": {
    "collapsed": true
   },
   "outputs": [
    {
     "data": {
      "text/plain": [
       "['id',\n",
       " 'price',\n",
       " 'rating',\n",
       " 'review_count',\n",
       " 'zip_code',\n",
       " 'city',\n",
       " 'state',\n",
       " 'latitude',\n",
       " 'longitude',\n",
       " 'affluency_rate',\n",
       " 'categories_steak',\n",
       " 'categories_headshops',\n",
       " 'categories_kitchensupplies',\n",
       " 'categories_giftshops',\n",
       " 'categories_pakistani',\n",
       " 'categories_dimsum',\n",
       " 'categories_skate_parks',\n",
       " 'categories_drugstores',\n",
       " 'categories_ethiopian',\n",
       " 'categories_speakeasies',\n",
       " 'categories_musicvenues',\n",
       " 'categories_adultedu',\n",
       " 'categories_bookstores',\n",
       " 'categories_hotpot',\n",
       " 'categories_tuscan',\n",
       " 'categories_raw_food',\n",
       " 'categories_cheesesteaks',\n",
       " 'categories_tradamerican',\n",
       " 'categories_catering',\n",
       " 'categories_arabian',\n",
       " 'categories_eritrean',\n",
       " 'categories_brazilian',\n",
       " 'categories_gluten_free',\n",
       " 'categories_internetcafe',\n",
       " 'categories_taiwanese',\n",
       " 'categories_portuguese',\n",
       " 'categories_restaurants',\n",
       " 'categories_popuprestaurants',\n",
       " 'categories_virtualrealitycenters',\n",
       " 'categories_sports_clubs',\n",
       " 'categories_danceclubs',\n",
       " 'categories_intlgrocery',\n",
       " 'categories_sportsbars',\n",
       " 'categories_bagels',\n",
       " 'categories_puertorican',\n",
       " 'categories_seafoodmarkets',\n",
       " 'categories_british',\n",
       " 'categories_waffles',\n",
       " 'categories_pretzels',\n",
       " 'categories_falafel',\n",
       " 'categories_honey',\n",
       " 'categories_indoor_playcenter',\n",
       " 'categories_wraps',\n",
       " 'categories_buffets',\n",
       " 'categories_comedyclubs',\n",
       " 'categories_tikibars',\n",
       " 'categories_skateshops',\n",
       " 'categories_arts',\n",
       " 'categories_gamemeat',\n",
       " 'categories_indpak',\n",
       " 'categories_peruvian',\n",
       " 'categories_diyfood',\n",
       " 'categories_srilankan',\n",
       " 'categories_mideastern',\n",
       " 'categories_popupshops',\n",
       " 'categories_eventplanning',\n",
       " 'categories_boattours',\n",
       " 'categories_beerbar',\n",
       " 'categories_teppanyaki',\n",
       " 'categories_poke',\n",
       " 'categories_dinnertheater',\n",
       " 'categories_hawaiian',\n",
       " 'categories_burgers',\n",
       " 'categories_coffee',\n",
       " 'categories_laotian',\n",
       " 'categories_salad',\n",
       " 'categories_festivals',\n",
       " 'categories_importedfood',\n",
       " 'categories_turkish',\n",
       " 'categories_cantonese',\n",
       " 'categories_cocktailbars',\n",
       " 'categories_antiques',\n",
       " 'categories_vegan',\n",
       " 'categories_indonesian',\n",
       " 'categories_localservices',\n",
       " 'categories_healthmarkets',\n",
       " 'categories_cafeteria',\n",
       " 'categories_ukrainian',\n",
       " 'categories_shavedice',\n",
       " 'categories_egyptian',\n",
       " 'categories_vinyl_records',\n",
       " 'categories_localflavor',\n",
       " 'categories_greek',\n",
       " 'categories_culturalcenter',\n",
       " 'categories_nightlife',\n",
       " 'categories_sushi',\n",
       " 'categories_homedecor',\n",
       " 'categories_whiskeybars',\n",
       " 'categories_icecream',\n",
       " 'categories_arcades',\n",
       " 'categories_uzbek',\n",
       " 'categories_dominican',\n",
       " 'categories_caribbean',\n",
       " 'categories_cookingclasses',\n",
       " 'categories_lebanese',\n",
       " 'categories_salvadoran',\n",
       " 'categories_syrian',\n",
       " 'categories_pastashops',\n",
       " 'categories_food',\n",
       " 'categories_australian',\n",
       " 'categories_chinese',\n",
       " 'categories_ramen',\n",
       " 'categories_museums',\n",
       " 'categories_cigarbars',\n",
       " 'categories_japanese',\n",
       " 'categories_mexican',\n",
       " 'categories_markets',\n",
       " 'categories_pubs',\n",
       " 'categories_lancenters',\n",
       " 'categories_chickenshop',\n",
       " 'categories_hainan',\n",
       " 'categories_servicestations',\n",
       " 'categories_cakeshop',\n",
       " 'categories_venezuelan',\n",
       " 'categories_persian',\n",
       " 'categories_tex-mex',\n",
       " 'categories_irish_pubs',\n",
       " 'categories_meats',\n",
       " 'categories_southern',\n",
       " 'categories_divebars',\n",
       " 'categories_moroccan',\n",
       " 'categories_gourmet',\n",
       " 'categories_chocolate',\n",
       " 'categories_kebab',\n",
       " 'categories_customcakes',\n",
       " 'categories_supperclubs',\n",
       " 'categories_japacurry',\n",
       " 'categories_lounges',\n",
       " 'categories_irish',\n",
       " 'categories_tabletopgames',\n",
       " 'categories_coffeeroasteries',\n",
       " 'categories_newamerican',\n",
       " 'categories_piercing',\n",
       " 'categories_publicart',\n",
       " 'categories_hotdogs',\n",
       " 'categories_golf',\n",
       " 'categories_poutineries',\n",
       " 'categories_comfortfood',\n",
       " 'categories_malaysian',\n",
       " 'categories_latin',\n",
       " 'categories_venues',\n",
       " 'categories_acaibowls',\n",
       " 'categories_cosmetics',\n",
       " 'categories_creperies',\n",
       " 'categories_tacos',\n",
       " 'categories_burmese',\n",
       " 'categories_hotdog',\n",
       " 'categories_distilleries',\n",
       " 'categories_bangladeshi',\n",
       " 'categories_brasseries',\n",
       " 'categories_organic_stores',\n",
       " 'categories_tours',\n",
       " 'categories_galleries',\n",
       " 'categories_mediterranean',\n",
       " 'categories_boating',\n",
       " 'categories_convenience',\n",
       " 'categories_pizza',\n",
       " 'categories_italian',\n",
       " 'categories_breweries',\n",
       " 'categories_tattoo',\n",
       " 'categories_modern_european',\n",
       " 'categories_sicilian',\n",
       " 'categories_vietnamese',\n",
       " 'categories_german',\n",
       " 'categories_poolhalls',\n",
       " 'categories_csa',\n",
       " 'categories_tobaccoshops',\n",
       " 'categories_beergardens',\n",
       " 'categories_iberian',\n",
       " 'categories_wine_bars',\n",
       " 'categories_skishops',\n",
       " 'categories_jazzandblues',\n",
       " 'categories_senegalese',\n",
       " 'categories_haitian',\n",
       " 'categories_streetvendors',\n",
       " 'categories_cheese',\n",
       " 'categories_triviahosts',\n",
       " 'categories_farmersmarket',\n",
       " 'categories_gelato',\n",
       " 'categories_bbq',\n",
       " 'categories_social_clubs',\n",
       " 'categories_publicmarkets',\n",
       " 'categories_juicebars',\n",
       " 'categories_tapas',\n",
       " 'categories_wholesale_stores',\n",
       " 'categories_delis',\n",
       " 'categories_bubbletea',\n",
       " 'categories_afghani',\n",
       " 'categories_gastropubs',\n",
       " 'categories_african',\n",
       " 'categories_beer_and_wine',\n",
       " 'categories_fooddeliveryservices',\n",
       " 'categories_florists',\n",
       " 'categories_partysupplies',\n",
       " 'categories_butcher',\n",
       " 'categories_cabaret',\n",
       " 'categories_cuban',\n",
       " 'categories_colombian',\n",
       " 'categories_empanadas',\n",
       " 'categories_french',\n",
       " 'categories_tea',\n",
       " 'categories_spanish',\n",
       " 'categories_candy',\n",
       " 'categories_cajun',\n",
       " 'categories_hkcafe',\n",
       " 'categories_singaporean',\n",
       " 'categories_czech',\n",
       " 'categories_foodtrucks',\n",
       " 'categories_seafood',\n",
       " 'categories_cupcakes',\n",
       " 'categories_slovakian',\n",
       " 'categories_trinidadian',\n",
       " 'categories_panasian',\n",
       " 'categories_armenian',\n",
       " 'categories_theater',\n",
       " 'categories_bocceball',\n",
       " 'categories_gaybars',\n",
       " 'categories_conveyorsushi',\n",
       " 'categories_somali',\n",
       " 'categories_karaoke',\n",
       " 'categories_georgian',\n",
       " 'categories_belgian',\n",
       " 'categories_korean',\n",
       " 'categories_souvenirs',\n",
       " 'categories_grocery',\n",
       " 'categories_mongolian',\n",
       " 'categories_food_court',\n",
       " 'categories_hookah_bars',\n",
       " 'categories_bakeries',\n",
       " 'categories_izakaya',\n",
       " 'categories_filipino',\n",
       " 'categories_breakfast_brunch',\n",
       " 'categories_kosher',\n",
       " 'categories_cafes',\n",
       " 'categories_scandinavian',\n",
       " 'categories_tapasmallplates',\n",
       " 'categories_smokehouse',\n",
       " 'categories_macarons',\n",
       " 'categories_swimmingpools',\n",
       " 'categories_argentine',\n",
       " 'categories_bars',\n",
       " 'categories_hair',\n",
       " 'categories_diners',\n",
       " 'categories_desserts',\n",
       " 'categories_spas',\n",
       " 'categories_fondue',\n",
       " 'categories_honduran',\n",
       " 'categories_sandwiches',\n",
       " 'categories_herbsandspices',\n",
       " 'categories_thai',\n",
       " 'categories_fishnchips',\n",
       " 'categories_halal',\n",
       " 'categories_partyequipmentrentals',\n",
       " 'categories_piadina',\n",
       " 'categories_polish',\n",
       " 'categories_soulfood',\n",
       " 'categories_foodstands',\n",
       " 'categories_chicken_wings',\n",
       " 'categories_asianfusion',\n",
       " 'categories_noodles',\n",
       " 'categories_szechuan',\n",
       " 'categories_themedcafes',\n",
       " 'categories_vegetarian',\n",
       " 'categories_russian',\n",
       " 'categories_donuts',\n",
       " 'categories_movietheaters',\n",
       " 'categories_soup',\n",
       " 'categories_basque',\n",
       " 'categories_hobbyshops',\n",
       " 'categories_scottish',\n",
       " 'categories_newmexican',\n",
       " 'categories_himalayan',\n",
       " 'categories_cambodian',\n",
       " 'categories_austrian',\n",
       " 'categories_pianobars',\n",
       " 'categories_shanghainese',\n",
       " 'transactions_',\n",
       " 'transactions_pickup',\n",
       " 'transactions_delivery',\n",
       " 'transactions_restaurant_reservation',\n",
       " 'is_affluent']"
      ]
     },
     "execution_count": 211,
     "metadata": {},
     "output_type": "execute_result"
    }
   ],
   "source": [
    "list(complete_df.columns)"
   ]
  },
  {
   "cell_type": "markdown",
   "metadata": {},
   "source": [
    "# ======================\n",
    "# \"work in progress\" before here"
   ]
  },
  {
   "cell_type": "markdown",
   "metadata": {},
   "source": [
    "## Model Preparation"
   ]
  },
  {
   "cell_type": "markdown",
   "metadata": {},
   "source": [
    "** Should we consider city? It's worse than lat/long, which we're already using **\n",
    "\n",
    "We plan to compose lat/long during feature engineering via clustering to create a new composite features"
   ]
  },
  {
   "cell_type": "code",
   "execution_count": 369,
   "metadata": {},
   "outputs": [],
   "source": [
    "xfeatures = [\"id\",\"city\",'latitude','longitude']\n",
    "X = complete_df.drop(columns=xfeatures)\n",
    "y = complete_df[\"is_affluent\"]"
   ]
  },
  {
   "cell_type": "markdown",
   "metadata": {},
   "source": [
    "## Model Selection\n",
    "- [Hadi] Exploring models\n",
    "- [Eddie] Exploring models\n",
    "\n",
    "Maybe split on which models you 2 want to try out"
   ]
  },
  {
   "cell_type": "markdown",
   "metadata": {},
   "source": [
    "## Model Evaluation\n",
    "- [Mahdi] killer graphs and visuals"
   ]
  },
  {
   "cell_type": "markdown",
   "metadata": {},
   "source": [
    "## Conclusions and Recommendations\n",
    "- [All]"
   ]
  },
  {
   "cell_type": "markdown",
   "metadata": {},
   "source": [
    "## Source Documentation\n",
    "- [NYC zip codes](https://www.nycbynatives.com/nyc_info/new_york_city_zip_codes.php)\n",
    "- [Yelp API - Business Endpoints](https://www.yelp.com/fusion)\n",
    "- [IRS dataset](https://www.irs.gov/statistics/soi-tax-stats-individual-income-tax-statistics-2016-zip-code-data-soi)"
   ]
  },
  {
   "cell_type": "code",
   "execution_count": null,
   "metadata": {},
   "outputs": [],
   "source": []
  }
 ],
 "metadata": {
  "kernelspec": {
   "display_name": "Python 3",
   "language": "python",
   "name": "python3"
  },
  "language_info": {
   "codemirror_mode": {
    "name": "ipython",
    "version": 3
   },
   "file_extension": ".py",
   "mimetype": "text/x-python",
   "name": "python",
   "nbconvert_exporter": "python",
   "pygments_lexer": "ipython3",
   "version": "3.7.3"
  }
 },
 "nbformat": 4,
 "nbformat_minor": 2
}
