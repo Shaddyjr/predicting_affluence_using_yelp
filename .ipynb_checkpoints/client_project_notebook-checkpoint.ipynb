{
 "cells": [
  {
   "cell_type": "code",
   "execution_count": 79,
   "metadata": {},
   "outputs": [],
   "source": [
    "import time\n",
    "import pandas as pd\n",
    "import numpy as np\n",
    "from DCE import DictColumnExpander\n",
    "import matplotlib.pyplot as plt\n",
    "import ast\n",
    "pd.set_option('display.max_colwidth', 50)\n",
    "pd.set_option('display.max_rows', 999)\n",
    "\n",
    "%matplotlib inline"
   ]
  },
  {
   "cell_type": "code",
   "execution_count": 5,
   "metadata": {},
   "outputs": [],
   "source": [
    "biz_df = pd.read_json(\"./data/business.json\", lines=True)\n",
    "biz_df[\"price\"] = biz_df[\"attributes\"].apply(lambda d: d.get(\"RestaurantsPriceRange2\") if type(d) == dict else np.nan)"
   ]
  },
  {
   "cell_type": "code",
   "execution_count": 6,
   "metadata": {},
   "outputs": [],
   "source": [
    "dce = DictColumnExpander(\"attributes\")"
   ]
  },
  {
   "cell_type": "code",
   "execution_count": 10,
   "metadata": {},
   "outputs": [
    {
     "name": "stdout",
     "output_type": "stream",
     "text": [
      "Starting transformation:\n",
      "0.00% Completed\n",
      "10.00% Completed\n",
      "20.00% Completed\n",
      "30.00% Completed\n",
      "40.00% Completed\n",
      "50.00% Completed\n",
      "60.00% Completed\n",
      "70.00% Completed\n",
      "80.00% Completed\n",
      "90.00% Completed\n",
      "Transformation Complete\n",
      "115.46 seconds\n"
     ]
    }
   ],
   "source": [
    "now = time.time()\n",
    "all_attrs = dce.fit_transform(biz_df, verbose = True)\n",
    "print(round(time.time() - now, 2), \"seconds\")"
   ]
  },
  {
   "cell_type": "code",
   "execution_count": 23,
   "metadata": {},
   "outputs": [],
   "source": [
    "nyc = pd.read_csv('total_merged.csv')"
   ]
  },
  {
   "cell_type": "code",
   "execution_count": 49,
   "metadata": {},
   "outputs": [
    {
     "data": {
      "text/plain": [
       "dict"
      ]
     },
     "execution_count": 49,
     "metadata": {},
     "output_type": "execute_result"
    }
   ],
   "source": [
    "ast.literal_eval(nyc['location'][1])"
   ]
  },
  {
   "cell_type": "code",
   "execution_count": 54,
   "metadata": {},
   "outputs": [],
   "source": [
    "list_of_zip = [ast.literal_eval(i)['zip_code'] for i in nyc['location']]"
   ]
  },
  {
   "cell_type": "code",
   "execution_count": 66,
   "metadata": {},
   "outputs": [],
   "source": [
    "list_of_state = [ast.literal_eval(i)['state'] for i in nyc['location']]"
   ]
  },
  {
   "cell_type": "code",
   "execution_count": 70,
   "metadata": {},
   "outputs": [],
   "source": [
    "list_of_city = [ast.literal_eval(i)['city'] for i in nyc['location']]"
   ]
  },
  {
   "cell_type": "code",
   "execution_count": 106,
   "metadata": {},
   "outputs": [],
   "source": [
    "nyc[\"area_code\"] = nyc[\"display_phone\"].apply(lambda d: d[1:4] if type(d) == str else np.nan)"
   ]
  },
  {
   "cell_type": "code",
   "execution_count": 71,
   "metadata": {},
   "outputs": [],
   "source": [
    "nyc['city'] = list_of_city"
   ]
  },
  {
   "cell_type": "code",
   "execution_count": 74,
   "metadata": {
    "collapsed": true
   },
   "outputs": [
    {
     "data": {
      "text/plain": [
       "New York                         3632\n",
       "Brooklyn                         2545\n",
       "Bronx                            1129\n",
       "Flushing                          724\n",
       "Staten Island                     636\n",
       "Jackson Heights                   277\n",
       "Astoria                           271\n",
       "Queens                            236\n",
       "Elmhurst                          196\n",
       "Woodside                          155\n",
       "Jamaica                           131\n",
       "Fort Lee                           93\n",
       "Long Island City                   87\n",
       "Forest Hills                       84\n",
       "Corona                             58\n",
       "South Ozone Park                   52\n",
       "South Richmond Hill                46\n",
       "East Elmhurst                      45\n",
       "Bayside                            40\n",
       "East Bronx                         36\n",
       "Manhattan                          34\n",
       "Sunnyside                          31\n",
       "Ridgewood                          30\n",
       "Rego Park                          29\n",
       "Jersey City                        27\n",
       "Edgewater                          25\n",
       "Maspeth                            21\n",
       "Bedford-Stuyvesant                 21\n",
       "Richmond Hill                      20\n",
       "Fresh Meadows                      20\n",
       "Ozone Park                         16\n",
       "Whitestone                         16\n",
       "Bensonhurst                        14\n",
       "Yonkers                            13\n",
       "The Bronx                          13\n",
       "Crown Heights                      13\n",
       "New Rochelle                       13\n",
       "West Bronx                         12\n",
       "Newark                             12\n",
       "Borough Park                       11\n",
       "College Point                      11\n",
       "Middle Village                     10\n",
       "Elizabeth                          10\n",
       "Flatbush - Ditmas Park             10\n",
       "Kew Gardens                         9\n",
       "Glendale                            9\n",
       "Gravesend                           9\n",
       "Brighton Beach                      8\n",
       "Park Slope                          7\n",
       "Midwood                             7\n",
       "Harlem                              6\n",
       "Mount Vernon                        6\n",
       "Keyport                             5\n",
       "Rahway                              5\n",
       "Pelham                              5\n",
       "Kensington                          5\n",
       "Edison                              5\n",
       "Howard Beach                        4\n",
       "Brooklyn Heights                    4\n",
       "City Island                         4\n",
       "Woodhaven                           4\n",
       "Bayonne                             4\n",
       "Downtown Brooklyn                   4\n",
       "Prospect Heights                    4\n",
       "Coney Island                        4\n",
       "Hoboken                             4\n",
       "Williamsburg                        4\n",
       "Sheepshead Bay                      3\n",
       "Englewood Cliffs                    3\n",
       "Maplewood                           3\n",
       "Linden                              3\n",
       "Clinton Hill                        3\n",
       "Carroll Gardens                     3\n",
       "Parlin                              3\n",
       "East Flatbush                       3\n",
       "Union                               3\n",
       "Jerome Park                         3\n",
       "Englewood                           3\n",
       "Carteret                            3\n",
       "Gowanus                             3\n",
       "Perth Amboy                         3\n",
       "Norwood                             3\n",
       "Boerum Hill                         3\n",
       "Woodbridge                          2\n",
       "Fleetwood - Concourse Village       2\n",
       "Hillside                            2\n",
       "Woodbridge Township                 2\n",
       "Jackson heights                     2\n",
       "Bath Beach                          2\n",
       "Cliffside Park                      2\n",
       "Colonia                             2\n",
       "Staten Island NY                    2\n",
       "Fort Greene                         2\n",
       "Oakland Gardens                     2\n",
       "Sunset Park                         2\n",
       "Bushwick                            2\n",
       "Washington Heights                  2\n",
       "Harrison                            2\n",
       "bronx                               2\n",
       "Bronxville                          2\n",
       "Clark                               2\n",
       "Long island City                    2\n",
       "Scarsdale                           2\n",
       "Roselle                             2\n",
       "Middletown - Pelham Bay             2\n",
       "Eltingville                         2\n",
       "Guttenberg                          2\n",
       "Heartland Village                   2\n",
       "Iselin                              2\n",
       "New Dorp Beach                      1\n",
       "Pelham Bay Park                     1\n",
       "Irvington                           1\n",
       "East Flushing                       1\n",
       "St. Augustine                       1\n",
       "Palisades Park                      1\n",
       "Hopelawn                            1\n",
       "Riverdale                           1\n",
       "Flatbush                            1\n",
       "Tompkinsville                       1\n",
       "Bulls Head                          1\n",
       "Jackson Hts.                        1\n",
       "South Bronx                         1\n",
       "Westfield                           1\n",
       "Staten                              1\n",
       "brooklyn                            1\n",
       "Fresh Meadow                        1\n",
       "Greenwich                           1\n",
       "St. George                          1\n",
       "Rush                                1\n",
       "Roselle Park                        1\n",
       "Cranford                            1\n",
       "Hastings on Hudson                  1\n",
       "Centereach                          1\n",
       "West New York                       1\n",
       "Bay Shore                           1\n",
       "Bay Terrace                         1\n",
       "Millburn                            1\n",
       "Pelham Manor                        1\n",
       "Weehawken                           1\n",
       "new york                            1\n",
       "Tuscaloosa                          1\n",
       "Throggs Neck                        1\n",
       "Hollis Hills                        1\n",
       "Travis - Chelsea                    1\n",
       "New Dorp                            1\n",
       "Metuchen                            1\n",
       "Bloomfield                          1\n",
       "New York City                       1\n",
       "Annadale                            1\n",
       "Neptune City                        1\n",
       "Port Washington                     1\n",
       "Point Pleasant Beach                1\n",
       "Murray Hill                         1\n",
       "Greenpoint                          1\n",
       "Elmont                              1\n",
       "Todt Hill                           1\n",
       "Rockaway Township                   1\n",
       "Little Neck                         1\n",
       "Hollis                              1\n",
       "Belmont                             1\n",
       "Millstone                           1\n",
       "Inwood                              1\n",
       "Ozone park                          1\n",
       "Astoria Queens                      1\n",
       "Lighthouse Hill                     1\n",
       "Clifton                             1\n",
       "Chicago                             1\n",
       "Matawan                             1\n",
       "Plainfield                          1\n",
       "Long Beach                          1\n",
       "Tottenville                         1\n",
       "Elm Park                            1\n",
       "Milford                             1\n",
       "Jackson                             1\n",
       "Upper Darby                         1\n",
       "Stapleton                           1\n",
       "Newyork                             1\n",
       "Kenilworth                          1\n",
       "Avenel                              1\n",
       "NY                                  1\n",
       "Castleton Corners                   1\n",
       "Long Island                         1\n",
       "Mamaroneck                          1\n",
       "Fords                               1\n",
       "Mount Eden                          1\n",
       "West Brighton                       1\n",
       "Mapleton                            1\n",
       "Beechurst                           1\n",
       "Bronx County                        1\n",
       "Prospect Lefferts Gardens           1\n",
       "Douglaston                          1\n",
       "Stalen Island                       1\n",
       "South Amboy                         1\n",
       "Arden Heights                       1\n",
       "Los Angeles                         1\n",
       "New york                            1\n",
       "Highbridge                          1\n",
       "Sayreville                          1\n",
       "EImhurst                            1\n",
       "Stephenville                        1\n",
       "Dumbo                               1\n",
       "Woodrow                             1\n",
       "Fullerton                           1\n",
       "Name: city, dtype: int64"
      ]
     },
     "execution_count": 74,
     "metadata": {},
     "output_type": "execute_result"
    }
   ],
   "source": [
    "nyc['city'].value_counts()"
   ]
  },
  {
   "cell_type": "code",
   "execution_count": 109,
   "metadata": {},
   "outputs": [
    {
     "data": {
      "text/plain": [
       "718    5521\n",
       "212    2347\n",
       "347     856\n",
       "646     727\n",
       "917     462\n",
       "929     213\n",
       "201     162\n",
       "914      47\n",
       "732      46\n",
       "908      28\n",
       "973      18\n",
       "516      16\n",
       "631       7\n",
       "518       6\n",
       "855       5\n",
       "862       4\n",
       "888       4\n",
       "716       3\n",
       "866       3\n",
       "877       3\n",
       "833       2\n",
       "203       2\n",
       "856       2\n",
       "800       2\n",
       "844       2\n",
       "510       2\n",
       "202       2\n",
       "845       2\n",
       "609       1\n",
       "727       1\n",
       "936       1\n",
       "254       1\n",
       "374       1\n",
       "484       1\n",
       "407       1\n",
       "607       1\n",
       "469       1\n",
       "551       1\n",
       "860       1\n",
       "773       1\n",
       "717       1\n",
       "781       1\n",
       "302       1\n",
       "626       1\n",
       "323       1\n",
       "332       1\n",
       "956       1\n",
       "714       1\n",
       "785       1\n",
       "904       1\n",
       "353       1\n",
       "218       1\n",
       "520       1\n",
       "702       1\n",
       "312       1\n",
       "802       1\n",
       "415       1\n",
       "708       1\n",
       "205       1\n",
       "585       1\n",
       "954       1\n",
       "219       1\n",
       "Name: area_code, dtype: int64"
      ]
     },
     "execution_count": 109,
     "metadata": {},
     "output_type": "execute_result"
    }
   ],
   "source": [
    "nyc['area_code'].value_counts()"
   ]
  },
  {
   "cell_type": "code",
   "execution_count": null,
   "metadata": {},
   "outputs": [],
   "source": []
  }
 ],
 "metadata": {
  "kernelspec": {
   "display_name": "Python 3",
   "language": "python",
   "name": "python3"
  },
  "language_info": {
   "codemirror_mode": {
    "name": "ipython",
    "version": 3
   },
   "file_extension": ".py",
   "mimetype": "text/x-python",
   "name": "python",
   "nbconvert_exporter": "python",
   "pygments_lexer": "ipython3",
   "version": "3.7.3"
  }
 },
 "nbformat": 4,
 "nbformat_minor": 2
}
