{
 "cells": [
  {
   "cell_type": "code",
   "execution_count": 9,
   "metadata": {},
   "outputs": [],
   "source": [
    "import requests\n",
    "\n",
    "URL = 'https://api.yelp.com/v3/businesses/search'\n",
    "API_KEY = 'bSSRvBa1QwQLAOUrHspOHFMNza7nA7K8E6FT5VwsK0thtf51HddFVu-pAClDzrgH49tGnJ3H3oBzn8MB3y8TUWeUvIKD1U1nBGLnMay-uP3k8hXirsaQaqYfMGIvXXYx'\n",
    "params = {\n",
    "    \"location\" : \"NYC\" # LOCATION IS REQUIRED\n",
    "}\n",
    "headers = {'Authorization': 'bearer %s' % API_KEY}\n",
    "resp = requests.get(url=URL, headers=headers)"
   ]
  },
  {
   "cell_type": "code",
   "execution_count": 10,
   "metadata": {},
   "outputs": [
    {
     "data": {
      "text/plain": [
       "200"
      ]
     },
     "execution_count": 10,
     "metadata": {},
     "output_type": "execute_result"
    }
   ],
   "source": [
    "resp.status_code"
   ]
  },
  {
   "cell_type": "code",
   "execution_count": 12,
   "metadata": {},
   "outputs": [],
   "source": [
    "data = resp.json()"
   ]
  },
  {
   "cell_type": "code",
   "execution_count": 22,
   "metadata": {},
   "outputs": [
    {
     "data": {
      "text/plain": [
       "{'id': 'SBkebBPuX2mRUQ9VaQ91NQ',\n",
       " 'alias': 'boobie-trap-brooklyn',\n",
       " 'name': 'Boobie Trap',\n",
       " 'image_url': 'https://s3-media1.fl.yelpcdn.com/bphoto/2fJk7fllmYXNQetbDyYBXg/o.jpg',\n",
       " 'is_closed': False,\n",
       " 'url': 'https://www.yelp.com/biz/boobie-trap-brooklyn?adjust_creative=M1xV96BlRNSkHC__SUwenQ&utm_campaign=yelp_api_v3&utm_medium=api_v3_business_search&utm_source=M1xV96BlRNSkHC__SUwenQ',\n",
       " 'review_count': 240,\n",
       " 'categories': [{'alias': 'divebars', 'title': 'Dive Bars'}],\n",
       " 'rating': 4.0,\n",
       " 'coordinates': {'latitude': 40.7003517876193, 'longitude': -73.9161294247438},\n",
       " 'transactions': ['pickup', 'delivery'],\n",
       " 'price': '$',\n",
       " 'location': {'address1': '308 Bleecker St',\n",
       "  'address2': '',\n",
       "  'address3': '',\n",
       "  'city': 'Brooklyn',\n",
       "  'zip_code': '11237',\n",
       "  'country': 'US',\n",
       "  'state': 'NY',\n",
       "  'display_address': ['308 Bleecker St', 'Brooklyn, NY 11237']},\n",
       " 'phone': '+13472409105',\n",
       " 'display_phone': '(347) 240-9105',\n",
       " 'distance': 6613.2602416019245}"
      ]
     },
     "execution_count": 22,
     "metadata": {},
     "output_type": "execute_result"
    }
   ],
   "source": [
    "data[\"businesses\"][0]"
   ]
  },
  {
   "cell_type": "code",
   "execution_count": 26,
   "metadata": {},
   "outputs": [],
   "source": [
    "import pandas as pd\n",
    "\n",
    "def convertBiz(biz):\n",
    "    selection = [\n",
    "        \"id\",\"review_count\",\"categories\",\n",
    "        \"rating\",\"transactions\",\n",
    "        \"price\",\"location\"\n",
    "    ]\n",
    "    \n",
    "    return {key: biz[key] for key in selection}"
   ]
  },
  {
   "cell_type": "code",
   "execution_count": null,
   "metadata": {},
   "outputs": [],
   "source": [
    "def covertData(data):\n",
    "    data[\"businesses\"]"
   ]
  },
  {
   "cell_type": "code",
   "execution_count": null,
   "metadata": {},
   "outputs": [],
   "source": []
  },
  {
   "cell_type": "code",
   "execution_count": null,
   "metadata": {},
   "outputs": [],
   "source": []
  },
  {
   "cell_type": "code",
   "execution_count": null,
   "metadata": {},
   "outputs": [],
   "source": []
  }
 ],
 "metadata": {
  "kernelspec": {
   "display_name": "Python 3",
   "language": "python",
   "name": "python3"
  },
  "language_info": {
   "codemirror_mode": {
    "name": "ipython",
    "version": 3
   },
   "file_extension": ".py",
   "mimetype": "text/x-python",
   "name": "python",
   "nbconvert_exporter": "python",
   "pygments_lexer": "ipython3",
   "version": "3.7.3"
  }
 },
 "nbformat": 4,
 "nbformat_minor": 2
}
