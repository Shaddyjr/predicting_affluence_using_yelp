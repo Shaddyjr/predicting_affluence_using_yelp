{
 "cells": [
  {
   "cell_type": "markdown",
   "metadata": {},
   "source": [
    "# Predicting Areas of Affluence using Yelp Pricing Data\n",
    "\n",
    "#### Authors: \n",
    "- Eddie Yip [LinkedIn](https://www.linkedin.com/in/eddie-yip-2a37324b/) | [Medium](https://medium.com/@eddie.yip2)\n",
    "- Hadi Morrow [LinkedIn](https://www.linkedin.com/in/hadi-morrow-4b94164b/) | [GitHub](https://github.com/HadiMorrow) | [Medium](https://medium.com/@hadi.a.morrow)\n",
    "- Mahdi Shadkam-Farrokhi: [GitHub](https://github.com/Shaddyjr) | [Medium](https://medium.com/@mahdis.pw) | [http://mahdis.pw](http://mahdis.pw)"
   ]
  },
  {
   "cell_type": "markdown",
   "metadata": {},
   "source": [
    "## Problem Statement [Hadi]\n",
    "\n",
    "While affluence should never be a factor when choosing to provide disaster aid or not, we must consider the following:\n",
    "\n",
    "- On the assumption that affluence plays a role, one might relate affluency to preparedness. Those who can afford to will always look out for their families at any cost. Those who can not might not be able to prepare as well due to the fact that it is not an option. \n",
    "\n",
    "- On the assumption that affluence is not part of a majority class, if we should be miopic with our search efforts we might want to consider saving the masses, those living in tight coridors and those with little to no income. If effect those most suseptible to losing their lives in a major disaster. \n",
    "\n",
    "- Using tax data we aim to show that using YELP data dollar signs is enough to predict where we might want to quickly and accuratly align our efforts. \n",
    "\n",
    "New Light Technologies as our audience, we hope to show that while using expensive and hard to handle data such as tax data can be more precise, a quick and dirty aproach could be to simply sord though the dollar signs data on yelp. \n",
    "\n",
    "---\n",
    "[Hadi] - Excellent write up! Here are some suggestions.\n",
    "1. It would be nice for the reader if we define 'affluence' here at the start. What do we consider \"affluent\" in our data (I think we mentioned 15% of the area code?)?\n",
    "2. As a reader, it would be VERY compelling to have an actual case where a natural disaster occured and the affluent areas weren't affected. If possible, research 1 or 2 cases when affluent areas were better prepared for natural disasters - this will help prove our predictive model has a real use case.\n",
    "3. Tying into the use case, it might be helpful to mention a realistic disaster scenario when only having Yelp! price data would be useful. Like, there's an emergency and there's little time to pull granular information about the area, but knowing the yelp reviews for an area, allows first-responders to know which areas their efforts will have the most impact\n",
    "4. We need to mention which metric we're going to use and why"
   ]
  },
  {
   "cell_type": "markdown",
   "metadata": {},
   "source": [
    "## Executive Summary [Mahdi]\n",
    "\n",
    "- Difficulty gathering data\n",
    "- Prompt confusing regarding \"affluence\"\n",
    "- Other projects used outside data as metric\n",
    "- We pulled from API and didn't use old data, which was challenging"
   ]
  },
  {
   "cell_type": "markdown",
   "metadata": {},
   "source": [
    "## Table of Contents\n",
    "- [Gathering Data](#Gathering-Data)\n",
    "- [Loading Data](#Loading-Data)\n",
    "- [Preliminary Exploratory Data Analysis](#Preliminary-Exploratory-Data-Analysis)\n",
    "- [Cleaning the Data](#Cleaning-the-Data)\n",
    "- [Feature Engineering](#Feature-Engineering)\n",
    "- [Exploratory Data Analysis](#Exploratory-Data-Analysis)\n",
    "- [Model Preparation](#Model-Preparation)\n",
    "- [Model Selection](#Model-Selection)\n",
    "- [Model Evaluation](#Model-Evaluation)\n",
    "- [Conclusions and Recommendations](#Conclusions-and-Recommendations)\n",
    "- [Source Documentation](#Source-Documentation)"
   ]
  },
  {
   "cell_type": "markdown",
   "metadata": {},
   "source": [
    "## Gathering Data\n",
    "We got Yelp data using the API - link \n",
    " \n",
    "We got IRS data using - source [Eddie]"
   ]
  },
  {
   "cell_type": "markdown",
   "metadata": {},
   "source": [
    "## Loading Data\n",
    "- [All]\n",
    "- For map visual, will need [Basemap](https://rabernat.github.io/research_computing/intro-to-basemap.html)\n",
    "[source 2](https://jakevdp.github.io/PythonDataScienceHandbook/04.13-geographic-data-with-basemap.html)"
   ]
  },
  {
   "cell_type": "code",
   "execution_count": 1,
   "metadata": {},
   "outputs": [],
   "source": [
    "import time\n",
    "import pandas as pd\n",
    "import matplotlib.pyplot as plt\n",
    "import seaborn as sns\n",
    "import numpy as np\n",
    "import columnExpander\n",
    "from ast import literal_eval\n",
    "import numpy as np\n",
    "import pandas as pd\n",
    "import matplotlib.pyplot as plt\n",
    "from sklearn.metrics import silhouette_score\n",
    "\n",
    "from sklearn.model_selection import train_test_split, GridSearchCV\n",
    "from sklearn.preprocessing import StandardScaler\n",
    "from sklearn.pipeline import Pipeline\n",
    "from sklearn.cluster import KMeans\n",
    "from sklearn.decomposition import PCA\n",
    "from sklearn.linear_model import LinearRegression, LogisticRegression\n",
    "# from mpl_toolkits.basemap import Basemap # this model has messy import process\n",
    "\n",
    "random_state = 6988"
   ]
  },
  {
   "cell_type": "code",
   "execution_count": 2,
   "metadata": {},
   "outputs": [],
   "source": [
    "data_file_path = \"./data/total_merge_2.csv\"\n",
    "df_yelp = pd.read_csv(data_file_path, index_col = 0)\n",
    "df_yelp.reset_index(drop=True, inplace = True) # same indeces were merged using multiple API calls"
   ]
  },
  {
   "cell_type": "code",
   "execution_count": 3,
   "metadata": {},
   "outputs": [
    {
     "data": {
      "text/plain": [
       "(12865, 16)"
      ]
     },
     "execution_count": 3,
     "metadata": {},
     "output_type": "execute_result"
    }
   ],
   "source": [
    "df_yelp.shape"
   ]
  },
  {
   "cell_type": "markdown",
   "metadata": {},
   "source": [
    "## Preliminary Exploratory Data Analysis\n",
    "- [All]"
   ]
  },
  {
   "cell_type": "code",
   "execution_count": 4,
   "metadata": {},
   "outputs": [
    {
     "data": {
      "text/html": [
       "<div>\n",
       "<style scoped>\n",
       "    .dataframe tbody tr th:only-of-type {\n",
       "        vertical-align: middle;\n",
       "    }\n",
       "\n",
       "    .dataframe tbody tr th {\n",
       "        vertical-align: top;\n",
       "    }\n",
       "\n",
       "    .dataframe thead th {\n",
       "        text-align: right;\n",
       "    }\n",
       "</style>\n",
       "<table border=\"1\" class=\"dataframe\">\n",
       "  <thead>\n",
       "    <tr style=\"text-align: right;\">\n",
       "      <th></th>\n",
       "      <th>alias</th>\n",
       "      <th>categories</th>\n",
       "      <th>coordinates</th>\n",
       "      <th>display_phone</th>\n",
       "      <th>distance</th>\n",
       "      <th>id</th>\n",
       "      <th>image_url</th>\n",
       "      <th>is_closed</th>\n",
       "      <th>location</th>\n",
       "      <th>name</th>\n",
       "      <th>phone</th>\n",
       "      <th>price</th>\n",
       "      <th>rating</th>\n",
       "      <th>review_count</th>\n",
       "      <th>transactions</th>\n",
       "      <th>url</th>\n",
       "    </tr>\n",
       "  </thead>\n",
       "  <tbody>\n",
       "    <tr>\n",
       "      <th>0</th>\n",
       "      <td>mos-original-brooklyn</td>\n",
       "      <td>[{'alias': 'ramen', 'title': 'Ramen'}, {'alias...</td>\n",
       "      <td>{'latitude': 40.66127, 'longitude': -73.95342}</td>\n",
       "      <td>(718) 513-0698</td>\n",
       "      <td>1542.617156</td>\n",
       "      <td>YwpP-mgXV5N35xhLibLw5g</td>\n",
       "      <td>https://s3-media2.fl.yelpcdn.com/bphoto/-L9roT...</td>\n",
       "      <td>False</td>\n",
       "      <td>{'address1': '453 Rogers Ave', 'address2': Non...</td>\n",
       "      <td>Mo's Original</td>\n",
       "      <td>1.718513e+10</td>\n",
       "      <td>NaN</td>\n",
       "      <td>4.5</td>\n",
       "      <td>32</td>\n",
       "      <td>[]</td>\n",
       "      <td>https://www.yelp.com/biz/mos-original-brooklyn...</td>\n",
       "    </tr>\n",
       "    <tr>\n",
       "      <th>1</th>\n",
       "      <td>peaches-hothouse-brooklyn</td>\n",
       "      <td>[{'alias': 'southern', 'title': 'Southern'}, {...</td>\n",
       "      <td>{'latitude': 40.6833699737169, 'longitude': -7...</td>\n",
       "      <td>(718) 483-9111</td>\n",
       "      <td>3471.525420</td>\n",
       "      <td>GA5msU6NO9rQRctPfDJCBg</td>\n",
       "      <td>https://s3-media1.fl.yelpcdn.com/bphoto/KEAXgZ...</td>\n",
       "      <td>False</td>\n",
       "      <td>{'address1': '415 Tompkins Ave', 'address2': '...</td>\n",
       "      <td>Peaches HotHouse</td>\n",
       "      <td>1.718484e+10</td>\n",
       "      <td>$$</td>\n",
       "      <td>4.0</td>\n",
       "      <td>1082</td>\n",
       "      <td>['pickup', 'delivery']</td>\n",
       "      <td>https://www.yelp.com/biz/peaches-hothouse-broo...</td>\n",
       "    </tr>\n",
       "    <tr>\n",
       "      <th>2</th>\n",
       "      <td>claw-daddys-brooklyn</td>\n",
       "      <td>[{'alias': 'cajun', 'title': 'Cajun/Creole'}, ...</td>\n",
       "      <td>{'latitude': 40.68561, 'longitude': -73.98035}</td>\n",
       "      <td>(347) 318-8893</td>\n",
       "      <td>5062.337404</td>\n",
       "      <td>1x2hn3e9sCCZca1cnRTpEg</td>\n",
       "      <td>https://s3-media3.fl.yelpcdn.com/bphoto/ABHo2x...</td>\n",
       "      <td>False</td>\n",
       "      <td>{'address1': '31 3rd Ave', 'address2': '', 'ad...</td>\n",
       "      <td>Claw Daddy's</td>\n",
       "      <td>1.347319e+10</td>\n",
       "      <td>$$</td>\n",
       "      <td>4.0</td>\n",
       "      <td>282</td>\n",
       "      <td>['restaurant_reservation']</td>\n",
       "      <td>https://www.yelp.com/biz/claw-daddys-brooklyn?...</td>\n",
       "    </tr>\n",
       "    <tr>\n",
       "      <th>3</th>\n",
       "      <td>barons-brooklyn</td>\n",
       "      <td>[{'alias': 'newamerican', 'title': 'American (...</td>\n",
       "      <td>{'latitude': 40.6908116, 'longitude': -73.953915}</td>\n",
       "      <td>(718) 230-7100</td>\n",
       "      <td>4451.492133</td>\n",
       "      <td>GxMhN2PEttvw7CRGIzB6Gg</td>\n",
       "      <td>https://s3-media3.fl.yelpcdn.com/bphoto/VmnsId...</td>\n",
       "      <td>False</td>\n",
       "      <td>{'address1': '564 Dekalb Ave', 'address2': '',...</td>\n",
       "      <td>Baron's</td>\n",
       "      <td>1.718231e+10</td>\n",
       "      <td>$$</td>\n",
       "      <td>4.5</td>\n",
       "      <td>258</td>\n",
       "      <td>['pickup', 'restaurant_reservation']</td>\n",
       "      <td>https://www.yelp.com/biz/barons-brooklyn?adjus...</td>\n",
       "    </tr>\n",
       "    <tr>\n",
       "      <th>4</th>\n",
       "      <td>lowerline-brooklyn-2</td>\n",
       "      <td>[{'alias': 'cajun', 'title': 'Cajun/Creole'}, ...</td>\n",
       "      <td>{'latitude': 40.67421, 'longitude': -73.96324}</td>\n",
       "      <td>(347) 533-7110</td>\n",
       "      <td>3158.955607</td>\n",
       "      <td>swKXaURwqdSrSTcpHsxdbA</td>\n",
       "      <td>https://s3-media4.fl.yelpcdn.com/bphoto/oJbAhL...</td>\n",
       "      <td>False</td>\n",
       "      <td>{'address1': '794 Washington Ave', 'address2':...</td>\n",
       "      <td>Lowerline</td>\n",
       "      <td>1.347534e+10</td>\n",
       "      <td>$$</td>\n",
       "      <td>4.5</td>\n",
       "      <td>118</td>\n",
       "      <td>[]</td>\n",
       "      <td>https://www.yelp.com/biz/lowerline-brooklyn-2?...</td>\n",
       "    </tr>\n",
       "  </tbody>\n",
       "</table>\n",
       "</div>"
      ],
      "text/plain": [
       "                       alias  \\\n",
       "0      mos-original-brooklyn   \n",
       "1  peaches-hothouse-brooklyn   \n",
       "2       claw-daddys-brooklyn   \n",
       "3            barons-brooklyn   \n",
       "4       lowerline-brooklyn-2   \n",
       "\n",
       "                                          categories  \\\n",
       "0  [{'alias': 'ramen', 'title': 'Ramen'}, {'alias...   \n",
       "1  [{'alias': 'southern', 'title': 'Southern'}, {...   \n",
       "2  [{'alias': 'cajun', 'title': 'Cajun/Creole'}, ...   \n",
       "3  [{'alias': 'newamerican', 'title': 'American (...   \n",
       "4  [{'alias': 'cajun', 'title': 'Cajun/Creole'}, ...   \n",
       "\n",
       "                                         coordinates   display_phone  \\\n",
       "0     {'latitude': 40.66127, 'longitude': -73.95342}  (718) 513-0698   \n",
       "1  {'latitude': 40.6833699737169, 'longitude': -7...  (718) 483-9111   \n",
       "2     {'latitude': 40.68561, 'longitude': -73.98035}  (347) 318-8893   \n",
       "3  {'latitude': 40.6908116, 'longitude': -73.953915}  (718) 230-7100   \n",
       "4     {'latitude': 40.67421, 'longitude': -73.96324}  (347) 533-7110   \n",
       "\n",
       "      distance                      id  \\\n",
       "0  1542.617156  YwpP-mgXV5N35xhLibLw5g   \n",
       "1  3471.525420  GA5msU6NO9rQRctPfDJCBg   \n",
       "2  5062.337404  1x2hn3e9sCCZca1cnRTpEg   \n",
       "3  4451.492133  GxMhN2PEttvw7CRGIzB6Gg   \n",
       "4  3158.955607  swKXaURwqdSrSTcpHsxdbA   \n",
       "\n",
       "                                           image_url  is_closed  \\\n",
       "0  https://s3-media2.fl.yelpcdn.com/bphoto/-L9roT...      False   \n",
       "1  https://s3-media1.fl.yelpcdn.com/bphoto/KEAXgZ...      False   \n",
       "2  https://s3-media3.fl.yelpcdn.com/bphoto/ABHo2x...      False   \n",
       "3  https://s3-media3.fl.yelpcdn.com/bphoto/VmnsId...      False   \n",
       "4  https://s3-media4.fl.yelpcdn.com/bphoto/oJbAhL...      False   \n",
       "\n",
       "                                            location              name  \\\n",
       "0  {'address1': '453 Rogers Ave', 'address2': Non...     Mo's Original   \n",
       "1  {'address1': '415 Tompkins Ave', 'address2': '...  Peaches HotHouse   \n",
       "2  {'address1': '31 3rd Ave', 'address2': '', 'ad...      Claw Daddy's   \n",
       "3  {'address1': '564 Dekalb Ave', 'address2': '',...           Baron's   \n",
       "4  {'address1': '794 Washington Ave', 'address2':...         Lowerline   \n",
       "\n",
       "          phone price  rating  review_count  \\\n",
       "0  1.718513e+10   NaN     4.5            32   \n",
       "1  1.718484e+10    $$     4.0          1082   \n",
       "2  1.347319e+10    $$     4.0           282   \n",
       "3  1.718231e+10    $$     4.5           258   \n",
       "4  1.347534e+10    $$     4.5           118   \n",
       "\n",
       "                           transactions  \\\n",
       "0                                    []   \n",
       "1                ['pickup', 'delivery']   \n",
       "2            ['restaurant_reservation']   \n",
       "3  ['pickup', 'restaurant_reservation']   \n",
       "4                                    []   \n",
       "\n",
       "                                                 url  \n",
       "0  https://www.yelp.com/biz/mos-original-brooklyn...  \n",
       "1  https://www.yelp.com/biz/peaches-hothouse-broo...  \n",
       "2  https://www.yelp.com/biz/claw-daddys-brooklyn?...  \n",
       "3  https://www.yelp.com/biz/barons-brooklyn?adjus...  \n",
       "4  https://www.yelp.com/biz/lowerline-brooklyn-2?...  "
      ]
     },
     "execution_count": 4,
     "metadata": {},
     "output_type": "execute_result"
    }
   ],
   "source": [
    "df_yelp.head()"
   ]
  },
  {
   "cell_type": "code",
   "execution_count": 5,
   "metadata": {},
   "outputs": [
    {
     "data": {
      "text/plain": [
       "display_phone     827\n",
       "image_url         447\n",
       "phone             827\n",
       "price            2187\n",
       "dtype: int64"
      ]
     },
     "execution_count": 5,
     "metadata": {},
     "output_type": "execute_result"
    }
   ],
   "source": [
    "sum_null = df_yelp.isnull().sum()\n",
    "sum_null[sum_null > 0]"
   ]
  },
  {
   "cell_type": "markdown",
   "metadata": {},
   "source": [
    "We have many missing values in the data, however many of the columns are not meaningful for our problem and these columns can be safely dropped.\n",
    "\n",
    "Also, `categories`, `location`, and `transactions` are compressed data columns and will need to be unpacked."
   ]
  },
  {
   "cell_type": "markdown",
   "metadata": {},
   "source": [
    "## Cleaning the Data\n",
    "- [Mahdi] one person for consistency"
   ]
  },
  {
   "cell_type": "markdown",
   "metadata": {},
   "source": [
    "### Yelp Price"
   ]
  },
  {
   "cell_type": "code",
   "execution_count": 6,
   "metadata": {},
   "outputs": [
    {
     "data": {
      "text/plain": [
       "2187"
      ]
     },
     "execution_count": 6,
     "metadata": {},
     "output_type": "execute_result"
    }
   ],
   "source": [
    "df_yelp[\"price\"].isnull().sum()"
   ]
  },
  {
   "cell_type": "markdown",
   "metadata": {},
   "source": [
    "We decided to drop null prices from analysis as this is the key indicator we're looking to predict with."
   ]
  },
  {
   "cell_type": "code",
   "execution_count": 7,
   "metadata": {},
   "outputs": [],
   "source": [
    "df_yelp.dropna(subset=[\"price\"], inplace = True)"
   ]
  },
  {
   "cell_type": "code",
   "execution_count": 8,
   "metadata": {},
   "outputs": [
    {
     "data": {
      "text/plain": [
       "(10678, 16)"
      ]
     },
     "execution_count": 8,
     "metadata": {},
     "output_type": "execute_result"
    }
   ],
   "source": [
    "df_yelp.shape"
   ]
  },
  {
   "cell_type": "markdown",
   "metadata": {},
   "source": [
    "### Converting Yelp Price to ordinal values"
   ]
  },
  {
   "cell_type": "code",
   "execution_count": 9,
   "metadata": {},
   "outputs": [],
   "source": [
    "df_yelp['price'] = df_yelp['price'].map({'$': 1, '$$': 2, '$$$': 3, '$$$$':4})"
   ]
  },
  {
   "cell_type": "code",
   "execution_count": 10,
   "metadata": {},
   "outputs": [
    {
     "data": {
      "text/plain": [
       "2.0    5992\n",
       "1.0    3848\n",
       "3.0     684\n",
       "4.0     152\n",
       "Name: price, dtype: int64"
      ]
     },
     "execution_count": 10,
     "metadata": {},
     "output_type": "execute_result"
    }
   ],
   "source": [
    "df_yelp['price'].value_counts()"
   ]
  },
  {
   "cell_type": "markdown",
   "metadata": {},
   "source": [
    "### Dropping unneccessary columns"
   ]
  },
  {
   "cell_type": "code",
   "execution_count": 11,
   "metadata": {
    "scrolled": true
   },
   "outputs": [],
   "source": [
    "keepers = ['categories','id', 'location', 'price', 'rating', 'review_count', 'transactions', 'coordinates']\n",
    "df_yelp = df_yelp[keepers]"
   ]
  },
  {
   "cell_type": "markdown",
   "metadata": {},
   "source": [
    "### Parsing location data"
   ]
  },
  {
   "cell_type": "code",
   "execution_count": 12,
   "metadata": {},
   "outputs": [],
   "source": [
    "def get_keys_from_sting_dict(string, keys):\n",
    "    if len(string) == 0:\n",
    "        return None\n",
    "    dic = literal_eval(string)\n",
    "    out = {}\n",
    "    for key in keys:\n",
    "        out[key] = dic.get(key)\n",
    "    return out"
   ]
  },
  {
   "cell_type": "code",
   "execution_count": 13,
   "metadata": {},
   "outputs": [],
   "source": [
    "location = \"location\"\n",
    "keys = [\"zip_code\", \"city\", 'state']\n",
    "zips_and_cities = df_yelp[location].map(lambda string: get_keys_from_sting_dict(string, keys))\n",
    "\n",
    "for key in keys:\n",
    "    df_yelp[key] = [pair[key] for pair in zips_and_cities]\n",
    "    \n",
    "df_yelp.drop(columns=[location], inplace = True)"
   ]
  },
  {
   "cell_type": "markdown",
   "metadata": {},
   "source": [
    "### Filtering for NYC-only"
   ]
  },
  {
   "cell_type": "markdown",
   "metadata": {},
   "source": [
    "#### Removed non-NY state"
   ]
  },
  {
   "cell_type": "code",
   "execution_count": 14,
   "metadata": {},
   "outputs": [],
   "source": [
    "df_yelp = df_yelp[df_yelp['state'] == \"NY\"]"
   ]
  },
  {
   "cell_type": "markdown",
   "metadata": {},
   "source": [
    "#### Imputing missing zip codes"
   ]
  },
  {
   "cell_type": "code",
   "execution_count": 15,
   "metadata": {},
   "outputs": [
    {
     "data": {
      "text/html": [
       "<div>\n",
       "<style scoped>\n",
       "    .dataframe tbody tr th:only-of-type {\n",
       "        vertical-align: middle;\n",
       "    }\n",
       "\n",
       "    .dataframe tbody tr th {\n",
       "        vertical-align: top;\n",
       "    }\n",
       "\n",
       "    .dataframe thead th {\n",
       "        text-align: right;\n",
       "    }\n",
       "</style>\n",
       "<table border=\"1\" class=\"dataframe\">\n",
       "  <thead>\n",
       "    <tr style=\"text-align: right;\">\n",
       "      <th></th>\n",
       "      <th>categories</th>\n",
       "      <th>id</th>\n",
       "      <th>price</th>\n",
       "      <th>rating</th>\n",
       "      <th>review_count</th>\n",
       "      <th>transactions</th>\n",
       "      <th>coordinates</th>\n",
       "      <th>zip_code</th>\n",
       "      <th>city</th>\n",
       "      <th>state</th>\n",
       "    </tr>\n",
       "  </thead>\n",
       "  <tbody>\n",
       "    <tr>\n",
       "      <th>6940</th>\n",
       "      <td>[{'alias': 'cupcakes', 'title': 'Cupcakes'}, {...</td>\n",
       "      <td>ECY0sIYxPJio81dteqiMhg</td>\n",
       "      <td>2.0</td>\n",
       "      <td>4.5</td>\n",
       "      <td>16</td>\n",
       "      <td>[]</td>\n",
       "      <td>{'latitude': 40.71455, 'longitude': -74.00714}</td>\n",
       "      <td></td>\n",
       "      <td>New York</td>\n",
       "      <td>NY</td>\n",
       "    </tr>\n",
       "    <tr>\n",
       "      <th>8092</th>\n",
       "      <td>[{'alias': 'bakeries', 'title': 'Bakeries'}]</td>\n",
       "      <td>6u5cnsN35mJz24HMQ9pfFw</td>\n",
       "      <td>2.0</td>\n",
       "      <td>2.0</td>\n",
       "      <td>15</td>\n",
       "      <td>[]</td>\n",
       "      <td>{'latitude': 40.605271, 'longitude': -74.149243}</td>\n",
       "      <td></td>\n",
       "      <td>Staten Island</td>\n",
       "      <td>NY</td>\n",
       "    </tr>\n",
       "    <tr>\n",
       "      <th>10283</th>\n",
       "      <td>[{'alias': 'foodstands', 'title': 'Food Stands'}]</td>\n",
       "      <td>BilbRcNQXKmcBFvLm4gxAQ</td>\n",
       "      <td>2.0</td>\n",
       "      <td>5.0</td>\n",
       "      <td>3</td>\n",
       "      <td>[]</td>\n",
       "      <td>{'latitude': 40.7488639529741, 'longitude': -7...</td>\n",
       "      <td></td>\n",
       "      <td>Queens</td>\n",
       "      <td>NY</td>\n",
       "    </tr>\n",
       "    <tr>\n",
       "      <th>10401</th>\n",
       "      <td>[{'alias': 'farmersmarket', 'title': 'Farmers ...</td>\n",
       "      <td>jZzbV6SRt9FXdCoziNv5xw</td>\n",
       "      <td>2.0</td>\n",
       "      <td>4.0</td>\n",
       "      <td>4</td>\n",
       "      <td>[]</td>\n",
       "      <td>{'latitude': 40.7454635299775, 'longitude': -7...</td>\n",
       "      <td></td>\n",
       "      <td>Queens</td>\n",
       "      <td>NY</td>\n",
       "    </tr>\n",
       "    <tr>\n",
       "      <th>11553</th>\n",
       "      <td>[{'alias': 'newamerican', 'title': 'American (...</td>\n",
       "      <td>9XXQ2w3DCFytsjjb3KmU7g</td>\n",
       "      <td>4.0</td>\n",
       "      <td>4.0</td>\n",
       "      <td>9</td>\n",
       "      <td>[]</td>\n",
       "      <td>{'latitude': 40.7547945055886, 'longitude': -7...</td>\n",
       "      <td></td>\n",
       "      <td>New York</td>\n",
       "      <td>NY</td>\n",
       "    </tr>\n",
       "  </tbody>\n",
       "</table>\n",
       "</div>"
      ],
      "text/plain": [
       "                                              categories  \\\n",
       "6940   [{'alias': 'cupcakes', 'title': 'Cupcakes'}, {...   \n",
       "8092        [{'alias': 'bakeries', 'title': 'Bakeries'}]   \n",
       "10283  [{'alias': 'foodstands', 'title': 'Food Stands'}]   \n",
       "10401  [{'alias': 'farmersmarket', 'title': 'Farmers ...   \n",
       "11553  [{'alias': 'newamerican', 'title': 'American (...   \n",
       "\n",
       "                           id  price  rating  review_count transactions  \\\n",
       "6940   ECY0sIYxPJio81dteqiMhg    2.0     4.5            16           []   \n",
       "8092   6u5cnsN35mJz24HMQ9pfFw    2.0     2.0            15           []   \n",
       "10283  BilbRcNQXKmcBFvLm4gxAQ    2.0     5.0             3           []   \n",
       "10401  jZzbV6SRt9FXdCoziNv5xw    2.0     4.0             4           []   \n",
       "11553  9XXQ2w3DCFytsjjb3KmU7g    4.0     4.0             9           []   \n",
       "\n",
       "                                             coordinates zip_code  \\\n",
       "6940      {'latitude': 40.71455, 'longitude': -74.00714}            \n",
       "8092    {'latitude': 40.605271, 'longitude': -74.149243}            \n",
       "10283  {'latitude': 40.7488639529741, 'longitude': -7...            \n",
       "10401  {'latitude': 40.7454635299775, 'longitude': -7...            \n",
       "11553  {'latitude': 40.7547945055886, 'longitude': -7...            \n",
       "\n",
       "                city state  \n",
       "6940        New York    NY  \n",
       "8092   Staten Island    NY  \n",
       "10283         Queens    NY  \n",
       "10401         Queens    NY  \n",
       "11553       New York    NY  "
      ]
     },
     "execution_count": 15,
     "metadata": {},
     "output_type": "execute_result"
    }
   ],
   "source": [
    "df_yelp[df_yelp['zip_code'] == \"\"]"
   ]
  },
  {
   "cell_type": "markdown",
   "metadata": {},
   "source": [
    "All of these locations were found using Google Maps; their zip codes were are input manually"
   ]
  },
  {
   "cell_type": "code",
   "execution_count": 16,
   "metadata": {},
   "outputs": [],
   "source": [
    "df_yelp.loc[df_yelp[\"id\"] == \"ECY0sIYxPJio81dteqiMhg\",\"zip_code\"] = \"10007\"\n",
    "df_yelp.loc[df_yelp[\"id\"] == \"6u5cnsN35mJz24HMQ9pfFw\",\"zip_code\"] = \"10314\"\n",
    "df_yelp.loc[df_yelp[\"id\"] == \"BilbRcNQXKmcBFvLm4gxAQ\",\"zip_code\"] = \"11372\"\n",
    "df_yelp.loc[df_yelp[\"id\"] == \"jZzbV6SRt9FXdCoziNv5xw\",\"zip_code\"] = \"11373\"\n",
    "df_yelp.loc[df_yelp[\"id\"] == \"9XXQ2w3DCFytsjjb3KmU7g\",\"zip_code\"] = \"10017\""
   ]
  },
  {
   "cell_type": "markdown",
   "metadata": {},
   "source": [
    "### Remove by NYC zip\n",
    "We used the range of zip codes designated for NYC - [source](https://www.nycbynatives.com/nyc_info/new_york_city_zip_codes.php)"
   ]
  },
  {
   "cell_type": "code",
   "execution_count": 17,
   "metadata": {},
   "outputs": [],
   "source": [
    "min_zip = 10001\n",
    "max_zip = 11697\n",
    "\n",
    "df_yelp['zip_code'] = df_yelp['zip_code'].astype(int)"
   ]
  },
  {
   "cell_type": "code",
   "execution_count": 18,
   "metadata": {},
   "outputs": [],
   "source": [
    "df_yelp = df_yelp[(df_yelp['zip_code'] >= min_zip) & (df_yelp['zip_code'] <= max_zip)]"
   ]
  },
  {
   "cell_type": "markdown",
   "metadata": {},
   "source": [
    "### Removing low frequency businesses\n",
    "\n",
    "In order to ensure a stable model, we're only going to consider businesses in our data with a moderate frequency of 15. This number is arbitrary, but considered a decent representation in data science. "
   ]
  },
  {
   "cell_type": "code",
   "execution_count": 19,
   "metadata": {},
   "outputs": [],
   "source": [
    "freq_treshold = 15\n",
    "zip_counts = df_yelp[\"zip_code\"].value_counts()\n",
    "low_count_zip_counts = zip_counts[zip_counts < freq_treshold].index\n",
    "high_count_zip_counts = zip_counts[zip_counts >= freq_treshold].index"
   ]
  },
  {
   "cell_type": "code",
   "execution_count": 20,
   "metadata": {},
   "outputs": [],
   "source": [
    "df_yelp = df_yelp[[zip_code in high_count_zip_counts for zip_code in df_yelp[\"zip_code\"]]]"
   ]
  },
  {
   "cell_type": "markdown",
   "metadata": {},
   "source": [
    "### Parsing Coordinates"
   ]
  },
  {
   "cell_type": "code",
   "execution_count": 21,
   "metadata": {},
   "outputs": [],
   "source": [
    "coordinates = \"coordinates\"\n",
    "coord_keys = [\"latitude\", \"longitude\"]\n",
    "lat_and_long = df_yelp[coordinates].map(lambda string: get_keys_from_sting_dict(string, coord_keys))\n",
    "\n",
    "for key in coord_keys:\n",
    "    df_yelp[key] = [pair[key] for pair in lat_and_long]\n",
    "\n",
    "df_yelp.drop(columns=[coordinates], inplace = True)"
   ]
  },
  {
   "cell_type": "code",
   "execution_count": 22,
   "metadata": {},
   "outputs": [
    {
     "data": {
      "text/html": [
       "<div>\n",
       "<style scoped>\n",
       "    .dataframe tbody tr th:only-of-type {\n",
       "        vertical-align: middle;\n",
       "    }\n",
       "\n",
       "    .dataframe tbody tr th {\n",
       "        vertical-align: top;\n",
       "    }\n",
       "\n",
       "    .dataframe thead th {\n",
       "        text-align: right;\n",
       "    }\n",
       "</style>\n",
       "<table border=\"1\" class=\"dataframe\">\n",
       "  <thead>\n",
       "    <tr style=\"text-align: right;\">\n",
       "      <th></th>\n",
       "      <th>latitude</th>\n",
       "      <th>longitude</th>\n",
       "    </tr>\n",
       "  </thead>\n",
       "  <tbody>\n",
       "    <tr>\n",
       "      <th>count</th>\n",
       "      <td>9984.000000</td>\n",
       "      <td>9984.000000</td>\n",
       "    </tr>\n",
       "    <tr>\n",
       "      <th>mean</th>\n",
       "      <td>40.731624</td>\n",
       "      <td>-73.913482</td>\n",
       "    </tr>\n",
       "    <tr>\n",
       "      <th>std</th>\n",
       "      <td>0.078977</td>\n",
       "      <td>2.094313</td>\n",
       "    </tr>\n",
       "    <tr>\n",
       "      <th>min</th>\n",
       "      <td>40.508927</td>\n",
       "      <td>-74.251140</td>\n",
       "    </tr>\n",
       "    <tr>\n",
       "      <th>25%</th>\n",
       "      <td>40.683437</td>\n",
       "      <td>-73.988638</td>\n",
       "    </tr>\n",
       "    <tr>\n",
       "      <th>50%</th>\n",
       "      <td>40.740916</td>\n",
       "      <td>-73.959225</td>\n",
       "    </tr>\n",
       "    <tr>\n",
       "      <th>75%</th>\n",
       "      <td>40.765870</td>\n",
       "      <td>-73.886826</td>\n",
       "    </tr>\n",
       "    <tr>\n",
       "      <th>max</th>\n",
       "      <td>41.004690</td>\n",
       "      <td>74.000792</td>\n",
       "    </tr>\n",
       "  </tbody>\n",
       "</table>\n",
       "</div>"
      ],
      "text/plain": [
       "          latitude    longitude\n",
       "count  9984.000000  9984.000000\n",
       "mean     40.731624   -73.913482\n",
       "std       0.078977     2.094313\n",
       "min      40.508927   -74.251140\n",
       "25%      40.683437   -73.988638\n",
       "50%      40.740916   -73.959225\n",
       "75%      40.765870   -73.886826\n",
       "max      41.004690    74.000792"
      ]
     },
     "execution_count": 22,
     "metadata": {},
     "output_type": "execute_result"
    }
   ],
   "source": [
    "df_yelp[coord_keys].describe()"
   ]
  },
  {
   "cell_type": "markdown",
   "metadata": {},
   "source": [
    "Looking at the latitude and longitude, we see some points that do not appear to be in the New York City area, around 40.7 and -73.9, respectively."
   ]
  },
  {
   "cell_type": "markdown",
   "metadata": {},
   "source": [
    "#### Wrong latitude"
   ]
  },
  {
   "cell_type": "code",
   "execution_count": 23,
   "metadata": {},
   "outputs": [
    {
     "data": {
      "text/html": [
       "<div>\n",
       "<style scoped>\n",
       "    .dataframe tbody tr th:only-of-type {\n",
       "        vertical-align: middle;\n",
       "    }\n",
       "\n",
       "    .dataframe tbody tr th {\n",
       "        vertical-align: top;\n",
       "    }\n",
       "\n",
       "    .dataframe thead th {\n",
       "        text-align: right;\n",
       "    }\n",
       "</style>\n",
       "<table border=\"1\" class=\"dataframe\">\n",
       "  <thead>\n",
       "    <tr style=\"text-align: right;\">\n",
       "      <th></th>\n",
       "      <th>categories</th>\n",
       "      <th>id</th>\n",
       "      <th>price</th>\n",
       "      <th>rating</th>\n",
       "      <th>review_count</th>\n",
       "      <th>transactions</th>\n",
       "      <th>zip_code</th>\n",
       "      <th>city</th>\n",
       "      <th>state</th>\n",
       "      <th>latitude</th>\n",
       "      <th>longitude</th>\n",
       "    </tr>\n",
       "  </thead>\n",
       "  <tbody>\n",
       "    <tr>\n",
       "      <th>3224</th>\n",
       "      <td>[{'alias': 'tradamerican', 'title': 'American ...</td>\n",
       "      <td>_pe4POL8iJPohFqPvWehIg</td>\n",
       "      <td>2.0</td>\n",
       "      <td>4.0</td>\n",
       "      <td>857</td>\n",
       "      <td>[]</td>\n",
       "      <td>10583</td>\n",
       "      <td>Scarsdale</td>\n",
       "      <td>NY</td>\n",
       "      <td>41.00469</td>\n",
       "      <td>-73.81312</td>\n",
       "    </tr>\n",
       "  </tbody>\n",
       "</table>\n",
       "</div>"
      ],
      "text/plain": [
       "                                             categories  \\\n",
       "3224  [{'alias': 'tradamerican', 'title': 'American ...   \n",
       "\n",
       "                          id  price  rating  review_count transactions  \\\n",
       "3224  _pe4POL8iJPohFqPvWehIg    2.0     4.0           857           []   \n",
       "\n",
       "      zip_code       city state  latitude  longitude  \n",
       "3224     10583  Scarsdale    NY  41.00469  -73.81312  "
      ]
     },
     "execution_count": 23,
     "metadata": {},
     "output_type": "execute_result"
    }
   ],
   "source": [
    "df_yelp[(df_yelp[\"latitude\"] > 41) | (df_yelp[\"latitude\"] < 40)]"
   ]
  },
  {
   "cell_type": "markdown",
   "metadata": {},
   "source": [
    "This data point is from Scarsdale NY, which is not within the city limits. This data point will be dropped."
   ]
  },
  {
   "cell_type": "code",
   "execution_count": 24,
   "metadata": {},
   "outputs": [],
   "source": [
    "df_yelp = df_yelp[(df_yelp[\"latitude\"] <= 41) & (df_yelp[\"latitude\"] >= 40)]"
   ]
  },
  {
   "cell_type": "markdown",
   "metadata": {},
   "source": [
    "#### Wrong longitude"
   ]
  },
  {
   "cell_type": "code",
   "execution_count": 25,
   "metadata": {},
   "outputs": [
    {
     "data": {
      "text/html": [
       "<div>\n",
       "<style scoped>\n",
       "    .dataframe tbody tr th:only-of-type {\n",
       "        vertical-align: middle;\n",
       "    }\n",
       "\n",
       "    .dataframe tbody tr th {\n",
       "        vertical-align: top;\n",
       "    }\n",
       "\n",
       "    .dataframe thead th {\n",
       "        text-align: right;\n",
       "    }\n",
       "</style>\n",
       "<table border=\"1\" class=\"dataframe\">\n",
       "  <thead>\n",
       "    <tr style=\"text-align: right;\">\n",
       "      <th></th>\n",
       "      <th>categories</th>\n",
       "      <th>id</th>\n",
       "      <th>price</th>\n",
       "      <th>rating</th>\n",
       "      <th>review_count</th>\n",
       "      <th>transactions</th>\n",
       "      <th>zip_code</th>\n",
       "      <th>city</th>\n",
       "      <th>state</th>\n",
       "      <th>latitude</th>\n",
       "      <th>longitude</th>\n",
       "    </tr>\n",
       "  </thead>\n",
       "  <tbody>\n",
       "    <tr>\n",
       "      <th>3306</th>\n",
       "      <td>[{'alias': 'pizza', 'title': 'Pizza'}]</td>\n",
       "      <td>S2mqyVGw817y9GTHxYRPjw</td>\n",
       "      <td>1.0</td>\n",
       "      <td>4.0</td>\n",
       "      <td>58</td>\n",
       "      <td>[]</td>\n",
       "      <td>10472</td>\n",
       "      <td>Bronx</td>\n",
       "      <td>NY</td>\n",
       "      <td>40.830034</td>\n",
       "      <td>73.850772</td>\n",
       "    </tr>\n",
       "    <tr>\n",
       "      <th>8560</th>\n",
       "      <td>[{'alias': 'icecream', 'title': 'Ice Cream &amp; F...</td>\n",
       "      <td>dF02U8Yhxnm66Np4Adgovg</td>\n",
       "      <td>2.0</td>\n",
       "      <td>4.0</td>\n",
       "      <td>290</td>\n",
       "      <td>[]</td>\n",
       "      <td>10012</td>\n",
       "      <td>New York</td>\n",
       "      <td>NY</td>\n",
       "      <td>40.723884</td>\n",
       "      <td>74.000792</td>\n",
       "    </tr>\n",
       "  </tbody>\n",
       "</table>\n",
       "</div>"
      ],
      "text/plain": [
       "                                             categories  \\\n",
       "3306             [{'alias': 'pizza', 'title': 'Pizza'}]   \n",
       "8560  [{'alias': 'icecream', 'title': 'Ice Cream & F...   \n",
       "\n",
       "                          id  price  rating  review_count transactions  \\\n",
       "3306  S2mqyVGw817y9GTHxYRPjw    1.0     4.0            58           []   \n",
       "8560  dF02U8Yhxnm66Np4Adgovg    2.0     4.0           290           []   \n",
       "\n",
       "      zip_code      city state   latitude  longitude  \n",
       "3306     10472     Bronx    NY  40.830034  73.850772  \n",
       "8560     10012  New York    NY  40.723884  74.000792  "
      ]
     },
     "execution_count": 25,
     "metadata": {},
     "output_type": "execute_result"
    }
   ],
   "source": [
    "df_yelp[(df_yelp[\"longitude\"] > -72) | (df_yelp[\"longitude\"] < -75)]"
   ]
  },
  {
   "cell_type": "markdown",
   "metadata": {},
   "source": [
    "After looking up these businesses, it is clear they were given a positive longitude when they are actually supposed to be negative."
   ]
  },
  {
   "cell_type": "code",
   "execution_count": 26,
   "metadata": {},
   "outputs": [],
   "source": [
    "df_yelp.loc[(df_yelp[\"longitude\"] > -72) | (df_yelp[\"longitude\"] < -75),\"longitude\"] = np.negative(df_yelp[(df_yelp[\"longitude\"] > -72) | (df_yelp[\"longitude\"] < -75)][\"longitude\"])"
   ]
  },
  {
   "cell_type": "markdown",
   "metadata": {},
   "source": [
    "### Parsing categories\n",
    "\n",
    "The `categories` column is condensed as a dictionary. By selecting the `alias` and reassigning the column as a string of categories, this process prepares the column for later conversion into dummy variables."
   ]
  },
  {
   "cell_type": "code",
   "execution_count": 27,
   "metadata": {},
   "outputs": [],
   "source": [
    "def convert_string_dict_to_string(string, key):\n",
    "    return \",\".join([dic[key] for dic in literal_eval(string)])\n",
    "\n",
    "df_yelp[\"categories\"] = df_yelp[\"categories\"].map(lambda s: convert_string_dict_to_string(s,\"alias\"))"
   ]
  },
  {
   "cell_type": "markdown",
   "metadata": {},
   "source": [
    "### Parsing transactions\n",
    "\n",
    "Similarly, the `transactions` column is condensed as a list, which will also be parsed and prepped for later conversion into dummy variables."
   ]
  },
  {
   "cell_type": "code",
   "execution_count": 28,
   "metadata": {},
   "outputs": [],
   "source": [
    "def convert_string_list_to_string(string):\n",
    "    return \",\".join(literal_eval(string))\n",
    "\n",
    "df_yelp[\"transactions\"] = df_yelp[\"transactions\"].map(convert_string_list_to_string)"
   ]
  },
  {
   "cell_type": "code",
   "execution_count": 29,
   "metadata": {},
   "outputs": [
    {
     "data": {
      "text/plain": [
       "(9983, 11)"
      ]
     },
     "execution_count": 29,
     "metadata": {},
     "output_type": "execute_result"
    }
   ],
   "source": [
    "df_yelp.shape"
   ]
  },
  {
   "cell_type": "code",
   "execution_count": 30,
   "metadata": {},
   "outputs": [
    {
     "data": {
      "text/plain": [
       "0"
      ]
     },
     "execution_count": 30,
     "metadata": {},
     "output_type": "execute_result"
    }
   ],
   "source": [
    "df_yelp.isnull().sum().sum()"
   ]
  },
  {
   "cell_type": "markdown",
   "metadata": {},
   "source": [
    "There are no null values - this is a complete dataset"
   ]
  },
  {
   "cell_type": "markdown",
   "metadata": {},
   "source": [
    "### Cleaning IRS Dataset [Hadi]\n",
    "These data were collected directly from the IRS website ([source](https://www.irs.gov/statistics/soi-tax-stats-individual-income-tax-statistics-2016-zip-code-data-soi))"
   ]
  },
  {
   "cell_type": "code",
   "execution_count": 31,
   "metadata": {},
   "outputs": [],
   "source": [
    "df_irs = pd.read_csv('./data/irs.csv')"
   ]
  },
  {
   "cell_type": "code",
   "execution_count": 32,
   "metadata": {},
   "outputs": [
    {
     "data": {
      "text/html": [
       "<div>\n",
       "<style scoped>\n",
       "    .dataframe tbody tr th:only-of-type {\n",
       "        vertical-align: middle;\n",
       "    }\n",
       "\n",
       "    .dataframe tbody tr th {\n",
       "        vertical-align: top;\n",
       "    }\n",
       "\n",
       "    .dataframe thead th {\n",
       "        text-align: right;\n",
       "    }\n",
       "</style>\n",
       "<table border=\"1\" class=\"dataframe\">\n",
       "  <thead>\n",
       "    <tr style=\"text-align: right;\">\n",
       "      <th></th>\n",
       "      <th>ZIP\n",
       "code [1]</th>\n",
       "      <th>Size of adjusted gross income</th>\n",
       "      <th>Number of returns</th>\n",
       "      <th>Number of single returns</th>\n",
       "      <th>Number of joint returns</th>\n",
       "      <th>Number of head of household returns</th>\n",
       "      <th>Number with paid preparer's signature</th>\n",
       "      <th>Number of exemptions</th>\n",
       "      <th>Number of dependents</th>\n",
       "    </tr>\n",
       "  </thead>\n",
       "  <tbody>\n",
       "    <tr>\n",
       "      <th>10</th>\n",
       "      <td>10001</td>\n",
       "      <td>$25,000 under $50,000</td>\n",
       "      <td>2500</td>\n",
       "      <td>1850</td>\n",
       "      <td>240</td>\n",
       "      <td>340</td>\n",
       "      <td>1360</td>\n",
       "      <td>3390</td>\n",
       "      <td>690</td>\n",
       "    </tr>\n",
       "    <tr>\n",
       "      <th>11</th>\n",
       "      <td>10001</td>\n",
       "      <td>$50,000 under $75,000</td>\n",
       "      <td>1950</td>\n",
       "      <td>1540</td>\n",
       "      <td>190</td>\n",
       "      <td>160</td>\n",
       "      <td>1110</td>\n",
       "      <td>2440</td>\n",
       "      <td>310</td>\n",
       "    </tr>\n",
       "    <tr>\n",
       "      <th>12</th>\n",
       "      <td>10001</td>\n",
       "      <td>$75,000 under $100,000</td>\n",
       "      <td>1410</td>\n",
       "      <td>1120</td>\n",
       "      <td>170</td>\n",
       "      <td>80</td>\n",
       "      <td>820</td>\n",
       "      <td>1760</td>\n",
       "      <td>190</td>\n",
       "    </tr>\n",
       "    <tr>\n",
       "      <th>13</th>\n",
       "      <td>10001</td>\n",
       "      <td>$100,000 under $200,000</td>\n",
       "      <td>2580</td>\n",
       "      <td>1850</td>\n",
       "      <td>560</td>\n",
       "      <td>90</td>\n",
       "      <td>1540</td>\n",
       "      <td>3580</td>\n",
       "      <td>440</td>\n",
       "    </tr>\n",
       "    <tr>\n",
       "      <th>14</th>\n",
       "      <td>10001</td>\n",
       "      <td>$200,000 or more</td>\n",
       "      <td>2340</td>\n",
       "      <td>1200</td>\n",
       "      <td>1030</td>\n",
       "      <td>50</td>\n",
       "      <td>1760</td>\n",
       "      <td>4150</td>\n",
       "      <td>790</td>\n",
       "    </tr>\n",
       "    <tr>\n",
       "      <th>15</th>\n",
       "      <td>NaN</td>\n",
       "      <td>NaN</td>\n",
       "      <td>NaN</td>\n",
       "      <td>NaN</td>\n",
       "      <td>NaN</td>\n",
       "      <td>NaN</td>\n",
       "      <td>NaN</td>\n",
       "      <td>NaN</td>\n",
       "      <td>NaN</td>\n",
       "    </tr>\n",
       "    <tr>\n",
       "      <th>16</th>\n",
       "      <td>10002</td>\n",
       "      <td>NaN</td>\n",
       "      <td>42,180</td>\n",
       "      <td>25,270</td>\n",
       "      <td>10,500</td>\n",
       "      <td>5,630</td>\n",
       "      <td>28,170</td>\n",
       "      <td>68,970</td>\n",
       "      <td>17,490</td>\n",
       "    </tr>\n",
       "    <tr>\n",
       "      <th>17</th>\n",
       "      <td>10002</td>\n",
       "      <td>$1 under $25,000</td>\n",
       "      <td>21180</td>\n",
       "      <td>12550</td>\n",
       "      <td>5360</td>\n",
       "      <td>2950</td>\n",
       "      <td>15360</td>\n",
       "      <td>33920</td>\n",
       "      <td>8490</td>\n",
       "    </tr>\n",
       "    <tr>\n",
       "      <th>18</th>\n",
       "      <td>10002</td>\n",
       "      <td>$25,000 under $50,000</td>\n",
       "      <td>8210</td>\n",
       "      <td>4660</td>\n",
       "      <td>1900</td>\n",
       "      <td>1480</td>\n",
       "      <td>5150</td>\n",
       "      <td>14540</td>\n",
       "      <td>4480</td>\n",
       "    </tr>\n",
       "    <tr>\n",
       "      <th>19</th>\n",
       "      <td>10002</td>\n",
       "      <td>$50,000 under $75,000</td>\n",
       "      <td>4810</td>\n",
       "      <td>3300</td>\n",
       "      <td>730</td>\n",
       "      <td>670</td>\n",
       "      <td>2780</td>\n",
       "      <td>7120</td>\n",
       "      <td>1590</td>\n",
       "    </tr>\n",
       "  </tbody>\n",
       "</table>\n",
       "</div>"
      ],
      "text/plain": [
       "   ZIP\\ncode [1] Size of adjusted gross income Number of returns  \\\n",
       "10         10001         $25,000 under $50,000              2500   \n",
       "11         10001         $50,000 under $75,000              1950   \n",
       "12         10001        $75,000 under $100,000              1410   \n",
       "13         10001       $100,000 under $200,000              2580   \n",
       "14         10001              $200,000 or more              2340   \n",
       "15           NaN                           NaN               NaN   \n",
       "16         10002                           NaN            42,180   \n",
       "17         10002              $1 under $25,000             21180   \n",
       "18         10002         $25,000 under $50,000              8210   \n",
       "19         10002         $50,000 under $75,000              4810   \n",
       "\n",
       "   Number of single returns Number of joint returns  \\\n",
       "10                     1850                     240   \n",
       "11                     1540                     190   \n",
       "12                     1120                     170   \n",
       "13                     1850                     560   \n",
       "14                     1200                    1030   \n",
       "15                      NaN                     NaN   \n",
       "16                   25,270                  10,500   \n",
       "17                    12550                    5360   \n",
       "18                     4660                    1900   \n",
       "19                     3300                     730   \n",
       "\n",
       "   Number of head of household returns Number with paid preparer's signature  \\\n",
       "10                                 340                                  1360   \n",
       "11                                 160                                  1110   \n",
       "12                                  80                                   820   \n",
       "13                                  90                                  1540   \n",
       "14                                  50                                  1760   \n",
       "15                                 NaN                                   NaN   \n",
       "16                               5,630                                28,170   \n",
       "17                                2950                                 15360   \n",
       "18                                1480                                  5150   \n",
       "19                                 670                                  2780   \n",
       "\n",
       "   Number of exemptions Number of dependents  \n",
       "10                 3390                  690  \n",
       "11                 2440                  310  \n",
       "12                 1760                  190  \n",
       "13                 3580                  440  \n",
       "14                 4150                  790  \n",
       "15                  NaN                  NaN  \n",
       "16               68,970               17,490  \n",
       "17                33920                 8490  \n",
       "18                14540                 4480  \n",
       "19                 7120                 1590  "
      ]
     },
     "execution_count": 32,
     "metadata": {},
     "output_type": "execute_result"
    }
   ],
   "source": [
    "df_irs[10:20]"
   ]
  },
  {
   "cell_type": "code",
   "execution_count": 33,
   "metadata": {},
   "outputs": [],
   "source": [
    "yelp_zips = list(set(df_yelp['zip_code']))"
   ]
  },
  {
   "cell_type": "code",
   "execution_count": 34,
   "metadata": {},
   "outputs": [],
   "source": [
    "def clean_str_num(str_num):\n",
    "    '''Returns integer of input string with commas removed'''\n",
    "    return int(str_num.replace(',',''))"
   ]
  },
  {
   "cell_type": "code",
   "execution_count": 35,
   "metadata": {},
   "outputs": [],
   "source": [
    "affluency_rates = []\n",
    "found_zips = []\n",
    "missing_zips = []\n",
    "returns_col_name = 'Number of returns'\n",
    "\n",
    "for zip_code in yelp_zips:\n",
    "    try:\n",
    "        sub_df               = df_irs[df_irs.iloc[:,0] == str(zip_code)]\n",
    "        \n",
    "        affluent_irs_returns = clean_str_num(sub_df[returns_col_name].iloc[-1])\n",
    "        total_irs_returns    = clean_str_num(sub_df[returns_col_name].iloc[0])\n",
    "        affluent_rate        = affluent_irs_returns / total_irs_returns\n",
    "        \n",
    "        affluency_rates.append(affluent_rate)\n",
    "        found_zips.append(zip_code)\n",
    "    except Exception as e:\n",
    "        missing_zips.append(zip_code)\n",
    "        pass"
   ]
  },
  {
   "cell_type": "code",
   "execution_count": 36,
   "metadata": {},
   "outputs": [
    {
     "data": {
      "text/plain": [
       "8"
      ]
     },
     "execution_count": 36,
     "metadata": {},
     "output_type": "execute_result"
    }
   ],
   "source": [
    "len(missing_zips)"
   ]
  },
  {
   "cell_type": "markdown",
   "metadata": {},
   "source": [
    "There are 26 zip codes in the yelp data that were not found in the IRS dataset.  \n",
    "These associated datapoint will be dropped, as they have not target value."
   ]
  },
  {
   "cell_type": "code",
   "execution_count": 37,
   "metadata": {},
   "outputs": [
    {
     "data": {
      "text/html": [
       "<div>\n",
       "<style scoped>\n",
       "    .dataframe tbody tr th:only-of-type {\n",
       "        vertical-align: middle;\n",
       "    }\n",
       "\n",
       "    .dataframe tbody tr th {\n",
       "        vertical-align: top;\n",
       "    }\n",
       "\n",
       "    .dataframe thead th {\n",
       "        text-align: right;\n",
       "    }\n",
       "</style>\n",
       "<table border=\"1\" class=\"dataframe\">\n",
       "  <thead>\n",
       "    <tr style=\"text-align: right;\">\n",
       "      <th></th>\n",
       "      <th>zip_code</th>\n",
       "      <th>affluency_rate</th>\n",
       "    </tr>\n",
       "  </thead>\n",
       "  <tbody>\n",
       "    <tr>\n",
       "      <th>0</th>\n",
       "      <td>10801</td>\n",
       "      <td>0.052004</td>\n",
       "    </tr>\n",
       "    <tr>\n",
       "      <th>1</th>\n",
       "      <td>10803</td>\n",
       "      <td>0.300000</td>\n",
       "    </tr>\n",
       "    <tr>\n",
       "      <th>2</th>\n",
       "      <td>10301</td>\n",
       "      <td>0.047013</td>\n",
       "    </tr>\n",
       "    <tr>\n",
       "      <th>3</th>\n",
       "      <td>10302</td>\n",
       "      <td>0.018564</td>\n",
       "    </tr>\n",
       "    <tr>\n",
       "      <th>4</th>\n",
       "      <td>10304</td>\n",
       "      <td>0.045132</td>\n",
       "    </tr>\n",
       "  </tbody>\n",
       "</table>\n",
       "</div>"
      ],
      "text/plain": [
       "   zip_code  affluency_rate\n",
       "0     10801        0.052004\n",
       "1     10803        0.300000\n",
       "2     10301        0.047013\n",
       "3     10302        0.018564\n",
       "4     10304        0.045132"
      ]
     },
     "execution_count": 37,
     "metadata": {},
     "output_type": "execute_result"
    }
   ],
   "source": [
    "affluency_df = pd.DataFrame(data = {\"zip_code\": found_zips, \"affluency_rate\":affluency_rates})\n",
    "affluency_df.head()"
   ]
  },
  {
   "cell_type": "markdown",
   "metadata": {},
   "source": [
    "### Merging Yelp and IRS dataset\n",
    "Merging the yelp dataset with the IRS dataset will drop those observations with missing zip codes."
   ]
  },
  {
   "cell_type": "code",
   "execution_count": 38,
   "metadata": {},
   "outputs": [],
   "source": [
    "df = pd.merge(df_yelp, affluency_df, on = \"zip_code\")"
   ]
  },
  {
   "cell_type": "code",
   "execution_count": 39,
   "metadata": {},
   "outputs": [
    {
     "data": {
      "text/plain": [
       "(9809, 12)"
      ]
     },
     "execution_count": 39,
     "metadata": {},
     "output_type": "execute_result"
    }
   ],
   "source": [
    "df.shape"
   ]
  },
  {
   "cell_type": "markdown",
   "metadata": {},
   "source": [
    "### Changing Data Type"
   ]
  },
  {
   "cell_type": "code",
   "execution_count": 40,
   "metadata": {},
   "outputs": [
    {
     "data": {
      "text/plain": [
       "categories         object\n",
       "id                 object\n",
       "price             float64\n",
       "rating            float64\n",
       "review_count        int64\n",
       "transactions       object\n",
       "zip_code            int32\n",
       "city               object\n",
       "state              object\n",
       "latitude          float64\n",
       "longitude         float64\n",
       "affluency_rate    float64\n",
       "dtype: object"
      ]
     },
     "execution_count": 40,
     "metadata": {},
     "output_type": "execute_result"
    }
   ],
   "source": [
    "df.dtypes"
   ]
  },
  {
   "cell_type": "code",
   "execution_count": 41,
   "metadata": {},
   "outputs": [],
   "source": [
    "convert_to_int = [\"review_count\",\"rating\"]\n",
    "df[convert_to_int] = df[convert_to_int].astype(int)"
   ]
  },
  {
   "cell_type": "code",
   "execution_count": 42,
   "metadata": {},
   "outputs": [
    {
     "data": {
      "text/html": [
       "<div>\n",
       "<style scoped>\n",
       "    .dataframe tbody tr th:only-of-type {\n",
       "        vertical-align: middle;\n",
       "    }\n",
       "\n",
       "    .dataframe tbody tr th {\n",
       "        vertical-align: top;\n",
       "    }\n",
       "\n",
       "    .dataframe thead th {\n",
       "        text-align: right;\n",
       "    }\n",
       "</style>\n",
       "<table border=\"1\" class=\"dataframe\">\n",
       "  <thead>\n",
       "    <tr style=\"text-align: right;\">\n",
       "      <th></th>\n",
       "      <th>categories</th>\n",
       "      <th>id</th>\n",
       "      <th>price</th>\n",
       "      <th>rating</th>\n",
       "      <th>review_count</th>\n",
       "      <th>transactions</th>\n",
       "      <th>zip_code</th>\n",
       "      <th>city</th>\n",
       "      <th>state</th>\n",
       "      <th>latitude</th>\n",
       "      <th>longitude</th>\n",
       "      <th>affluency_rate</th>\n",
       "    </tr>\n",
       "  </thead>\n",
       "  <tbody>\n",
       "    <tr>\n",
       "      <th>0</th>\n",
       "      <td>southern,tradamerican,bars</td>\n",
       "      <td>GA5msU6NO9rQRctPfDJCBg</td>\n",
       "      <td>2.0</td>\n",
       "      <td>4</td>\n",
       "      <td>1082</td>\n",
       "      <td>pickup,delivery</td>\n",
       "      <td>11216</td>\n",
       "      <td>Brooklyn</td>\n",
       "      <td>NY</td>\n",
       "      <td>40.683370</td>\n",
       "      <td>-73.94378</td>\n",
       "      <td>0.022398</td>\n",
       "    </tr>\n",
       "    <tr>\n",
       "      <th>1</th>\n",
       "      <td>gastropubs,tradamerican</td>\n",
       "      <td>KkAtVVjnMfb1vGlcpzmhgw</td>\n",
       "      <td>2.0</td>\n",
       "      <td>4</td>\n",
       "      <td>303</td>\n",
       "      <td>pickup,delivery</td>\n",
       "      <td>11216</td>\n",
       "      <td>Brooklyn</td>\n",
       "      <td>NY</td>\n",
       "      <td>40.677866</td>\n",
       "      <td>-73.95000</td>\n",
       "      <td>0.022398</td>\n",
       "    </tr>\n",
       "  </tbody>\n",
       "</table>\n",
       "</div>"
      ],
      "text/plain": [
       "                   categories                      id  price  rating  \\\n",
       "0  southern,tradamerican,bars  GA5msU6NO9rQRctPfDJCBg    2.0       4   \n",
       "1     gastropubs,tradamerican  KkAtVVjnMfb1vGlcpzmhgw    2.0       4   \n",
       "\n",
       "   review_count     transactions  zip_code      city state   latitude  \\\n",
       "0          1082  pickup,delivery     11216  Brooklyn    NY  40.683370   \n",
       "1           303  pickup,delivery     11216  Brooklyn    NY  40.677866   \n",
       "\n",
       "   longitude  affluency_rate  \n",
       "0  -73.94378        0.022398  \n",
       "1  -73.95000        0.022398  "
      ]
     },
     "execution_count": 42,
     "metadata": {},
     "output_type": "execute_result"
    }
   ],
   "source": [
    "df.head(2)"
   ]
  },
  {
   "cell_type": "code",
   "execution_count": 43,
   "metadata": {},
   "outputs": [
    {
     "data": {
      "text/plain": [
       "0"
      ]
     },
     "execution_count": 43,
     "metadata": {},
     "output_type": "execute_result"
    }
   ],
   "source": [
    "df.isnull().sum().sum()"
   ]
  },
  {
   "cell_type": "code",
   "execution_count": 44,
   "metadata": {},
   "outputs": [
    {
     "data": {
      "text/plain": [
       "(9809, 12)"
      ]
     },
     "execution_count": 44,
     "metadata": {},
     "output_type": "execute_result"
    }
   ],
   "source": [
    "df.shape"
   ]
  },
  {
   "cell_type": "markdown",
   "metadata": {},
   "source": [
    "We are left with 9809 complete data points"
   ]
  },
  {
   "cell_type": "markdown",
   "metadata": {},
   "source": [
    "## Feature Engineering\n",
    "- [All]"
   ]
  },
  {
   "cell_type": "markdown",
   "metadata": {},
   "source": [
    "### Interaction term: price\\*rating\n",
    "This interaction term represents a scoring value that allows for relative comparisons between businesses with varying levels of price and rating.\n",
    "\n",
    "For example: a restaurant with 4 stars and \"\\\\$\" price is not as impressive as a restaurant with 4 stars and \"\\\\$\\\\$\\\\$\\\\$\" price. "
   ]
  },
  {
   "cell_type": "code",
   "execution_count": 45,
   "metadata": {},
   "outputs": [],
   "source": [
    "df[\"price*rating\"] = df[\"price\"] * df[\"rating\"]"
   ]
  },
  {
   "cell_type": "markdown",
   "metadata": {},
   "source": [
    "### The `ListColumnExpander` class\n",
    "\n",
    "- [Mahdi] Explain a bit about how this works and why you made it"
   ]
  },
  {
   "cell_type": "markdown",
   "metadata": {},
   "source": [
    "### Creating Dummy Variables"
   ]
  },
  {
   "cell_type": "code",
   "execution_count": 46,
   "metadata": {},
   "outputs": [
    {
     "data": {
      "text/html": [
       "<div>\n",
       "<style scoped>\n",
       "    .dataframe tbody tr th:only-of-type {\n",
       "        vertical-align: middle;\n",
       "    }\n",
       "\n",
       "    .dataframe tbody tr th {\n",
       "        vertical-align: top;\n",
       "    }\n",
       "\n",
       "    .dataframe thead th {\n",
       "        text-align: right;\n",
       "    }\n",
       "</style>\n",
       "<table border=\"1\" class=\"dataframe\">\n",
       "  <thead>\n",
       "    <tr style=\"text-align: right;\">\n",
       "      <th></th>\n",
       "      <th>id</th>\n",
       "      <th>price</th>\n",
       "      <th>rating</th>\n",
       "      <th>review_count</th>\n",
       "      <th>zip_code</th>\n",
       "      <th>city</th>\n",
       "      <th>state</th>\n",
       "      <th>latitude</th>\n",
       "      <th>longitude</th>\n",
       "      <th>affluency_rate</th>\n",
       "      <th>...</th>\n",
       "      <th>categories_comedyclubs</th>\n",
       "      <th>categories_bubbletea</th>\n",
       "      <th>categories_boating</th>\n",
       "      <th>categories_virtualrealitycenters</th>\n",
       "      <th>categories_srilankan</th>\n",
       "      <th>categories_partyequipmentrentals</th>\n",
       "      <th>transactions_</th>\n",
       "      <th>transactions_restaurant_reservation</th>\n",
       "      <th>transactions_delivery</th>\n",
       "      <th>transactions_pickup</th>\n",
       "    </tr>\n",
       "  </thead>\n",
       "  <tbody>\n",
       "    <tr>\n",
       "      <th>0</th>\n",
       "      <td>GA5msU6NO9rQRctPfDJCBg</td>\n",
       "      <td>2.0</td>\n",
       "      <td>4</td>\n",
       "      <td>1082</td>\n",
       "      <td>11216</td>\n",
       "      <td>Brooklyn</td>\n",
       "      <td>NY</td>\n",
       "      <td>40.683370</td>\n",
       "      <td>-73.94378</td>\n",
       "      <td>0.022398</td>\n",
       "      <td>...</td>\n",
       "      <td>0.0</td>\n",
       "      <td>0.0</td>\n",
       "      <td>0.0</td>\n",
       "      <td>0.0</td>\n",
       "      <td>0.0</td>\n",
       "      <td>0.0</td>\n",
       "      <td>1.0</td>\n",
       "      <td>0.0</td>\n",
       "      <td>1.0</td>\n",
       "      <td>1.0</td>\n",
       "    </tr>\n",
       "    <tr>\n",
       "      <th>1</th>\n",
       "      <td>KkAtVVjnMfb1vGlcpzmhgw</td>\n",
       "      <td>2.0</td>\n",
       "      <td>4</td>\n",
       "      <td>303</td>\n",
       "      <td>11216</td>\n",
       "      <td>Brooklyn</td>\n",
       "      <td>NY</td>\n",
       "      <td>40.677866</td>\n",
       "      <td>-73.95000</td>\n",
       "      <td>0.022398</td>\n",
       "      <td>...</td>\n",
       "      <td>0.0</td>\n",
       "      <td>0.0</td>\n",
       "      <td>0.0</td>\n",
       "      <td>0.0</td>\n",
       "      <td>0.0</td>\n",
       "      <td>0.0</td>\n",
       "      <td>1.0</td>\n",
       "      <td>0.0</td>\n",
       "      <td>1.0</td>\n",
       "      <td>1.0</td>\n",
       "    </tr>\n",
       "  </tbody>\n",
       "</table>\n",
       "<p>2 rows × 297 columns</p>\n",
       "</div>"
      ],
      "text/plain": [
       "                       id  price  rating  review_count  zip_code      city  \\\n",
       "0  GA5msU6NO9rQRctPfDJCBg    2.0       4          1082     11216  Brooklyn   \n",
       "1  KkAtVVjnMfb1vGlcpzmhgw    2.0       4           303     11216  Brooklyn   \n",
       "\n",
       "  state   latitude  longitude  affluency_rate  ...  categories_comedyclubs  \\\n",
       "0    NY  40.683370  -73.94378        0.022398  ...                     0.0   \n",
       "1    NY  40.677866  -73.95000        0.022398  ...                     0.0   \n",
       "\n",
       "   categories_bubbletea  categories_boating  categories_virtualrealitycenters  \\\n",
       "0                   0.0                 0.0                               0.0   \n",
       "1                   0.0                 0.0                               0.0   \n",
       "\n",
       "   categories_srilankan  categories_partyequipmentrentals  transactions_  \\\n",
       "0                   0.0                               0.0            1.0   \n",
       "1                   0.0                               0.0            1.0   \n",
       "\n",
       "   transactions_restaurant_reservation  transactions_delivery  \\\n",
       "0                                  0.0                    1.0   \n",
       "1                                  0.0                    1.0   \n",
       "\n",
       "   transactions_pickup  \n",
       "0                  1.0  \n",
       "1                  1.0  \n",
       "\n",
       "[2 rows x 297 columns]"
      ]
     },
     "execution_count": 46,
     "metadata": {},
     "output_type": "execute_result"
    }
   ],
   "source": [
    "expansion_columns = [\"categories\",\"transactions\"]\n",
    "lce = columnExpander.ListColumnExpander(expansion_columns)\n",
    "\n",
    "dummy_df = pd.DataFrame(lce.fit_transform(df).toarray(), columns=lce.get_feature_names())\n",
    "\n",
    "complete_df = pd.concat([df.drop(columns = expansion_columns), dummy_df], axis=1)\n",
    "complete_df.head(2)"
   ]
  },
  {
   "cell_type": "markdown",
   "metadata": {},
   "source": [
    "### Setting Affluency Threshold\n",
    "Affluency = when a zip code has 15% of its population file and IRS return of $$200k or more"
   ]
  },
  {
   "cell_type": "code",
   "execution_count": 47,
   "metadata": {},
   "outputs": [],
   "source": [
    "affluency_thresh = .15"
   ]
  },
  {
   "cell_type": "code",
   "execution_count": 48,
   "metadata": {},
   "outputs": [
    {
     "data": {
      "text/plain": [
       "0    0.704557\n",
       "1    0.295443\n",
       "Name: is_affluent, dtype: float64"
      ]
     },
     "execution_count": 48,
     "metadata": {},
     "output_type": "execute_result"
    }
   ],
   "source": [
    "complete_df[\"is_affluent\"] = (complete_df[\"affluency_rate\"] >= affluency_thresh).astype(int)\n",
    "complete_df[\"is_affluent\"].value_counts(normalize = True)"
   ]
  },
  {
   "cell_type": "markdown",
   "metadata": {},
   "source": [
    "About 30% of all reported IRS returns in New York City count as being affluent, according to our definition.\n",
    "\n",
    "This leads our data to be somewhat unbalanced, which we need to keep in mind when evaluating our models."
   ]
  },
  {
   "cell_type": "markdown",
   "metadata": {},
   "source": [
    "### Reducing Latitude and Longitude into clusters\n",
    "We decided to reduce the latitude and longitude variables into a single column using $K$-means clustering as a way of representing more local neighborhoods.\n",
    "\n",
    "An optimum $k$ will be determined using the model's silhouette score."
   ]
  },
  {
   "cell_type": "code",
   "execution_count": 49,
   "metadata": {},
   "outputs": [],
   "source": [
    "def get_kmean_sil_score(data, k, random_state):\n",
    "    return silhouette_score(data,KMeans(n_clusters = k, n_jobs = -1, random_state = random_state).fit(data).labels_)"
   ]
  },
  {
   "cell_type": "code",
   "execution_count": 50,
   "metadata": {},
   "outputs": [],
   "source": [
    "#Setting up K-means scree plot\n",
    "max_k = 14\n",
    "\n",
    "lat_long_df = StandardScaler().fit_transform(complete_df[[\"latitude\",\"longitude\"]]) # not 100% necessary to scale\n",
    "scores = []\n",
    "best_k = {\"k\":0,\"score\":0}\n",
    "all_k  = range(2, max_k + 1)\n",
    "best_km = None\n",
    "for k in all_k:\n",
    "    score = get_kmean_sil_score(lat_long_df, k, random_state)\n",
    "    scores.append(score)\n",
    "    if score > best_k[\"score\"]:\n",
    "        best_k[\"score\"] = score\n",
    "        best_k[\"k\"] = k"
   ]
  },
  {
   "cell_type": "code",
   "execution_count": 51,
   "metadata": {},
   "outputs": [
    {
     "data": {
      "image/png": "[encoded data removed]",
      "text/plain": [
       "<Figure size 432x288 with 1 Axes>"
      ]
     },
     "metadata": {
      "needs_background": "light"
     },
     "output_type": "display_data"
    }
   ],
   "source": [
    "plt.title(\"Scree plot of lat/long $k$-means\")\n",
    "sns.scatterplot(all_k, scores)\n",
    "plt.plot(best_k[\"k\"],best_k[\"score\"], \"ro\")\n",
    "plt.text(best_k[\"k\"] + .5 ,best_k[\"score\"], \"k = {}\\nscore = {:.2%}\".format(best_k['k'],best_k['score']));"
   ]
  },
  {
   "cell_type": "markdown",
   "metadata": {},
   "source": [
    "According to the silhouette score, an optimum number of clusters for longitude and latitude occur is 9."
   ]
  },
  {
   "cell_type": "code",
   "execution_count": 52,
   "metadata": {},
   "outputs": [],
   "source": [
    "km = KMeans(n_clusters= best_k[\"k\"], random_state = random_state)\n",
    "km.fit(lat_long_df)\n",
    "complete_df[\"location_cluster\"] = km.labels_"
   ]
  },
  {
   "cell_type": "markdown",
   "metadata": {},
   "source": [
    "### Creating \"Incomplete\" Dataset\n",
    "As a proof of concept and practical use-case, we're interested in allowing a user to input a NYC zip code and quickly know the affluency of the area. This would allow emergency responders to quickly assess which areas are in the most need. This application is explained in more detail in the [Data Query](#Data-Query) section.\n",
    "\n",
    "Having an incomplete dataset (which includes observations without affluency) allows us to pass the pertinent information about a zip code through our model to make a prediction for the affluency of the area."
   ]
  },
  {
   "cell_type": "code",
   "execution_count": 60,
   "metadata": {},
   "outputs": [],
   "source": [
    "temp_incomplete_df = pd.merge(df_yelp, affluency_df, on = \"zip_code\", how = 'outer')\n",
    "temp_incomplete_df[convert_to_int] = temp_incomplete_df[convert_to_int].astype(int)\n",
    "temp_incomplete_df[\"price*rating\"] = temp_incomplete_df[\"price\"] * temp_incomplete_df[\"rating\"]\n",
    "temp_incomplete_df[\"is_affluent\"] = (temp_incomplete_df[\"affluency_rate\"] >= affluency_thresh).astype(int)\n",
    "\n",
    "dummy_incomplete_df = pd.DataFrame(lce.transform(temp_incomplete_df).toarray(), columns=lce.get_feature_names())\n",
    "\n",
    "incomplete_df = pd.concat([temp_incomplete_df.drop(columns = expansion_columns), dummy_incomplete_df], axis=1)\n",
    "\n",
    "incomplete_df[\"location_cluster\"] = km.predict(incomplete_df[[\"latitude\",\"longitude\"]])"
   ]
  },
  {
   "cell_type": "markdown",
   "metadata": {},
   "source": [
    "## Exploratory Data Analysis\n",
    "- [Mahdi] and [Hadi] killer graphs and visuals"
   ]
  },
  {
   "cell_type": "code",
   "execution_count": null,
   "metadata": {},
   "outputs": [],
   "source": [
    "# SET THRESHOLD FOR NUMBER OF OBSERVATIONS TO SHRINK IMAGE\n",
    "order_of_cities = complete_df.groupby(\"city\")[\"affluency_rate\"].mean().sort_values().index"
   ]
  },
  {
   "cell_type": "code",
   "execution_count": null,
   "metadata": {},
   "outputs": [],
   "source": [
    "plt.figure(figsize = (6,28))\n",
    "sns.boxplot(data = complete_df, y = \"city\", x = \"affluency_rate\", orient=\"h\", order=order_of_cities);"
   ]
  },
  {
   "cell_type": "markdown",
   "metadata": {},
   "source": [
    "Here, we see some correlation between `city` and the affluency rate of the city. \n",
    "\n",
    "However, using subject knowledge we know _these city designations are inconsistent and ambiguous_. For example, \"New York\" and \"New York City\" and \"Manhattan\" and \"new york\" and \"New york\" could be considered synonymous.\n",
    "\n",
    "__Therefore we will not be includeing `city` in our modeling process.__"
   ]
  },
  {
   "cell_type": "markdown",
   "metadata": {},
   "source": [
    "# ===========\n",
    "# MESSY BELOW HERE"
   ]
  },
  {
   "cell_type": "markdown",
   "metadata": {},
   "source": [
    "### Visualizing location clusters"
   ]
  },
  {
   "cell_type": "code",
   "execution_count": 185,
   "metadata": {},
   "outputs": [],
   "source": [
    "order_of_clusters = complete_df.groupby(\"location_cluster\")[\"affluency_rate\"].mean().sort_values().index\n",
    "\n",
    "colors = np.array(['#e6194b', '#3cb44b', '#F7B32B', '#4363d8', '#f58231', '#911eb4', '#bcf60c', '#F45866','#46f0f0', '#f032e6'])\n",
    "\n",
    "neighborhoods = [\"Bronx\", \"Upper Bkln\", \"Astoria\", \"Staten Island\", \"Upper Mhtn\", \"Lower Bkln\", \"Lower Mhtn\", \"Jamaica\", \"Flushing\", \"New Rochelle\\n&\\nYonkers\"]"
   ]
  },
  {
   "cell_type": "code",
   "execution_count": 186,
   "metadata": {},
   "outputs": [
    {
     "data": {
      "image/png": "[encoded data removed]",
      "text/plain": [
       "<Figure size 1008x576 with 1 Axes>"
      ]
     },
     "metadata": {
      "needs_background": "light"
     },
     "output_type": "display_data"
    }
   ],
   "source": [
    "plt.figure(figsize = (14,8))\n",
    "g = sns.boxplot(\n",
    "    data = complete_df, \n",
    "    x = \"location_cluster\", \n",
    "    y = \"affluency_rate\", \n",
    "    order = order_of_clusters,\n",
    "    palette = colors[order_of_clusters],\n",
    ");\n",
    "\n",
    "g.set(xticklabels = np.array(neighborhoods)[order_of_clusters]);"
   ]
  },
  {
   "cell_type": "markdown",
   "metadata": {},
   "source": [
    "### Visualizing "
   ]
  },
  {
   "cell_type": "markdown",
   "metadata": {},
   "source": [
    "Visualizing affluency by location"
   ]
  },
  {
   "cell_type": "code",
   "execution_count": 168,
   "metadata": {},
   "outputs": [],
   "source": [
    "# Prepping geograph\n",
    "lat    = complete_df['latitude'].values\n",
    "lon    = complete_df['longitude'].values\n",
    "price  = complete_df['price'].values\n",
    "rating = complete_df['rating'].values\n",
    "\n",
    "padding = .05\n",
    "lat_diff = complete_df[\"latitude\"].max() - complete_df[\"latitude\"].min()\n",
    "lat_pad = (lat_diff) * padding\n",
    "\n",
    "lon_diff = complete_df[\"longitude\"].max() - complete_df[\"longitude\"].min()\n",
    "lon_pad = (lon_diff) * padding\n",
    "\n",
    "scale = 10"
   ]
  },
  {
   "cell_type": "code",
   "execution_count": 188,
   "metadata": {
    "scrolled": true
   },
   "outputs": [
    {
     "data": {
      "image/png": "[encoded data removed]",
      "text/plain": [
       "<Figure size 380.779x352.397 with 1 Axes>"
      ]
     },
     "metadata": {},
     "output_type": "display_data"
    }
   ],
   "source": [
    "from mpl_toolkits.basemap import Basemap\n",
    "\n",
    "# https://matplotlib.org/basemap/api/basemap_api.html\n",
    "# https://matplotlib.org/basemap/users/geography.html\n",
    "# https://basemaptutorial.readthedocs.io/en/latest/backgrounds.html#arcgisimage\n",
    "plt.figure(figsize=(lon_diff * scale, lat_diff * scale))\n",
    "m = Basemap(\n",
    "    resolution = None, \n",
    "    llcrnrlat = complete_df[\"latitude\"].min() - lat_pad,\n",
    "    llcrnrlon = complete_df[\"longitude\"].min() - lon_pad,\n",
    "    urcrnrlat = complete_df[\"latitude\"].max() + lat_pad,\n",
    "    urcrnrlon = complete_df[\"longitude\"].max() + lat_pad,\n",
    "    epsg = 3395\n",
    ")\n",
    "m.arcgisimage(service =\"World_Shaded_Relief\", xpixels = 2000)\n",
    "m.scatter(lon, lat, latlon=True, \n",
    "    s = 1,\n",
    "    c = colors[complete_df[\"location_cluster\"]]\n",
    ");\n",
    "\n",
    "# ADD COLOR BARS"
   ]
  },
  {
   "cell_type": "code",
   "execution_count": null,
   "metadata": {
    "scrolled": true
   },
   "outputs": [],
   "source": [
    "from mpl_toolkits.basemap import Basemap\n",
    "\n",
    "# https://matplotlib.org/basemap/api/basemap_api.html\n",
    "# https://matplotlib.org/basemap/users/geography.html\n",
    "# https://basemaptutorial.readthedocs.io/en/latest/backgrounds.html#arcgisimage\n",
    "plt.figure(figsize=(lon_diff * scale, lat_diff * scale))\n",
    "m = Basemap(\n",
    "    resolution = None, \n",
    "    llcrnrlat = complete_df[\"latitude\"].min() - lat_pad,\n",
    "    llcrnrlon = complete_df[\"longitude\"].min() - lon_pad,\n",
    "    urcrnrlat = complete_df[\"latitude\"].max() + lat_pad,\n",
    "    urcrnrlon = complete_df[\"longitude\"].max() + lat_pad,\n",
    "    epsg = 3395\n",
    ")\n",
    "\n",
    "\n",
    "m.arcgisimage(service =\"World_Shaded_Relief\", xpixels = 2000)\n",
    "m.scatter(lon, lat, latlon=True, \n",
    "    s = 1,\n",
    "    cmap ='cool', \n",
    "    c = complete_df[\"affluency_rate\"]\n",
    ");\n",
    "\n",
    "# Add colorbar"
   ]
  },
  {
   "cell_type": "markdown",
   "metadata": {},
   "source": [
    "# MESSY ABOVE HERE\n",
    "# ==========="
   ]
  },
  {
   "cell_type": "markdown",
   "metadata": {},
   "source": [
    "## Saving/Loading Clean data"
   ]
  },
  {
   "cell_type": "markdown",
   "metadata": {},
   "source": [
    "#### Saving cleaned datasets"
   ]
  },
  {
   "cell_type": "code",
   "execution_count": 80,
   "metadata": {
    "scrolled": true
   },
   "outputs": [],
   "source": [
    "# complete_df.to_csv(\"./data/clean_data.csv\")\n",
    "# incomplete_df.to_csv(\"./data/clean_incomplete_data.csv\")"
   ]
  },
  {
   "cell_type": "markdown",
   "metadata": {},
   "source": [
    "#### Loading cleaned datasets"
   ]
  },
  {
   "cell_type": "code",
   "execution_count": 91,
   "metadata": {},
   "outputs": [],
   "source": [
    "import time\n",
    "import pandas as pd\n",
    "import matplotlib.pyplot as plt\n",
    "import seaborn as sns\n",
    "import numpy as np\n",
    "import columnExpander\n",
    "from ast import literal_eval\n",
    "import numpy as np\n",
    "import pandas as pd\n",
    "import matplotlib.pyplot as plt\n",
    "\n",
    "from sklearn.model_selection import train_test_split, GridSearchCV\n",
    "from sklearn.metrics import confusion_matrix, f1_score, make_scorer\n",
    "from sklearn.preprocessing import StandardScaler\n",
    "from sklearn.pipeline import Pipeline\n",
    "from sklearn.cluster import KMeans\n",
    "from sklearn.linear_model import LogisticRegression\n",
    "from sklearn.neighbors import KNeighborsClassifier\n",
    "from sklearn.naive_bayes import MultinomialNB\n",
    "from sklearn.tree import DecisionTreeClassifier\n",
    "from sklearn.ensemble import BaggingClassifier, RandomForestClassifier, ExtraTreesClassifier\n",
    "from sklearn.svm import SVC\n",
    "import xgboost as xgb\n",
    "\n",
    "import warnings\n",
    "warnings.filterwarnings(\"ignore\")"
   ]
  },
  {
   "cell_type": "code",
   "execution_count": 92,
   "metadata": {},
   "outputs": [],
   "source": [
    "complete_df = pd.read_csv(\"./data/clean_data.csv\", index_col = 0)\n",
    "incomplete_df = pd.read_csv(\"./data/clean_incomplete_data.csv\", index_col = 0)"
   ]
  },
  {
   "cell_type": "code",
   "execution_count": 93,
   "metadata": {},
   "outputs": [
    {
     "data": {
      "text/html": [
       "<div>\n",
       "<style scoped>\n",
       "    .dataframe tbody tr th:only-of-type {\n",
       "        vertical-align: middle;\n",
       "    }\n",
       "\n",
       "    .dataframe tbody tr th {\n",
       "        vertical-align: top;\n",
       "    }\n",
       "\n",
       "    .dataframe thead th {\n",
       "        text-align: right;\n",
       "    }\n",
       "</style>\n",
       "<table border=\"1\" class=\"dataframe\">\n",
       "  <thead>\n",
       "    <tr style=\"text-align: right;\">\n",
       "      <th></th>\n",
       "      <th>id</th>\n",
       "      <th>price</th>\n",
       "      <th>rating</th>\n",
       "      <th>review_count</th>\n",
       "      <th>zip_code</th>\n",
       "      <th>city</th>\n",
       "      <th>state</th>\n",
       "      <th>latitude</th>\n",
       "      <th>longitude</th>\n",
       "      <th>affluency_rate</th>\n",
       "      <th>...</th>\n",
       "      <th>categories_thai</th>\n",
       "      <th>categories_artmuseums</th>\n",
       "      <th>categories_tobaccoshops</th>\n",
       "      <th>categories_internetcafe</th>\n",
       "      <th>transactions_</th>\n",
       "      <th>transactions_pickup</th>\n",
       "      <th>transactions_restaurant_reservation</th>\n",
       "      <th>transactions_delivery</th>\n",
       "      <th>is_affluent</th>\n",
       "      <th>location_cluster</th>\n",
       "    </tr>\n",
       "  </thead>\n",
       "  <tbody>\n",
       "    <tr>\n",
       "      <th>0</th>\n",
       "      <td>GA5msU6NO9rQRctPfDJCBg</td>\n",
       "      <td>2.0</td>\n",
       "      <td>4</td>\n",
       "      <td>1082</td>\n",
       "      <td>11216</td>\n",
       "      <td>Brooklyn</td>\n",
       "      <td>NY</td>\n",
       "      <td>40.683370</td>\n",
       "      <td>-73.943780</td>\n",
       "      <td>0.022398</td>\n",
       "      <td>...</td>\n",
       "      <td>0.0</td>\n",
       "      <td>0.0</td>\n",
       "      <td>0.0</td>\n",
       "      <td>0.0</td>\n",
       "      <td>1.0</td>\n",
       "      <td>1.0</td>\n",
       "      <td>0.0</td>\n",
       "      <td>1.0</td>\n",
       "      <td>0</td>\n",
       "      <td>1</td>\n",
       "    </tr>\n",
       "    <tr>\n",
       "      <th>1</th>\n",
       "      <td>KkAtVVjnMfb1vGlcpzmhgw</td>\n",
       "      <td>2.0</td>\n",
       "      <td>4</td>\n",
       "      <td>303</td>\n",
       "      <td>11216</td>\n",
       "      <td>Brooklyn</td>\n",
       "      <td>NY</td>\n",
       "      <td>40.677866</td>\n",
       "      <td>-73.950000</td>\n",
       "      <td>0.022398</td>\n",
       "      <td>...</td>\n",
       "      <td>0.0</td>\n",
       "      <td>0.0</td>\n",
       "      <td>0.0</td>\n",
       "      <td>0.0</td>\n",
       "      <td>1.0</td>\n",
       "      <td>1.0</td>\n",
       "      <td>0.0</td>\n",
       "      <td>1.0</td>\n",
       "      <td>0</td>\n",
       "      <td>1</td>\n",
       "    </tr>\n",
       "    <tr>\n",
       "      <th>2</th>\n",
       "      <td>34LM8_lP8iwizHBu6YgaQQ</td>\n",
       "      <td>2.0</td>\n",
       "      <td>4</td>\n",
       "      <td>200</td>\n",
       "      <td>11216</td>\n",
       "      <td>Brooklyn</td>\n",
       "      <td>NY</td>\n",
       "      <td>40.680160</td>\n",
       "      <td>-73.941975</td>\n",
       "      <td>0.022398</td>\n",
       "      <td>...</td>\n",
       "      <td>0.0</td>\n",
       "      <td>0.0</td>\n",
       "      <td>0.0</td>\n",
       "      <td>0.0</td>\n",
       "      <td>1.0</td>\n",
       "      <td>1.0</td>\n",
       "      <td>0.0</td>\n",
       "      <td>1.0</td>\n",
       "      <td>0</td>\n",
       "      <td>1</td>\n",
       "    </tr>\n",
       "    <tr>\n",
       "      <th>3</th>\n",
       "      <td>ipmOYDh9snm3ZUv546MACQ</td>\n",
       "      <td>1.0</td>\n",
       "      <td>4</td>\n",
       "      <td>178</td>\n",
       "      <td>11216</td>\n",
       "      <td>Crown Heights</td>\n",
       "      <td>NY</td>\n",
       "      <td>40.672984</td>\n",
       "      <td>-73.950312</td>\n",
       "      <td>0.022398</td>\n",
       "      <td>...</td>\n",
       "      <td>0.0</td>\n",
       "      <td>0.0</td>\n",
       "      <td>0.0</td>\n",
       "      <td>0.0</td>\n",
       "      <td>1.0</td>\n",
       "      <td>1.0</td>\n",
       "      <td>0.0</td>\n",
       "      <td>1.0</td>\n",
       "      <td>0</td>\n",
       "      <td>1</td>\n",
       "    </tr>\n",
       "    <tr>\n",
       "      <th>4</th>\n",
       "      <td>Dv28TvKBh_8i6W02uAaMKw</td>\n",
       "      <td>2.0</td>\n",
       "      <td>4</td>\n",
       "      <td>140</td>\n",
       "      <td>11216</td>\n",
       "      <td>Bedford-Stuyvesant</td>\n",
       "      <td>NY</td>\n",
       "      <td>40.689756</td>\n",
       "      <td>-73.951087</td>\n",
       "      <td>0.022398</td>\n",
       "      <td>...</td>\n",
       "      <td>0.0</td>\n",
       "      <td>0.0</td>\n",
       "      <td>0.0</td>\n",
       "      <td>0.0</td>\n",
       "      <td>1.0</td>\n",
       "      <td>1.0</td>\n",
       "      <td>0.0</td>\n",
       "      <td>0.0</td>\n",
       "      <td>0</td>\n",
       "      <td>1</td>\n",
       "    </tr>\n",
       "  </tbody>\n",
       "</table>\n",
       "<p>5 rows × 298 columns</p>\n",
       "</div>"
      ],
      "text/plain": [
       "                       id  price  rating  review_count  zip_code  \\\n",
       "0  GA5msU6NO9rQRctPfDJCBg    2.0       4          1082     11216   \n",
       "1  KkAtVVjnMfb1vGlcpzmhgw    2.0       4           303     11216   \n",
       "2  34LM8_lP8iwizHBu6YgaQQ    2.0       4           200     11216   \n",
       "3  ipmOYDh9snm3ZUv546MACQ    1.0       4           178     11216   \n",
       "4  Dv28TvKBh_8i6W02uAaMKw    2.0       4           140     11216   \n",
       "\n",
       "                 city state   latitude  longitude  affluency_rate  ...  \\\n",
       "0            Brooklyn    NY  40.683370 -73.943780        0.022398  ...   \n",
       "1            Brooklyn    NY  40.677866 -73.950000        0.022398  ...   \n",
       "2            Brooklyn    NY  40.680160 -73.941975        0.022398  ...   \n",
       "3       Crown Heights    NY  40.672984 -73.950312        0.022398  ...   \n",
       "4  Bedford-Stuyvesant    NY  40.689756 -73.951087        0.022398  ...   \n",
       "\n",
       "   categories_thai  categories_artmuseums  categories_tobaccoshops  \\\n",
       "0              0.0                    0.0                      0.0   \n",
       "1              0.0                    0.0                      0.0   \n",
       "2              0.0                    0.0                      0.0   \n",
       "3              0.0                    0.0                      0.0   \n",
       "4              0.0                    0.0                      0.0   \n",
       "\n",
       "   categories_internetcafe  transactions_  transactions_pickup  \\\n",
       "0                      0.0            1.0                  1.0   \n",
       "1                      0.0            1.0                  1.0   \n",
       "2                      0.0            1.0                  1.0   \n",
       "3                      0.0            1.0                  1.0   \n",
       "4                      0.0            1.0                  1.0   \n",
       "\n",
       "   transactions_restaurant_reservation  transactions_delivery  is_affluent  \\\n",
       "0                                  0.0                    1.0            0   \n",
       "1                                  0.0                    1.0            0   \n",
       "2                                  0.0                    1.0            0   \n",
       "3                                  0.0                    1.0            0   \n",
       "4                                  0.0                    0.0            0   \n",
       "\n",
       "   location_cluster  \n",
       "0                 1  \n",
       "1                 1  \n",
       "2                 1  \n",
       "3                 1  \n",
       "4                 1  \n",
       "\n",
       "[5 rows x 298 columns]"
      ]
     },
     "execution_count": 93,
     "metadata": {},
     "output_type": "execute_result"
    }
   ],
   "source": [
    "complete_df.head()"
   ]
  },
  {
   "cell_type": "markdown",
   "metadata": {},
   "source": [
    "## Modeling: Two Paths\n",
    "With almost 300 features, we were interested in finding an optimal model to determine how significant Yelp prices are in predicting affluency in an area******* (This is different from affluency of individual business)\n",
    "\n",
    "We considered feature elimination as well as extraction, and decided on splitting the difference. We tried fitting models without altering the data, [PATH 1](#PATH-1:-Default-dataset), as well as trying to fit models with a reduced dataset, [PATH 2](#PATH-2:-Feature-Reduction)."
   ]
  },
  {
   "cell_type": "markdown",
   "metadata": {},
   "source": [
    "### Establishing baseline model"
   ]
  },
  {
   "cell_type": "code",
   "execution_count": 94,
   "metadata": {},
   "outputs": [
    {
     "data": {
      "text/plain": [
       "0    0.704557\n",
       "1    0.295443\n",
       "Name: is_affluent, dtype: float64"
      ]
     },
     "execution_count": 94,
     "metadata": {},
     "output_type": "execute_result"
    }
   ],
   "source": [
    "complete_df[\"is_affluent\"].value_counts(normalize = True)"
   ]
  },
  {
   "cell_type": "markdown",
   "metadata": {},
   "source": [
    "The baseline accuracy for the data is about 71.7% being not affluent.\n",
    "\n",
    "**** Being mindful of our metric - accuracy not what we're using"
   ]
  },
  {
   "cell_type": "markdown",
   "metadata": {},
   "source": [
    "### Defining scorer object"
   ]
  },
  {
   "cell_type": "markdown",
   "metadata": {},
   "source": [
    "In order to have GridSearchCV properly optimize for our metric, we have to create a sklearn scorer object and provide it as the `scorer` argument."
   ]
  },
  {
   "cell_type": "code",
   "execution_count": 95,
   "metadata": {},
   "outputs": [],
   "source": [
    "def spec(y_true,y_pred):\n",
    "    TN, FP, FN, TP = confusion_matrix(y_true,y_pred).ravel()\n",
    "    specificity = (TN)/(TN+FP)\n",
    "    return specificity\n",
    "\n",
    "specificity_scorer = make_scorer(spec)"
   ]
  },
  {
   "cell_type": "markdown",
   "metadata": {},
   "source": [
    "## PATH 1: Default dataset\n",
    "### Model Preparation"
   ]
  },
  {
   "cell_type": "code",
   "execution_count": 96,
   "metadata": {},
   "outputs": [],
   "source": [
    "remove_columns = [\n",
    "    'id',\n",
    "    'zip_code',\n",
    "    'city',\n",
    "    'state',\n",
    "    'latitude',\n",
    "    'longitude',\n",
    "    'affluency_rate',\n",
    "    'transactions_'\n",
    "]\n",
    "target = 'is_affluent'"
   ]
  },
  {
   "cell_type": "code",
   "execution_count": 97,
   "metadata": {},
   "outputs": [],
   "source": [
    "X = complete_df.drop(columns=remove_columns+[target])\n",
    "y = complete_df[target]"
   ]
  },
  {
   "cell_type": "code",
   "execution_count": 98,
   "metadata": {},
   "outputs": [
    {
     "data": {
      "text/plain": [
       "(9809, 289)"
      ]
     },
     "execution_count": 98,
     "metadata": {},
     "output_type": "execute_result"
    }
   ],
   "source": [
    "X.shape"
   ]
  },
  {
   "cell_type": "markdown",
   "metadata": {},
   "source": [
    "### Custom `gridSearchHelper` function\n",
    "This function simply includes some \"quality of life\" functionality to help streamline the modeling process, such as printing the training score, test, score and and confusion matrix."
   ]
  },
  {
   "cell_type": "code",
   "execution_count": 99,
   "metadata": {},
   "outputs": [],
   "source": [
    "def gridSearchHelper(estimator, params, X, y, standardize = False):\n",
    "    X_train, X_test, y_train, y_test = train_test_split(X, y, random_state = random_state, stratify = y)\n",
    "\n",
    "    if standardize:\n",
    "        sc      = StandardScaler()\n",
    "        X_train = sc.fit_transform(X_train)\n",
    "        X_test  = sc.transform(X_test)\n",
    "\n",
    "    gs = GridSearchCV(estimator, params, cv = 5, n_jobs=-1, scoring = specificity_scorer)\n",
    "    gs.fit(X_train, y_train)\n",
    "    print(\"Train score:\", gs.best_score_)\n",
    "    print(\"Test score:\", gs.score(X_test, y_test))\n",
    "    print(\"Confusion Matris:\\n\", confusion_matrix(y_test, gs.predict(X_test)))\n",
    "    return gs"
   ]
  },
  {
   "cell_type": "markdown",
   "metadata": {},
   "source": [
    "### Logistic Model"
   ]
  },
  {
   "cell_type": "code",
   "execution_count": 100,
   "metadata": {},
   "outputs": [
    {
     "name": "stdout",
     "output_type": "stream",
     "text": [
      "Train score: 0.9071984105121795\n",
      "Test score: 0.9045138888888888\n",
      "Confusion Matris:\n",
      " [[1563  165]\n",
      " [ 427  298]]\n"
     ]
    }
   ],
   "source": [
    "lr_params = {'C': [1.023292992280754],\n",
    "          'penalty': ['l2']}\n",
    "\n",
    "gridSearchHelper(LogisticRegression(), lr_params, X, y);"
   ]
  },
  {
   "cell_type": "markdown",
   "metadata": {},
   "source": [
    "- [Eddie] Please comment after each model your observations/opinion. Whenever possible give rational as to why you want to try the next model."
   ]
  },
  {
   "cell_type": "markdown",
   "metadata": {},
   "source": [
    "### K-Nearest Neighbors"
   ]
  },
  {
   "cell_type": "code",
   "execution_count": 102,
   "metadata": {},
   "outputs": [
    {
     "name": "stdout",
     "output_type": "stream",
     "text": [
      "Train score: 0.8923405665635653\n",
      "Test score: 0.8819444444444444\n",
      "Confusion Matris:\n",
      " [[1524  204]\n",
      " [ 474  251]]\n"
     ]
    }
   ],
   "source": [
    "knn_params = {'n_neighbors': [11],\n",
    "              'algorithm': ['ball_tree']}\n",
    "\n",
    "gridSearchHelper(\n",
    "    KNeighborsClassifier(),\n",
    "    knn_params, \n",
    "    X, y, \n",
    "    standardize = True # Must standardize for KNN\n",
    ");"
   ]
  },
  {
   "cell_type": "markdown",
   "metadata": {},
   "source": [
    "- {Eddie's comments}"
   ]
  },
  {
   "cell_type": "markdown",
   "metadata": {},
   "source": [
    "### Decision Tree"
   ]
  },
  {
   "cell_type": "code",
   "execution_count": 129,
   "metadata": {},
   "outputs": [
    {
     "name": "stdout",
     "output_type": "stream",
     "text": [
      "Train score: 0.9257190834045027\n",
      "Test score: 0.921875\n",
      "Confusion Matris:\n",
      " [[1593  135]\n",
      " [ 209  516]]\n"
     ]
    }
   ],
   "source": [
    "dt_params = {'max_depth': [3],\n",
    "             'min_samples_split': [2],\n",
    "             'min_samples_leaf': [1],\n",
    "             'max_features': [ None]}\n",
    "\n",
    "gs_dt = gridSearchHelper(\n",
    "    DecisionTreeClassifier(random_state = random_state), \n",
    "    dt_params, \n",
    "    X, y\n",
    ");"
   ]
  },
  {
   "cell_type": "markdown",
   "metadata": {},
   "source": [
    "- {Eddie's comments}"
   ]
  },
  {
   "cell_type": "markdown",
   "metadata": {},
   "source": [
    "### Bagging"
   ]
  },
  {
   "cell_type": "code",
   "execution_count": 113,
   "metadata": {},
   "outputs": [
    {
     "name": "stdout",
     "output_type": "stream",
     "text": [
      "Train score: 0.9830212501338034\n",
      "Test score: 0.984375\n",
      "Confusion Matris:\n",
      " [[1701   27]\n",
      " [ 624  101]]\n"
     ]
    }
   ],
   "source": [
    "bc_params = {'n_estimators': [30],\n",
    "             'max_features': [50]}\n",
    "\n",
    "gridSearchHelper(\n",
    "    BaggingClassifier(random_state = random_state), \n",
    "    bc_params, \n",
    "    X, y\n",
    ");"
   ]
  },
  {
   "cell_type": "markdown",
   "metadata": {},
   "source": [
    "- {Eddie's comments}"
   ]
  },
  {
   "cell_type": "markdown",
   "metadata": {},
   "source": [
    "### XGBoost"
   ]
  },
  {
   "cell_type": "code",
   "execution_count": 114,
   "metadata": {},
   "outputs": [
    {
     "name": "stdout",
     "output_type": "stream",
     "text": [
      "Train score: 0.9299643993202948\n",
      "Test score: 0.921875\n",
      "Confusion Matris:\n",
      " [[1593  135]\n",
      " [ 209  516]]\n"
     ]
    }
   ],
   "source": [
    "boost_params = {'booster': ['gbtree'],\n",
    "             'max_depth': [3],\n",
    "             'learning_rate': [.01]}\n",
    "\n",
    "gridSearchHelper(\n",
    "    xgb.XGBClassifier(random_state = random_state), \n",
    "    boost_params, \n",
    "    X, y\n",
    ");"
   ]
  },
  {
   "cell_type": "markdown",
   "metadata": {},
   "source": [
    "- {Eddie's comments}"
   ]
  },
  {
   "cell_type": "code",
   "execution_count": null,
   "metadata": {},
   "outputs": [],
   "source": []
  },
  {
   "cell_type": "code",
   "execution_count": null,
   "metadata": {},
   "outputs": [],
   "source": []
  },
  {
   "cell_type": "code",
   "execution_count": null,
   "metadata": {},
   "outputs": [],
   "source": []
  },
  {
   "cell_type": "markdown",
   "metadata": {},
   "source": [
    "## PATH 2: Feature Reduction\n",
    "### Model Preparation"
   ]
  },
  {
   "cell_type": "markdown",
   "metadata": {},
   "source": [
    "## Model Selection\n",
    "- [Hadi] Exploring models\n",
    "- [Eddie] Exploring models\n",
    "\n",
    "Maybe split on which models you 2 want to try out\n",
    "\n",
    "We are focusing on reducing false positives as much as possible, so our metric is specificity."
   ]
  },
  {
   "cell_type": "markdown",
   "metadata": {},
   "source": [
    "## Model Evaluation\n",
    "- [Mahdi] killer graphs and visuals"
   ]
  },
  {
   "cell_type": "markdown",
   "metadata": {},
   "source": [
    "use `interact`  \n",
    "to make predictive zip code affluency function"
   ]
  },
  {
   "cell_type": "markdown",
   "metadata": {},
   "source": [
    "## Data Query\n",
    "\n",
    "Defining a query where we input the zip code and it returns a dataframe with the associated affluency.\n",
    "\n",
    "- [Eddie] Include more description and use-case example. This is a powerful tool, play it up more!"
   ]
  },
  {
   "cell_type": "code",
   "execution_count": 130,
   "metadata": {},
   "outputs": [],
   "source": [
    "def query(postal_code):\n",
    "    if incomplete_df[incomplete_df['zip_code'] == postal_code]['affluency_rate'].isnull().sum() == 0:\n",
    "        return pd.DataFrame({'zip_code': postal_code, 'affluency_rate': incomplete_df[incomplete_df['zip_code'] == postal_code]['affluency_rate'].iloc[0]}, index = range(1))\n",
    "    else:\n",
    "        X = incomplete_df[incomplete_df['zip_code'] == postal_code].drop(columns = ['id',\n",
    "                                                                            'zip_code',\n",
    "                                                                            'city',\n",
    "                                                                            'state',\n",
    "                                                                            'latitude',\n",
    "                                                                            'longitude',\n",
    "                                                                            'affluency_rate',\n",
    "                                                                            'transactions_'])\n",
    "        y_pred = gs_dt.predict(X)\n",
    "        return pd.DataFrame({'zip_code': postal_code, 'affluency_rate': y_pred.mean()}, index= range(1))"
   ]
  },
  {
   "cell_type": "code",
   "execution_count": 116,
   "metadata": {},
   "outputs": [
    {
     "data": {
      "text/html": [
       "<div>\n",
       "<style scoped>\n",
       "    .dataframe tbody tr th:only-of-type {\n",
       "        vertical-align: middle;\n",
       "    }\n",
       "\n",
       "    .dataframe tbody tr th {\n",
       "        vertical-align: top;\n",
       "    }\n",
       "\n",
       "    .dataframe thead th {\n",
       "        text-align: right;\n",
       "    }\n",
       "</style>\n",
       "<table border=\"1\" class=\"dataframe\">\n",
       "  <thead>\n",
       "    <tr style=\"text-align: right;\">\n",
       "      <th></th>\n",
       "      <th>zip_code</th>\n",
       "      <th>affluency_rate</th>\n",
       "    </tr>\n",
       "  </thead>\n",
       "  <tbody>\n",
       "    <tr>\n",
       "      <th>0</th>\n",
       "      <td>10001</td>\n",
       "      <td>0.161157</td>\n",
       "    </tr>\n",
       "  </tbody>\n",
       "</table>\n",
       "</div>"
      ],
      "text/plain": [
       "   zip_code  affluency_rate\n",
       "0     10001        0.161157"
      ]
     },
     "execution_count": 116,
     "metadata": {},
     "output_type": "execute_result"
    }
   ],
   "source": [
    "query(10001) # zip code with known affluency rate"
   ]
  },
  {
   "cell_type": "code",
   "execution_count": 135,
   "metadata": {},
   "outputs": [
    {
     "name": "stdout",
     "output_type": "stream",
     "text": [
      "Missing zips: [11249 11239 10020 10169 10281 10455 10459 11430]\n"
     ]
    }
   ],
   "source": [
    "print(\"Missing zips:\",incomplete_df[\"zip_code\"][incomplete_df.affluency_rate.isnull()].unique())"
   ]
  },
  {
   "cell_type": "code",
   "execution_count": 136,
   "metadata": {},
   "outputs": [
    {
     "ename": "ValueError",
     "evalue": "Number of features of the model must match the input. Model n_features is 289 and input n_features is 290 ",
     "output_type": "error",
     "traceback": [
      "\u001b[1;31m---------------------------------------------------------------------------\u001b[0m",
      "\u001b[1;31mValueError\u001b[0m                                Traceback (most recent call last)",
      "\u001b[1;32m<ipython-input-136-491abcc26e15>\u001b[0m in \u001b[0;36m<module>\u001b[1;34m\u001b[0m\n\u001b[1;32m----> 1\u001b[1;33m \u001b[0mquery\u001b[0m\u001b[1;33m(\u001b[0m\u001b[1;36m11249\u001b[0m\u001b[1;33m)\u001b[0m\u001b[1;33m\u001b[0m\u001b[1;33m\u001b[0m\u001b[0m\n\u001b[0m",
      "\u001b[1;32m<ipython-input-130-503e6d914806>\u001b[0m in \u001b[0;36mquery\u001b[1;34m(postal_code)\u001b[0m\n\u001b[0;32m     11\u001b[0m                                                                             \u001b[1;34m'affluency_rate'\u001b[0m\u001b[1;33m,\u001b[0m\u001b[1;33m\u001b[0m\u001b[1;33m\u001b[0m\u001b[0m\n\u001b[0;32m     12\u001b[0m                                                                             'transactions_'])\n\u001b[1;32m---> 13\u001b[1;33m         \u001b[0my_pred\u001b[0m \u001b[1;33m=\u001b[0m \u001b[0mgs_dt\u001b[0m\u001b[1;33m.\u001b[0m\u001b[0mpredict\u001b[0m\u001b[1;33m(\u001b[0m\u001b[0mX\u001b[0m\u001b[1;33m)\u001b[0m\u001b[1;33m\u001b[0m\u001b[1;33m\u001b[0m\u001b[0m\n\u001b[0m\u001b[0;32m     14\u001b[0m         \u001b[1;32mreturn\u001b[0m \u001b[0mpd\u001b[0m\u001b[1;33m.\u001b[0m\u001b[0mDataFrame\u001b[0m\u001b[1;33m(\u001b[0m\u001b[1;33m{\u001b[0m\u001b[1;34m'zip_code'\u001b[0m\u001b[1;33m:\u001b[0m \u001b[0mpostal_code\u001b[0m\u001b[1;33m,\u001b[0m \u001b[1;34m'affluency_rate'\u001b[0m\u001b[1;33m:\u001b[0m \u001b[0my_pred\u001b[0m\u001b[1;33m.\u001b[0m\u001b[0mmean\u001b[0m\u001b[1;33m(\u001b[0m\u001b[1;33m)\u001b[0m\u001b[1;33m}\u001b[0m\u001b[1;33m,\u001b[0m \u001b[0mindex\u001b[0m\u001b[1;33m=\u001b[0m \u001b[0mrange\u001b[0m\u001b[1;33m(\u001b[0m\u001b[1;36m1\u001b[0m\u001b[1;33m)\u001b[0m\u001b[1;33m)\u001b[0m\u001b[1;33m\u001b[0m\u001b[1;33m\u001b[0m\u001b[0m\n",
      "\u001b[1;32m~\\Anaconda3\\lib\\site-packages\\sklearn\\utils\\metaestimators.py\u001b[0m in \u001b[0;36m<lambda>\u001b[1;34m(*args, **kwargs)\u001b[0m\n\u001b[0;32m    116\u001b[0m \u001b[1;33m\u001b[0m\u001b[0m\n\u001b[0;32m    117\u001b[0m         \u001b[1;31m# lambda, but not partial, allows help() to work with update_wrapper\u001b[0m\u001b[1;33m\u001b[0m\u001b[1;33m\u001b[0m\u001b[1;33m\u001b[0m\u001b[0m\n\u001b[1;32m--> 118\u001b[1;33m         \u001b[0mout\u001b[0m \u001b[1;33m=\u001b[0m \u001b[1;32mlambda\u001b[0m \u001b[1;33m*\u001b[0m\u001b[0margs\u001b[0m\u001b[1;33m,\u001b[0m \u001b[1;33m**\u001b[0m\u001b[0mkwargs\u001b[0m\u001b[1;33m:\u001b[0m \u001b[0mself\u001b[0m\u001b[1;33m.\u001b[0m\u001b[0mfn\u001b[0m\u001b[1;33m(\u001b[0m\u001b[0mobj\u001b[0m\u001b[1;33m,\u001b[0m \u001b[1;33m*\u001b[0m\u001b[0margs\u001b[0m\u001b[1;33m,\u001b[0m \u001b[1;33m**\u001b[0m\u001b[0mkwargs\u001b[0m\u001b[1;33m)\u001b[0m\u001b[1;33m\u001b[0m\u001b[1;33m\u001b[0m\u001b[0m\n\u001b[0m\u001b[0;32m    119\u001b[0m         \u001b[1;31m# update the docstring of the returned function\u001b[0m\u001b[1;33m\u001b[0m\u001b[1;33m\u001b[0m\u001b[1;33m\u001b[0m\u001b[0m\n\u001b[0;32m    120\u001b[0m         \u001b[0mupdate_wrapper\u001b[0m\u001b[1;33m(\u001b[0m\u001b[0mout\u001b[0m\u001b[1;33m,\u001b[0m \u001b[0mself\u001b[0m\u001b[1;33m.\u001b[0m\u001b[0mfn\u001b[0m\u001b[1;33m)\u001b[0m\u001b[1;33m\u001b[0m\u001b[1;33m\u001b[0m\u001b[0m\n",
      "\u001b[1;32m~\\Anaconda3\\lib\\site-packages\\sklearn\\model_selection\\_search.py\u001b[0m in \u001b[0;36mpredict\u001b[1;34m(self, X)\u001b[0m\n\u001b[0;32m    489\u001b[0m         \"\"\"\n\u001b[0;32m    490\u001b[0m         \u001b[0mself\u001b[0m\u001b[1;33m.\u001b[0m\u001b[0m_check_is_fitted\u001b[0m\u001b[1;33m(\u001b[0m\u001b[1;34m'predict'\u001b[0m\u001b[1;33m)\u001b[0m\u001b[1;33m\u001b[0m\u001b[1;33m\u001b[0m\u001b[0m\n\u001b[1;32m--> 491\u001b[1;33m         \u001b[1;32mreturn\u001b[0m \u001b[0mself\u001b[0m\u001b[1;33m.\u001b[0m\u001b[0mbest_estimator_\u001b[0m\u001b[1;33m.\u001b[0m\u001b[0mpredict\u001b[0m\u001b[1;33m(\u001b[0m\u001b[0mX\u001b[0m\u001b[1;33m)\u001b[0m\u001b[1;33m\u001b[0m\u001b[1;33m\u001b[0m\u001b[0m\n\u001b[0m\u001b[0;32m    492\u001b[0m \u001b[1;33m\u001b[0m\u001b[0m\n\u001b[0;32m    493\u001b[0m     \u001b[1;33m@\u001b[0m\u001b[0mif_delegate_has_method\u001b[0m\u001b[1;33m(\u001b[0m\u001b[0mdelegate\u001b[0m\u001b[1;33m=\u001b[0m\u001b[1;33m(\u001b[0m\u001b[1;34m'best_estimator_'\u001b[0m\u001b[1;33m,\u001b[0m \u001b[1;34m'estimator'\u001b[0m\u001b[1;33m)\u001b[0m\u001b[1;33m)\u001b[0m\u001b[1;33m\u001b[0m\u001b[1;33m\u001b[0m\u001b[0m\n",
      "\u001b[1;32m~\\Anaconda3\\lib\\site-packages\\sklearn\\tree\\tree.py\u001b[0m in \u001b[0;36mpredict\u001b[1;34m(self, X, check_input)\u001b[0m\n\u001b[0;32m    414\u001b[0m         \"\"\"\n\u001b[0;32m    415\u001b[0m         \u001b[0mcheck_is_fitted\u001b[0m\u001b[1;33m(\u001b[0m\u001b[0mself\u001b[0m\u001b[1;33m,\u001b[0m \u001b[1;34m'tree_'\u001b[0m\u001b[1;33m)\u001b[0m\u001b[1;33m\u001b[0m\u001b[1;33m\u001b[0m\u001b[0m\n\u001b[1;32m--> 416\u001b[1;33m         \u001b[0mX\u001b[0m \u001b[1;33m=\u001b[0m \u001b[0mself\u001b[0m\u001b[1;33m.\u001b[0m\u001b[0m_validate_X_predict\u001b[0m\u001b[1;33m(\u001b[0m\u001b[0mX\u001b[0m\u001b[1;33m,\u001b[0m \u001b[0mcheck_input\u001b[0m\u001b[1;33m)\u001b[0m\u001b[1;33m\u001b[0m\u001b[1;33m\u001b[0m\u001b[0m\n\u001b[0m\u001b[0;32m    417\u001b[0m         \u001b[0mproba\u001b[0m \u001b[1;33m=\u001b[0m \u001b[0mself\u001b[0m\u001b[1;33m.\u001b[0m\u001b[0mtree_\u001b[0m\u001b[1;33m.\u001b[0m\u001b[0mpredict\u001b[0m\u001b[1;33m(\u001b[0m\u001b[0mX\u001b[0m\u001b[1;33m)\u001b[0m\u001b[1;33m\u001b[0m\u001b[1;33m\u001b[0m\u001b[0m\n\u001b[0;32m    418\u001b[0m         \u001b[0mn_samples\u001b[0m \u001b[1;33m=\u001b[0m \u001b[0mX\u001b[0m\u001b[1;33m.\u001b[0m\u001b[0mshape\u001b[0m\u001b[1;33m[\u001b[0m\u001b[1;36m0\u001b[0m\u001b[1;33m]\u001b[0m\u001b[1;33m\u001b[0m\u001b[1;33m\u001b[0m\u001b[0m\n",
      "\u001b[1;32m~\\Anaconda3\\lib\\site-packages\\sklearn\\tree\\tree.py\u001b[0m in \u001b[0;36m_validate_X_predict\u001b[1;34m(self, X, check_input)\u001b[0m\n\u001b[0;32m    386\u001b[0m                              \u001b[1;34m\"match the input. Model n_features is %s and \"\u001b[0m\u001b[1;33m\u001b[0m\u001b[1;33m\u001b[0m\u001b[0m\n\u001b[0;32m    387\u001b[0m                              \u001b[1;34m\"input n_features is %s \"\u001b[0m\u001b[1;33m\u001b[0m\u001b[1;33m\u001b[0m\u001b[0m\n\u001b[1;32m--> 388\u001b[1;33m                              % (self.n_features_, n_features))\n\u001b[0m\u001b[0;32m    389\u001b[0m \u001b[1;33m\u001b[0m\u001b[0m\n\u001b[0;32m    390\u001b[0m         \u001b[1;32mreturn\u001b[0m \u001b[0mX\u001b[0m\u001b[1;33m\u001b[0m\u001b[1;33m\u001b[0m\u001b[0m\n",
      "\u001b[1;31mValueError\u001b[0m: Number of features of the model must match the input. Model n_features is 289 and input n_features is 290 "
     ]
    }
   ],
   "source": [
    "query(11249)"
   ]
  },
  {
   "cell_type": "markdown",
   "metadata": {},
   "source": [
    "## Conclusions and Recommendations\n",
    "- [All]"
   ]
  },
  {
   "cell_type": "markdown",
   "metadata": {},
   "source": [
    "## Source Documentation\n",
    "- [NYC zip codes](https://www.nycbynatives.com/nyc_info/new_york_city_zip_codes.php)\n",
    "- [Yelp API - Business Endpoints](https://www.yelp.com/fusion)\n",
    "- [IRS dataset](https://www.irs.gov/statistics/soi-tax-stats-individual-income-tax-statistics-2016-zip-code-data-soi)"
   ]
  },
  {
   "cell_type": "markdown",
   "metadata": {},
   "source": [
    "# TO DO \n",
    "- Clean up imports\n",
    "- Organize the Table of Contents"
   ]
  }
 ],
 "metadata": {
  "kernelspec": {
   "display_name": "Python 3",
   "language": "python",
   "name": "python3"
  },
  "language_info": {
   "codemirror_mode": {
    "name": "ipython",
    "version": 3
   },
   "file_extension": ".py",
   "mimetype": "text/x-python",
   "name": "python",
   "nbconvert_exporter": "python",
   "pygments_lexer": "ipython3",
   "version": "3.7.3"
  }
 },
 "nbformat": 4,
 "nbformat_minor": 2
}
