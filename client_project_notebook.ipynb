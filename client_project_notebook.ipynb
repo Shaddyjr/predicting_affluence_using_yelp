{
 "cells": [
  {
   "cell_type": "markdown",
   "metadata": {},
   "source": [
    "# Predicting Areas of Affluence using Yelp Pricing Data\n",
    "\n",
    "#### Authors: \n",
    "- Eddie Yip [LinkedIn](https://www.linkedin.com/in/eddie-yip-2a37324b/) | [Medium](https://medium.com/@eddie.yip2)\n",
    "- Hadi Morrow [LinkedIn](https://www.linkedin.com/in/hadi-morrow-4b94164b/) | [GitHub](https://github.com/HadiMorrow) | [Medium](https://medium.com/@hadi.a.morrow)\n",
    "- Mahdi Shadkam-Farrokhi: [GitHub](https://github.com/Shaddyjr) | [Medium](https://medium.com/@mahdis.pw) | [http://mahdis.pw](http://mahdis.pw)"
   ]
  },
  {
   "cell_type": "markdown",
   "metadata": {},
   "source": [
    "## Problem Statement [Hadi]\n",
    "\n",
    "While affluence should never be a factor when choosing to provide disaster aid or not, we must consider the following:\n",
    "\n",
    "- On the assumption that affluence plays a role, one might relate affluency to preparedness. Those who can afford to will always look out for their families at any cost. Those who can not might not be able to prepare as well due to the fact that it is not an option. \n",
    "\n",
    "- On the assumption that affluence is not part of a majority class, if we should be miopic with our search efforts we might want to consider saving the masses, those living in tight coridors and those with little to no income. If effect those most suseptible to losing their lives in a major disaster. \n",
    "\n",
    "- Using tax data we aim to show that using YELP data dollar signs is enough to predict where we might want to quickly and accuratly align our efforts. \n",
    "\n",
    "New Light Technologies as our audience, we hope to show that while using expensive and hard to handle data such as tax data can be more precise, a quick and dirty aproach could be to simply sord though the dollar signs data on yelp. \n",
    "\n",
    "---\n",
    "[Hadi] - Excellent write up! Here are some of my observations - feel free to include or not, totally up to you.\n",
    "1. It would be nice for the reader if we define 'affluence' here at the start. What do we consider \"affluent\" in our data (I think we mentioned 15% of the area code?)?\n",
    "2. As a reader, it would be VERY compelling to have an actual case where a natural disaster occured and the affluent areas weren't affected. If possible, research 1 or 2 cases when affluent areas were better prepared for natural disasters - this will help prove our predictive model has a real use case.\n",
    "3. Tying into the use case, it might be helpful to mention a realistic disaster scenario when only having Yelp! price data would be useful. Like, there's an emergency and there's little time to pull granular information about the area, but knowing the yelp reviews for an area, allows first-responders to know which areas their efforts will have the most impact"
   ]
  },
  {
   "cell_type": "markdown",
   "metadata": {},
   "source": [
    "## Executive Summary [Mahdi]\n",
    "\n",
    "- Difficulty gathering data\n",
    "- Prompt confusing regarding \"affluence\"\n",
    "- Other projects used outside data as metric\n",
    "- We pulled from API and didn't use old data, which was challenging"
   ]
  },
  {
   "cell_type": "markdown",
   "metadata": {},
   "source": [
    "## Table of Contents\n",
    "- [Gathering Data](#Gathering-Data)\n",
    "- [Loading Data](#Loading-Data)\n",
    "- [Preliminary Exploratory Data Analysis](#Preliminary-Exploratory-Data-Analysis)\n",
    "- [Cleaning the Data](#Cleaning-the-Data)\n",
    "- [Feature Engineering](#Feature-Engineering)\n",
    "- [Exploratory Data Analysis](#Exploratory-Data-Analysis)\n",
    "- [Model Preparation](#Model-Preparation)\n",
    "- [Model Selection](#Model-Selection)\n",
    "- [Model Evaluation](#Model-Evaluation)\n",
    "- [Conclusions and Recommendations](#Conclusions-and-Recommendations)\n",
    "- [Source Documentation](#Source-Documentation)"
   ]
  },
  {
   "cell_type": "markdown",
   "metadata": {},
   "source": [
    "## Gathering Data\n",
    "We got Yelp data using the API - link \n",
    " \n",
    "We got IRS data using - source [Eddie]"
   ]
  },
  {
   "cell_type": "markdown",
   "metadata": {},
   "source": [
    "## Loading Data\n",
    "- [All]\n",
    "- For map visual, will need [Basemap](https://rabernat.github.io/research_computing/intro-to-basemap.html)"
   ]
  },
  {
   "cell_type": "code",
   "execution_count": 460,
   "metadata": {},
   "outputs": [],
   "source": [
    "import time\n",
    "import pandas as pd\n",
    "import matplotlib.pyplot as plt\n",
    "import seaborn as sns\n",
    "import numpy as np\n",
    "import columnExpander\n",
    "from ast import literal_eval\n",
    "import numpy as np\n",
    "import pandas as pd\n",
    "import matplotlib.pyplot as plt\n",
    "\n",
    "from sklearn.model_selection import train_test_split, GridSearchCV\n",
    "from sklearn.preprocessing import StandardScaler\n",
    "from sklearn.pipeline import Pipeline\n",
    "from sklearn.cluster import KMeans\n",
    "from sklearn.decomposition import PCA\n",
    "from sklearn.linear_model import LinearRegression, LogisticRegression"
   ]
  },
  {
   "cell_type": "code",
   "execution_count": 568,
   "metadata": {},
   "outputs": [],
   "source": [
    "data_file_path = \"./data/total_merged.csv\"\n",
    "df_yelp = pd.read_csv(data_file_path, index_col = 0)\n",
    "df_yelp.reset_index(drop=True, inplace = True) # same indeces were merged using multiple API calls"
   ]
  },
  {
   "cell_type": "code",
   "execution_count": 569,
   "metadata": {},
   "outputs": [
    {
     "data": {
      "text/plain": [
       "(11225, 16)"
      ]
     },
     "execution_count": 569,
     "metadata": {},
     "output_type": "execute_result"
    }
   ],
   "source": [
    "df_yelp.shape"
   ]
  },
  {
   "cell_type": "markdown",
   "metadata": {},
   "source": [
    "## Preliminary Exploratory Data Analysis\n",
    "- [All]"
   ]
  },
  {
   "cell_type": "code",
   "execution_count": 570,
   "metadata": {},
   "outputs": [
    {
     "data": {
      "text/html": [
       "<div>\n",
       "<style scoped>\n",
       "    .dataframe tbody tr th:only-of-type {\n",
       "        vertical-align: middle;\n",
       "    }\n",
       "\n",
       "    .dataframe tbody tr th {\n",
       "        vertical-align: top;\n",
       "    }\n",
       "\n",
       "    .dataframe thead th {\n",
       "        text-align: right;\n",
       "    }\n",
       "</style>\n",
       "<table border=\"1\" class=\"dataframe\">\n",
       "  <thead>\n",
       "    <tr style=\"text-align: right;\">\n",
       "      <th></th>\n",
       "      <th>alias</th>\n",
       "      <th>categories</th>\n",
       "      <th>coordinates</th>\n",
       "      <th>display_phone</th>\n",
       "      <th>distance</th>\n",
       "      <th>id</th>\n",
       "      <th>image_url</th>\n",
       "      <th>is_closed</th>\n",
       "      <th>location</th>\n",
       "      <th>name</th>\n",
       "      <th>phone</th>\n",
       "      <th>price</th>\n",
       "      <th>rating</th>\n",
       "      <th>review_count</th>\n",
       "      <th>transactions</th>\n",
       "      <th>url</th>\n",
       "    </tr>\n",
       "  </thead>\n",
       "  <tbody>\n",
       "    <tr>\n",
       "      <th>0</th>\n",
       "      <td>mos-original-brooklyn</td>\n",
       "      <td>[{'alias': 'ramen', 'title': 'Ramen'}, {'alias...</td>\n",
       "      <td>{'latitude': 40.66127, 'longitude': -73.95342}</td>\n",
       "      <td>(718) 513-0698</td>\n",
       "      <td>1542.617156</td>\n",
       "      <td>YwpP-mgXV5N35xhLibLw5g</td>\n",
       "      <td>https://s3-media2.fl.yelpcdn.com/bphoto/-L9roT...</td>\n",
       "      <td>False</td>\n",
       "      <td>{'address1': '453 Rogers Ave', 'address2': Non...</td>\n",
       "      <td>Mo's Original</td>\n",
       "      <td>1.718513e+10</td>\n",
       "      <td>NaN</td>\n",
       "      <td>4.5</td>\n",
       "      <td>32</td>\n",
       "      <td>[]</td>\n",
       "      <td>https://www.yelp.com/biz/mos-original-brooklyn...</td>\n",
       "    </tr>\n",
       "    <tr>\n",
       "      <th>1</th>\n",
       "      <td>peaches-hothouse-brooklyn</td>\n",
       "      <td>[{'alias': 'southern', 'title': 'Southern'}, {...</td>\n",
       "      <td>{'latitude': 40.6833699737169, 'longitude': -7...</td>\n",
       "      <td>(718) 483-9111</td>\n",
       "      <td>3471.525420</td>\n",
       "      <td>GA5msU6NO9rQRctPfDJCBg</td>\n",
       "      <td>https://s3-media1.fl.yelpcdn.com/bphoto/KEAXgZ...</td>\n",
       "      <td>False</td>\n",
       "      <td>{'address1': '415 Tompkins Ave', 'address2': '...</td>\n",
       "      <td>Peaches HotHouse</td>\n",
       "      <td>1.718484e+10</td>\n",
       "      <td>$$</td>\n",
       "      <td>4.0</td>\n",
       "      <td>1082</td>\n",
       "      <td>['pickup', 'delivery']</td>\n",
       "      <td>https://www.yelp.com/biz/peaches-hothouse-broo...</td>\n",
       "    </tr>\n",
       "    <tr>\n",
       "      <th>2</th>\n",
       "      <td>claw-daddys-brooklyn</td>\n",
       "      <td>[{'alias': 'cajun', 'title': 'Cajun/Creole'}, ...</td>\n",
       "      <td>{'latitude': 40.68561, 'longitude': -73.98035}</td>\n",
       "      <td>(347) 318-8893</td>\n",
       "      <td>5062.337404</td>\n",
       "      <td>1x2hn3e9sCCZca1cnRTpEg</td>\n",
       "      <td>https://s3-media3.fl.yelpcdn.com/bphoto/ABHo2x...</td>\n",
       "      <td>False</td>\n",
       "      <td>{'address1': '31 3rd Ave', 'address2': '', 'ad...</td>\n",
       "      <td>Claw Daddy's</td>\n",
       "      <td>1.347319e+10</td>\n",
       "      <td>$$</td>\n",
       "      <td>4.0</td>\n",
       "      <td>282</td>\n",
       "      <td>['restaurant_reservation']</td>\n",
       "      <td>https://www.yelp.com/biz/claw-daddys-brooklyn?...</td>\n",
       "    </tr>\n",
       "    <tr>\n",
       "      <th>3</th>\n",
       "      <td>barons-brooklyn</td>\n",
       "      <td>[{'alias': 'newamerican', 'title': 'American (...</td>\n",
       "      <td>{'latitude': 40.6908116, 'longitude': -73.953915}</td>\n",
       "      <td>(718) 230-7100</td>\n",
       "      <td>4451.492133</td>\n",
       "      <td>GxMhN2PEttvw7CRGIzB6Gg</td>\n",
       "      <td>https://s3-media3.fl.yelpcdn.com/bphoto/VmnsId...</td>\n",
       "      <td>False</td>\n",
       "      <td>{'address1': '564 Dekalb Ave', 'address2': '',...</td>\n",
       "      <td>Baron's</td>\n",
       "      <td>1.718231e+10</td>\n",
       "      <td>$$</td>\n",
       "      <td>4.5</td>\n",
       "      <td>258</td>\n",
       "      <td>['pickup', 'restaurant_reservation']</td>\n",
       "      <td>https://www.yelp.com/biz/barons-brooklyn?adjus...</td>\n",
       "    </tr>\n",
       "    <tr>\n",
       "      <th>4</th>\n",
       "      <td>lowerline-brooklyn-2</td>\n",
       "      <td>[{'alias': 'cajun', 'title': 'Cajun/Creole'}, ...</td>\n",
       "      <td>{'latitude': 40.67421, 'longitude': -73.96324}</td>\n",
       "      <td>(347) 533-7110</td>\n",
       "      <td>3158.955607</td>\n",
       "      <td>swKXaURwqdSrSTcpHsxdbA</td>\n",
       "      <td>https://s3-media4.fl.yelpcdn.com/bphoto/oJbAhL...</td>\n",
       "      <td>False</td>\n",
       "      <td>{'address1': '794 Washington Ave', 'address2':...</td>\n",
       "      <td>Lowerline</td>\n",
       "      <td>1.347534e+10</td>\n",
       "      <td>$$</td>\n",
       "      <td>4.5</td>\n",
       "      <td>118</td>\n",
       "      <td>[]</td>\n",
       "      <td>https://www.yelp.com/biz/lowerline-brooklyn-2?...</td>\n",
       "    </tr>\n",
       "  </tbody>\n",
       "</table>\n",
       "</div>"
      ],
      "text/plain": [
       "                       alias  \\\n",
       "0      mos-original-brooklyn   \n",
       "1  peaches-hothouse-brooklyn   \n",
       "2       claw-daddys-brooklyn   \n",
       "3            barons-brooklyn   \n",
       "4       lowerline-brooklyn-2   \n",
       "\n",
       "                                          categories  \\\n",
       "0  [{'alias': 'ramen', 'title': 'Ramen'}, {'alias...   \n",
       "1  [{'alias': 'southern', 'title': 'Southern'}, {...   \n",
       "2  [{'alias': 'cajun', 'title': 'Cajun/Creole'}, ...   \n",
       "3  [{'alias': 'newamerican', 'title': 'American (...   \n",
       "4  [{'alias': 'cajun', 'title': 'Cajun/Creole'}, ...   \n",
       "\n",
       "                                         coordinates   display_phone  \\\n",
       "0     {'latitude': 40.66127, 'longitude': -73.95342}  (718) 513-0698   \n",
       "1  {'latitude': 40.6833699737169, 'longitude': -7...  (718) 483-9111   \n",
       "2     {'latitude': 40.68561, 'longitude': -73.98035}  (347) 318-8893   \n",
       "3  {'latitude': 40.6908116, 'longitude': -73.953915}  (718) 230-7100   \n",
       "4     {'latitude': 40.67421, 'longitude': -73.96324}  (347) 533-7110   \n",
       "\n",
       "      distance                      id  \\\n",
       "0  1542.617156  YwpP-mgXV5N35xhLibLw5g   \n",
       "1  3471.525420  GA5msU6NO9rQRctPfDJCBg   \n",
       "2  5062.337404  1x2hn3e9sCCZca1cnRTpEg   \n",
       "3  4451.492133  GxMhN2PEttvw7CRGIzB6Gg   \n",
       "4  3158.955607  swKXaURwqdSrSTcpHsxdbA   \n",
       "\n",
       "                                           image_url  is_closed  \\\n",
       "0  https://s3-media2.fl.yelpcdn.com/bphoto/-L9roT...      False   \n",
       "1  https://s3-media1.fl.yelpcdn.com/bphoto/KEAXgZ...      False   \n",
       "2  https://s3-media3.fl.yelpcdn.com/bphoto/ABHo2x...      False   \n",
       "3  https://s3-media3.fl.yelpcdn.com/bphoto/VmnsId...      False   \n",
       "4  https://s3-media4.fl.yelpcdn.com/bphoto/oJbAhL...      False   \n",
       "\n",
       "                                            location              name  \\\n",
       "0  {'address1': '453 Rogers Ave', 'address2': Non...     Mo's Original   \n",
       "1  {'address1': '415 Tompkins Ave', 'address2': '...  Peaches HotHouse   \n",
       "2  {'address1': '31 3rd Ave', 'address2': '', 'ad...      Claw Daddy's   \n",
       "3  {'address1': '564 Dekalb Ave', 'address2': '',...           Baron's   \n",
       "4  {'address1': '794 Washington Ave', 'address2':...         Lowerline   \n",
       "\n",
       "          phone price  rating  review_count  \\\n",
       "0  1.718513e+10   NaN     4.5            32   \n",
       "1  1.718484e+10    $$     4.0          1082   \n",
       "2  1.347319e+10    $$     4.0           282   \n",
       "3  1.718231e+10    $$     4.5           258   \n",
       "4  1.347534e+10    $$     4.5           118   \n",
       "\n",
       "                           transactions  \\\n",
       "0                                    []   \n",
       "1                ['pickup', 'delivery']   \n",
       "2            ['restaurant_reservation']   \n",
       "3  ['pickup', 'restaurant_reservation']   \n",
       "4                                    []   \n",
       "\n",
       "                                                 url  \n",
       "0  https://www.yelp.com/biz/mos-original-brooklyn...  \n",
       "1  https://www.yelp.com/biz/peaches-hothouse-broo...  \n",
       "2  https://www.yelp.com/biz/claw-daddys-brooklyn?...  \n",
       "3  https://www.yelp.com/biz/barons-brooklyn?adjus...  \n",
       "4  https://www.yelp.com/biz/lowerline-brooklyn-2?...  "
      ]
     },
     "execution_count": 570,
     "metadata": {},
     "output_type": "execute_result"
    }
   ],
   "source": [
    "df_yelp.head()"
   ]
  },
  {
   "cell_type": "code",
   "execution_count": 571,
   "metadata": {},
   "outputs": [
    {
     "data": {
      "text/plain": [
       "display_phone     697\n",
       "image_url         417\n",
       "phone             697\n",
       "price            2013\n",
       "dtype: int64"
      ]
     },
     "execution_count": 571,
     "metadata": {},
     "output_type": "execute_result"
    }
   ],
   "source": [
    "sum_null = df_yelp.isnull().sum()\n",
    "sum_null[sum_null > 0]"
   ]
  },
  {
   "cell_type": "markdown",
   "metadata": {},
   "source": [
    "We have many missing values in the data, however many of the columns are not meaningful for our problem and these columns can be safely dropped.\n",
    "\n",
    "Also, `categories`, `location`, and `transactions` are compressed data columns and will need to be unpacked."
   ]
  },
  {
   "cell_type": "markdown",
   "metadata": {},
   "source": [
    "## Cleaning the Data\n",
    "- [Mahdi] one person for consistency"
   ]
  },
  {
   "cell_type": "markdown",
   "metadata": {},
   "source": [
    "### Yelp Price"
   ]
  },
  {
   "cell_type": "code",
   "execution_count": 572,
   "metadata": {},
   "outputs": [
    {
     "data": {
      "text/plain": [
       "2013"
      ]
     },
     "execution_count": 572,
     "metadata": {},
     "output_type": "execute_result"
    }
   ],
   "source": [
    "df_yelp[\"price\"].isnull().sum()"
   ]
  },
  {
   "cell_type": "markdown",
   "metadata": {},
   "source": [
    "We decided to drop null prices from analysis as this is the key indicator we're looking to predict with."
   ]
  },
  {
   "cell_type": "code",
   "execution_count": 573,
   "metadata": {},
   "outputs": [],
   "source": [
    "df_yelp.dropna(subset=[\"price\"], inplace = True)"
   ]
  },
  {
   "cell_type": "code",
   "execution_count": 574,
   "metadata": {},
   "outputs": [
    {
     "data": {
      "text/plain": [
       "(9212, 16)"
      ]
     },
     "execution_count": 574,
     "metadata": {},
     "output_type": "execute_result"
    }
   ],
   "source": [
    "df_yelp.shape"
   ]
  },
  {
   "cell_type": "markdown",
   "metadata": {},
   "source": [
    "### Converting Yelp Price to ordinal values"
   ]
  },
  {
   "cell_type": "code",
   "execution_count": 575,
   "metadata": {},
   "outputs": [],
   "source": [
    "df_yelp['price'] = df_yelp['price'].map({'$': 1, '$$': 2, '$$$': 3, '$$$$':4})"
   ]
  },
  {
   "cell_type": "code",
   "execution_count": 576,
   "metadata": {},
   "outputs": [
    {
     "data": {
      "text/plain": [
       "2    5117\n",
       "1    3361\n",
       "3     601\n",
       "4     133\n",
       "Name: price, dtype: int64"
      ]
     },
     "execution_count": 576,
     "metadata": {},
     "output_type": "execute_result"
    }
   ],
   "source": [
    "df_yelp['price'].value_counts()"
   ]
  },
  {
   "cell_type": "markdown",
   "metadata": {},
   "source": [
    "### Dropping unneccessary columns"
   ]
  },
  {
   "cell_type": "code",
   "execution_count": 577,
   "metadata": {
    "scrolled": true
   },
   "outputs": [],
   "source": [
    "keepers = ['categories','id', 'location', 'price', 'rating', 'review_count', 'transactions', 'coordinates']\n",
    "df_yelp = df_yelp[keepers]"
   ]
  },
  {
   "cell_type": "markdown",
   "metadata": {},
   "source": [
    "### Parsing location data"
   ]
  },
  {
   "cell_type": "code",
   "execution_count": 578,
   "metadata": {},
   "outputs": [],
   "source": [
    "def get_keys_from_sting_dict(string, keys):\n",
    "    if len(string) == 0:\n",
    "        return None\n",
    "    dic = literal_eval(string)\n",
    "    out = {}\n",
    "    for key in keys:\n",
    "        out[key] = dic.get(key)\n",
    "    return out"
   ]
  },
  {
   "cell_type": "code",
   "execution_count": 579,
   "metadata": {},
   "outputs": [],
   "source": [
    "location = \"location\"\n",
    "keys = [\"zip_code\", \"city\", 'state']\n",
    "zips_and_cities = df_yelp[location].map(lambda string: get_keys_from_sting_dict(string, keys))\n",
    "\n",
    "for key in keys:\n",
    "    df_yelp[key] = [pair[key] for pair in zips_and_cities]\n",
    "    \n",
    "df_yelp.drop(columns=[location], inplace = True)"
   ]
  },
  {
   "cell_type": "markdown",
   "metadata": {},
   "source": [
    "### Filtering for NYC-only"
   ]
  },
  {
   "cell_type": "markdown",
   "metadata": {},
   "source": [
    "#### Removed non-NY state"
   ]
  },
  {
   "cell_type": "code",
   "execution_count": 580,
   "metadata": {},
   "outputs": [],
   "source": [
    "df_yelp = df_yelp[df_yelp['state'] == \"NY\"]"
   ]
  },
  {
   "cell_type": "markdown",
   "metadata": {},
   "source": [
    "#### Imputing missing zip codes"
   ]
  },
  {
   "cell_type": "code",
   "execution_count": 581,
   "metadata": {},
   "outputs": [
    {
     "data": {
      "text/html": [
       "<div>\n",
       "<style scoped>\n",
       "    .dataframe tbody tr th:only-of-type {\n",
       "        vertical-align: middle;\n",
       "    }\n",
       "\n",
       "    .dataframe tbody tr th {\n",
       "        vertical-align: top;\n",
       "    }\n",
       "\n",
       "    .dataframe thead th {\n",
       "        text-align: right;\n",
       "    }\n",
       "</style>\n",
       "<table border=\"1\" class=\"dataframe\">\n",
       "  <thead>\n",
       "    <tr style=\"text-align: right;\">\n",
       "      <th></th>\n",
       "      <th>categories</th>\n",
       "      <th>id</th>\n",
       "      <th>price</th>\n",
       "      <th>rating</th>\n",
       "      <th>review_count</th>\n",
       "      <th>transactions</th>\n",
       "      <th>coordinates</th>\n",
       "      <th>zip_code</th>\n",
       "      <th>city</th>\n",
       "      <th>state</th>\n",
       "    </tr>\n",
       "  </thead>\n",
       "  <tbody>\n",
       "    <tr>\n",
       "      <th>6940</th>\n",
       "      <td>[{'alias': 'cupcakes', 'title': 'Cupcakes'}, {...</td>\n",
       "      <td>ECY0sIYxPJio81dteqiMhg</td>\n",
       "      <td>2</td>\n",
       "      <td>4.5</td>\n",
       "      <td>16</td>\n",
       "      <td>[]</td>\n",
       "      <td>{'latitude': 40.71455, 'longitude': -74.00714}</td>\n",
       "      <td></td>\n",
       "      <td>New York</td>\n",
       "      <td>NY</td>\n",
       "    </tr>\n",
       "    <tr>\n",
       "      <th>8092</th>\n",
       "      <td>[{'alias': 'bakeries', 'title': 'Bakeries'}]</td>\n",
       "      <td>6u5cnsN35mJz24HMQ9pfFw</td>\n",
       "      <td>2</td>\n",
       "      <td>2.0</td>\n",
       "      <td>15</td>\n",
       "      <td>[]</td>\n",
       "      <td>{'latitude': 40.605271, 'longitude': -74.149243}</td>\n",
       "      <td></td>\n",
       "      <td>Staten Island</td>\n",
       "      <td>NY</td>\n",
       "    </tr>\n",
       "    <tr>\n",
       "      <th>10283</th>\n",
       "      <td>[{'alias': 'foodstands', 'title': 'Food Stands'}]</td>\n",
       "      <td>BilbRcNQXKmcBFvLm4gxAQ</td>\n",
       "      <td>2</td>\n",
       "      <td>5.0</td>\n",
       "      <td>3</td>\n",
       "      <td>[]</td>\n",
       "      <td>{'latitude': 40.7488639529741, 'longitude': -7...</td>\n",
       "      <td></td>\n",
       "      <td>Queens</td>\n",
       "      <td>NY</td>\n",
       "    </tr>\n",
       "    <tr>\n",
       "      <th>10401</th>\n",
       "      <td>[{'alias': 'farmersmarket', 'title': 'Farmers ...</td>\n",
       "      <td>jZzbV6SRt9FXdCoziNv5xw</td>\n",
       "      <td>2</td>\n",
       "      <td>4.0</td>\n",
       "      <td>4</td>\n",
       "      <td>[]</td>\n",
       "      <td>{'latitude': 40.7454635299775, 'longitude': -7...</td>\n",
       "      <td></td>\n",
       "      <td>Queens</td>\n",
       "      <td>NY</td>\n",
       "    </tr>\n",
       "  </tbody>\n",
       "</table>\n",
       "</div>"
      ],
      "text/plain": [
       "                                              categories  \\\n",
       "6940   [{'alias': 'cupcakes', 'title': 'Cupcakes'}, {...   \n",
       "8092        [{'alias': 'bakeries', 'title': 'Bakeries'}]   \n",
       "10283  [{'alias': 'foodstands', 'title': 'Food Stands'}]   \n",
       "10401  [{'alias': 'farmersmarket', 'title': 'Farmers ...   \n",
       "\n",
       "                           id  price  rating  review_count transactions  \\\n",
       "6940   ECY0sIYxPJio81dteqiMhg      2     4.5            16           []   \n",
       "8092   6u5cnsN35mJz24HMQ9pfFw      2     2.0            15           []   \n",
       "10283  BilbRcNQXKmcBFvLm4gxAQ      2     5.0             3           []   \n",
       "10401  jZzbV6SRt9FXdCoziNv5xw      2     4.0             4           []   \n",
       "\n",
       "                                             coordinates zip_code  \\\n",
       "6940      {'latitude': 40.71455, 'longitude': -74.00714}            \n",
       "8092    {'latitude': 40.605271, 'longitude': -74.149243}            \n",
       "10283  {'latitude': 40.7488639529741, 'longitude': -7...            \n",
       "10401  {'latitude': 40.7454635299775, 'longitude': -7...            \n",
       "\n",
       "                city state  \n",
       "6940        New York    NY  \n",
       "8092   Staten Island    NY  \n",
       "10283         Queens    NY  \n",
       "10401         Queens    NY  "
      ]
     },
     "execution_count": 581,
     "metadata": {},
     "output_type": "execute_result"
    }
   ],
   "source": [
    "df_yelp[df_yelp['zip_code'] == \"\"]"
   ]
  },
  {
   "cell_type": "markdown",
   "metadata": {},
   "source": [
    "Locations were found using Google Maps and zip codes imputed manually"
   ]
  },
  {
   "cell_type": "code",
   "execution_count": 582,
   "metadata": {},
   "outputs": [],
   "source": [
    "df_yelp.loc[df_yelp[\"id\"] == \"ECY0sIYxPJio81dteqiMhg\",\"zip_code\"] = \"10007\"\n",
    "df_yelp.loc[df_yelp[\"id\"] == \"6u5cnsN35mJz24HMQ9pfFw\",\"zip_code\"] = \"10314\"\n",
    "df_yelp.loc[df_yelp[\"id\"] == \"BilbRcNQXKmcBFvLm4gxAQ\",\"zip_code\"] = \"11372\"\n",
    "df_yelp.loc[df_yelp[\"id\"] == \"jZzbV6SRt9FXdCoziNv5xw\",\"zip_code\"] = \"11373\""
   ]
  },
  {
   "cell_type": "markdown",
   "metadata": {},
   "source": [
    "### Remove by NYC zip\n",
    "We used the range of zip codes designated for NYC - [source](https://www.nycbynatives.com/nyc_info/new_york_city_zip_codes.php)"
   ]
  },
  {
   "cell_type": "code",
   "execution_count": 583,
   "metadata": {},
   "outputs": [],
   "source": [
    "min_zip = 10001\n",
    "max_zip = 11697\n",
    "\n",
    "df_yelp['zip_code'] = df_yelp['zip_code'].astype(int)"
   ]
  },
  {
   "cell_type": "code",
   "execution_count": 584,
   "metadata": {},
   "outputs": [],
   "source": [
    "df_yelp = df_yelp[(df_yelp['zip_code'] >= min_zip) & (df_yelp['zip_code'] <= max_zip)]"
   ]
  },
  {
   "cell_type": "markdown",
   "metadata": {},
   "source": [
    "### Parsing Coordinates"
   ]
  },
  {
   "cell_type": "code",
   "execution_count": 585,
   "metadata": {},
   "outputs": [],
   "source": [
    "coordinates = \"coordinates\"\n",
    "coord_keys = [\"latitude\", \"longitude\"]\n",
    "lat_and_long = df_yelp[coordinates].map(lambda string: get_keys_from_sting_dict(string, coord_keys))\n",
    "\n",
    "for key in coord_keys:\n",
    "    df_yelp[key] = [pair[key] for pair in lat_and_long]\n",
    "\n",
    "df_yelp.drop(columns=[coordinates], inplace = True)"
   ]
  },
  {
   "cell_type": "code",
   "execution_count": 586,
   "metadata": {},
   "outputs": [
    {
     "data": {
      "text/html": [
       "<div>\n",
       "<style scoped>\n",
       "    .dataframe tbody tr th:only-of-type {\n",
       "        vertical-align: middle;\n",
       "    }\n",
       "\n",
       "    .dataframe tbody tr th {\n",
       "        vertical-align: top;\n",
       "    }\n",
       "\n",
       "    .dataframe thead th {\n",
       "        text-align: right;\n",
       "    }\n",
       "</style>\n",
       "<table border=\"1\" class=\"dataframe\">\n",
       "  <thead>\n",
       "    <tr style=\"text-align: right;\">\n",
       "      <th></th>\n",
       "      <th>latitude</th>\n",
       "      <th>longitude</th>\n",
       "    </tr>\n",
       "  </thead>\n",
       "  <tbody>\n",
       "    <tr>\n",
       "      <th>count</th>\n",
       "      <td>8985.000000</td>\n",
       "      <td>8985.000000</td>\n",
       "    </tr>\n",
       "    <tr>\n",
       "      <th>mean</th>\n",
       "      <td>40.730034</td>\n",
       "      <td>-73.913326</td>\n",
       "    </tr>\n",
       "    <tr>\n",
       "      <th>std</th>\n",
       "      <td>0.076368</td>\n",
       "      <td>2.207460</td>\n",
       "    </tr>\n",
       "    <tr>\n",
       "      <th>min</th>\n",
       "      <td>40.508927</td>\n",
       "      <td>-74.251140</td>\n",
       "    </tr>\n",
       "    <tr>\n",
       "      <th>25%</th>\n",
       "      <td>40.683368</td>\n",
       "      <td>-73.988678</td>\n",
       "    </tr>\n",
       "    <tr>\n",
       "      <th>50%</th>\n",
       "      <td>40.740450</td>\n",
       "      <td>-73.960316</td>\n",
       "    </tr>\n",
       "    <tr>\n",
       "      <th>75%</th>\n",
       "      <td>40.765829</td>\n",
       "      <td>-73.890592</td>\n",
       "    </tr>\n",
       "    <tr>\n",
       "      <th>max</th>\n",
       "      <td>41.004690</td>\n",
       "      <td>74.000792</td>\n",
       "    </tr>\n",
       "  </tbody>\n",
       "</table>\n",
       "</div>"
      ],
      "text/plain": [
       "          latitude    longitude\n",
       "count  8985.000000  8985.000000\n",
       "mean     40.730034   -73.913326\n",
       "std       0.076368     2.207460\n",
       "min      40.508927   -74.251140\n",
       "25%      40.683368   -73.988678\n",
       "50%      40.740450   -73.960316\n",
       "75%      40.765829   -73.890592\n",
       "max      41.004690    74.000792"
      ]
     },
     "execution_count": 586,
     "metadata": {},
     "output_type": "execute_result"
    }
   ],
   "source": [
    "df_yelp[coord_keys].describe()"
   ]
  },
  {
   "cell_type": "markdown",
   "metadata": {},
   "source": [
    "Looking at the latitude and longitude, we see some points that do not appear to be in the New York City area, around 40.7 and -73.9, respectively."
   ]
  },
  {
   "cell_type": "code",
   "execution_count": 587,
   "metadata": {},
   "outputs": [
    {
     "data": {
      "text/html": [
       "<div>\n",
       "<style scoped>\n",
       "    .dataframe tbody tr th:only-of-type {\n",
       "        vertical-align: middle;\n",
       "    }\n",
       "\n",
       "    .dataframe tbody tr th {\n",
       "        vertical-align: top;\n",
       "    }\n",
       "\n",
       "    .dataframe thead th {\n",
       "        text-align: right;\n",
       "    }\n",
       "</style>\n",
       "<table border=\"1\" class=\"dataframe\">\n",
       "  <thead>\n",
       "    <tr style=\"text-align: right;\">\n",
       "      <th></th>\n",
       "      <th>categories</th>\n",
       "      <th>id</th>\n",
       "      <th>price</th>\n",
       "      <th>rating</th>\n",
       "      <th>review_count</th>\n",
       "      <th>transactions</th>\n",
       "      <th>zip_code</th>\n",
       "      <th>city</th>\n",
       "      <th>state</th>\n",
       "      <th>latitude</th>\n",
       "      <th>longitude</th>\n",
       "    </tr>\n",
       "  </thead>\n",
       "  <tbody>\n",
       "    <tr>\n",
       "      <th>3224</th>\n",
       "      <td>[{'alias': 'tradamerican', 'title': 'American ...</td>\n",
       "      <td>_pe4POL8iJPohFqPvWehIg</td>\n",
       "      <td>2</td>\n",
       "      <td>4.0</td>\n",
       "      <td>857</td>\n",
       "      <td>[]</td>\n",
       "      <td>10583</td>\n",
       "      <td>Scarsdale</td>\n",
       "      <td>NY</td>\n",
       "      <td>41.00469</td>\n",
       "      <td>-73.81312</td>\n",
       "    </tr>\n",
       "  </tbody>\n",
       "</table>\n",
       "</div>"
      ],
      "text/plain": [
       "                                             categories  \\\n",
       "3224  [{'alias': 'tradamerican', 'title': 'American ...   \n",
       "\n",
       "                          id  price  rating  review_count transactions  \\\n",
       "3224  _pe4POL8iJPohFqPvWehIg      2     4.0           857           []   \n",
       "\n",
       "      zip_code       city state  latitude  longitude  \n",
       "3224     10583  Scarsdale    NY  41.00469  -73.81312  "
      ]
     },
     "execution_count": 587,
     "metadata": {},
     "output_type": "execute_result"
    }
   ],
   "source": [
    "df_yelp[(df_yelp[\"latitude\"] > 41) | (df_yelp[\"latitude\"] < 40)]"
   ]
  },
  {
   "cell_type": "markdown",
   "metadata": {},
   "source": [
    "This data point is from Scarsdale NY, which is not within the city limits. This data point will be dropped."
   ]
  },
  {
   "cell_type": "code",
   "execution_count": 588,
   "metadata": {},
   "outputs": [],
   "source": [
    "df_yelp = df_yelp[(df_yelp[\"latitude\"] <= 41) & (df_yelp[\"latitude\"] >= 40)]"
   ]
  },
  {
   "cell_type": "code",
   "execution_count": 589,
   "metadata": {},
   "outputs": [
    {
     "data": {
      "text/html": [
       "<div>\n",
       "<style scoped>\n",
       "    .dataframe tbody tr th:only-of-type {\n",
       "        vertical-align: middle;\n",
       "    }\n",
       "\n",
       "    .dataframe tbody tr th {\n",
       "        vertical-align: top;\n",
       "    }\n",
       "\n",
       "    .dataframe thead th {\n",
       "        text-align: right;\n",
       "    }\n",
       "</style>\n",
       "<table border=\"1\" class=\"dataframe\">\n",
       "  <thead>\n",
       "    <tr style=\"text-align: right;\">\n",
       "      <th></th>\n",
       "      <th>categories</th>\n",
       "      <th>id</th>\n",
       "      <th>price</th>\n",
       "      <th>rating</th>\n",
       "      <th>review_count</th>\n",
       "      <th>transactions</th>\n",
       "      <th>zip_code</th>\n",
       "      <th>city</th>\n",
       "      <th>state</th>\n",
       "      <th>latitude</th>\n",
       "      <th>longitude</th>\n",
       "    </tr>\n",
       "  </thead>\n",
       "  <tbody>\n",
       "    <tr>\n",
       "      <th>3306</th>\n",
       "      <td>[{'alias': 'pizza', 'title': 'Pizza'}]</td>\n",
       "      <td>S2mqyVGw817y9GTHxYRPjw</td>\n",
       "      <td>1</td>\n",
       "      <td>4.0</td>\n",
       "      <td>58</td>\n",
       "      <td>[]</td>\n",
       "      <td>10472</td>\n",
       "      <td>Bronx</td>\n",
       "      <td>NY</td>\n",
       "      <td>40.830034</td>\n",
       "      <td>73.850772</td>\n",
       "    </tr>\n",
       "    <tr>\n",
       "      <th>8560</th>\n",
       "      <td>[{'alias': 'icecream', 'title': 'Ice Cream &amp; F...</td>\n",
       "      <td>dF02U8Yhxnm66Np4Adgovg</td>\n",
       "      <td>2</td>\n",
       "      <td>4.0</td>\n",
       "      <td>290</td>\n",
       "      <td>[]</td>\n",
       "      <td>10012</td>\n",
       "      <td>New York</td>\n",
       "      <td>NY</td>\n",
       "      <td>40.723884</td>\n",
       "      <td>74.000792</td>\n",
       "    </tr>\n",
       "  </tbody>\n",
       "</table>\n",
       "</div>"
      ],
      "text/plain": [
       "                                             categories  \\\n",
       "3306             [{'alias': 'pizza', 'title': 'Pizza'}]   \n",
       "8560  [{'alias': 'icecream', 'title': 'Ice Cream & F...   \n",
       "\n",
       "                          id  price  rating  review_count transactions  \\\n",
       "3306  S2mqyVGw817y9GTHxYRPjw      1     4.0            58           []   \n",
       "8560  dF02U8Yhxnm66Np4Adgovg      2     4.0           290           []   \n",
       "\n",
       "      zip_code      city state   latitude  longitude  \n",
       "3306     10472     Bronx    NY  40.830034  73.850772  \n",
       "8560     10012  New York    NY  40.723884  74.000792  "
      ]
     },
     "execution_count": 589,
     "metadata": {},
     "output_type": "execute_result"
    }
   ],
   "source": [
    "df_yelp[(df_yelp[\"longitude\"] > -72) | (df_yelp[\"longitude\"] < -75)]"
   ]
  },
  {
   "cell_type": "markdown",
   "metadata": {},
   "source": [
    "After looking up these businesses, it is clear they were given a positive longitude when they are actually supposed to be negative."
   ]
  },
  {
   "cell_type": "code",
   "execution_count": 590,
   "metadata": {},
   "outputs": [],
   "source": [
    "df_yelp.loc[(df_yelp[\"longitude\"] > -72) | (df_yelp[\"longitude\"] < -75),\"longitude\"] = np.negative(df_yelp[(df_yelp[\"longitude\"] > -72) | (df_yelp[\"longitude\"] < -75)][\"longitude\"])"
   ]
  },
  {
   "cell_type": "markdown",
   "metadata": {},
   "source": [
    "### Parsing categories"
   ]
  },
  {
   "cell_type": "code",
   "execution_count": 591,
   "metadata": {},
   "outputs": [],
   "source": [
    "def convert_string_dict_to_string(string, key):\n",
    "    return \",\".join([dic[key] for dic in literal_eval(string)])\n",
    "\n",
    "df_yelp[\"categories\"] = df_yelp[\"categories\"].map(lambda s: convert_string_dict_to_string(s,\"alias\"))"
   ]
  },
  {
   "cell_type": "markdown",
   "metadata": {},
   "source": [
    "### Parsing transactions"
   ]
  },
  {
   "cell_type": "code",
   "execution_count": 592,
   "metadata": {},
   "outputs": [],
   "source": [
    "def convert_string_list_to_string(string):\n",
    "    return \",\".join(literal_eval(string))\n",
    "\n",
    "df_yelp[\"transactions\"] = df_yelp[\"transactions\"].map(convert_string_list_to_string)"
   ]
  },
  {
   "cell_type": "code",
   "execution_count": 593,
   "metadata": {},
   "outputs": [
    {
     "data": {
      "text/plain": [
       "(8984, 11)"
      ]
     },
     "execution_count": 593,
     "metadata": {},
     "output_type": "execute_result"
    }
   ],
   "source": [
    "df_yelp.shape"
   ]
  },
  {
   "cell_type": "code",
   "execution_count": 594,
   "metadata": {},
   "outputs": [
    {
     "data": {
      "text/plain": [
       "0"
      ]
     },
     "execution_count": 594,
     "metadata": {},
     "output_type": "execute_result"
    }
   ],
   "source": [
    "df_yelp.isnull().sum().sum()"
   ]
  },
  {
   "cell_type": "markdown",
   "metadata": {},
   "source": [
    "There are no null values - this is a complete dataset"
   ]
  },
  {
   "cell_type": "markdown",
   "metadata": {},
   "source": [
    "### Cleaning IRS Dataset [Hadi]\n",
    "These data were collected directly from the IRS website ([source](https://www.irs.gov/statistics/soi-tax-stats-individual-income-tax-statistics-2016-zip-code-data-soi))"
   ]
  },
  {
   "cell_type": "code",
   "execution_count": 595,
   "metadata": {},
   "outputs": [],
   "source": [
    "df_irs = pd.read_csv('./data/irs.csv')"
   ]
  },
  {
   "cell_type": "code",
   "execution_count": 596,
   "metadata": {},
   "outputs": [
    {
     "data": {
      "text/html": [
       "<div>\n",
       "<style scoped>\n",
       "    .dataframe tbody tr th:only-of-type {\n",
       "        vertical-align: middle;\n",
       "    }\n",
       "\n",
       "    .dataframe tbody tr th {\n",
       "        vertical-align: top;\n",
       "    }\n",
       "\n",
       "    .dataframe thead th {\n",
       "        text-align: right;\n",
       "    }\n",
       "</style>\n",
       "<table border=\"1\" class=\"dataframe\">\n",
       "  <thead>\n",
       "    <tr style=\"text-align: right;\">\n",
       "      <th></th>\n",
       "      <th>ZIP\n",
       "code [1]</th>\n",
       "      <th>Size of adjusted gross income</th>\n",
       "      <th>Number of returns</th>\n",
       "      <th>Number of single returns</th>\n",
       "      <th>Number of joint returns</th>\n",
       "      <th>Number of head of household returns</th>\n",
       "      <th>Number with paid preparer's signature</th>\n",
       "      <th>Number of exemptions</th>\n",
       "      <th>Number of dependents</th>\n",
       "    </tr>\n",
       "  </thead>\n",
       "  <tbody>\n",
       "    <tr>\n",
       "      <th>10</th>\n",
       "      <td>10001</td>\n",
       "      <td>$25,000 under $50,000</td>\n",
       "      <td>2500</td>\n",
       "      <td>1850</td>\n",
       "      <td>240</td>\n",
       "      <td>340</td>\n",
       "      <td>1360</td>\n",
       "      <td>3390</td>\n",
       "      <td>690</td>\n",
       "    </tr>\n",
       "    <tr>\n",
       "      <th>11</th>\n",
       "      <td>10001</td>\n",
       "      <td>$50,000 under $75,000</td>\n",
       "      <td>1950</td>\n",
       "      <td>1540</td>\n",
       "      <td>190</td>\n",
       "      <td>160</td>\n",
       "      <td>1110</td>\n",
       "      <td>2440</td>\n",
       "      <td>310</td>\n",
       "    </tr>\n",
       "    <tr>\n",
       "      <th>12</th>\n",
       "      <td>10001</td>\n",
       "      <td>$75,000 under $100,000</td>\n",
       "      <td>1410</td>\n",
       "      <td>1120</td>\n",
       "      <td>170</td>\n",
       "      <td>80</td>\n",
       "      <td>820</td>\n",
       "      <td>1760</td>\n",
       "      <td>190</td>\n",
       "    </tr>\n",
       "    <tr>\n",
       "      <th>13</th>\n",
       "      <td>10001</td>\n",
       "      <td>$100,000 under $200,000</td>\n",
       "      <td>2580</td>\n",
       "      <td>1850</td>\n",
       "      <td>560</td>\n",
       "      <td>90</td>\n",
       "      <td>1540</td>\n",
       "      <td>3580</td>\n",
       "      <td>440</td>\n",
       "    </tr>\n",
       "    <tr>\n",
       "      <th>14</th>\n",
       "      <td>10001</td>\n",
       "      <td>$200,000 or more</td>\n",
       "      <td>2340</td>\n",
       "      <td>1200</td>\n",
       "      <td>1030</td>\n",
       "      <td>50</td>\n",
       "      <td>1760</td>\n",
       "      <td>4150</td>\n",
       "      <td>790</td>\n",
       "    </tr>\n",
       "    <tr>\n",
       "      <th>15</th>\n",
       "      <td>NaN</td>\n",
       "      <td>NaN</td>\n",
       "      <td>NaN</td>\n",
       "      <td>NaN</td>\n",
       "      <td>NaN</td>\n",
       "      <td>NaN</td>\n",
       "      <td>NaN</td>\n",
       "      <td>NaN</td>\n",
       "      <td>NaN</td>\n",
       "    </tr>\n",
       "    <tr>\n",
       "      <th>16</th>\n",
       "      <td>10002</td>\n",
       "      <td>NaN</td>\n",
       "      <td>42,180</td>\n",
       "      <td>25,270</td>\n",
       "      <td>10,500</td>\n",
       "      <td>5,630</td>\n",
       "      <td>28,170</td>\n",
       "      <td>68,970</td>\n",
       "      <td>17,490</td>\n",
       "    </tr>\n",
       "    <tr>\n",
       "      <th>17</th>\n",
       "      <td>10002</td>\n",
       "      <td>$1 under $25,000</td>\n",
       "      <td>21180</td>\n",
       "      <td>12550</td>\n",
       "      <td>5360</td>\n",
       "      <td>2950</td>\n",
       "      <td>15360</td>\n",
       "      <td>33920</td>\n",
       "      <td>8490</td>\n",
       "    </tr>\n",
       "    <tr>\n",
       "      <th>18</th>\n",
       "      <td>10002</td>\n",
       "      <td>$25,000 under $50,000</td>\n",
       "      <td>8210</td>\n",
       "      <td>4660</td>\n",
       "      <td>1900</td>\n",
       "      <td>1480</td>\n",
       "      <td>5150</td>\n",
       "      <td>14540</td>\n",
       "      <td>4480</td>\n",
       "    </tr>\n",
       "    <tr>\n",
       "      <th>19</th>\n",
       "      <td>10002</td>\n",
       "      <td>$50,000 under $75,000</td>\n",
       "      <td>4810</td>\n",
       "      <td>3300</td>\n",
       "      <td>730</td>\n",
       "      <td>670</td>\n",
       "      <td>2780</td>\n",
       "      <td>7120</td>\n",
       "      <td>1590</td>\n",
       "    </tr>\n",
       "  </tbody>\n",
       "</table>\n",
       "</div>"
      ],
      "text/plain": [
       "   ZIP\\ncode [1] Size of adjusted gross income Number of returns  \\\n",
       "10         10001         $25,000 under $50,000              2500   \n",
       "11         10001         $50,000 under $75,000              1950   \n",
       "12         10001        $75,000 under $100,000              1410   \n",
       "13         10001       $100,000 under $200,000              2580   \n",
       "14         10001              $200,000 or more              2340   \n",
       "15           NaN                           NaN               NaN   \n",
       "16         10002                           NaN            42,180   \n",
       "17         10002              $1 under $25,000             21180   \n",
       "18         10002         $25,000 under $50,000              8210   \n",
       "19         10002         $50,000 under $75,000              4810   \n",
       "\n",
       "   Number of single returns Number of joint returns  \\\n",
       "10                     1850                     240   \n",
       "11                     1540                     190   \n",
       "12                     1120                     170   \n",
       "13                     1850                     560   \n",
       "14                     1200                    1030   \n",
       "15                      NaN                     NaN   \n",
       "16                   25,270                  10,500   \n",
       "17                    12550                    5360   \n",
       "18                     4660                    1900   \n",
       "19                     3300                     730   \n",
       "\n",
       "   Number of head of household returns Number with paid preparer's signature  \\\n",
       "10                                 340                                  1360   \n",
       "11                                 160                                  1110   \n",
       "12                                  80                                   820   \n",
       "13                                  90                                  1540   \n",
       "14                                  50                                  1760   \n",
       "15                                 NaN                                   NaN   \n",
       "16                               5,630                                28,170   \n",
       "17                                2950                                 15360   \n",
       "18                                1480                                  5150   \n",
       "19                                 670                                  2780   \n",
       "\n",
       "   Number of exemptions Number of dependents  \n",
       "10                 3390                  690  \n",
       "11                 2440                  310  \n",
       "12                 1760                  190  \n",
       "13                 3580                  440  \n",
       "14                 4150                  790  \n",
       "15                  NaN                  NaN  \n",
       "16               68,970               17,490  \n",
       "17                33920                 8490  \n",
       "18                14540                 4480  \n",
       "19                 7120                 1590  "
      ]
     },
     "execution_count": 596,
     "metadata": {},
     "output_type": "execute_result"
    }
   ],
   "source": [
    "df_irs[10:20]"
   ]
  },
  {
   "cell_type": "code",
   "execution_count": 597,
   "metadata": {},
   "outputs": [],
   "source": [
    "yelp_zips = list(set(df_yelp['zip_code']))"
   ]
  },
  {
   "cell_type": "code",
   "execution_count": 598,
   "metadata": {},
   "outputs": [],
   "source": [
    "def clean_str_num(str_num):\n",
    "    '''Returns integer of input string with commas removed'''\n",
    "    return int(str_num.replace(',',''))"
   ]
  },
  {
   "cell_type": "code",
   "execution_count": 599,
   "metadata": {},
   "outputs": [],
   "source": [
    "affluency_rates = []\n",
    "found_zips = []\n",
    "missing_zips = []\n",
    "returns_col_name = 'Number of returns'\n",
    "\n",
    "for zip_code in yelp_zips:\n",
    "    try:\n",
    "        sub_df               = df_irs[df_irs.iloc[:,0] == str(zip_code)]\n",
    "        \n",
    "        affluent_irs_returns = clean_str_num(sub_df[returns_col_name].iloc[-1])\n",
    "        total_irs_returns    = clean_str_num(sub_df[returns_col_name].iloc[0])\n",
    "        affluent_rate        = affluent_irs_returns / total_irs_returns\n",
    "        \n",
    "        affluency_rates.append(affluent_rate)\n",
    "        found_zips.append(zip_code)\n",
    "    except Exception as e:\n",
    "        missing_zips.append(zip_code)\n",
    "        pass"
   ]
  },
  {
   "cell_type": "code",
   "execution_count": 600,
   "metadata": {},
   "outputs": [
    {
     "data": {
      "text/plain": [
       "26"
      ]
     },
     "execution_count": 600,
     "metadata": {},
     "output_type": "execute_result"
    }
   ],
   "source": [
    "len(missing_zips)"
   ]
  },
  {
   "cell_type": "code",
   "execution_count": 601,
   "metadata": {},
   "outputs": [
    {
     "data": {
      "text/html": [
       "<div>\n",
       "<style scoped>\n",
       "    .dataframe tbody tr th:only-of-type {\n",
       "        vertical-align: middle;\n",
       "    }\n",
       "\n",
       "    .dataframe tbody tr th {\n",
       "        vertical-align: top;\n",
       "    }\n",
       "\n",
       "    .dataframe thead th {\n",
       "        text-align: right;\n",
       "    }\n",
       "</style>\n",
       "<table border=\"1\" class=\"dataframe\">\n",
       "  <thead>\n",
       "    <tr style=\"text-align: right;\">\n",
       "      <th></th>\n",
       "      <th>categories</th>\n",
       "      <th>id</th>\n",
       "      <th>price</th>\n",
       "      <th>rating</th>\n",
       "      <th>review_count</th>\n",
       "      <th>transactions</th>\n",
       "      <th>zip_code</th>\n",
       "      <th>city</th>\n",
       "      <th>state</th>\n",
       "      <th>latitude</th>\n",
       "      <th>longitude</th>\n",
       "    </tr>\n",
       "  </thead>\n",
       "  <tbody>\n",
       "    <tr>\n",
       "      <th>1</th>\n",
       "      <td>southern,tradamerican,bars</td>\n",
       "      <td>GA5msU6NO9rQRctPfDJCBg</td>\n",
       "      <td>2</td>\n",
       "      <td>4.0</td>\n",
       "      <td>1082</td>\n",
       "      <td>pickup,delivery</td>\n",
       "      <td>11216</td>\n",
       "      <td>Brooklyn</td>\n",
       "      <td>NY</td>\n",
       "      <td>40.683370</td>\n",
       "      <td>-73.943780</td>\n",
       "    </tr>\n",
       "    <tr>\n",
       "      <th>2</th>\n",
       "      <td>cajun,seafood</td>\n",
       "      <td>1x2hn3e9sCCZca1cnRTpEg</td>\n",
       "      <td>2</td>\n",
       "      <td>4.0</td>\n",
       "      <td>282</td>\n",
       "      <td>restaurant_reservation</td>\n",
       "      <td>11217</td>\n",
       "      <td>Brooklyn</td>\n",
       "      <td>NY</td>\n",
       "      <td>40.685610</td>\n",
       "      <td>-73.980350</td>\n",
       "    </tr>\n",
       "    <tr>\n",
       "      <th>3</th>\n",
       "      <td>newamerican,bars,seafood</td>\n",
       "      <td>GxMhN2PEttvw7CRGIzB6Gg</td>\n",
       "      <td>2</td>\n",
       "      <td>4.5</td>\n",
       "      <td>258</td>\n",
       "      <td>pickup,restaurant_reservation</td>\n",
       "      <td>11205</td>\n",
       "      <td>Brooklyn</td>\n",
       "      <td>NY</td>\n",
       "      <td>40.690812</td>\n",
       "      <td>-73.953915</td>\n",
       "    </tr>\n",
       "    <tr>\n",
       "      <th>4</th>\n",
       "      <td>cajun,seafood,southern</td>\n",
       "      <td>swKXaURwqdSrSTcpHsxdbA</td>\n",
       "      <td>2</td>\n",
       "      <td>4.5</td>\n",
       "      <td>118</td>\n",
       "      <td></td>\n",
       "      <td>11238</td>\n",
       "      <td>Brooklyn</td>\n",
       "      <td>NY</td>\n",
       "      <td>40.674210</td>\n",
       "      <td>-73.963240</td>\n",
       "    </tr>\n",
       "    <tr>\n",
       "      <th>5</th>\n",
       "      <td>tradamerican,gastropubs</td>\n",
       "      <td>CwOAKJdX8AMz5iAoA-ZEuA</td>\n",
       "      <td>2</td>\n",
       "      <td>4.0</td>\n",
       "      <td>453</td>\n",
       "      <td>pickup,delivery,restaurant_reservation</td>\n",
       "      <td>11201</td>\n",
       "      <td>Brooklyn</td>\n",
       "      <td>NY</td>\n",
       "      <td>40.686023</td>\n",
       "      <td>-73.991302</td>\n",
       "    </tr>\n",
       "  </tbody>\n",
       "</table>\n",
       "</div>"
      ],
      "text/plain": [
       "                   categories                      id  price  rating  \\\n",
       "1  southern,tradamerican,bars  GA5msU6NO9rQRctPfDJCBg      2     4.0   \n",
       "2               cajun,seafood  1x2hn3e9sCCZca1cnRTpEg      2     4.0   \n",
       "3    newamerican,bars,seafood  GxMhN2PEttvw7CRGIzB6Gg      2     4.5   \n",
       "4      cajun,seafood,southern  swKXaURwqdSrSTcpHsxdbA      2     4.5   \n",
       "5     tradamerican,gastropubs  CwOAKJdX8AMz5iAoA-ZEuA      2     4.0   \n",
       "\n",
       "   review_count                            transactions  zip_code      city  \\\n",
       "1          1082                         pickup,delivery     11216  Brooklyn   \n",
       "2           282                  restaurant_reservation     11217  Brooklyn   \n",
       "3           258           pickup,restaurant_reservation     11205  Brooklyn   \n",
       "4           118                                             11238  Brooklyn   \n",
       "5           453  pickup,delivery,restaurant_reservation     11201  Brooklyn   \n",
       "\n",
       "  state   latitude  longitude  \n",
       "1    NY  40.683370 -73.943780  \n",
       "2    NY  40.685610 -73.980350  \n",
       "3    NY  40.690812 -73.953915  \n",
       "4    NY  40.674210 -73.963240  \n",
       "5    NY  40.686023 -73.991302  "
      ]
     },
     "execution_count": 601,
     "metadata": {},
     "output_type": "execute_result"
    }
   ],
   "source": [
    "df_yelp.head()"
   ]
  },
  {
   "cell_type": "markdown",
   "metadata": {},
   "source": [
    "There are 26 zip codes in the yelp data that were not found in the IRS dataset.  \n",
    "These associated datapoint will be dropped, as they have not target value."
   ]
  },
  {
   "cell_type": "code",
   "execution_count": 602,
   "metadata": {
    "collapsed": true
   },
   "outputs": [
    {
     "data": {
      "text/html": [
       "<div>\n",
       "<style scoped>\n",
       "    .dataframe tbody tr th:only-of-type {\n",
       "        vertical-align: middle;\n",
       "    }\n",
       "\n",
       "    .dataframe tbody tr th {\n",
       "        vertical-align: top;\n",
       "    }\n",
       "\n",
       "    .dataframe thead th {\n",
       "        text-align: right;\n",
       "    }\n",
       "</style>\n",
       "<table border=\"1\" class=\"dataframe\">\n",
       "  <thead>\n",
       "    <tr style=\"text-align: right;\">\n",
       "      <th></th>\n",
       "      <th>zip_code</th>\n",
       "      <th>affluency_rate</th>\n",
       "    </tr>\n",
       "  </thead>\n",
       "  <tbody>\n",
       "    <tr>\n",
       "      <th>0</th>\n",
       "      <td>10801</td>\n",
       "      <td>0.052004</td>\n",
       "    </tr>\n",
       "    <tr>\n",
       "      <th>1</th>\n",
       "      <td>10803</td>\n",
       "      <td>0.300000</td>\n",
       "    </tr>\n",
       "    <tr>\n",
       "      <th>2</th>\n",
       "      <td>10301</td>\n",
       "      <td>0.047013</td>\n",
       "    </tr>\n",
       "    <tr>\n",
       "      <th>3</th>\n",
       "      <td>10302</td>\n",
       "      <td>0.018564</td>\n",
       "    </tr>\n",
       "    <tr>\n",
       "      <th>4</th>\n",
       "      <td>10303</td>\n",
       "      <td>0.007395</td>\n",
       "    </tr>\n",
       "  </tbody>\n",
       "</table>\n",
       "</div>"
      ],
      "text/plain": [
       "   zip_code  affluency_rate\n",
       "0     10801        0.052004\n",
       "1     10803        0.300000\n",
       "2     10301        0.047013\n",
       "3     10302        0.018564\n",
       "4     10303        0.007395"
      ]
     },
     "execution_count": 602,
     "metadata": {},
     "output_type": "execute_result"
    }
   ],
   "source": [
    "affluency_df = pd.DataFrame(data = {\"zip_code\": found_zips, \"affluency_rate\":affluency_rates})\n",
    "affluency_df.head()"
   ]
  },
  {
   "cell_type": "markdown",
   "metadata": {},
   "source": [
    "### Merging Yelp and IRS dataset\n",
    "Merging the yelp dataset with the IRS dataset will drop those observations with missing zip codes."
   ]
  },
  {
   "cell_type": "code",
   "execution_count": 700,
   "metadata": {},
   "outputs": [],
   "source": [
    "df = pd.merge(df_yelp, affluency_df, on = \"zip_code\")"
   ]
  },
  {
   "cell_type": "markdown",
   "metadata": {},
   "source": [
    "The dataframe below is for predicting purposes"
   ]
  },
  {
   "cell_type": "code",
   "execution_count": 767,
   "metadata": {},
   "outputs": [],
   "source": [
    "incomplete_df = pd.merge(df_yelp, affluency_df, on = \"zip_code\", how = 'outer')"
   ]
  },
  {
   "cell_type": "code",
   "execution_count": 754,
   "metadata": {},
   "outputs": [
    {
     "data": {
      "text/plain": [
       "(8869, 12)"
      ]
     },
     "execution_count": 754,
     "metadata": {},
     "output_type": "execute_result"
    }
   ],
   "source": [
    "df.shape"
   ]
  },
  {
   "cell_type": "markdown",
   "metadata": {},
   "source": [
    "### Changing Data Type"
   ]
  },
  {
   "cell_type": "code",
   "execution_count": 705,
   "metadata": {
    "collapsed": true
   },
   "outputs": [
    {
     "data": {
      "text/plain": [
       "categories         object\n",
       "id                 object\n",
       "price               int64\n",
       "rating            float64\n",
       "review_count        int64\n",
       "transactions       object\n",
       "zip_code            int32\n",
       "city               object\n",
       "state              object\n",
       "latitude          float64\n",
       "longitude         float64\n",
       "affluency_rate    float64\n",
       "dtype: object"
      ]
     },
     "execution_count": 705,
     "metadata": {},
     "output_type": "execute_result"
    }
   ],
   "source": [
    "df.dtypes"
   ]
  },
  {
   "cell_type": "code",
   "execution_count": 643,
   "metadata": {},
   "outputs": [],
   "source": [
    "convert_to_int = [\"review_count\",\"rating\"]\n",
    "df[convert_to_int] = df[convert_to_int].astype(int)"
   ]
  },
  {
   "cell_type": "code",
   "execution_count": 768,
   "metadata": {},
   "outputs": [],
   "source": [
    "incomplete_df[convert_to_int] = incomplete_df[convert_to_int].astype(int)"
   ]
  },
  {
   "cell_type": "code",
   "execution_count": 706,
   "metadata": {},
   "outputs": [
    {
     "data": {
      "text/html": [
       "<div>\n",
       "<style scoped>\n",
       "    .dataframe tbody tr th:only-of-type {\n",
       "        vertical-align: middle;\n",
       "    }\n",
       "\n",
       "    .dataframe tbody tr th {\n",
       "        vertical-align: top;\n",
       "    }\n",
       "\n",
       "    .dataframe thead th {\n",
       "        text-align: right;\n",
       "    }\n",
       "</style>\n",
       "<table border=\"1\" class=\"dataframe\">\n",
       "  <thead>\n",
       "    <tr style=\"text-align: right;\">\n",
       "      <th></th>\n",
       "      <th>categories</th>\n",
       "      <th>id</th>\n",
       "      <th>price</th>\n",
       "      <th>rating</th>\n",
       "      <th>review_count</th>\n",
       "      <th>transactions</th>\n",
       "      <th>zip_code</th>\n",
       "      <th>city</th>\n",
       "      <th>state</th>\n",
       "      <th>latitude</th>\n",
       "      <th>longitude</th>\n",
       "      <th>affluency_rate</th>\n",
       "    </tr>\n",
       "  </thead>\n",
       "  <tbody>\n",
       "    <tr>\n",
       "      <th>0</th>\n",
       "      <td>southern,tradamerican,bars</td>\n",
       "      <td>GA5msU6NO9rQRctPfDJCBg</td>\n",
       "      <td>2</td>\n",
       "      <td>4.0</td>\n",
       "      <td>1082</td>\n",
       "      <td>pickup,delivery</td>\n",
       "      <td>11216</td>\n",
       "      <td>Brooklyn</td>\n",
       "      <td>NY</td>\n",
       "      <td>40.683370</td>\n",
       "      <td>-73.94378</td>\n",
       "      <td>0.022398</td>\n",
       "    </tr>\n",
       "    <tr>\n",
       "      <th>1</th>\n",
       "      <td>gastropubs,tradamerican</td>\n",
       "      <td>KkAtVVjnMfb1vGlcpzmhgw</td>\n",
       "      <td>2</td>\n",
       "      <td>4.0</td>\n",
       "      <td>303</td>\n",
       "      <td>pickup,delivery</td>\n",
       "      <td>11216</td>\n",
       "      <td>Brooklyn</td>\n",
       "      <td>NY</td>\n",
       "      <td>40.677866</td>\n",
       "      <td>-73.95000</td>\n",
       "      <td>0.022398</td>\n",
       "    </tr>\n",
       "  </tbody>\n",
       "</table>\n",
       "</div>"
      ],
      "text/plain": [
       "                   categories                      id  price  rating  \\\n",
       "0  southern,tradamerican,bars  GA5msU6NO9rQRctPfDJCBg      2     4.0   \n",
       "1     gastropubs,tradamerican  KkAtVVjnMfb1vGlcpzmhgw      2     4.0   \n",
       "\n",
       "   review_count     transactions  zip_code      city state   latitude  \\\n",
       "0          1082  pickup,delivery     11216  Brooklyn    NY  40.683370   \n",
       "1           303  pickup,delivery     11216  Brooklyn    NY  40.677866   \n",
       "\n",
       "   longitude  affluency_rate  \n",
       "0  -73.94378        0.022398  \n",
       "1  -73.95000        0.022398  "
      ]
     },
     "execution_count": 706,
     "metadata": {},
     "output_type": "execute_result"
    }
   ],
   "source": [
    "df.head(2)"
   ]
  },
  {
   "cell_type": "code",
   "execution_count": 707,
   "metadata": {},
   "outputs": [
    {
     "data": {
      "text/plain": [
       "(8869, 12)"
      ]
     },
     "execution_count": 707,
     "metadata": {},
     "output_type": "execute_result"
    }
   ],
   "source": [
    "df.shape"
   ]
  },
  {
   "cell_type": "code",
   "execution_count": 756,
   "metadata": {},
   "outputs": [
    {
     "data": {
      "text/plain": [
       "(8984, 12)"
      ]
     },
     "execution_count": 756,
     "metadata": {},
     "output_type": "execute_result"
    }
   ],
   "source": [
    "incomplete_df.shape"
   ]
  },
  {
   "cell_type": "markdown",
   "metadata": {},
   "source": [
    "We are left with 8869 complete data points"
   ]
  },
  {
   "cell_type": "markdown",
   "metadata": {},
   "source": [
    "## Feature Engineering\n",
    "- [All]"
   ]
  },
  {
   "cell_type": "markdown",
   "metadata": {},
   "source": [
    "### Creating Dummy Variables"
   ]
  },
  {
   "cell_type": "code",
   "execution_count": 647,
   "metadata": {},
   "outputs": [],
   "source": [
    "expansion_columns = [\"categories\",\"transactions\"]\n",
    "lce = columnExpander.ListColumnExpander(expansion_columns)"
   ]
  },
  {
   "cell_type": "code",
   "execution_count": 648,
   "metadata": {},
   "outputs": [],
   "source": [
    "dummy_df = pd.DataFrame(lce.fit_transform(df).toarray(), columns=lce.get_feature_names())"
   ]
  },
  {
   "cell_type": "code",
   "execution_count": 709,
   "metadata": {},
   "outputs": [],
   "source": [
    "complete_df = pd.concat([df, dummy_df], axis=1)"
   ]
  },
  {
   "cell_type": "code",
   "execution_count": 710,
   "metadata": {
    "collapsed": true
   },
   "outputs": [
    {
     "data": {
      "text/html": [
       "<div>\n",
       "<style scoped>\n",
       "    .dataframe tbody tr th:only-of-type {\n",
       "        vertical-align: middle;\n",
       "    }\n",
       "\n",
       "    .dataframe tbody tr th {\n",
       "        vertical-align: top;\n",
       "    }\n",
       "\n",
       "    .dataframe thead th {\n",
       "        text-align: right;\n",
       "    }\n",
       "</style>\n",
       "<table border=\"1\" class=\"dataframe\">\n",
       "  <thead>\n",
       "    <tr style=\"text-align: right;\">\n",
       "      <th></th>\n",
       "      <th>id</th>\n",
       "      <th>price</th>\n",
       "      <th>rating</th>\n",
       "      <th>review_count</th>\n",
       "      <th>zip_code</th>\n",
       "      <th>city</th>\n",
       "      <th>state</th>\n",
       "      <th>latitude</th>\n",
       "      <th>longitude</th>\n",
       "      <th>affluency_rate</th>\n",
       "      <th>...</th>\n",
       "      <th>categories_newmexican</th>\n",
       "      <th>categories_himalayan</th>\n",
       "      <th>categories_cambodian</th>\n",
       "      <th>categories_austrian</th>\n",
       "      <th>categories_pianobars</th>\n",
       "      <th>categories_shanghainese</th>\n",
       "      <th>transactions_</th>\n",
       "      <th>transactions_pickup</th>\n",
       "      <th>transactions_delivery</th>\n",
       "      <th>transactions_restaurant_reservation</th>\n",
       "    </tr>\n",
       "  </thead>\n",
       "  <tbody>\n",
       "    <tr>\n",
       "      <th>0</th>\n",
       "      <td>GA5msU6NO9rQRctPfDJCBg</td>\n",
       "      <td>2</td>\n",
       "      <td>4.0</td>\n",
       "      <td>1082</td>\n",
       "      <td>11216</td>\n",
       "      <td>Brooklyn</td>\n",
       "      <td>NY</td>\n",
       "      <td>40.683370</td>\n",
       "      <td>-73.94378</td>\n",
       "      <td>0.022398</td>\n",
       "      <td>...</td>\n",
       "      <td>0.0</td>\n",
       "      <td>0.0</td>\n",
       "      <td>0.0</td>\n",
       "      <td>0.0</td>\n",
       "      <td>0.0</td>\n",
       "      <td>0.0</td>\n",
       "      <td>1.0</td>\n",
       "      <td>1.0</td>\n",
       "      <td>1.0</td>\n",
       "      <td>0.0</td>\n",
       "    </tr>\n",
       "    <tr>\n",
       "      <th>1</th>\n",
       "      <td>KkAtVVjnMfb1vGlcpzmhgw</td>\n",
       "      <td>2</td>\n",
       "      <td>4.0</td>\n",
       "      <td>303</td>\n",
       "      <td>11216</td>\n",
       "      <td>Brooklyn</td>\n",
       "      <td>NY</td>\n",
       "      <td>40.677866</td>\n",
       "      <td>-73.95000</td>\n",
       "      <td>0.022398</td>\n",
       "      <td>...</td>\n",
       "      <td>0.0</td>\n",
       "      <td>0.0</td>\n",
       "      <td>0.0</td>\n",
       "      <td>0.0</td>\n",
       "      <td>0.0</td>\n",
       "      <td>0.0</td>\n",
       "      <td>1.0</td>\n",
       "      <td>1.0</td>\n",
       "      <td>1.0</td>\n",
       "      <td>0.0</td>\n",
       "    </tr>\n",
       "  </tbody>\n",
       "</table>\n",
       "<p>2 rows × 290 columns</p>\n",
       "</div>"
      ],
      "text/plain": [
       "                       id  price  rating  review_count  zip_code      city  \\\n",
       "0  GA5msU6NO9rQRctPfDJCBg      2     4.0          1082     11216  Brooklyn   \n",
       "1  KkAtVVjnMfb1vGlcpzmhgw      2     4.0           303     11216  Brooklyn   \n",
       "\n",
       "  state   latitude  longitude  affluency_rate  ...  categories_newmexican  \\\n",
       "0    NY  40.683370  -73.94378        0.022398  ...                    0.0   \n",
       "1    NY  40.677866  -73.95000        0.022398  ...                    0.0   \n",
       "\n",
       "   categories_himalayan  categories_cambodian  categories_austrian  \\\n",
       "0                   0.0                   0.0                  0.0   \n",
       "1                   0.0                   0.0                  0.0   \n",
       "\n",
       "   categories_pianobars  categories_shanghainese  transactions_  \\\n",
       "0                   0.0                      0.0            1.0   \n",
       "1                   0.0                      0.0            1.0   \n",
       "\n",
       "   transactions_pickup  transactions_delivery  \\\n",
       "0                  1.0                    1.0   \n",
       "1                  1.0                    1.0   \n",
       "\n",
       "   transactions_restaurant_reservation  \n",
       "0                                  0.0  \n",
       "1                                  0.0  \n",
       "\n",
       "[2 rows x 290 columns]"
      ]
     },
     "execution_count": 710,
     "metadata": {},
     "output_type": "execute_result"
    }
   ],
   "source": [
    "complete_df = pd.concat([df.drop(columns = expansion_columns), dummy_df], axis=1)\n",
    "complete_df.head(2)"
   ]
  },
  {
   "cell_type": "code",
   "execution_count": 769,
   "metadata": {},
   "outputs": [],
   "source": [
    "incomplete_dummy_df = pd.DataFrame(lce.fit_transform(incomplete_df).toarray(), columns=lce.get_feature_names())"
   ]
  },
  {
   "cell_type": "code",
   "execution_count": 770,
   "metadata": {},
   "outputs": [],
   "source": [
    "incomplete_dummy_df.drop(columns=['categories_bowling', 'categories_sardinian'], inplace = True)"
   ]
  },
  {
   "cell_type": "code",
   "execution_count": 771,
   "metadata": {},
   "outputs": [],
   "source": [
    "incomplete_df = pd.concat([incomplete_df.drop(columns = expansion_columns), incomplete_dummy_df], axis=1)"
   ]
  },
  {
   "cell_type": "code",
   "execution_count": 772,
   "metadata": {},
   "outputs": [
    {
     "data": {
      "text/plain": [
       "(8984, 290)"
      ]
     },
     "execution_count": 772,
     "metadata": {},
     "output_type": "execute_result"
    }
   ],
   "source": [
    "incomplete_df.shape "
   ]
  },
  {
   "cell_type": "code",
   "execution_count": 773,
   "metadata": {},
   "outputs": [
    {
     "data": {
      "text/plain": [
       "{'is_affluent'}"
      ]
     },
     "execution_count": 773,
     "metadata": {},
     "output_type": "execute_result"
    }
   ],
   "source": [
    "set(complete_df.columns) - set(incomplete_df.columns)"
   ]
  },
  {
   "cell_type": "markdown",
   "metadata": {},
   "source": [
    "### Reducing Latitude and Longitude using clustering\n",
    "We decided to reduce the latitude and longitude variables into a single column using $K$-means clustering as a way of representing more local neighborhoods.\n",
    "\n",
    "An optimum $k$ will be determined using the model's silhouette score."
   ]
  },
  {
   "cell_type": "code",
   "execution_count": null,
   "metadata": {},
   "outputs": [],
   "source": [
    "best_k = 10 ## will figure out later\n",
    "km = KMeans(n_clusters=best_k)\n",
    "lat_long_df = complete_df[[\"latitude\",\"longitude\"]]\n",
    "km.fit(lat_long_df)\n",
    "complete_df[\"location_cluster\"] = km.labels_"
   ]
  },
  {
   "cell_type": "code",
   "execution_count": 774,
   "metadata": {},
   "outputs": [],
   "source": [
    "best_k = 10 ## will figure out later\n",
    "km = KMeans(n_clusters=best_k)\n",
    "lat_long_df_incomplete = incomplete_df[[\"latitude\",\"longitude\"]]\n",
    "km.fit(lat_long_df_incomplete)\n",
    "incomplete_df[\"location_cluster\"] = km.labels_"
   ]
  },
  {
   "cell_type": "markdown",
   "metadata": {},
   "source": [
    "### Setting Affluency Threshold\n",
    "Affluency = when a zip code has 15% of its population file and IRS return of $$200k or more"
   ]
  },
  {
   "cell_type": "code",
   "execution_count": null,
   "metadata": {},
   "outputs": [],
   "source": [
    "affluency_thresh = .15"
   ]
  },
  {
   "cell_type": "code",
   "execution_count": 716,
   "metadata": {},
   "outputs": [
    {
     "data": {
      "text/plain": [
       "0    0.717105\n",
       "1    0.282895\n",
       "Name: is_affluent, dtype: float64"
      ]
     },
     "execution_count": 716,
     "metadata": {},
     "output_type": "execute_result"
    }
   ],
   "source": [
    "complete_df[\"is_affluent\"] = (complete_df[\"affluency_rate\"] >= affluency_thresh).astype(int)\n",
    "complete_df[\"is_affluent\"].value_counts(normalize = True)"
   ]
  },
  {
   "cell_type": "markdown",
   "metadata": {},
   "source": [
    "About 28% of all reported IRS returns in New York City count as being affluent, according to our definition.\n",
    "\n",
    "This leads our data to be somewhat unbalanced, which we need to keep in mind when evaluating our models."
   ]
  },
  {
   "cell_type": "markdown",
   "metadata": {},
   "source": [
    "## Exploratory Data Analysis\n",
    "- [Mahdi] and [Hadi] killer graphs and visuals"
   ]
  },
  {
   "cell_type": "markdown",
   "metadata": {},
   "source": [
    "# Below is work in progress\n",
    "# ============"
   ]
  },
  {
   "cell_type": "code",
   "execution_count": null,
   "metadata": {},
   "outputs": [],
   "source": [
    "# Let's scoop lat/long up in a matrix so we can use them easily\n",
    "location_data = df[[\"latitude\", \"longitude\"]].astype(float)\n",
    "location_data.head()\n",
    "location_data.dropna(inplace = True)"
   ]
  },
  {
   "cell_type": "code",
   "execution_count": null,
   "metadata": {},
   "outputs": [],
   "source": [
    "# Let's cluster our observations by lat/long\n",
    "km = KMeans(n_clusters=20)\n",
    "km.fit(location_data)"
   ]
  },
  {
   "cell_type": "code",
   "execution_count": null,
   "metadata": {},
   "outputs": [],
   "source": [
    "# Where are the highly prices houses?\n",
    "location_data.plot(kind=\"scatter\", x=\"latitude\", y=\"longitude\",\n",
    "         cmap=\"inferno\", figsize=(14, 10), s=2);"
   ]
  },
  {
   "cell_type": "code",
   "execution_count": null,
   "metadata": {},
   "outputs": [],
   "source": [
    "# What do these clusters look like visually?\n",
    "plt.figure(figsize=(10, 10))\n",
    "plt.scatter((location_data.latitude).astype(float), (location_data.longitude).astype(float), c=km.labels_, s=50 ,cmap=\"tab20\");"
   ]
  },
  {
   "cell_type": "code",
   "execution_count": null,
   "metadata": {},
   "outputs": [],
   "source": [
    "import pandas as pd\n",
    "%matplotlib inline\n",
    "import numpy as np\n",
    "import matplotlib.pyplot as plt\n",
    "from mpl_toolkits.basemap import Basemap\n",
    "# Extract the data we're interested in\n",
    "df = df.dropna()\n",
    "lat = df['latitude'].values\n",
    "lon = df['longitude'].values\n",
    "price = df['price'].values\n",
    "rating = df['rating'].values"
   ]
  },
  {
   "cell_type": "code",
   "execution_count": null,
   "metadata": {},
   "outputs": [],
   "source": [
    "min(lat)"
   ]
  },
  {
   "cell_type": "code",
   "execution_count": null,
   "metadata": {},
   "outputs": [],
   "source": [
    "min(lon)"
   ]
  },
  {
   "cell_type": "code",
   "execution_count": null,
   "metadata": {},
   "outputs": [],
   "source": [
    "# 1. Draw the map background\n",
    "fig = plt.figure(figsize=(8, 8))\n",
    "m = Basemap(resolution = 'i', projection = 'cyl',\n",
    "            llcrnrlat=40.35868, llcrnrlon=-74.491350,\n",
    "            urcrnrlat = 41.163819, urcrnrlon = -73.447253,epsg = 3395)\n",
    "m.shadedrelief()\n",
    "m.arcgisimage(service =\"ESRI_Imagery_World_2D\", xpixels = 2000)\n",
    "# 2. scatter city data, with color reflecting population\n",
    "# and size reflecting area\n",
    "m.scatter(lon, lat, latlon=True,\n",
    "          c=(price)**3, s=(rating)*4,\n",
    "          cmap='Reds', alpha=0.5)\n",
    "\n",
    "# 3. arcgisimage\n",
    "plt.savefig(\"ESRI_Imagery_World_2D\", bbox_inches = \"tight\", dpi = 500)"
   ]
  },
  {
   "cell_type": "code",
   "execution_count": null,
   "metadata": {},
   "outputs": [],
   "source": [
    "# Train-test-split again\n",
    "X_train, X_test, y_train, y_test = train_test_split(\n",
    "    X.copy(), y.copy(), random_state=42, test_size=0.5\n",
    ")"
   ]
  },
  {
   "cell_type": "code",
   "execution_count": null,
   "metadata": {},
   "outputs": [],
   "source": [
    "# How'd we do now?\n",
    "model = LinearRegression()\n",
    "model.fit(X_train, y_train)\n",
    "model.score(X_test, y_test)"
   ]
  },
  {
   "cell_type": "code",
   "execution_count": null,
   "metadata": {},
   "outputs": [],
   "source": [
    "# All this wrapped up!\n",
    "def transfer_tune(X, y, k):\n",
    "    location_data = df_yelp[[\"latitude\", \"longitude\"]]\n",
    "    km = KMeans(n_clusters=k)\n",
    "    km.fit(location_data)\n",
    "    X.loc[:, \"cluster\"] = km.predict(location_data)\n",
    "    X_dummy = pd.get_dummies(columns=[\"cluster\"], data=X)\n",
    "    X_train, X_test, y_train, y_test = train_test_split(\n",
    "        X_dummy.copy(), y.copy(), random_state=42, test_size=0.5\n",
    "    )\n",
    "    model = LinearRegression()\n",
    "    model.fit(X_train, y_train)\n",
    "    r2 = model.score(X_test, y_test)\n",
    "    print(f\"{k} : {r2}\")"
   ]
  },
  {
   "cell_type": "code",
   "execution_count": null,
   "metadata": {},
   "outputs": [],
   "source": [
    "for k in range(2, 103, 5):\n",
    "    transfer_tune(X, y, k)"
   ]
  },
  {
   "cell_type": "code",
   "execution_count": null,
   "metadata": {},
   "outputs": [],
   "source": [
    "sns.scatterplot(data = df, x = 'affluency_rate', y = 'zip_code')"
   ]
  },
  {
   "cell_type": "markdown",
   "metadata": {},
   "source": [
    "# ============\n",
    "# Above is work in progress"
   ]
  },
  {
   "cell_type": "markdown",
   "metadata": {},
   "source": [
    "## Saving/Loading Clean data"
   ]
  },
  {
   "cell_type": "code",
   "execution_count": null,
   "metadata": {},
   "outputs": [],
   "source": [
    "# complete_df.to_csv(\"./data/clean_data.csv\")"
   ]
  },
  {
   "cell_type": "code",
   "execution_count": 540,
   "metadata": {},
   "outputs": [],
   "source": [
    "import time\n",
    "import pandas as pd\n",
    "import matplotlib.pyplot as plt\n",
    "import seaborn as sns\n",
    "import numpy as np\n",
    "import columnExpander\n",
    "from ast import literal_eval\n",
    "import numpy as np\n",
    "import pandas as pd\n",
    "import matplotlib.pyplot as plt\n",
    "\n",
    "from sklearn.model_selection import train_test_split, GridSearchCV\n",
    "from sklearn.metrics import confusion_matrix, f1_score\n",
    "from sklearn.preprocessing import StandardScaler\n",
    "from sklearn.pipeline import Pipeline\n",
    "from sklearn.cluster import KMeans\n",
    "from sklearn.linear_model import LogisticRegression\n",
    "from sklearn.neighbors import KNeighborsClassifier\n",
    "from sklearn.naive_bayes import MultinomialNB\n",
    "from sklearn.tree import DecisionTreeClassifier\n",
    "from sklearn.ensemble import BaggingClassifier, RandomForestClassifier, ExtraTreesClassifier\n",
    "from sklearn.svm import SVC\n",
    "import xgboost as xgb"
   ]
  },
  {
   "cell_type": "code",
   "execution_count": 516,
   "metadata": {},
   "outputs": [],
   "source": [
    "random_state = 42"
   ]
  },
  {
   "cell_type": "code",
   "execution_count": 465,
   "metadata": {},
   "outputs": [],
   "source": [
    "complete_df = pd.read_csv(\"./data/clean_data.csv\", index_col = 0)"
   ]
  },
  {
   "cell_type": "code",
   "execution_count": 466,
   "metadata": {},
   "outputs": [
    {
     "data": {
      "text/html": [
       "<div>\n",
       "<style scoped>\n",
       "    .dataframe tbody tr th:only-of-type {\n",
       "        vertical-align: middle;\n",
       "    }\n",
       "\n",
       "    .dataframe tbody tr th {\n",
       "        vertical-align: top;\n",
       "    }\n",
       "\n",
       "    .dataframe thead th {\n",
       "        text-align: right;\n",
       "    }\n",
       "</style>\n",
       "<table border=\"1\" class=\"dataframe\">\n",
       "  <thead>\n",
       "    <tr style=\"text-align: right;\">\n",
       "      <th></th>\n",
       "      <th>id</th>\n",
       "      <th>price</th>\n",
       "      <th>rating</th>\n",
       "      <th>review_count</th>\n",
       "      <th>zip_code</th>\n",
       "      <th>city</th>\n",
       "      <th>state</th>\n",
       "      <th>latitude</th>\n",
       "      <th>longitude</th>\n",
       "      <th>affluency_rate</th>\n",
       "      <th>...</th>\n",
       "      <th>categories_fondue</th>\n",
       "      <th>categories_foodstands</th>\n",
       "      <th>categories_cocktailbars</th>\n",
       "      <th>categories_mideastern</th>\n",
       "      <th>transactions_</th>\n",
       "      <th>transactions_restaurant_reservation</th>\n",
       "      <th>transactions_delivery</th>\n",
       "      <th>transactions_pickup</th>\n",
       "      <th>location_cluster</th>\n",
       "      <th>is_affluent</th>\n",
       "    </tr>\n",
       "  </thead>\n",
       "  <tbody>\n",
       "    <tr>\n",
       "      <th>0</th>\n",
       "      <td>GA5msU6NO9rQRctPfDJCBg</td>\n",
       "      <td>2</td>\n",
       "      <td>4</td>\n",
       "      <td>1082</td>\n",
       "      <td>11216</td>\n",
       "      <td>Brooklyn</td>\n",
       "      <td>NY</td>\n",
       "      <td>40.683370</td>\n",
       "      <td>-73.943780</td>\n",
       "      <td>0.022398</td>\n",
       "      <td>...</td>\n",
       "      <td>0.0</td>\n",
       "      <td>0.0</td>\n",
       "      <td>0.0</td>\n",
       "      <td>0.0</td>\n",
       "      <td>1.0</td>\n",
       "      <td>0.0</td>\n",
       "      <td>1.0</td>\n",
       "      <td>1.0</td>\n",
       "      <td>1</td>\n",
       "      <td>0</td>\n",
       "    </tr>\n",
       "    <tr>\n",
       "      <th>1</th>\n",
       "      <td>KkAtVVjnMfb1vGlcpzmhgw</td>\n",
       "      <td>2</td>\n",
       "      <td>4</td>\n",
       "      <td>303</td>\n",
       "      <td>11216</td>\n",
       "      <td>Brooklyn</td>\n",
       "      <td>NY</td>\n",
       "      <td>40.677866</td>\n",
       "      <td>-73.950000</td>\n",
       "      <td>0.022398</td>\n",
       "      <td>...</td>\n",
       "      <td>0.0</td>\n",
       "      <td>0.0</td>\n",
       "      <td>0.0</td>\n",
       "      <td>0.0</td>\n",
       "      <td>1.0</td>\n",
       "      <td>0.0</td>\n",
       "      <td>1.0</td>\n",
       "      <td>1.0</td>\n",
       "      <td>1</td>\n",
       "      <td>0</td>\n",
       "    </tr>\n",
       "    <tr>\n",
       "      <th>2</th>\n",
       "      <td>34LM8_lP8iwizHBu6YgaQQ</td>\n",
       "      <td>2</td>\n",
       "      <td>4</td>\n",
       "      <td>200</td>\n",
       "      <td>11216</td>\n",
       "      <td>Brooklyn</td>\n",
       "      <td>NY</td>\n",
       "      <td>40.680160</td>\n",
       "      <td>-73.941975</td>\n",
       "      <td>0.022398</td>\n",
       "      <td>...</td>\n",
       "      <td>0.0</td>\n",
       "      <td>0.0</td>\n",
       "      <td>0.0</td>\n",
       "      <td>0.0</td>\n",
       "      <td>1.0</td>\n",
       "      <td>0.0</td>\n",
       "      <td>1.0</td>\n",
       "      <td>1.0</td>\n",
       "      <td>1</td>\n",
       "      <td>0</td>\n",
       "    </tr>\n",
       "    <tr>\n",
       "      <th>3</th>\n",
       "      <td>ipmOYDh9snm3ZUv546MACQ</td>\n",
       "      <td>1</td>\n",
       "      <td>4</td>\n",
       "      <td>178</td>\n",
       "      <td>11216</td>\n",
       "      <td>Crown Heights</td>\n",
       "      <td>NY</td>\n",
       "      <td>40.672984</td>\n",
       "      <td>-73.950312</td>\n",
       "      <td>0.022398</td>\n",
       "      <td>...</td>\n",
       "      <td>0.0</td>\n",
       "      <td>0.0</td>\n",
       "      <td>0.0</td>\n",
       "      <td>0.0</td>\n",
       "      <td>1.0</td>\n",
       "      <td>0.0</td>\n",
       "      <td>1.0</td>\n",
       "      <td>1.0</td>\n",
       "      <td>1</td>\n",
       "      <td>0</td>\n",
       "    </tr>\n",
       "    <tr>\n",
       "      <th>4</th>\n",
       "      <td>Dv28TvKBh_8i6W02uAaMKw</td>\n",
       "      <td>2</td>\n",
       "      <td>4</td>\n",
       "      <td>140</td>\n",
       "      <td>11216</td>\n",
       "      <td>Bedford-Stuyvesant</td>\n",
       "      <td>NY</td>\n",
       "      <td>40.689756</td>\n",
       "      <td>-73.951087</td>\n",
       "      <td>0.022398</td>\n",
       "      <td>...</td>\n",
       "      <td>0.0</td>\n",
       "      <td>0.0</td>\n",
       "      <td>0.0</td>\n",
       "      <td>0.0</td>\n",
       "      <td>1.0</td>\n",
       "      <td>0.0</td>\n",
       "      <td>0.0</td>\n",
       "      <td>1.0</td>\n",
       "      <td>1</td>\n",
       "      <td>0</td>\n",
       "    </tr>\n",
       "  </tbody>\n",
       "</table>\n",
       "<p>5 rows × 292 columns</p>\n",
       "</div>"
      ],
      "text/plain": [
       "                       id  price  rating  review_count  zip_code  \\\n",
       "0  GA5msU6NO9rQRctPfDJCBg      2       4          1082     11216   \n",
       "1  KkAtVVjnMfb1vGlcpzmhgw      2       4           303     11216   \n",
       "2  34LM8_lP8iwizHBu6YgaQQ      2       4           200     11216   \n",
       "3  ipmOYDh9snm3ZUv546MACQ      1       4           178     11216   \n",
       "4  Dv28TvKBh_8i6W02uAaMKw      2       4           140     11216   \n",
       "\n",
       "                 city state   latitude  longitude  affluency_rate  ...  \\\n",
       "0            Brooklyn    NY  40.683370 -73.943780        0.022398  ...   \n",
       "1            Brooklyn    NY  40.677866 -73.950000        0.022398  ...   \n",
       "2            Brooklyn    NY  40.680160 -73.941975        0.022398  ...   \n",
       "3       Crown Heights    NY  40.672984 -73.950312        0.022398  ...   \n",
       "4  Bedford-Stuyvesant    NY  40.689756 -73.951087        0.022398  ...   \n",
       "\n",
       "   categories_fondue  categories_foodstands  categories_cocktailbars  \\\n",
       "0                0.0                    0.0                      0.0   \n",
       "1                0.0                    0.0                      0.0   \n",
       "2                0.0                    0.0                      0.0   \n",
       "3                0.0                    0.0                      0.0   \n",
       "4                0.0                    0.0                      0.0   \n",
       "\n",
       "   categories_mideastern  transactions_  transactions_restaurant_reservation  \\\n",
       "0                    0.0            1.0                                  0.0   \n",
       "1                    0.0            1.0                                  0.0   \n",
       "2                    0.0            1.0                                  0.0   \n",
       "3                    0.0            1.0                                  0.0   \n",
       "4                    0.0            1.0                                  0.0   \n",
       "\n",
       "   transactions_delivery  transactions_pickup  location_cluster  is_affluent  \n",
       "0                    1.0                  1.0                 1            0  \n",
       "1                    1.0                  1.0                 1            0  \n",
       "2                    1.0                  1.0                 1            0  \n",
       "3                    1.0                  1.0                 1            0  \n",
       "4                    0.0                  1.0                 1            0  \n",
       "\n",
       "[5 rows x 292 columns]"
      ]
     },
     "execution_count": 466,
     "metadata": {},
     "output_type": "execute_result"
    }
   ],
   "source": [
    "complete_df.head()"
   ]
  },
  {
   "cell_type": "markdown",
   "metadata": {},
   "source": [
    "## Model Preparation"
   ]
  },
  {
   "cell_type": "code",
   "execution_count": 467,
   "metadata": {},
   "outputs": [],
   "source": [
    "remove_columns = [\n",
    "    'id',\n",
    "    'zip_code',\n",
    "    'city',\n",
    "    'state',\n",
    "    'latitude',\n",
    "    'longitude',\n",
    "    'affluency_rate',\n",
    "    'transactions_'\n",
    "]\n",
    "target = 'is_affluent'"
   ]
  },
  {
   "cell_type": "code",
   "execution_count": 468,
   "metadata": {},
   "outputs": [],
   "source": [
    "X = complete_df.drop(columns=remove_columns+[target])\n",
    "y = complete_df[target]"
   ]
  },
  {
   "cell_type": "code",
   "execution_count": 775,
   "metadata": {
    "scrolled": true
   },
   "outputs": [
    {
     "data": {
      "text/plain": [
       "(8869, 283)"
      ]
     },
     "execution_count": 775,
     "metadata": {},
     "output_type": "execute_result"
    }
   ],
   "source": [
    "X.shape"
   ]
  },
  {
   "cell_type": "code",
   "execution_count": 782,
   "metadata": {},
   "outputs": [
    {
     "data": {
      "text/plain": [
       "id                                       0\n",
       "price                                    0\n",
       "rating                                   0\n",
       "review_count                             0\n",
       "zip_code                                 0\n",
       "city                                     0\n",
       "state                                    0\n",
       "latitude                                 0\n",
       "longitude                                0\n",
       "affluency_rate                         115\n",
       "categories_steak                         0\n",
       "categories_headshops                     0\n",
       "categories_kitchensupplies               0\n",
       "categories_giftshops                     0\n",
       "categories_pakistani                     0\n",
       "categories_dimsum                        0\n",
       "categories_skate_parks                   0\n",
       "categories_drugstores                    0\n",
       "categories_ethiopian                     0\n",
       "categories_speakeasies                   0\n",
       "categories_musicvenues                   0\n",
       "categories_adultedu                      0\n",
       "categories_bookstores                    0\n",
       "categories_hotpot                        0\n",
       "categories_tuscan                        0\n",
       "categories_raw_food                      0\n",
       "categories_cheesesteaks                  0\n",
       "categories_tradamerican                  0\n",
       "categories_catering                      0\n",
       "categories_arabian                       0\n",
       "                                      ... \n",
       "categories_halal                         0\n",
       "categories_partyequipmentrentals         0\n",
       "categories_piadina                       0\n",
       "categories_polish                        0\n",
       "categories_soulfood                      0\n",
       "categories_foodstands                    0\n",
       "categories_chicken_wings                 0\n",
       "categories_asianfusion                   0\n",
       "categories_noodles                       0\n",
       "categories_szechuan                      0\n",
       "categories_themedcafes                   0\n",
       "categories_vegetarian                    0\n",
       "categories_russian                       0\n",
       "categories_donuts                        0\n",
       "categories_movietheaters                 0\n",
       "categories_soup                          0\n",
       "categories_basque                        0\n",
       "categories_hobbyshops                    0\n",
       "categories_scottish                      0\n",
       "categories_newmexican                    0\n",
       "categories_himalayan                     0\n",
       "categories_cambodian                     0\n",
       "categories_austrian                      0\n",
       "categories_pianobars                     0\n",
       "categories_shanghainese                  0\n",
       "transactions_                            0\n",
       "transactions_pickup                      0\n",
       "transactions_delivery                    0\n",
       "transactions_restaurant_reservation      0\n",
       "location_cluster                         0\n",
       "Length: 291, dtype: int64"
      ]
     },
     "execution_count": 782,
     "metadata": {},
     "output_type": "execute_result"
    }
   ],
   "source": [
    "incomplete_df.isnull().sum()"
   ]
  },
  {
   "cell_type": "markdown",
   "metadata": {},
   "source": [
    "The baseline accuracy for the data is about 71.7% being not affluent."
   ]
  },
  {
   "cell_type": "code",
   "execution_count": 473,
   "metadata": {},
   "outputs": [
    {
     "data": {
      "text/plain": [
       "0    0.717105\n",
       "1    0.282895\n",
       "Name: is_affluent, dtype: float64"
      ]
     },
     "execution_count": 473,
     "metadata": {},
     "output_type": "execute_result"
    }
   ],
   "source": [
    "y.value_counts(normalize = True)"
   ]
  },
  {
   "cell_type": "code",
   "execution_count": 474,
   "metadata": {},
   "outputs": [],
   "source": [
    "X_train, X_test, y_train, y_test = train_test_split(X, y, random_state = random_state, stratify = y)"
   ]
  },
  {
   "cell_type": "code",
   "execution_count": 543,
   "metadata": {},
   "outputs": [],
   "source": [
    "def metrics(y_true, y_pred, model, X_test):\n",
    "    tn, fp, fn, tp = confusion_matrix(y_true, y_pred).ravel() # defines the value for confusion matrix\n",
    "    acc = model.score(X_test, y_test)  #calculates the accuracy for the model\n",
    "    mis = 1 - acc # calculates the misclassication for the model\n",
    "    spec = tn / (tn+fp) # calculates the specificity for the model\n",
    "    sens = tp / (tp+fn) # calculates the sensitivity for the model\n",
    "    prec = tp / (tp+fp) # calculates the precision for the model\n",
    "    f1 = f1_score(y_true, y_pred)\n",
    "\n",
    "    # Print results for metrics\n",
    "    print(f'The accuracy for this model is {round(acc,3)}')\n",
    "    print(f'The misclassification for this model is: {round(mis,3)}')\n",
    "    print(f'The specificity for this model is: {round(spec,3)}')\n",
    "    print(f'The sensitivity for this model is: {round(sens,3)}')\n",
    "    print(f'The precision for this model is: {round(prec,3)}')\n",
    "    print(f'The F1 score for this model is: {round(f1,3)}')"
   ]
  },
  {
   "cell_type": "markdown",
   "metadata": {},
   "source": [
    "## Model Selection\n",
    "- [Hadi] Exploring models\n",
    "- [Eddie] Exploring models\n",
    "\n",
    "Maybe split on which models you 2 want to try out"
   ]
  },
  {
   "cell_type": "markdown",
   "metadata": {},
   "source": [
    "[Eddie] The models below uses all features created. The threshold is set at getting a decent score with a minimal amount of variance."
   ]
  },
  {
   "cell_type": "markdown",
   "metadata": {},
   "source": [
    "### Logistic Model"
   ]
  },
  {
   "cell_type": "code",
   "execution_count": 478,
   "metadata": {},
   "outputs": [],
   "source": [
    "lr = LogisticRegression()\n",
    "\n",
    "lr_params = {'C': np.logspace(.01, 5, 3),\n",
    "          'penalty': ['l1', 'l2']}\n",
    "\n",
    "gs_lr = GridSearchCV(lr, param_grid=lr_params, cv = 5, n_jobs=-1, verbose=2)"
   ]
  },
  {
   "cell_type": "code",
   "execution_count": 479,
   "metadata": {},
   "outputs": [
    {
     "name": "stdout",
     "output_type": "stream",
     "text": [
      "Fitting 5 folds for each of 6 candidates, totalling 30 fits\n"
     ]
    },
    {
     "name": "stderr",
     "output_type": "stream",
     "text": [
      "[Parallel(n_jobs=-1)]: Using backend LokyBackend with 8 concurrent workers.\n",
      "[Parallel(n_jobs=-1)]: Done  30 out of  30 | elapsed:    1.7s finished\n"
     ]
    },
    {
     "data": {
      "text/plain": [
       "GridSearchCV(cv=5, error_score='raise-deprecating',\n",
       "       estimator=LogisticRegression(C=1.0, class_weight=None, dual=False, fit_intercept=True,\n",
       "          intercept_scaling=1, max_iter=100, multi_class='warn',\n",
       "          n_jobs=None, penalty='l2', random_state=None, solver='warn',\n",
       "          tol=0.0001, verbose=0, warm_start=False),\n",
       "       fit_params=None, iid='warn', n_jobs=-1,\n",
       "       param_grid={'C': array([1.02329e+00, 3.19890e+02, 1.00000e+05]), 'penalty': ['l1', 'l2']},\n",
       "       pre_dispatch='2*n_jobs', refit=True, return_train_score='warn',\n",
       "       scoring=None, verbose=2)"
      ]
     },
     "execution_count": 479,
     "metadata": {},
     "output_type": "execute_result"
    }
   ],
   "source": [
    "gs_lr.fit(X_train, y_train)"
   ]
  },
  {
   "cell_type": "code",
   "execution_count": 480,
   "metadata": {
    "scrolled": true
   },
   "outputs": [
    {
     "data": {
      "text/plain": [
       "0.8137122237257556"
      ]
     },
     "execution_count": 480,
     "metadata": {},
     "output_type": "execute_result"
    }
   ],
   "source": [
    "gs_lr.best_score_"
   ]
  },
  {
   "cell_type": "code",
   "execution_count": 482,
   "metadata": {
    "scrolled": true
   },
   "outputs": [
    {
     "data": {
      "text/plain": [
       "0.8097385031559964"
      ]
     },
     "execution_count": 482,
     "metadata": {},
     "output_type": "execute_result"
    }
   ],
   "source": [
    "gs_lr.score(X_test, y_test)"
   ]
  },
  {
   "cell_type": "code",
   "execution_count": 532,
   "metadata": {},
   "outputs": [],
   "source": [
    "lr_y_pred = gs_lr.predict(X_test)"
   ]
  },
  {
   "cell_type": "code",
   "execution_count": 533,
   "metadata": {},
   "outputs": [
    {
     "data": {
      "text/plain": [
       "array([[1461,  130],\n",
       "       [ 292,  335]], dtype=int64)"
      ]
     },
     "execution_count": 533,
     "metadata": {},
     "output_type": "execute_result"
    }
   ],
   "source": [
    "confusion_matrix(y_test, lr_y_pred)"
   ]
  },
  {
   "cell_type": "code",
   "execution_count": 544,
   "metadata": {},
   "outputs": [
    {
     "name": "stdout",
     "output_type": "stream",
     "text": [
      "The accuracy for this model is 0.81\n",
      "The misclassification for this model is: 0.19\n",
      "The specificity for this model is: 0.918\n",
      "The sensitivity for this model is: 0.534\n",
      "The precision for this model is: 0.72\n",
      "The F1 score for this model is: 0.614\n"
     ]
    }
   ],
   "source": [
    "metrics(y_test, lr_y_pred, gs_lr, X_test)"
   ]
  },
  {
   "cell_type": "markdown",
   "metadata": {},
   "source": [
    "### K-Nearest Neighbors Model"
   ]
  },
  {
   "cell_type": "code",
   "execution_count": 484,
   "metadata": {},
   "outputs": [],
   "source": [
    "sc = StandardScaler()\n",
    "X_train_sc = sc.fit_transform(X_train)\n",
    "X_test_sc = sc.transform(X_test)"
   ]
  },
  {
   "cell_type": "code",
   "execution_count": 488,
   "metadata": {},
   "outputs": [],
   "source": [
    "knn = KNeighborsClassifier()\n",
    "\n",
    "knn_params = {'n_neighbors': range(3, 13, 2),\n",
    "              'algorithm': ['ball_tree', 'kd_tree', 'brute']}\n",
    "gs_knn = GridSearchCV(knn, param_grid=knn_params, cv = 5, n_jobs=-1, verbose=2)"
   ]
  },
  {
   "cell_type": "code",
   "execution_count": 489,
   "metadata": {},
   "outputs": [
    {
     "name": "stdout",
     "output_type": "stream",
     "text": [
      "Fitting 5 folds for each of 15 candidates, totalling 75 fits\n"
     ]
    },
    {
     "name": "stderr",
     "output_type": "stream",
     "text": [
      "[Parallel(n_jobs=-1)]: Using backend LokyBackend with 8 concurrent workers.\n",
      "[Parallel(n_jobs=-1)]: Done  25 tasks      | elapsed:  1.5min\n",
      "[Parallel(n_jobs=-1)]: Done  75 out of  75 | elapsed:  2.5min finished\n"
     ]
    },
    {
     "data": {
      "text/plain": [
       "GridSearchCV(cv=5, error_score='raise-deprecating',\n",
       "       estimator=KNeighborsClassifier(algorithm='auto', leaf_size=30, metric='minkowski',\n",
       "           metric_params=None, n_jobs=None, n_neighbors=5, p=2,\n",
       "           weights='uniform'),\n",
       "       fit_params=None, iid='warn', n_jobs=-1,\n",
       "       param_grid={'n_neighbors': range(3, 13, 2), 'algorithm': ['ball_tree', 'kd_tree', 'brute']},\n",
       "       pre_dispatch='2*n_jobs', refit=True, return_train_score='warn',\n",
       "       scoring=None, verbose=2)"
      ]
     },
     "execution_count": 489,
     "metadata": {},
     "output_type": "execute_result"
    }
   ],
   "source": [
    "gs_knn.fit(X_train_sc, y_train)"
   ]
  },
  {
   "cell_type": "code",
   "execution_count": 490,
   "metadata": {},
   "outputs": [
    {
     "data": {
      "text/plain": [
       "0.7481581717035032"
      ]
     },
     "execution_count": 490,
     "metadata": {},
     "output_type": "execute_result"
    }
   ],
   "source": [
    "gs_knn.best_score_"
   ]
  },
  {
   "cell_type": "code",
   "execution_count": 491,
   "metadata": {
    "scrolled": true
   },
   "outputs": [
    {
     "data": {
      "text/plain": [
       "0.7596934174932372"
      ]
     },
     "execution_count": 491,
     "metadata": {},
     "output_type": "execute_result"
    }
   ],
   "source": [
    "gs_knn.score(X_test_sc, y_test)"
   ]
  },
  {
   "cell_type": "code",
   "execution_count": 538,
   "metadata": {},
   "outputs": [
    {
     "data": {
      "text/plain": [
       "array([[1445,  146],\n",
       "       [ 387,  240]], dtype=int64)"
      ]
     },
     "execution_count": 538,
     "metadata": {},
     "output_type": "execute_result"
    }
   ],
   "source": [
    "knn_y_pred = gs_knn.predict(X_test_sc)\n",
    "confusion_matrix(y_test, knn_y_pred)"
   ]
  },
  {
   "cell_type": "code",
   "execution_count": 545,
   "metadata": {},
   "outputs": [
    {
     "name": "stdout",
     "output_type": "stream",
     "text": [
      "The accuracy for this model is 0.76\n",
      "The misclassification for this model is: 0.24\n",
      "The specificity for this model is: 0.908\n",
      "The sensitivity for this model is: 0.383\n",
      "The precision for this model is: 0.622\n",
      "The F1 score for this model is: 0.474\n"
     ]
    }
   ],
   "source": [
    "metrics(y_test, knn_y_pred, gs_knn, X_test_sc)"
   ]
  },
  {
   "cell_type": "markdown",
   "metadata": {},
   "source": [
    "### Decision Tree Model"
   ]
  },
  {
   "cell_type": "code",
   "execution_count": 497,
   "metadata": {},
   "outputs": [],
   "source": [
    "dt = DecisionTreeClassifier(random_state = random_state)\n",
    "\n",
    "dt_params = {'max_depth': [None, 3, 6, 7, 10],\n",
    "             'min_samples_split': [2, 3, 4],\n",
    "             'min_samples_leaf': [1, 2],\n",
    "             'max_features': [94, 130, 150, None]}\n",
    "\n",
    "gs_dt = GridSearchCV(dt, param_grid=dt_params, cv = 5, n_jobs=-1, verbose=2)"
   ]
  },
  {
   "cell_type": "code",
   "execution_count": 498,
   "metadata": {},
   "outputs": [
    {
     "name": "stdout",
     "output_type": "stream",
     "text": [
      "Fitting 5 folds for each of 120 candidates, totalling 600 fits\n"
     ]
    },
    {
     "name": "stderr",
     "output_type": "stream",
     "text": [
      "[Parallel(n_jobs=-1)]: Using backend LokyBackend with 8 concurrent workers.\n",
      "[Parallel(n_jobs=-1)]: Done  34 tasks      | elapsed:    0.9s\n",
      "[Parallel(n_jobs=-1)]: Done 276 tasks      | elapsed:    5.3s\n",
      "[Parallel(n_jobs=-1)]: Done 600 out of 600 | elapsed:   11.2s finished\n"
     ]
    },
    {
     "data": {
      "text/plain": [
       "GridSearchCV(cv=5, error_score='raise-deprecating',\n",
       "       estimator=DecisionTreeClassifier(class_weight=None, criterion='gini', max_depth=None,\n",
       "            max_features=None, max_leaf_nodes=None,\n",
       "            min_impurity_decrease=0.0, min_impurity_split=None,\n",
       "            min_samples_leaf=1, min_samples_split=2,\n",
       "            min_weight_fraction_leaf=0.0, presort=False, random_state=42,\n",
       "            splitter='best'),\n",
       "       fit_params=None, iid='warn', n_jobs=-1,\n",
       "       param_grid={'max_depth': [None, 3, 6, 7, 10], 'min_samples_split': [2, 3, 4], 'min_samples_leaf': [1, 2], 'max_features': [94, 130, 150, None]},\n",
       "       pre_dispatch='2*n_jobs', refit=True, return_train_score='warn',\n",
       "       scoring=None, verbose=2)"
      ]
     },
     "execution_count": 498,
     "metadata": {},
     "output_type": "execute_result"
    }
   ],
   "source": [
    "gs_dt.fit(X_train, y_train)"
   ]
  },
  {
   "cell_type": "code",
   "execution_count": 502,
   "metadata": {},
   "outputs": [
    {
     "data": {
      "text/plain": [
       "0.8613742294391821"
      ]
     },
     "execution_count": 502,
     "metadata": {},
     "output_type": "execute_result"
    }
   ],
   "source": [
    "gs_dt.score(X_train, y_train)"
   ]
  },
  {
   "cell_type": "code",
   "execution_count": 501,
   "metadata": {},
   "outputs": [
    {
     "data": {
      "text/plain": [
       "0.8566275924256087"
      ]
     },
     "execution_count": 501,
     "metadata": {},
     "output_type": "execute_result"
    }
   ],
   "source": [
    "gs_dt.score(X_test, y_test)"
   ]
  },
  {
   "cell_type": "code",
   "execution_count": 500,
   "metadata": {},
   "outputs": [
    {
     "data": {
      "text/plain": [
       "{'max_depth': 3,\n",
       " 'max_features': None,\n",
       " 'min_samples_leaf': 1,\n",
       " 'min_samples_split': 2}"
      ]
     },
     "execution_count": 500,
     "metadata": {},
     "output_type": "execute_result"
    }
   ],
   "source": [
    "gs_dt.best_params_"
   ]
  },
  {
   "cell_type": "code",
   "execution_count": 546,
   "metadata": {},
   "outputs": [
    {
     "data": {
      "text/plain": [
       "array([[1484,  107],\n",
       "       [ 211,  416]], dtype=int64)"
      ]
     },
     "execution_count": 546,
     "metadata": {},
     "output_type": "execute_result"
    }
   ],
   "source": [
    "dt_y_pred = gs_dt.predict(X_test)\n",
    "confusion_matrix(y_test, dt_y_pred)"
   ]
  },
  {
   "cell_type": "code",
   "execution_count": 547,
   "metadata": {},
   "outputs": [
    {
     "name": "stdout",
     "output_type": "stream",
     "text": [
      "The accuracy for this model is 0.857\n",
      "The misclassification for this model is: 0.143\n",
      "The specificity for this model is: 0.933\n",
      "The sensitivity for this model is: 0.663\n",
      "The precision for this model is: 0.795\n",
      "The F1 score for this model is: 0.723\n"
     ]
    }
   ],
   "source": [
    "metrics(y_test, dt_y_pred, gs_dt, X_test)"
   ]
  },
  {
   "cell_type": "markdown",
   "metadata": {},
   "source": [
    "### Bagging Model"
   ]
  },
  {
   "cell_type": "code",
   "execution_count": 511,
   "metadata": {},
   "outputs": [],
   "source": [
    "bc = BaggingClassifier(random_state = random_state)\n",
    "\n",
    "bc_params = {'n_estimators': [30, 40, 50],\n",
    "             'max_features': [1, .5, .1]}\n",
    "\n",
    "gs_bc = GridSearchCV(bc, param_grid=bc_params, cv = 5, n_jobs=-1, verbose=2)"
   ]
  },
  {
   "cell_type": "code",
   "execution_count": 512,
   "metadata": {
    "scrolled": true
   },
   "outputs": [
    {
     "name": "stdout",
     "output_type": "stream",
     "text": [
      "Fitting 5 folds for each of 9 candidates, totalling 45 fits\n"
     ]
    },
    {
     "name": "stderr",
     "output_type": "stream",
     "text": [
      "[Parallel(n_jobs=-1)]: Using backend LokyBackend with 8 concurrent workers.\n",
      "[Parallel(n_jobs=-1)]: Done  30 out of  45 | elapsed:    5.4s remaining:    2.7s\n",
      "[Parallel(n_jobs=-1)]: Done  45 out of  45 | elapsed:    6.3s finished\n"
     ]
    },
    {
     "data": {
      "text/plain": [
       "GridSearchCV(cv=5, error_score='raise-deprecating',\n",
       "       estimator=BaggingClassifier(base_estimator=None, bootstrap=True,\n",
       "         bootstrap_features=False, max_features=1.0, max_samples=1.0,\n",
       "         n_estimators=10, n_jobs=None, oob_score=False, random_state=42,\n",
       "         verbose=0, warm_start=False),\n",
       "       fit_params=None, iid='warn', n_jobs=-1,\n",
       "       param_grid={'n_estimators': [30, 40, 50], 'max_features': [1, 0.5, 0.1]},\n",
       "       pre_dispatch='2*n_jobs', refit=True, return_train_score='warn',\n",
       "       scoring=None, verbose=2)"
      ]
     },
     "execution_count": 512,
     "metadata": {},
     "output_type": "execute_result"
    }
   ],
   "source": [
    "gs_bc.fit(X_train, y_train)"
   ]
  },
  {
   "cell_type": "code",
   "execution_count": 514,
   "metadata": {},
   "outputs": [
    {
     "data": {
      "text/plain": [
       "0.8503984363253646"
      ]
     },
     "execution_count": 514,
     "metadata": {},
     "output_type": "execute_result"
    }
   ],
   "source": [
    "gs_bc.best_score_"
   ]
  },
  {
   "cell_type": "code",
   "execution_count": 513,
   "metadata": {},
   "outputs": [
    {
     "data": {
      "text/plain": [
       "{'max_features': 0.5, 'n_estimators': 40}"
      ]
     },
     "execution_count": 513,
     "metadata": {},
     "output_type": "execute_result"
    }
   ],
   "source": [
    "gs_bc.best_params_"
   ]
  },
  {
   "cell_type": "code",
   "execution_count": 515,
   "metadata": {
    "scrolled": true
   },
   "outputs": [
    {
     "data": {
      "text/plain": [
       "0.851668169522092"
      ]
     },
     "execution_count": 515,
     "metadata": {},
     "output_type": "execute_result"
    }
   ],
   "source": [
    "gs_bc.score(X_test, y_test)"
   ]
  },
  {
   "cell_type": "code",
   "execution_count": 548,
   "metadata": {},
   "outputs": [
    {
     "data": {
      "text/plain": [
       "array([[1464,  127],\n",
       "       [ 202,  425]], dtype=int64)"
      ]
     },
     "execution_count": 548,
     "metadata": {},
     "output_type": "execute_result"
    }
   ],
   "source": [
    "bc_y_pred = gs_bc.predict(X_test)\n",
    "confusion_matrix(y_test, bc_y_pred)"
   ]
  },
  {
   "cell_type": "code",
   "execution_count": 549,
   "metadata": {},
   "outputs": [
    {
     "name": "stdout",
     "output_type": "stream",
     "text": [
      "The accuracy for this model is 0.852\n",
      "The misclassification for this model is: 0.148\n",
      "The specificity for this model is: 0.92\n",
      "The sensitivity for this model is: 0.678\n",
      "The precision for this model is: 0.77\n",
      "The F1 score for this model is: 0.721\n"
     ]
    }
   ],
   "source": [
    "metrics(y_test, bc_y_pred, gs_bc, X_test)"
   ]
  },
  {
   "cell_type": "code",
   "execution_count": null,
   "metadata": {},
   "outputs": [],
   "source": [
    "def query(zip):\n",
    "    if zip is int\n",
    "        if df[df['zip'] == zip] has affluency rate:\n",
    "            return afflency rate\n",
    "        else:\n",
    "            run the df[df['zip'] == zip] through the model\n",
    "            take the average of affluence for that zip code\n",
    "            return the affluency rate\n",
    "    else:\n",
    "        if df[df['cty'] == city] has affluency rate:\n",
    "            return afflency rate\n",
    "        else:\n",
    "            run the df[df['city'] == city] through the model\n",
    "            take the average of affluence for that zip code\n",
    "            return the affluency rate"
   ]
  },
  {
   "cell_type": "code",
   "execution_count": 810,
   "metadata": {},
   "outputs": [],
   "source": [
    "def query(zip):\n",
    "    if incomplete_df[incomplete_df['zip_code'] == zip]['affluency_rate'].iloc[0] != np.nan:\n",
    "        print(round(incomplete_df[incomplete_df['zip_code'] == zip]['affluency_rate'].iloc[0], 3))\n",
    "    else:\n",
    "        X = incomplete_df[incomplete_df['zip_code'] == zip].drop(columns = ['id',\n",
    "                                                                            'zip_code',\n",
    "                                                                            'city',\n",
    "                                                                            'state',\n",
    "                                                                            'latitude',\n",
    "                                                                            'longitude',\n",
    "                                                                            'affluency_rate',\n",
    "                                                                            'transactions_'])\n",
    "        y_pred = gs_dt.predict_proba(X)\n",
    "        print(y_pred.mean())"
   ]
  },
  {
   "cell_type": "code",
   "execution_count": 812,
   "metadata": {},
   "outputs": [
    {
     "name": "stdout",
     "output_type": "stream",
     "text": [
      "0.022\n"
     ]
    }
   ],
   "source": [
    "query(11216)"
   ]
  },
  {
   "cell_type": "code",
   "execution_count": 800,
   "metadata": {},
   "outputs": [
    {
     "data": {
      "text/html": [
       "<div>\n",
       "<style scoped>\n",
       "    .dataframe tbody tr th:only-of-type {\n",
       "        vertical-align: middle;\n",
       "    }\n",
       "\n",
       "    .dataframe tbody tr th {\n",
       "        vertical-align: top;\n",
       "    }\n",
       "\n",
       "    .dataframe thead th {\n",
       "        text-align: right;\n",
       "    }\n",
       "</style>\n",
       "<table border=\"1\" class=\"dataframe\">\n",
       "  <thead>\n",
       "    <tr style=\"text-align: right;\">\n",
       "      <th></th>\n",
       "      <th>id</th>\n",
       "      <th>price</th>\n",
       "      <th>rating</th>\n",
       "      <th>review_count</th>\n",
       "      <th>zip_code</th>\n",
       "      <th>city</th>\n",
       "      <th>state</th>\n",
       "      <th>latitude</th>\n",
       "      <th>longitude</th>\n",
       "      <th>affluency_rate</th>\n",
       "      <th>...</th>\n",
       "      <th>categories_himalayan</th>\n",
       "      <th>categories_cambodian</th>\n",
       "      <th>categories_austrian</th>\n",
       "      <th>categories_pianobars</th>\n",
       "      <th>categories_shanghainese</th>\n",
       "      <th>transactions_</th>\n",
       "      <th>transactions_pickup</th>\n",
       "      <th>transactions_delivery</th>\n",
       "      <th>transactions_restaurant_reservation</th>\n",
       "      <th>location_cluster</th>\n",
       "    </tr>\n",
       "  </thead>\n",
       "  <tbody>\n",
       "    <tr>\n",
       "      <th>0</th>\n",
       "      <td>GA5msU6NO9rQRctPfDJCBg</td>\n",
       "      <td>2</td>\n",
       "      <td>4</td>\n",
       "      <td>1082</td>\n",
       "      <td>11216</td>\n",
       "      <td>Brooklyn</td>\n",
       "      <td>NY</td>\n",
       "      <td>40.683370</td>\n",
       "      <td>-73.943780</td>\n",
       "      <td>0.022398</td>\n",
       "      <td>...</td>\n",
       "      <td>0.0</td>\n",
       "      <td>0.0</td>\n",
       "      <td>0.0</td>\n",
       "      <td>0.0</td>\n",
       "      <td>0.0</td>\n",
       "      <td>1.0</td>\n",
       "      <td>1.0</td>\n",
       "      <td>1.0</td>\n",
       "      <td>0.0</td>\n",
       "      <td>5</td>\n",
       "    </tr>\n",
       "    <tr>\n",
       "      <th>1</th>\n",
       "      <td>KkAtVVjnMfb1vGlcpzmhgw</td>\n",
       "      <td>2</td>\n",
       "      <td>4</td>\n",
       "      <td>303</td>\n",
       "      <td>11216</td>\n",
       "      <td>Brooklyn</td>\n",
       "      <td>NY</td>\n",
       "      <td>40.677866</td>\n",
       "      <td>-73.950000</td>\n",
       "      <td>0.022398</td>\n",
       "      <td>...</td>\n",
       "      <td>0.0</td>\n",
       "      <td>0.0</td>\n",
       "      <td>0.0</td>\n",
       "      <td>0.0</td>\n",
       "      <td>0.0</td>\n",
       "      <td>1.0</td>\n",
       "      <td>1.0</td>\n",
       "      <td>1.0</td>\n",
       "      <td>0.0</td>\n",
       "      <td>5</td>\n",
       "    </tr>\n",
       "    <tr>\n",
       "      <th>2</th>\n",
       "      <td>34LM8_lP8iwizHBu6YgaQQ</td>\n",
       "      <td>2</td>\n",
       "      <td>4</td>\n",
       "      <td>200</td>\n",
       "      <td>11216</td>\n",
       "      <td>Brooklyn</td>\n",
       "      <td>NY</td>\n",
       "      <td>40.680160</td>\n",
       "      <td>-73.941975</td>\n",
       "      <td>0.022398</td>\n",
       "      <td>...</td>\n",
       "      <td>0.0</td>\n",
       "      <td>0.0</td>\n",
       "      <td>0.0</td>\n",
       "      <td>0.0</td>\n",
       "      <td>0.0</td>\n",
       "      <td>1.0</td>\n",
       "      <td>1.0</td>\n",
       "      <td>1.0</td>\n",
       "      <td>0.0</td>\n",
       "      <td>5</td>\n",
       "    </tr>\n",
       "    <tr>\n",
       "      <th>3</th>\n",
       "      <td>ipmOYDh9snm3ZUv546MACQ</td>\n",
       "      <td>1</td>\n",
       "      <td>4</td>\n",
       "      <td>178</td>\n",
       "      <td>11216</td>\n",
       "      <td>Crown Heights</td>\n",
       "      <td>NY</td>\n",
       "      <td>40.672984</td>\n",
       "      <td>-73.950312</td>\n",
       "      <td>0.022398</td>\n",
       "      <td>...</td>\n",
       "      <td>0.0</td>\n",
       "      <td>0.0</td>\n",
       "      <td>0.0</td>\n",
       "      <td>0.0</td>\n",
       "      <td>0.0</td>\n",
       "      <td>1.0</td>\n",
       "      <td>1.0</td>\n",
       "      <td>1.0</td>\n",
       "      <td>0.0</td>\n",
       "      <td>5</td>\n",
       "    </tr>\n",
       "    <tr>\n",
       "      <th>4</th>\n",
       "      <td>Dv28TvKBh_8i6W02uAaMKw</td>\n",
       "      <td>2</td>\n",
       "      <td>4</td>\n",
       "      <td>140</td>\n",
       "      <td>11216</td>\n",
       "      <td>Bedford-Stuyvesant</td>\n",
       "      <td>NY</td>\n",
       "      <td>40.689756</td>\n",
       "      <td>-73.951087</td>\n",
       "      <td>0.022398</td>\n",
       "      <td>...</td>\n",
       "      <td>0.0</td>\n",
       "      <td>0.0</td>\n",
       "      <td>0.0</td>\n",
       "      <td>0.0</td>\n",
       "      <td>0.0</td>\n",
       "      <td>1.0</td>\n",
       "      <td>1.0</td>\n",
       "      <td>0.0</td>\n",
       "      <td>0.0</td>\n",
       "      <td>5</td>\n",
       "    </tr>\n",
       "  </tbody>\n",
       "</table>\n",
       "<p>5 rows × 291 columns</p>\n",
       "</div>"
      ],
      "text/plain": [
       "                       id  price  rating  review_count  zip_code  \\\n",
       "0  GA5msU6NO9rQRctPfDJCBg      2       4          1082     11216   \n",
       "1  KkAtVVjnMfb1vGlcpzmhgw      2       4           303     11216   \n",
       "2  34LM8_lP8iwizHBu6YgaQQ      2       4           200     11216   \n",
       "3  ipmOYDh9snm3ZUv546MACQ      1       4           178     11216   \n",
       "4  Dv28TvKBh_8i6W02uAaMKw      2       4           140     11216   \n",
       "\n",
       "                 city state   latitude  longitude  affluency_rate  ...  \\\n",
       "0            Brooklyn    NY  40.683370 -73.943780        0.022398  ...   \n",
       "1            Brooklyn    NY  40.677866 -73.950000        0.022398  ...   \n",
       "2            Brooklyn    NY  40.680160 -73.941975        0.022398  ...   \n",
       "3       Crown Heights    NY  40.672984 -73.950312        0.022398  ...   \n",
       "4  Bedford-Stuyvesant    NY  40.689756 -73.951087        0.022398  ...   \n",
       "\n",
       "   categories_himalayan  categories_cambodian  categories_austrian  \\\n",
       "0                   0.0                   0.0                  0.0   \n",
       "1                   0.0                   0.0                  0.0   \n",
       "2                   0.0                   0.0                  0.0   \n",
       "3                   0.0                   0.0                  0.0   \n",
       "4                   0.0                   0.0                  0.0   \n",
       "\n",
       "   categories_pianobars  categories_shanghainese  transactions_  \\\n",
       "0                   0.0                      0.0            1.0   \n",
       "1                   0.0                      0.0            1.0   \n",
       "2                   0.0                      0.0            1.0   \n",
       "3                   0.0                      0.0            1.0   \n",
       "4                   0.0                      0.0            1.0   \n",
       "\n",
       "   transactions_pickup  transactions_delivery  \\\n",
       "0                  1.0                    1.0   \n",
       "1                  1.0                    1.0   \n",
       "2                  1.0                    1.0   \n",
       "3                  1.0                    1.0   \n",
       "4                  1.0                    0.0   \n",
       "\n",
       "   transactions_restaurant_reservation  location_cluster  \n",
       "0                                  0.0                 5  \n",
       "1                                  0.0                 5  \n",
       "2                                  0.0                 5  \n",
       "3                                  0.0                 5  \n",
       "4                                  0.0                 5  \n",
       "\n",
       "[5 rows x 291 columns]"
      ]
     },
     "execution_count": 800,
     "metadata": {},
     "output_type": "execute_result"
    }
   ],
   "source": [
    "incomplete_df.head()"
   ]
  },
  {
   "cell_type": "markdown",
   "metadata": {},
   "source": [
    "# incomplete_df[incomplete_df['affluency_rate'].isnull()].groupby('zip_code')['affluency_rate'].mean()"
   ]
  },
  {
   "cell_type": "markdown",
   "metadata": {},
   "source": [
    "## Model Evaluation\n",
    "- [Mahdi] killer graphs and visuals"
   ]
  },
  {
   "cell_type": "markdown",
   "metadata": {},
   "source": [
    "## Conclusions and Recommendations\n",
    "- [All]"
   ]
  },
  {
   "cell_type": "markdown",
   "metadata": {},
   "source": [
    "## Source Documentation\n",
    "- [NYC zip codes](https://www.nycbynatives.com/nyc_info/new_york_city_zip_codes.php)\n",
    "- [Yelp API - Business Endpoints](https://www.yelp.com/fusion)\n",
    "- [IRS dataset](https://www.irs.gov/statistics/soi-tax-stats-individual-income-tax-statistics-2016-zip-code-data-soi)"
   ]
  },
  {
   "cell_type": "code",
   "execution_count": null,
   "metadata": {},
   "outputs": [],
   "source": []
  }
 ],
 "metadata": {
  "kernelspec": {
   "display_name": "Python 3",
   "language": "python",
   "name": "python3"
  },
  "language_info": {
   "codemirror_mode": {
    "name": "ipython",
    "version": 3
   },
   "file_extension": ".py",
   "mimetype": "text/x-python",
   "name": "python",
   "nbconvert_exporter": "python",
   "pygments_lexer": "ipython3",
   "version": "3.7.3"
  }
 },
 "nbformat": 4,
 "nbformat_minor": 2
}
