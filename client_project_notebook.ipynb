{
 "cells": [
  {
   "cell_type": "markdown",
   "metadata": {},
   "source": [
    "# Predicting Areas of Affluence using Yelp Pricing Data\n",
    "\n",
    "#### Authors: \n",
    "- Eddie Yip\n",
    "- Hadi Morrow [LinkedIn](https://www.linkedin.com/in/hadi-morrow-4b94164b/) | [GitHub](https://github.com/HadiMorrow) | [Medium](https://medium.com/@hadi.a.morrow)\n",
    "- Mahdi Shadkam-Farrokhi: [GitHub](https://github.com/Shaddyjr) | [Medium](https://medium.com/@mahdis.pw) | [http://mahdis.pw](http://mahdis.pw)"
   ]
  },
  {
   "cell_type": "markdown",
   "metadata": {},
   "source": [
    "## Problem Statement [Hadi]\n",
    "\n",
    "While affluence should never be a factor when choosing to provide disaster aid or not, we must consider the following:\n",
    "\n",
    "- On the assumption that affluence plays a role, one might relate affluency to preparedness. Those who can afford to will always look out for their families at any cost. Those who can not might not be able to prepare as well due to the fact that it is not an option. \n",
    "\n",
    "- On the assumption that affluence is not part of a majority class, if we should be miopic with our search efforts we might want to consider saving the masses, those living in tight coridors and those with little to no income. If effect those most suseptible to losing their lives in a major disaster. \n",
    "\n",
    "- Using tax data we aim to show that using YELP data dollar signs is enough to predict where we might want to quickly and accuratly align our efforts. \n",
    "\n",
    "New Light Technologies as our audience, we hope to show that while using expensive and hard to handle data such as tax data can be more precise, a quick and dirty aproach could be to simply sord though the dollar signs data on yelp. \n",
    "\n",
    "---\n",
    "[Hadi] - Excellent write up! Here are some of my observations - feel free to include or not, totally up to you.\n",
    "1. It would be nice for the reader if we define 'affluence' here at the start. What do we consider \"affluent\" in our data (I think we mentioned 15% of the area code?)?\n",
    "2. As a reader, it would be VERY compelling to have an actual case where a natural disaster occured and the affluent areas weren't affected. If possible, research 1 or 2 cases when affluent areas were better prepared for natural disasters - this will help prove our predictive model has a real use case.\n",
    "3. Tying into the use case, it might be helpful to mention a realistic disaster scenario when only having Yelp! price data would be useful. Like, there's an emergency and there's little time to pull granular information about the area, but knowing the yelp reviews for an area, allows first-responders to know which areas their efforts will have the most impact"
   ]
  },
  {
   "cell_type": "markdown",
   "metadata": {},
   "source": [
    "## Executive Summary [Mahdi]\n",
    "\n",
    "- Difficulty gathering data\n",
    "- Prompt confusing regarding \"affluence\"\n",
    "- Other projects used outside data as metric\n",
    "- We pulled from API and didn't use old data, which was challenging"
   ]
  },
  {
   "cell_type": "markdown",
   "metadata": {},
   "source": [
    "## Table of Contents\n",
    "- [Gathering Data](#Gathering-Data)\n",
    "- [Loading Data](#Loading-Data)\n",
    "- [Preliminary Exploratory Data Analysis](#Preliminary-Exploratory-Data-Analysis)\n",
    "- [Cleaning the Data](#Cleaning-the-Data)\n",
    "- [Feature Engineering](#Feature-Engineering)\n",
    "- [Exploratory Data Analysis](#Exploratory-Data-Analysis)\n",
    "- [Model Preparation](#Model-Preparation)\n",
    "- [Model Selection](#Model-Selection)\n",
    "- [Model Evaluation](#Model-Evaluation)\n",
    "- [Conclusions and Recommendations](#Conclusions-and-Recommendations)\n",
    "- [Source Documentation](#Source-Documentation)"
   ]
  },
  {
   "cell_type": "markdown",
   "metadata": {},
   "source": [
    "## Gathering Data\n",
    "We got Yelp data using the API - link \n",
    " \n",
    "We got IRS data using - source [Eddie]"
   ]
  },
  {
   "cell_type": "markdown",
   "metadata": {},
   "source": [
    "## Loading Data\n",
    "- [All]"
   ]
  },
  {
   "cell_type": "code",
   "execution_count": 390,
   "metadata": {},
   "outputs": [],
   "source": [
    "import time\n",
    "import pandas as pd\n",
    "import matplotlib.pyplot as plt\n",
    "import seaborn as sns\n",
    "import numpy as np\n",
    "import columnExpander\n",
    "from ast import literal_eval"
   ]
  },
  {
   "cell_type": "code",
   "execution_count": 391,
   "metadata": {},
   "outputs": [],
   "source": [
    "data_file_path = \"./data/total_merged.csv\"\n",
    "df_yelp = pd.read_csv(data_file_path, index_col = 0)\n",
    "df_yelp.reset_index(drop=True, inplace = True) # same indeces were merged using multiple API calls"
   ]
  },
  {
   "cell_type": "markdown",
   "metadata": {},
   "source": [
    "## Preliminary Exploratory Data Analysis\n",
    "- [All]"
   ]
  },
  {
   "cell_type": "code",
   "execution_count": 392,
   "metadata": {},
   "outputs": [
    {
     "data": {
      "text/html": [
       "<div>\n",
       "<style scoped>\n",
       "    .dataframe tbody tr th:only-of-type {\n",
       "        vertical-align: middle;\n",
       "    }\n",
       "\n",
       "    .dataframe tbody tr th {\n",
       "        vertical-align: top;\n",
       "    }\n",
       "\n",
       "    .dataframe thead th {\n",
       "        text-align: right;\n",
       "    }\n",
       "</style>\n",
       "<table border=\"1\" class=\"dataframe\">\n",
       "  <thead>\n",
       "    <tr style=\"text-align: right;\">\n",
       "      <th></th>\n",
       "      <th>alias</th>\n",
       "      <th>categories</th>\n",
       "      <th>coordinates</th>\n",
       "      <th>display_phone</th>\n",
       "      <th>distance</th>\n",
       "      <th>id</th>\n",
       "      <th>image_url</th>\n",
       "      <th>is_closed</th>\n",
       "      <th>location</th>\n",
       "      <th>name</th>\n",
       "      <th>phone</th>\n",
       "      <th>price</th>\n",
       "      <th>rating</th>\n",
       "      <th>review_count</th>\n",
       "      <th>transactions</th>\n",
       "      <th>url</th>\n",
       "    </tr>\n",
       "  </thead>\n",
       "  <tbody>\n",
       "    <tr>\n",
       "      <th>0</th>\n",
       "      <td>mos-original-brooklyn</td>\n",
       "      <td>[{'alias': 'ramen', 'title': 'Ramen'}, {'alias...</td>\n",
       "      <td>{'latitude': 40.66127, 'longitude': -73.95342}</td>\n",
       "      <td>(718) 513-0698</td>\n",
       "      <td>1542.617156</td>\n",
       "      <td>YwpP-mgXV5N35xhLibLw5g</td>\n",
       "      <td>https://s3-media2.fl.yelpcdn.com/bphoto/-L9roT...</td>\n",
       "      <td>False</td>\n",
       "      <td>{'address1': '453 Rogers Ave', 'address2': Non...</td>\n",
       "      <td>Mo's Original</td>\n",
       "      <td>1.718513e+10</td>\n",
       "      <td>NaN</td>\n",
       "      <td>4.5</td>\n",
       "      <td>32</td>\n",
       "      <td>[]</td>\n",
       "      <td>https://www.yelp.com/biz/mos-original-brooklyn...</td>\n",
       "    </tr>\n",
       "    <tr>\n",
       "      <th>1</th>\n",
       "      <td>peaches-hothouse-brooklyn</td>\n",
       "      <td>[{'alias': 'southern', 'title': 'Southern'}, {...</td>\n",
       "      <td>{'latitude': 40.6833699737169, 'longitude': -7...</td>\n",
       "      <td>(718) 483-9111</td>\n",
       "      <td>3471.525420</td>\n",
       "      <td>GA5msU6NO9rQRctPfDJCBg</td>\n",
       "      <td>https://s3-media1.fl.yelpcdn.com/bphoto/KEAXgZ...</td>\n",
       "      <td>False</td>\n",
       "      <td>{'address1': '415 Tompkins Ave', 'address2': '...</td>\n",
       "      <td>Peaches HotHouse</td>\n",
       "      <td>1.718484e+10</td>\n",
       "      <td>$$</td>\n",
       "      <td>4.0</td>\n",
       "      <td>1082</td>\n",
       "      <td>['pickup', 'delivery']</td>\n",
       "      <td>https://www.yelp.com/biz/peaches-hothouse-broo...</td>\n",
       "    </tr>\n",
       "    <tr>\n",
       "      <th>2</th>\n",
       "      <td>claw-daddys-brooklyn</td>\n",
       "      <td>[{'alias': 'cajun', 'title': 'Cajun/Creole'}, ...</td>\n",
       "      <td>{'latitude': 40.68561, 'longitude': -73.98035}</td>\n",
       "      <td>(347) 318-8893</td>\n",
       "      <td>5062.337404</td>\n",
       "      <td>1x2hn3e9sCCZca1cnRTpEg</td>\n",
       "      <td>https://s3-media3.fl.yelpcdn.com/bphoto/ABHo2x...</td>\n",
       "      <td>False</td>\n",
       "      <td>{'address1': '31 3rd Ave', 'address2': '', 'ad...</td>\n",
       "      <td>Claw Daddy's</td>\n",
       "      <td>1.347319e+10</td>\n",
       "      <td>$$</td>\n",
       "      <td>4.0</td>\n",
       "      <td>282</td>\n",
       "      <td>['restaurant_reservation']</td>\n",
       "      <td>https://www.yelp.com/biz/claw-daddys-brooklyn?...</td>\n",
       "    </tr>\n",
       "    <tr>\n",
       "      <th>3</th>\n",
       "      <td>barons-brooklyn</td>\n",
       "      <td>[{'alias': 'newamerican', 'title': 'American (...</td>\n",
       "      <td>{'latitude': 40.6908116, 'longitude': -73.953915}</td>\n",
       "      <td>(718) 230-7100</td>\n",
       "      <td>4451.492133</td>\n",
       "      <td>GxMhN2PEttvw7CRGIzB6Gg</td>\n",
       "      <td>https://s3-media3.fl.yelpcdn.com/bphoto/VmnsId...</td>\n",
       "      <td>False</td>\n",
       "      <td>{'address1': '564 Dekalb Ave', 'address2': '',...</td>\n",
       "      <td>Baron's</td>\n",
       "      <td>1.718231e+10</td>\n",
       "      <td>$$</td>\n",
       "      <td>4.5</td>\n",
       "      <td>258</td>\n",
       "      <td>['pickup', 'restaurant_reservation']</td>\n",
       "      <td>https://www.yelp.com/biz/barons-brooklyn?adjus...</td>\n",
       "    </tr>\n",
       "    <tr>\n",
       "      <th>4</th>\n",
       "      <td>lowerline-brooklyn-2</td>\n",
       "      <td>[{'alias': 'cajun', 'title': 'Cajun/Creole'}, ...</td>\n",
       "      <td>{'latitude': 40.67421, 'longitude': -73.96324}</td>\n",
       "      <td>(347) 533-7110</td>\n",
       "      <td>3158.955607</td>\n",
       "      <td>swKXaURwqdSrSTcpHsxdbA</td>\n",
       "      <td>https://s3-media4.fl.yelpcdn.com/bphoto/oJbAhL...</td>\n",
       "      <td>False</td>\n",
       "      <td>{'address1': '794 Washington Ave', 'address2':...</td>\n",
       "      <td>Lowerline</td>\n",
       "      <td>1.347534e+10</td>\n",
       "      <td>$$</td>\n",
       "      <td>4.5</td>\n",
       "      <td>118</td>\n",
       "      <td>[]</td>\n",
       "      <td>https://www.yelp.com/biz/lowerline-brooklyn-2?...</td>\n",
       "    </tr>\n",
       "  </tbody>\n",
       "</table>\n",
       "</div>"
      ],
      "text/plain": [
       "                       alias  \\\n",
       "0      mos-original-brooklyn   \n",
       "1  peaches-hothouse-brooklyn   \n",
       "2       claw-daddys-brooklyn   \n",
       "3            barons-brooklyn   \n",
       "4       lowerline-brooklyn-2   \n",
       "\n",
       "                                          categories  \\\n",
       "0  [{'alias': 'ramen', 'title': 'Ramen'}, {'alias...   \n",
       "1  [{'alias': 'southern', 'title': 'Southern'}, {...   \n",
       "2  [{'alias': 'cajun', 'title': 'Cajun/Creole'}, ...   \n",
       "3  [{'alias': 'newamerican', 'title': 'American (...   \n",
       "4  [{'alias': 'cajun', 'title': 'Cajun/Creole'}, ...   \n",
       "\n",
       "                                         coordinates   display_phone  \\\n",
       "0     {'latitude': 40.66127, 'longitude': -73.95342}  (718) 513-0698   \n",
       "1  {'latitude': 40.6833699737169, 'longitude': -7...  (718) 483-9111   \n",
       "2     {'latitude': 40.68561, 'longitude': -73.98035}  (347) 318-8893   \n",
       "3  {'latitude': 40.6908116, 'longitude': -73.953915}  (718) 230-7100   \n",
       "4     {'latitude': 40.67421, 'longitude': -73.96324}  (347) 533-7110   \n",
       "\n",
       "      distance                      id  \\\n",
       "0  1542.617156  YwpP-mgXV5N35xhLibLw5g   \n",
       "1  3471.525420  GA5msU6NO9rQRctPfDJCBg   \n",
       "2  5062.337404  1x2hn3e9sCCZca1cnRTpEg   \n",
       "3  4451.492133  GxMhN2PEttvw7CRGIzB6Gg   \n",
       "4  3158.955607  swKXaURwqdSrSTcpHsxdbA   \n",
       "\n",
       "                                           image_url  is_closed  \\\n",
       "0  https://s3-media2.fl.yelpcdn.com/bphoto/-L9roT...      False   \n",
       "1  https://s3-media1.fl.yelpcdn.com/bphoto/KEAXgZ...      False   \n",
       "2  https://s3-media3.fl.yelpcdn.com/bphoto/ABHo2x...      False   \n",
       "3  https://s3-media3.fl.yelpcdn.com/bphoto/VmnsId...      False   \n",
       "4  https://s3-media4.fl.yelpcdn.com/bphoto/oJbAhL...      False   \n",
       "\n",
       "                                            location              name  \\\n",
       "0  {'address1': '453 Rogers Ave', 'address2': Non...     Mo's Original   \n",
       "1  {'address1': '415 Tompkins Ave', 'address2': '...  Peaches HotHouse   \n",
       "2  {'address1': '31 3rd Ave', 'address2': '', 'ad...      Claw Daddy's   \n",
       "3  {'address1': '564 Dekalb Ave', 'address2': '',...           Baron's   \n",
       "4  {'address1': '794 Washington Ave', 'address2':...         Lowerline   \n",
       "\n",
       "          phone price  rating  review_count  \\\n",
       "0  1.718513e+10   NaN     4.5            32   \n",
       "1  1.718484e+10    $$     4.0          1082   \n",
       "2  1.347319e+10    $$     4.0           282   \n",
       "3  1.718231e+10    $$     4.5           258   \n",
       "4  1.347534e+10    $$     4.5           118   \n",
       "\n",
       "                           transactions  \\\n",
       "0                                    []   \n",
       "1                ['pickup', 'delivery']   \n",
       "2            ['restaurant_reservation']   \n",
       "3  ['pickup', 'restaurant_reservation']   \n",
       "4                                    []   \n",
       "\n",
       "                                                 url  \n",
       "0  https://www.yelp.com/biz/mos-original-brooklyn...  \n",
       "1  https://www.yelp.com/biz/peaches-hothouse-broo...  \n",
       "2  https://www.yelp.com/biz/claw-daddys-brooklyn?...  \n",
       "3  https://www.yelp.com/biz/barons-brooklyn?adjus...  \n",
       "4  https://www.yelp.com/biz/lowerline-brooklyn-2?...  "
      ]
     },
     "execution_count": 392,
     "metadata": {},
     "output_type": "execute_result"
    }
   ],
   "source": [
    "df_yelp.head()"
   ]
  },
  {
   "cell_type": "code",
   "execution_count": 393,
   "metadata": {},
   "outputs": [
    {
     "data": {
      "text/plain": [
       "display_phone     697\n",
       "image_url         417\n",
       "phone             697\n",
       "price            2013\n",
       "dtype: int64"
      ]
     },
     "execution_count": 393,
     "metadata": {},
     "output_type": "execute_result"
    }
   ],
   "source": [
    "sum_null = df_yelp.isnull().sum()\n",
    "sum_null[sum_null > 0]"
   ]
  },
  {
   "cell_type": "markdown",
   "metadata": {},
   "source": [
    "We have many missing values in the data, however many of the columns are not meaningful for our problem and these columns can be safely dropped.\n",
    "\n",
    "Also, `categories`, `location`, and `transactions` are compressed data columns and will need to be unpacked."
   ]
  },
  {
   "cell_type": "markdown",
   "metadata": {},
   "source": [
    "## Cleaning the Data\n",
    "- [Mahdi] one person for consistency"
   ]
  },
  {
   "cell_type": "markdown",
   "metadata": {},
   "source": [
    "### Dropping unneccessary columns"
   ]
  },
  {
   "cell_type": "code",
   "execution_count": 394,
   "metadata": {},
   "outputs": [],
   "source": [
    "keepers = ['categories','id', 'location', 'price', 'rating', 'review_count', 'transactions', 'coordinates']\n",
    "df_yelp = df_yelp[keepers]"
   ]
  },
  {
   "cell_type": "markdown",
   "metadata": {},
   "source": [
    "Convert price to binary"
   ]
  },
  {
   "cell_type": "code",
   "execution_count": 395,
   "metadata": {},
   "outputs": [
    {
     "data": {
      "text/plain": [
       "2013"
      ]
     },
     "execution_count": 395,
     "metadata": {},
     "output_type": "execute_result"
    }
   ],
   "source": [
    "df_yelp[\"price\"].isnull().sum()"
   ]
  },
  {
   "cell_type": "markdown",
   "metadata": {},
   "source": [
    "We decided to drop null prices from analysis as this is the key indicator we're looking to predict with."
   ]
  },
  {
   "cell_type": "code",
   "execution_count": 396,
   "metadata": {},
   "outputs": [],
   "source": [
    "df_yelp.dropna(subset=[\"price\"], inplace = True)"
   ]
  },
  {
   "cell_type": "code",
   "execution_count": 397,
   "metadata": {},
   "outputs": [
    {
     "data": {
      "text/plain": [
       "(9212, 8)"
      ]
     },
     "execution_count": 397,
     "metadata": {},
     "output_type": "execute_result"
    }
   ],
   "source": [
    "df_yelp.shape"
   ]
  },
  {
   "cell_type": "markdown",
   "metadata": {},
   "source": [
    "### Parsing location data"
   ]
  },
  {
   "cell_type": "code",
   "execution_count": 384,
   "metadata": {},
   "outputs": [],
   "source": [
    "def get_keys_from_sting_dict(string, keys):\n",
    "    if len(string) == 0:\n",
    "        return None\n",
    "    dic = literal_eval(string)\n",
    "    out = {}\n",
    "    for key in keys:\n",
    "        out[key] = dic.get(key)\n",
    "    return out"
   ]
  },
  {
   "cell_type": "code",
   "execution_count": 385,
   "metadata": {},
   "outputs": [],
   "source": [
    "location = \"location\"\n",
    "keys = [\"zip_code\", \"city\", 'state']\n",
    "zips_and_cities = df_yelp[location].map(lambda string: get_keys_from_sting_dict(string, keys))\n",
    "\n",
    "for key in keys:\n",
    "    df_yelp[key] = [pair[key] for pair in zips_and_cities]\n",
    "    \n",
    "df_yelp.drop(columns=[location], inplace = True)"
   ]
  },
  {
   "cell_type": "code",
   "execution_count": 386,
   "metadata": {},
   "outputs": [],
   "source": [
    "coordinates = \"coordinates\"\n",
    "coord_keys = [\"latitude\", \"longitude\"]\n",
    "lat_and_long = df_yelp[coordinates].map(lambda string: get_keys_from_sting_dict(string, coord_keys))\n",
    "\n",
    "for key in coord_keys:\n",
    "    df_yelp[key] = [pair[key] for pair in lat_and_long]\n",
    "\n",
    "df_yelp.drop(columns=[coordinates], inplace = True)"
   ]
  },
  {
   "cell_type": "code",
   "execution_count": 387,
   "metadata": {},
   "outputs": [
    {
     "data": {
      "text/html": [
       "<div>\n",
       "<style scoped>\n",
       "    .dataframe tbody tr th:only-of-type {\n",
       "        vertical-align: middle;\n",
       "    }\n",
       "\n",
       "    .dataframe tbody tr th {\n",
       "        vertical-align: top;\n",
       "    }\n",
       "\n",
       "    .dataframe thead th {\n",
       "        text-align: right;\n",
       "    }\n",
       "</style>\n",
       "<table border=\"1\" class=\"dataframe\">\n",
       "  <thead>\n",
       "    <tr style=\"text-align: right;\">\n",
       "      <th></th>\n",
       "      <th>latitude</th>\n",
       "      <th>longitude</th>\n",
       "    </tr>\n",
       "  </thead>\n",
       "  <tbody>\n",
       "    <tr>\n",
       "      <th>count</th>\n",
       "      <td>9211.000000</td>\n",
       "      <td>9211.000000</td>\n",
       "    </tr>\n",
       "    <tr>\n",
       "      <th>mean</th>\n",
       "      <td>40.729157</td>\n",
       "      <td>-73.928274</td>\n",
       "    </tr>\n",
       "    <tr>\n",
       "      <th>std</th>\n",
       "      <td>0.127263</td>\n",
       "      <td>2.280292</td>\n",
       "    </tr>\n",
       "    <tr>\n",
       "      <th>min</th>\n",
       "      <td>33.872249</td>\n",
       "      <td>-118.355902</td>\n",
       "    </tr>\n",
       "    <tr>\n",
       "      <th>25%</th>\n",
       "      <td>40.683356</td>\n",
       "      <td>-73.989170</td>\n",
       "    </tr>\n",
       "    <tr>\n",
       "      <th>50%</th>\n",
       "      <td>40.740493</td>\n",
       "      <td>-73.961630</td>\n",
       "    </tr>\n",
       "    <tr>\n",
       "      <th>75%</th>\n",
       "      <td>40.767249</td>\n",
       "      <td>-73.892497</td>\n",
       "    </tr>\n",
       "    <tr>\n",
       "      <th>max</th>\n",
       "      <td>41.869147</td>\n",
       "      <td>74.000792</td>\n",
       "    </tr>\n",
       "  </tbody>\n",
       "</table>\n",
       "</div>"
      ],
      "text/plain": [
       "          latitude    longitude\n",
       "count  9211.000000  9211.000000\n",
       "mean     40.729157   -73.928274\n",
       "std       0.127263     2.280292\n",
       "min      33.872249  -118.355902\n",
       "25%      40.683356   -73.989170\n",
       "50%      40.740493   -73.961630\n",
       "75%      40.767249   -73.892497\n",
       "max      41.869147    74.000792"
      ]
     },
     "execution_count": 387,
     "metadata": {},
     "output_type": "execute_result"
    }
   ],
   "source": [
    "df_yelp[coord_keys].describe()"
   ]
  },
  {
   "cell_type": "markdown",
   "metadata": {},
   "source": []
  },
  {
   "cell_type": "markdown",
   "metadata": {},
   "source": [
    "There are no null values - this is a complete dataset"
   ]
  },
  {
   "cell_type": "code",
   "execution_count": null,
   "metadata": {},
   "outputs": [],
   "source": [
    "df_yelp.head()"
   ]
  },
  {
   "cell_type": "markdown",
   "metadata": {},
   "source": [
    "### Parsing categories"
   ]
  },
  {
   "cell_type": "code",
   "execution_count": null,
   "metadata": {},
   "outputs": [],
   "source": [
    "def convert_string_dict_to_string(string, key):\n",
    "    return \",\".join([dic[key] for dic in literal_eval(string)])\n",
    "\n",
    "df_yelp[\"categories\"] = df_yelp[\"categories\"].map(lambda s: convert_string_dict_to_string(s,\"alias\"))"
   ]
  },
  {
   "cell_type": "markdown",
   "metadata": {},
   "source": [
    "### Parsing transactions"
   ]
  },
  {
   "cell_type": "code",
   "execution_count": null,
   "metadata": {},
   "outputs": [],
   "source": [
    "def convert_string_list_to_string(string):\n",
    "    return \",\".join(literal_eval(string))\n",
    "\n",
    "df_yelp[\"transactions\"] = df_yelp[\"transactions\"].map(convert_string_list_to_string)"
   ]
  },
  {
   "cell_type": "code",
   "execution_count": null,
   "metadata": {},
   "outputs": [],
   "source": [
    "df_yelp.shape"
   ]
  },
  {
   "cell_type": "markdown",
   "metadata": {},
   "source": [
    "### Filtering for NYC-only"
   ]
  },
  {
   "cell_type": "markdown",
   "metadata": {},
   "source": [
    "#### Removed non-NY state"
   ]
  },
  {
   "cell_type": "code",
   "execution_count": null,
   "metadata": {},
   "outputs": [],
   "source": [
    "df_yelp = df_yelp[df_yelp['state'] == \"NY\"]"
   ]
  },
  {
   "cell_type": "markdown",
   "metadata": {},
   "source": [
    "#### Imputing missing zip codes"
   ]
  },
  {
   "cell_type": "code",
   "execution_count": null,
   "metadata": {},
   "outputs": [],
   "source": [
    "df_yelp[df_yelp['zip_code'] == \"\"]"
   ]
  },
  {
   "cell_type": "markdown",
   "metadata": {},
   "source": [
    "Locations were found using Google Maps and zip codes imputed manually"
   ]
  },
  {
   "cell_type": "code",
   "execution_count": null,
   "metadata": {},
   "outputs": [],
   "source": [
    "df_yelp[df_yelp[\"id\"] == \"ECY0sIYxPJio81dteqiMhg\"] = \"10007\"\n",
    "df_yelp[df_yelp[\"id\"] == \"6u5cnsN35mJz24HMQ9pfFw\"] = \"10314\"\n",
    "df_yelp[df_yelp[\"id\"] == \"BilbRcNQXKmcBFvLm4gxAQ\"] = \"11372\"\n",
    "df_yelp[df_yelp[\"id\"] == \"jZzbV6SRt9FXdCoziNv5xw\"] = \"11373\""
   ]
  },
  {
   "cell_type": "markdown",
   "metadata": {},
   "source": [
    "### Remove by NYC zip\n",
    "We used the range of zip codes designated for NYC - [source](https://www.nycbynatives.com/nyc_info/new_york_city_zip_codes.php)"
   ]
  },
  {
   "cell_type": "code",
   "execution_count": null,
   "metadata": {},
   "outputs": [],
   "source": [
    "min_zip = 10001\n",
    "max_zip = 11697\n",
    "\n",
    "df_yelp['zip_code'] = df_yelp['zip_code'].astype(int)"
   ]
  },
  {
   "cell_type": "code",
   "execution_count": null,
   "metadata": {},
   "outputs": [],
   "source": [
    "df_yelp = df_yelp[(df_yelp['zip_code'] >= min_zip) & (df_yelp['zip_code'] <= max_zip)]"
   ]
  },
  {
   "cell_type": "markdown",
   "metadata": {},
   "source": [
    "### Cleaning IRS Dataset [Hadi]\n",
    "These data were collected directly from the IRS website ([source](https://www.irs.gov/statistics/soi-tax-stats-individual-income-tax-statistics-2016-zip-code-data-soi))"
   ]
  },
  {
   "cell_type": "markdown",
   "metadata": {},
   "source": [
    "Check if all zip codes from yelp dataset exists in irs dataset"
   ]
  },
  {
   "cell_type": "code",
   "execution_count": null,
   "metadata": {},
   "outputs": [],
   "source": [
    "df_irs = pd.read_csv('./data/irs.csv')"
   ]
  },
  {
   "cell_type": "code",
   "execution_count": null,
   "metadata": {},
   "outputs": [],
   "source": [
    "df_irs[10:20]"
   ]
  },
  {
   "cell_type": "code",
   "execution_count": null,
   "metadata": {},
   "outputs": [],
   "source": [
    "yelp_zips = list(set(df_yelp['zip_code']))"
   ]
  },
  {
   "cell_type": "code",
   "execution_count": null,
   "metadata": {},
   "outputs": [],
   "source": [
    "def clean_str_num(str_num):\n",
    "    '''Returns integer of input string with commas removed'''\n",
    "    return int(str_num.replace(',',''))"
   ]
  },
  {
   "cell_type": "code",
   "execution_count": null,
   "metadata": {},
   "outputs": [],
   "source": [
    "affluency_rates = []\n",
    "found_zips = []\n",
    "missing_zips = []\n",
    "returns_col_name = 'Number of returns'\n",
    "\n",
    "for zip_code in yelp_zips:\n",
    "    try:\n",
    "        sub_df               = df_irs[df_irs.iloc[:,0] == str(zip_code)]\n",
    "        \n",
    "        affluent_irs_returns = clean_str_num(sub_df[returns_col_name].iloc[-1])\n",
    "        total_irs_returns    = clean_str_num(sub_df[returns_col_name].iloc[0])\n",
    "        affluent_rate        = affluent_irs_returns / total_irs_returns\n",
    "        \n",
    "        affluency_rates.append(affluent_rate)\n",
    "        found_zips.append(zip_code)\n",
    "    except Exception as e:\n",
    "        missing_zips.append(zip_code)\n",
    "        pass"
   ]
  },
  {
   "cell_type": "code",
   "execution_count": null,
   "metadata": {},
   "outputs": [],
   "source": [
    "len(missing_zips)"
   ]
  },
  {
   "cell_type": "markdown",
   "metadata": {},
   "source": [
    "There are 26 zip codes in the yelp data that were not found in the IRS dataset.  \n",
    "These associated datapoint will be dropped, as they have not target value."
   ]
  },
  {
   "cell_type": "code",
   "execution_count": null,
   "metadata": {},
   "outputs": [],
   "source": [
    "affluency_df = pd.DataFrame(data = {\"zip_code\": found_zips, \"affluency_rate\":affluency_rates})\n",
    "affluency_df.head()"
   ]
  },
  {
   "cell_type": "markdown",
   "metadata": {},
   "source": [
    "### Merging Yelp and IRS dataset\n",
    "Merging the yelp dataset with the IRS dataset will drop those observations with missing zip codes."
   ]
  },
  {
   "cell_type": "code",
   "execution_count": null,
   "metadata": {},
   "outputs": [],
   "source": [
    "df = pd.merge(df_yelp, affluency_df, on = \"zip_code\")"
   ]
  },
  {
   "cell_type": "code",
   "execution_count": null,
   "metadata": {},
   "outputs": [],
   "source": [
    "df.shape"
   ]
  },
  {
   "cell_type": "markdown",
   "metadata": {},
   "source": [
    "### Changing Target to Ordinal Data\n",
    "\n",
    "Converted all the dollar signs into numerical ranking from 1 to 4"
   ]
  },
  {
   "cell_type": "code",
   "execution_count": null,
   "metadata": {},
   "outputs": [],
   "source": [
    "df['price'] = df['price'].map({'$': 1, '$$': 2, '$$$': 3, '$$$$':4})"
   ]
  },
  {
   "cell_type": "code",
   "execution_count": null,
   "metadata": {},
   "outputs": [],
   "source": [
    "df['price'].value_counts()"
   ]
  },
  {
   "cell_type": "markdown",
   "metadata": {},
   "source": [
    "### Changing Data Type"
   ]
  },
  {
   "cell_type": "code",
   "execution_count": null,
   "metadata": {},
   "outputs": [],
   "source": [
    "df.dtypes"
   ]
  },
  {
   "cell_type": "code",
   "execution_count": null,
   "metadata": {},
   "outputs": [],
   "source": [
    "convert_to_int = [\"review_count\",\"rating\"]\n",
    "df[convert_to_int] = df[convert_to_int].astype(int)"
   ]
  },
  {
   "cell_type": "code",
   "execution_count": null,
   "metadata": {},
   "outputs": [],
   "source": [
    "df.head()"
   ]
  },
  {
   "cell_type": "markdown",
   "metadata": {},
   "source": [
    "We are left with 8871 complete data points"
   ]
  },
  {
   "cell_type": "markdown",
   "metadata": {},
   "source": [
    "## Feature Engineering\n",
    "- [All]"
   ]
  },
  {
   "cell_type": "markdown",
   "metadata": {},
   "source": [
    "### Creating Dummy Variables"
   ]
  },
  {
   "cell_type": "code",
   "execution_count": null,
   "metadata": {},
   "outputs": [],
   "source": [
    "expansion_columns = [\"categories\",\"transactions\"]\n",
    "lce = columnExpander.ListColumnExpander(expansion_columns)\n",
    "lce.fit(df)"
   ]
  },
  {
   "cell_type": "code",
   "execution_count": null,
   "metadata": {},
   "outputs": [],
   "source": [
    "dummy_df = pd.DataFrame(lce.transform(df).toarray(), columns=lce.get_feature_names())"
   ]
  },
  {
   "cell_type": "code",
   "execution_count": null,
   "metadata": {},
   "outputs": [],
   "source": [
    "complete_df = pd.concat([df, dummy_df], axis=1)"
   ]
  },
  {
   "cell_type": "code",
   "execution_count": null,
   "metadata": {},
   "outputs": [],
   "source": [
    "complete_df.head()"
   ]
  },
  {
   "cell_type": "markdown",
   "metadata": {},
   "source": [
    "## Setting Affluency Threshold\n",
    "Affluency = when a zip code has 15% of its population file and IRS return of $$200k or more"
   ]
  },
  {
   "cell_type": "code",
   "execution_count": null,
   "metadata": {},
   "outputs": [],
   "source": [
    "affluency_thresh = .15"
   ]
  },
  {
   "cell_type": "code",
   "execution_count": null,
   "metadata": {},
   "outputs": [],
   "source": [
    "df[target] = (df[target] >= affluency_thresh).astype(int)\n",
    "df[target].value_counts(normalize = True)"
   ]
  },
  {
   "cell_type": "markdown",
   "metadata": {},
   "source": [
    "About 28% of all reported IRS returns in New York City count as being affluent, according to our definition.\n",
    "\n",
    "This leads our data to be somewhat unbalanced, which we need to keep in mind when evaluating our models."
   ]
  },
  {
   "cell_type": "markdown",
   "metadata": {},
   "source": [
    "## Exploratory Data Analysis\n",
    "- [Mahdi] and [Hadi] killer graphs and visuals"
   ]
  },
  {
   "cell_type": "code",
   "execution_count": null,
   "metadata": {},
   "outputs": [],
   "source": [
    "# Let's scoop lat/long up in a matrix so we can use them easily\n",
    "location_data = df_yelp[[\"latitude\", \"longitude\"]]\n",
    "location_data.head()"
   ]
  },
  {
   "cell_type": "code",
   "execution_count": null,
   "metadata": {},
   "outputs": [],
   "source": [
    "# Let's cluster our observations by lat/long\n",
    "km = KMeans(n_clusters=20)\n",
    "km.fit(location_data)"
   ]
  },
  {
   "cell_type": "code",
   "execution_count": null,
   "metadata": {},
   "outputs": [],
   "source": [
    "# What do these clusters look like visually?\n",
    "plt.figure(figsize=(10, 10))\n",
    "plt.scatter(df_yelp.longitude, df_yelp.latitude, c=km.labels_, s=1, cmap=\"tab20\");"
   ]
  },
  {
   "cell_type": "code",
   "execution_count": null,
   "metadata": {},
   "outputs": [],
   "source": [
    "# Neat! Now let's append these clusters back onto X\n",
    "X.loc[:, \"cluster\"] = km.predict(location_data)\n",
    "X = pd.get_dummies(columns=[\"cluster\"], data=X)\n",
    "X.head()"
   ]
  },
  {
   "cell_type": "code",
   "execution_count": null,
   "metadata": {},
   "outputs": [],
   "source": [
    "# Train-test-split again\n",
    "X_train, X_test, y_train, y_test = train_test_split(\n",
    "    X.copy(), y.copy(), random_state=42, test_size=0.5\n",
    ")"
   ]
  },
  {
   "cell_type": "code",
   "execution_count": null,
   "metadata": {},
   "outputs": [],
   "source": [
    "# How'd we do now?\n",
    "model = LinearRegression()\n",
    "model.fit(X_train, y_train)\n",
    "model.score(X_test, y_test)"
   ]
  },
  {
   "cell_type": "code",
   "execution_count": null,
   "metadata": {},
   "outputs": [],
   "source": [
    "# All this wrapped up!\n",
    "def transfer_tune(X, y, k):\n",
    "    location_data = df_yelp[[\"latitude\", \"longitude\"]]\n",
    "    km = KMeans(n_clusters=k)\n",
    "    km.fit(location_data)\n",
    "    X.loc[:, \"cluster\"] = km.predict(location_data)\n",
    "    X_dummy = pd.get_dummies(columns=[\"cluster\"], data=X)\n",
    "    X_train, X_test, y_train, y_test = train_test_split(\n",
    "        X_dummy.copy(), y.copy(), random_state=42, test_size=0.5\n",
    "    )\n",
    "    model = LinearRegression()\n",
    "    model.fit(X_train, y_train)\n",
    "    r2 = model.score(X_test, y_test)\n",
    "    print(f\"{k} : {r2}\")"
   ]
  },
  {
   "cell_type": "code",
   "execution_count": null,
   "metadata": {},
   "outputs": [],
   "source": [
    "for k in range(2, 103, 5):\n",
    "    transfer_tune(X, y, k)"
   ]
  },
  {
   "cell_type": "code",
   "execution_count": null,
   "metadata": {},
   "outputs": [],
   "source": [
    "sns.scatterplot(data = df, x = 'affluency_rate', y = 'zip_code')"
   ]
  },
  {
   "cell_type": "markdown",
   "metadata": {},
   "source": [
    "## Model Preparation"
   ]
  },
  {
   "cell_type": "code",
   "execution_count": null,
   "metadata": {},
   "outputs": [],
   "source": [
    "target = 'affluency_rate'\n",
    "y = df[target]"
   ]
  },
  {
   "cell_type": "markdown",
   "metadata": {},
   "source": [
    "## Model Selection\n",
    "- [Hadi] Exploring models\n",
    "- [Eddie] Exploring models\n",
    "\n",
    "Maybe split on which models you 2 want to try out"
   ]
  },
  {
   "cell_type": "markdown",
   "metadata": {},
   "source": [
    "## Model Evaluation\n",
    "- [Mahdi] killer graphs and visuals"
   ]
  },
  {
   "cell_type": "markdown",
   "metadata": {},
   "source": [
    "## Conclusions and Recommendations\n",
    "- [All]"
   ]
  },
  {
   "cell_type": "markdown",
   "metadata": {},
   "source": [
    "## Source Documentation\n",
    "- [NYC zip codes](https://www.nycbynatives.com/nyc_info/new_york_city_zip_codes.php)\n",
    "- [Yelp API - Business Endpoints](https://www.yelp.com/fusion)\n",
    "- [IRS dataset](https://www.irs.gov/statistics/soi-tax-stats-individual-income-tax-statistics-2016-zip-code-data-soi)"
   ]
  },
  {
   "cell_type": "code",
   "execution_count": null,
   "metadata": {},
   "outputs": [],
   "source": []
  }
 ],
 "metadata": {
  "kernelspec": {
   "display_name": "Python 3",
   "language": "python",
   "name": "python3"
  },
  "language_info": {
   "codemirror_mode": {
    "name": "ipython",
    "version": 3
   },
   "file_extension": ".py",
   "mimetype": "text/x-python",
   "name": "python",
   "nbconvert_exporter": "python",
   "pygments_lexer": "ipython3",
   "version": "3.7.3"
  }
 },
 "nbformat": 4,
 "nbformat_minor": 2
}
